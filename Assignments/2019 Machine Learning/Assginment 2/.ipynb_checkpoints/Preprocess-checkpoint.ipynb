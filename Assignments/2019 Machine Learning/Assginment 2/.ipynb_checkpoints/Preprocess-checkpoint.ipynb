{
 "cells": [
  {
   "cell_type": "markdown",
   "metadata": {},
   "source": [
    "## Import Libraries\n",
    "- Will automatically download dependencies if not installed"
   ]
  },
  {
   "cell_type": "code",
   "execution_count": null,
   "metadata": {},
   "outputs": [],
   "source": [
    "import pandas as pd\n",
    "import numpy as np\n",
    "\n",
    "import nltk\n",
    "nltk.download('stopwords')\n",
    "nltk.download('wordnet')\n",
    "\n",
    "import re\n",
    "import string\n",
    "\n",
    "from sklearn.feature_extraction.text import CountVectorizer, TfidfTransformer, TfidfVectorizer\n",
    "from sklearn.feature_selection import SelectKBest, chi2, mutual_info_classif\n",
    "\n",
    "category = ['Sydney', 'Melbourne', 'Brisbane', 'Perth']"
   ]
  },
  {
   "cell_type": "markdown",
   "metadata": {},
   "source": [
    "## Prepping RAW tweet data\n",
    "- `tsv` format so the flag `sep='\\t'` needs to be passed\n",
    "- On the fly cleaning (`reset_index`, `columns`)\n",
    "- Assign `stopwords`, `wordnet` and `punctuation`"
   ]
  },
  {
   "cell_type": "code",
   "execution_count": null,
   "metadata": {},
   "outputs": [],
   "source": [
    "train = pd.read_csv('train-raw.tsv', sep='\\t', names=['label', 'body_text']).iloc[1:].reset_index(drop=True)\n",
    "\n",
    "dev = pd.read_csv('dev-raw.tsv', sep='\\t').reset_index()\n",
    "dev.drop('level_0', axis=1, inplace=True)\n",
    "dev.columns = ['label', 'body_text']\n",
    "\n",
    "test = pd.read_csv('test-raw.tsv', sep='\\t').reset_index(drop=True)\n",
    "test.columns = ['body_text']\n",
    "\n",
    "stopwords = nltk.corpus.stopwords.words('english')\n",
    "wordnet = nltk.WordNetLemmatizer()\n",
    "punctuation = string.punctuation"
   ]
  },
  {
   "cell_type": "markdown",
   "metadata": {},
   "source": [
    "## Tokenize and Clean the Body Text\n",
    "1. Strip all punctuation\n",
    "2. Tokenize the body text using regex\n",
    "3. Strip all stopwords found in the `nltk`'s corpus\n",
    "4. Lemmatize the tokenized body text (rather than relying on simple numerical values for a split)"
   ]
  },
  {
   "cell_type": "code",
   "execution_count": null,
   "metadata": {},
   "outputs": [],
   "source": [
    "def clean(text):\n",
    "    punc_strip = ''.join([char.casefold() for char in text if char not in punctuation])\n",
    "    tokens = re.split('\\W+', punc_strip)\n",
    "    stopword_strip = [word for word in tokens if word not in stopwords]\n",
    "    lemma = [wordnet.lemmatize(word) for word in stopword_strip]\n",
    "    return lemma"
   ]
  },
  {
   "cell_type": "markdown",
   "metadata": {},
   "source": [
    "## Splitting the Data Set\n",
    "- Train, Development, Test"
   ]
  },
  {
   "cell_type": "code",
   "execution_count": null,
   "metadata": {},
   "outputs": [],
   "source": [
    "X_train, y_train = train['body_text'], train['label']\n",
    "X_dev, y_dev = dev['body_text'], dev['label']\n",
    "X_test = test['body_text']\n",
    "del train, dev, test"
   ]
  },
  {
   "cell_type": "code",
   "execution_count": null,
   "metadata": {},
   "outputs": [],
   "source": [
    "vectorizer = CountVectorizer(analyzer=clean).fit(X_train) # fit to x_train\n",
    "X_train = vectorizer.transform(X_train)\n",
    "X_dev = vectorizer.transform(X_dev)\n",
    "X_test = vectorizer.transform(X_test)"
   ]
  },
  {
   "cell_type": "markdown",
   "metadata": {},
   "source": [
    "## Feature Selection\n",
    "1. Vectorize the data using CountVectorizer\n",
    "2. Select the $k=10000$ most features that have the best $\\chi^2$ score\n",
    "3. Output to new csv file"
   ]
  },
  {
   "cell_type": "code",
   "execution_count": null,
   "metadata": {},
   "outputs": [],
   "source": [
    "ch2 = SelectKBest(chi2, k=10000).fit(X_train, y_train)\n",
    "X_train_new = ch2.transform(X_train)\n",
    "X_dev_new = ch2.transform(X_dev) # new X_dev is chosen\n",
    "X_test_new = ch2.transform(X_test)\n",
    "\n",
    "features_chosen = np.array([vectorizer.get_feature_names()[i] for i in ch2.get_support(indices=True)])\n",
    "\n",
    "X_train_new = pd.DataFrame(X_train_new.toarray(), columns=features_chosen)\n",
    "X_dev_new = pd.DataFrame(X_dev_new.toarray(), columns=features_chosen)\n",
    "X_test_new = pd.DataFrame(X_test_new.toarray(), columns=features_chosen)"
   ]
  },
  {
   "cell_type": "markdown",
   "metadata": {},
   "source": [
    "mic = SelectKBest(mutual_info_classif, k=1000).fit(X_train, y_train)\n",
    "X_train_new = mic.transform(X_train)\n",
    "X_dev_new = mic.transform(X_dev) # new X_dev is chosen\n",
    "X_test_new = mic.transform(X_test)\n",
    "\n",
    "features_chosen = np.array([vectorizer.get_feature_names()[i] for i in mic.get_support(indices=True)])\n",
    "\n",
    "X_train_new = pd.DataFrame(X_train_new.toarray(), columns=features_chosen)\n",
    "X_dev_new = pd.DataFrame(X_dev_new.toarray(), columns=features_chosen)\n",
    "X_test_new = pd.DataFrame(X_test_new.toarray(), columns=features_chosen)"
   ]
  },
  {
   "cell_type": "code",
   "execution_count": null,
   "metadata": {},
   "outputs": [],
   "source": [
    "X_train_new['label'] = y_train\n",
    "X_dev_new['label'] = y_dev"
   ]
  },
  {
   "cell_type": "code",
   "execution_count": null,
   "metadata": {},
   "outputs": [],
   "source": [
    "X_train_new.to_csv('train_k_best_10000.csv',sep=',')\n",
    "X_dev_new.to_csv('dev_k_best_10000.csv',sep=',')\n",
    "X_test_new.to_csv('test_k_best_10000.csv',sep=',')"
   ]
  }
 ],
 "metadata": {
  "kernelspec": {
   "display_name": "Python 3",
   "language": "python",
   "name": "python3"
  },
  "language_info": {
   "codemirror_mode": {
    "name": "ipython",
    "version": 3
   },
   "file_extension": ".py",
   "mimetype": "text/x-python",
   "name": "python",
   "nbconvert_exporter": "python",
   "pygments_lexer": "ipython3",
   "version": "3.7.1"
  }
 },
 "nbformat": 4,
 "nbformat_minor": 2
}
