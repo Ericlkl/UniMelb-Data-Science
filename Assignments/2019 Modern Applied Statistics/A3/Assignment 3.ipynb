{
 "cells": [
  {
   "cell_type": "code",
   "execution_count": 1,
   "metadata": {
    "ExecuteTime": {
     "end_time": "2019-09-30T06:00:07.435234Z",
     "start_time": "2019-09-30T06:00:07.306Z"
    }
   },
   "outputs": [],
   "source": [
    "library(MASS)\n",
    "data(quine)"
   ]
  },
  {
   "cell_type": "code",
   "execution_count": 2,
   "metadata": {
    "ExecuteTime": {
     "end_time": "2019-09-30T06:00:07.471139Z",
     "start_time": "2019-09-30T06:00:07.312Z"
    }
   },
   "outputs": [],
   "source": [
    "p.hat = function(k, r=1.5) {\n",
    "    return(sum(k) / (length(k) * r + sum(k)))\n",
    "}"
   ]
  },
  {
   "cell_type": "markdown",
   "metadata": {},
   "source": [
    "### Q1a) Answer:\n",
    "$\\hat{p}$ = 0.916475972540046"
   ]
  },
  {
   "cell_type": "code",
   "execution_count": 3,
   "metadata": {
    "ExecuteTime": {
     "end_time": "2019-09-30T06:00:07.503089Z",
     "start_time": "2019-09-30T06:00:07.330Z"
    }
   },
   "outputs": [],
   "source": [
    "p.post = function(k, r=1.5, a=0.5, b=0.5) {\n",
    "    return (c(sum(k) + a, length(k) * r + b))\n",
    "}"
   ]
  },
  {
   "cell_type": "code",
   "execution_count": 4,
   "metadata": {
    "ExecuteTime": {
     "end_time": "2019-09-30T06:00:07.543072Z",
     "start_time": "2019-09-30T06:00:07.332Z"
    }
   },
   "outputs": [
    {
     "data": {
      "text/html": [
       "<ol class=list-inline>\n",
       "\t<li>2403.5</li>\n",
       "\t<li>219.5</li>\n",
       "</ol>\n"
      ],
      "text/latex": [
       "\\begin{enumerate*}\n",
       "\\item 2403.5\n",
       "\\item 219.5\n",
       "\\end{enumerate*}\n"
      ],
      "text/markdown": [
       "1. 2403.5\n",
       "2. 219.5\n",
       "\n",
       "\n"
      ],
      "text/plain": [
       "[1] 2403.5  219.5"
      ]
     },
     "metadata": {},
     "output_type": "display_data"
    }
   ],
   "source": [
    "p.post(quine$Days)"
   ]
  },
  {
   "cell_type": "markdown",
   "metadata": {},
   "source": [
    "### Q1b) Answer:\n",
    "$\\alpha$ = 2403.5, $\\beta$ = 219.5"
   ]
  },
  {
   "cell_type": "code",
   "execution_count": 16,
   "metadata": {
    "ExecuteTime": {
     "end_time": "2019-09-30T06:16:17.170110Z",
     "start_time": "2019-09-30T06:16:17.125Z"
    }
   },
   "outputs": [],
   "source": [
    "h1 = function(x, c, d) {\n",
    "    return (d * (1 + c * x)^3)\n",
    "}\n",
    "\n",
    "g = function(x, c, d) {\n",
    "    return (d * log((1 + c * x) ^ 3) - d * (1 + c * x)^3 + d)\n",
    "}\n",
    "\n",
    "f1 = function(x, alpha) {\n",
    "    d = alpha - 1/3\n",
    "    c = 1 / sqrt(9 * d)\n",
    "    \n",
    "    h1.prime = function(x, c, d) {\n",
    "        return (3 * d * c * (1 + c * x)^2)\n",
    "    }\n",
    "    \n",
    "    return (h1(x, c, d)^(alpha - 1) * exp(-h1(x, c, d)) * h1.prime(x, c, d))\n",
    "}\n",
    "\n",
    "f2 = function(x, alpha) {\n",
    "    d = alpha - 1/3\n",
    "    c = 1 / sqrt(9 * d)\n",
    "    return (exp(g(x, c, d)))\n",
    "}\n",
    "\n",
    "cmp = function(alpha) {\n",
    "    return (f1(1, alpha) / exp(f2(1, alpha)))\n",
    "}\n",
    "\n",
    "h2 = function(x) {\n",
    "    return (exp(-x^2 / 2))\n",
    "}\n",
    "\n",
    "gamma = function(alpha = 1, beta = 1) {\n",
    "    d = alpha - 1/3;\n",
    "    c = 1 / sqrt(9 * d)\n",
    "    r = cmp(alpha)\n",
    "    \n",
    "    while (TRUE) {\n",
    "        x = rnorm(1)\n",
    "        y = runif(1)\n",
    "        \n",
    "        if (x > -1/c && y < f1(x, alpha) / h2(x) * r) {\n",
    "            break\n",
    "        }\n",
    "    }\n",
    "    \n",
    "    return (h1(x, c, d) / beta)\n",
    "}\n",
    "\n",
    "rgamma_ = function(n_iter, alpha = 1, beta = 1) {\n",
    "    return (replicate(n_iter, gamma(alpha, beta)))\n",
    "}"
   ]
  },
  {
   "cell_type": "markdown",
   "metadata": {},
   "source": [
    "### Q2c) Answer:"
   ]
  },
  {
   "cell_type": "code",
   "execution_count": 18,
   "metadata": {
    "ExecuteTime": {
     "end_time": "2019-09-30T06:16:23.039005Z",
     "start_time": "2019-09-30T06:16:22.675Z"
    }
   },
   "outputs": [
    {
     "data": {
      "image/png": "[encoded data removed]",
      "text/plain": [
       "plot without title"
      ]
     },
     "metadata": {},
     "output_type": "display_data"
    }
   ],
   "source": [
    "sim = rgamma_(1000, 1.2, 3)\n",
    "plot(qgamma(1:1000/1001, 1.2, 3), sort(sim))\n",
    "abline(0, 1, col=\"red\")"
   ]
  },
  {
   "cell_type": "code",
   "execution_count": null,
   "metadata": {},
   "outputs": [],
   "source": []
  }
 ],
 "metadata": {
  "kernelspec": {
   "display_name": "R",
   "language": "R",
   "name": "ir"
  },
  "language_info": {
   "codemirror_mode": "r",
   "file_extension": ".r",
   "mimetype": "text/x-r-source",
   "name": "R",
   "pygments_lexer": "r",
   "version": "3.6.1"
  },
  "latex_envs": {
   "LaTeX_envs_menu_present": true,
   "autoclose": false,
   "autocomplete": true,
   "bibliofile": "biblio.bib",
   "cite_by": "apalike",
   "current_citInitial": 1,
   "eqLabelWithNumbers": true,
   "eqNumInitial": 1,
   "hotkeys": {
    "equation": "Ctrl-E",
    "itemize": "Ctrl-I"
   },
   "labels_anchors": false,
   "latex_user_defs": false,
   "report_style_numbering": false,
   "user_envs_cfg": false
  }
 },
 "nbformat": 4,
 "nbformat_minor": 2
}
