{
 "cells": [
  {
   "cell_type": "code",
   "execution_count": 12,
   "metadata": {
    "ExecuteTime": {
     "end_time": "2019-09-15T06:06:26.178745Z",
     "start_time": "2019-09-15T06:06:26.130Z"
    }
   },
   "outputs": [
    {
     "name": "stdout",
     "output_type": "stream",
     "text": [
      "'data.frame':\t504 obs. of  4 variables:\n",
      " $ actor      : int  1 1 1 1 1 1 1 1 1 1 ...\n",
      " $ condition  : int  0 0 0 0 0 0 0 0 0 0 ...\n",
      " $ prosoc_left: int  0 0 1 0 1 1 1 1 0 0 ...\n",
      " $ pulled_left: int  0 1 0 0 1 1 0 0 0 0 ...\n"
     ]
    },
    {
     "data": {
      "text/html": [
       "<table>\n",
       "<thead><tr><th scope=col>actor</th><th scope=col>condition</th><th scope=col>prosoc_left</th><th scope=col>pulled_left</th></tr></thead>\n",
       "<tbody>\n",
       "\t<tr><td>1</td><td>0</td><td>0</td><td>0</td></tr>\n",
       "\t<tr><td>1</td><td>0</td><td>0</td><td>1</td></tr>\n",
       "\t<tr><td>1</td><td>0</td><td>1</td><td>0</td></tr>\n",
       "\t<tr><td>1</td><td>0</td><td>0</td><td>0</td></tr>\n",
       "\t<tr><td>1</td><td>0</td><td>1</td><td>1</td></tr>\n",
       "\t<tr><td>1</td><td>0</td><td>1</td><td>1</td></tr>\n",
       "</tbody>\n",
       "</table>\n"
      ],
      "text/latex": [
       "\\begin{tabular}{r|llll}\n",
       " actor & condition & prosoc\\_left & pulled\\_left\\\\\n",
       "\\hline\n",
       "\t 1 & 0 & 0 & 0\\\\\n",
       "\t 1 & 0 & 0 & 1\\\\\n",
       "\t 1 & 0 & 1 & 0\\\\\n",
       "\t 1 & 0 & 0 & 0\\\\\n",
       "\t 1 & 0 & 1 & 1\\\\\n",
       "\t 1 & 0 & 1 & 1\\\\\n",
       "\\end{tabular}\n"
      ],
      "text/markdown": [
       "\n",
       "| actor | condition | prosoc_left | pulled_left |\n",
       "|---|---|---|---|\n",
       "| 1 | 0 | 0 | 0 |\n",
       "| 1 | 0 | 0 | 1 |\n",
       "| 1 | 0 | 1 | 0 |\n",
       "| 1 | 0 | 0 | 0 |\n",
       "| 1 | 0 | 1 | 1 |\n",
       "| 1 | 0 | 1 | 1 |\n",
       "\n"
      ],
      "text/plain": [
       "  actor condition prosoc_left pulled_left\n",
       "1 1     0         0           0          \n",
       "2 1     0         0           1          \n",
       "3 1     0         1           0          \n",
       "4 1     0         0           0          \n",
       "5 1     0         1           1          \n",
       "6 1     0         1           1          "
      ]
     },
     "metadata": {},
     "output_type": "display_data"
    }
   ],
   "source": [
    "df = read.table(\"assign2.txt\", header=TRUE)\n",
    "str(df)\n",
    "head(df)"
   ]
  },
  {
   "cell_type": "code",
   "execution_count": 13,
   "metadata": {
    "ExecuteTime": {
     "end_time": "2019-09-15T06:06:26.218630Z",
     "start_time": "2019-09-15T06:06:26.132Z"
    }
   },
   "outputs": [],
   "source": [
    "# Create attribute\n",
    "df$actor = factor(df$actor)\n",
    "df$condition = factor(df$condition)\n",
    "df$prosoc_left = factor(df$prosoc_left)\n",
    "df$pulled_left = factor(df$pulled_left)\n",
    "df$is_prosoc = as.integer(df$prosoc_left == df$pulled_left)"
   ]
  },
  {
   "cell_type": "code",
   "execution_count": 14,
   "metadata": {
    "ExecuteTime": {
     "end_time": "2019-09-15T06:06:26.246594Z",
     "start_time": "2019-09-15T06:06:26.136Z"
    }
   },
   "outputs": [],
   "source": [
    "# Also create only control and only experiment\n",
    "single = df[which(df$condition == 0),]\n",
    "pair = df[which(df$condition == 1),]"
   ]
  },
  {
   "cell_type": "markdown",
   "metadata": {},
   "source": [
    "### Binomial Regression\n",
    "- We want to try with all the attributes EXCLUDING the `pulled_left`, as we are wanting to see if they are prosocial"
   ]
  },
  {
   "cell_type": "code",
   "execution_count": 15,
   "metadata": {
    "ExecuteTime": {
     "end_time": "2019-09-15T06:06:26.282548Z",
     "start_time": "2019-09-15T06:06:26.145Z"
    }
   },
   "outputs": [
    {
     "data": {
      "text/plain": [
       "\n",
       "Call:\n",
       "glm(formula = cbind(is_prosoc, 1 - is_prosoc) ~ ., family = binomial, \n",
       "    data = df)\n",
       "\n",
       "Deviance Residuals: \n",
       "    Min       1Q   Median       3Q      Max  \n",
       "-1.5697  -1.2269   0.8485   1.0813   1.4084  \n",
       "\n",
       "Coefficients:\n",
       "               Estimate Std. Error z value Pr(>|z|)    \n",
       "(Intercept)   6.268e-02  2.868e-01   0.219  0.82701    \n",
       "actor2       -4.958e-01  3.662e-01  -1.354  0.17584    \n",
       "actor3        6.409e-02  3.481e-01   0.184  0.85390    \n",
       "actor4        6.414e-02  3.481e-01   0.184  0.85379    \n",
       "actor5       -2.671e-05  3.465e-01   0.000  0.99994    \n",
       "actor6       -5.909e-01  3.463e-01  -1.707  0.08791 .  \n",
       "actor7       -3.755e-01  3.585e-01  -1.047  0.29492    \n",
       "condition1    1.036e-01  1.839e-01   0.563  0.57336    \n",
       "prosoc_left1  6.566e-01  1.861e-01   3.527  0.00042 ***\n",
       "pulled_left1  5.299e-02  2.205e-01   0.240  0.81012    \n",
       "---\n",
       "Signif. codes:  0 '***' 0.001 '**' 0.01 '*' 0.05 '.' 0.1 ' ' 1\n",
       "\n",
       "(Dispersion parameter for binomial family taken to be 1)\n",
       "\n",
       "    Null deviance: 689.49  on 503  degrees of freedom\n",
       "Residual deviance: 668.42  on 494  degrees of freedom\n",
       "AIC: 688.42\n",
       "\n",
       "Number of Fisher Scoring iterations: 4\n"
      ]
     },
     "metadata": {},
     "output_type": "display_data"
    }
   ],
   "source": [
    "binom.model = glm(cbind(is_prosoc, 1 - is_prosoc) ~ ., df, family=binomial)\n",
    "summary(binom.model)"
   ]
  },
  {
   "cell_type": "code",
   "execution_count": 16,
   "metadata": {
    "ExecuteTime": {
     "end_time": "2019-09-15T06:06:26.374735Z",
     "start_time": "2019-09-15T06:06:26.148Z"
    }
   },
   "outputs": [
    {
     "data": {
      "text/plain": [
       "\n",
       "Call:\n",
       "glm(formula = cbind(is_prosoc, 1 - is_prosoc) ~ prosoc_left, \n",
       "    family = binomial, data = df)\n",
       "\n",
       "Deviance Residuals: \n",
       "    Min       1Q   Median       3Q      Max  \n",
       "-1.4428  -1.1572   0.9335   0.9335   1.1977  \n",
       "\n",
       "Coefficients:\n",
       "             Estimate Std. Error z value Pr(>|z|)    \n",
       "(Intercept)  -0.04763    0.12602  -0.378 0.705484    \n",
       "prosoc_left1  0.65274    0.18235   3.580 0.000344 ***\n",
       "---\n",
       "Signif. codes:  0 '***' 0.001 '**' 0.01 '*' 0.05 '.' 0.1 ' ' 1\n",
       "\n",
       "(Dispersion parameter for binomial family taken to be 1)\n",
       "\n",
       "    Null deviance: 689.49  on 503  degrees of freedom\n",
       "Residual deviance: 676.50  on 502  degrees of freedom\n",
       "AIC: 680.5\n",
       "\n",
       "Number of Fisher Scoring iterations: 4\n"
      ]
     },
     "metadata": {},
     "output_type": "display_data"
    }
   ],
   "source": [
    "bm.step = step(binom.model, trace=FALSE)\n",
    "summary(bm.step)"
   ]
  },
  {
   "cell_type": "markdown",
   "metadata": {},
   "source": [
    "It seems there may be a preference as to where the prosocial option is. We can try see if the mean tells us anything."
   ]
  },
  {
   "cell_type": "code",
   "execution_count": 17,
   "metadata": {
    "ExecuteTime": {
     "end_time": "2019-09-15T06:06:26.406687Z",
     "start_time": "2019-09-15T06:06:26.156Z"
    }
   },
   "outputs": [
    {
     "data": {
      "text/html": [
       "2.13875460832085e-147"
      ],
      "text/latex": [
       "2.13875460832085e-147"
      ],
      "text/markdown": [
       "2.13875460832085e-147"
      ],
      "text/plain": [
       "[1] 2.138755e-147"
      ]
     },
     "metadata": {},
     "output_type": "display_data"
    }
   ],
   "source": [
    "pchisq(668.48, 1, lower.tail=FALSE)"
   ]
  },
  {
   "cell_type": "code",
   "execution_count": 18,
   "metadata": {
    "ExecuteTime": {
     "end_time": "2019-09-15T06:06:26.466940Z",
     "start_time": "2019-09-15T06:06:26.159Z"
    }
   },
   "outputs": [],
   "source": [
    "singlebm.step.mu = predict(bm.step, newdata=single, se.fit=TRUE, type=\"link\")\n",
    "singlebm.step.muFit = singlebm.step.mu$fit\n",
    "singlebm.step.muError = singlebm.step.mu$se.fit\n",
    "alpha = dnorm(0.975)\n",
    "\n",
    "# Compute fitted CI\n",
    "widthsingle = alpha * singlebm.step.muError\n",
    "\n",
    "CIfitsingle = cbind(singlebm.step.muFit-widthsingle, singlebm.step.muFit+widthsingle)\n",
    "CIsingle = data.frame(CIfitsingle[,1], singlebm.step.muFit, CIfitsingle[,2])\n",
    "\n",
    "# Rename for clarity\n",
    "names(CIsingle)[names(CIsingle)==\"CIfitsingle...1.\"] = \"2.5%\"\n",
    "names(CIsingle)[names(CIsingle)==\"singlebm.step.muFit\"] = \"Fitted Value (single)\"\n",
    "names(CIsingle)[names(CIsingle)==\"CIfitsingle...2.\"] = \"97.5%\""
   ]
  },
  {
   "cell_type": "code",
   "execution_count": 19,
   "metadata": {
    "ExecuteTime": {
     "end_time": "2019-09-15T06:06:26.507711Z",
     "start_time": "2019-09-15T06:06:26.162Z"
    }
   },
   "outputs": [
    {
     "data": {
      "text/html": [
       "<table>\n",
       "<thead><tr><th scope=col>2.5%</th><th scope=col>Fitted Value (single)</th><th scope=col>97.5%</th></tr></thead>\n",
       "<tbody>\n",
       "\t<tr><td>-0.07888433</td><td>-0.04762805</td><td>-0.01637177</td></tr>\n",
       "\t<tr><td>-0.07888433</td><td>-0.04762805</td><td>-0.01637177</td></tr>\n",
       "\t<tr><td> 0.57242526</td><td> 0.60511383</td><td> 0.63780240</td></tr>\n",
       "\t<tr><td>-0.07888433</td><td>-0.04762805</td><td>-0.01637177</td></tr>\n",
       "\t<tr><td> 0.57242526</td><td> 0.60511383</td><td> 0.63780240</td></tr>\n",
       "\t<tr><td> 0.57242526</td><td> 0.60511383</td><td> 0.63780240</td></tr>\n",
       "</tbody>\n",
       "</table>\n"
      ],
      "text/latex": [
       "\\begin{tabular}{r|lll}\n",
       " 2.5\\% & Fitted Value (single) & 97.5\\%\\\\\n",
       "\\hline\n",
       "\t -0.07888433 & -0.04762805 & -0.01637177\\\\\n",
       "\t -0.07888433 & -0.04762805 & -0.01637177\\\\\n",
       "\t  0.57242526 &  0.60511383 &  0.63780240\\\\\n",
       "\t -0.07888433 & -0.04762805 & -0.01637177\\\\\n",
       "\t  0.57242526 &  0.60511383 &  0.63780240\\\\\n",
       "\t  0.57242526 &  0.60511383 &  0.63780240\\\\\n",
       "\\end{tabular}\n"
      ],
      "text/markdown": [
       "\n",
       "| 2.5% | Fitted Value (single) | 97.5% |\n",
       "|---|---|---|\n",
       "| -0.07888433 | -0.04762805 | -0.01637177 |\n",
       "| -0.07888433 | -0.04762805 | -0.01637177 |\n",
       "|  0.57242526 |  0.60511383 |  0.63780240 |\n",
       "| -0.07888433 | -0.04762805 | -0.01637177 |\n",
       "|  0.57242526 |  0.60511383 |  0.63780240 |\n",
       "|  0.57242526 |  0.60511383 |  0.63780240 |\n",
       "\n"
      ],
      "text/plain": [
       "  2.5%        Fitted Value (single) 97.5%      \n",
       "1 -0.07888433 -0.04762805           -0.01637177\n",
       "2 -0.07888433 -0.04762805           -0.01637177\n",
       "3  0.57242526  0.60511383            0.63780240\n",
       "4 -0.07888433 -0.04762805           -0.01637177\n",
       "5  0.57242526  0.60511383            0.63780240\n",
       "6  0.57242526  0.60511383            0.63780240"
      ]
     },
     "metadata": {},
     "output_type": "display_data"
    }
   ],
   "source": [
    "head(CIsingle)"
   ]
  },
  {
   "cell_type": "code",
   "execution_count": 20,
   "metadata": {
    "ExecuteTime": {
     "end_time": "2019-09-15T06:06:26.579616Z",
     "start_time": "2019-09-15T06:06:26.165Z"
    }
   },
   "outputs": [],
   "source": [
    "pairbm.step.mu = predict(bm.step, newdata=pair, se.fit=TRUE, type=\"link\")\n",
    "pairbm.step.muFit = pairbm.step.mu$fit\n",
    "pairbm.step.muError = pairbm.step.mu$se.fit\n",
    "alpha = dnorm(0.975)\n",
    "\n",
    "# Compute fitted CI\n",
    "widthpair = alpha * pairbm.step.muError\n",
    "\n",
    "CIfitpair = cbind(pairbm.step.muFit-widthpair, pairbm.step.muFit+widthpair)\n",
    "CIpair = data.frame(CIfitpair[,1], pairbm.step.muFit, CIfitpair[,2])\n",
    "\n",
    "# Rename for clarity\n",
    "names(CIpair)[names(CIpair)==\"CIfitpair...1.\"] = \"2.5%\"\n",
    "names(CIpair)[names(CIpair)==\"pairbm.step.muFit\"] = \"Fitted Value (pair)\"\n",
    "names(CIpair)[names(CIpair)==\"CIfitpair...2.\"] = \"97.5%\""
   ]
  },
  {
   "cell_type": "code",
   "execution_count": 21,
   "metadata": {
    "ExecuteTime": {
     "end_time": "2019-09-15T06:06:26.631545Z",
     "start_time": "2019-09-15T06:06:26.168Z"
    }
   },
   "outputs": [
    {
     "data": {
      "text/html": [
       "<table>\n",
       "<thead><tr><th></th><th scope=col>2.5%</th><th scope=col>Fitted Value (pair)</th><th scope=col>97.5%</th></tr></thead>\n",
       "<tbody>\n",
       "\t<tr><th scope=row>37</th><td>-0.07888433</td><td>-0.04762805</td><td>-0.01637177</td></tr>\n",
       "\t<tr><th scope=row>38</th><td>-0.07888433</td><td>-0.04762805</td><td>-0.01637177</td></tr>\n",
       "\t<tr><th scope=row>39</th><td> 0.57242526</td><td> 0.60511383</td><td> 0.63780240</td></tr>\n",
       "\t<tr><th scope=row>40</th><td>-0.07888433</td><td>-0.04762805</td><td>-0.01637177</td></tr>\n",
       "\t<tr><th scope=row>41</th><td>-0.07888433</td><td>-0.04762805</td><td>-0.01637177</td></tr>\n",
       "\t<tr><th scope=row>42</th><td>-0.07888433</td><td>-0.04762805</td><td>-0.01637177</td></tr>\n",
       "</tbody>\n",
       "</table>\n"
      ],
      "text/latex": [
       "\\begin{tabular}{r|lll}\n",
       "  & 2.5\\% & Fitted Value (pair) & 97.5\\%\\\\\n",
       "\\hline\n",
       "\t37 & -0.07888433 & -0.04762805 & -0.01637177\\\\\n",
       "\t38 & -0.07888433 & -0.04762805 & -0.01637177\\\\\n",
       "\t39 &  0.57242526 &  0.60511383 &  0.63780240\\\\\n",
       "\t40 & -0.07888433 & -0.04762805 & -0.01637177\\\\\n",
       "\t41 & -0.07888433 & -0.04762805 & -0.01637177\\\\\n",
       "\t42 & -0.07888433 & -0.04762805 & -0.01637177\\\\\n",
       "\\end{tabular}\n"
      ],
      "text/markdown": [
       "\n",
       "| <!--/--> | 2.5% | Fitted Value (pair) | 97.5% |\n",
       "|---|---|---|---|\n",
       "| 37 | -0.07888433 | -0.04762805 | -0.01637177 |\n",
       "| 38 | -0.07888433 | -0.04762805 | -0.01637177 |\n",
       "| 39 |  0.57242526 |  0.60511383 |  0.63780240 |\n",
       "| 40 | -0.07888433 | -0.04762805 | -0.01637177 |\n",
       "| 41 | -0.07888433 | -0.04762805 | -0.01637177 |\n",
       "| 42 | -0.07888433 | -0.04762805 | -0.01637177 |\n",
       "\n"
      ],
      "text/plain": [
       "   2.5%        Fitted Value (pair) 97.5%      \n",
       "37 -0.07888433 -0.04762805         -0.01637177\n",
       "38 -0.07888433 -0.04762805         -0.01637177\n",
       "39  0.57242526  0.60511383          0.63780240\n",
       "40 -0.07888433 -0.04762805         -0.01637177\n",
       "41 -0.07888433 -0.04762805         -0.01637177\n",
       "42 -0.07888433 -0.04762805         -0.01637177"
      ]
     },
     "metadata": {},
     "output_type": "display_data"
    }
   ],
   "source": [
    "head(CIpair)"
   ]
  },
  {
   "cell_type": "code",
   "execution_count": 22,
   "metadata": {
    "ExecuteTime": {
     "end_time": "2019-09-15T06:06:26.667497Z",
     "start_time": "2019-09-15T06:06:26.171Z"
    }
   },
   "outputs": [],
   "source": [
    "F = binom.model$family$linkinv"
   ]
  },
  {
   "cell_type": "code",
   "execution_count": 23,
   "metadata": {
    "ExecuteTime": {
     "end_time": "2019-09-15T06:06:26.727430Z",
     "start_time": "2019-09-15T06:06:26.175Z"
    }
   },
   "outputs": [
    {
     "data": {
      "text/html": [
       "<table>\n",
       "<thead><tr><th scope=col>2.5%</th><th scope=col>Fitted Value (pair)</th><th scope=col>97.5%</th></tr></thead>\n",
       "<tbody>\n",
       "\t<tr><td>0.4802891</td><td>0.4880952</td><td>0.4959071</td></tr>\n",
       "\t<tr><td>0.4802891</td><td>0.4880952</td><td>0.4959071</td></tr>\n",
       "\t<tr><td>0.6393226</td><td>0.6468254</td><td>0.6542565</td></tr>\n",
       "\t<tr><td>0.4802891</td><td>0.4880952</td><td>0.4959071</td></tr>\n",
       "\t<tr><td>0.6393226</td><td>0.6468254</td><td>0.6542565</td></tr>\n",
       "\t<tr><td>0.6393226</td><td>0.6468254</td><td>0.6542565</td></tr>\n",
       "</tbody>\n",
       "</table>\n"
      ],
      "text/latex": [
       "\\begin{tabular}{r|lll}\n",
       " 2.5\\% & Fitted Value (pair) & 97.5\\%\\\\\n",
       "\\hline\n",
       "\t 0.4802891 & 0.4880952 & 0.4959071\\\\\n",
       "\t 0.4802891 & 0.4880952 & 0.4959071\\\\\n",
       "\t 0.6393226 & 0.6468254 & 0.6542565\\\\\n",
       "\t 0.4802891 & 0.4880952 & 0.4959071\\\\\n",
       "\t 0.6393226 & 0.6468254 & 0.6542565\\\\\n",
       "\t 0.6393226 & 0.6468254 & 0.6542565\\\\\n",
       "\\end{tabular}\n"
      ],
      "text/markdown": [
       "\n",
       "| 2.5% | Fitted Value (pair) | 97.5% |\n",
       "|---|---|---|\n",
       "| 0.4802891 | 0.4880952 | 0.4959071 |\n",
       "| 0.4802891 | 0.4880952 | 0.4959071 |\n",
       "| 0.6393226 | 0.6468254 | 0.6542565 |\n",
       "| 0.4802891 | 0.4880952 | 0.4959071 |\n",
       "| 0.6393226 | 0.6468254 | 0.6542565 |\n",
       "| 0.6393226 | 0.6468254 | 0.6542565 |\n",
       "\n"
      ],
      "text/plain": [
       "  2.5%      Fitted Value (pair) 97.5%    \n",
       "1 0.4802891 0.4880952           0.4959071\n",
       "2 0.4802891 0.4880952           0.4959071\n",
       "3 0.6393226 0.6468254           0.6542565\n",
       "4 0.4802891 0.4880952           0.4959071\n",
       "5 0.6393226 0.6468254           0.6542565\n",
       "6 0.6393226 0.6468254           0.6542565"
      ]
     },
     "metadata": {},
     "output_type": "display_data"
    }
   ],
   "source": [
    "CI2logit = data.frame(F(CIsingle[,1]), F(CIsingle[,2]), F(CIsingle[,3]))\n",
    "# Rename for clarity\n",
    "names(CI2logit)[names(CI2logit)==\"F.CIsingle...1..\"] = \"2.5%\"\n",
    "names(CI2logit)[names(CI2logit)==\"F.CIsingle...2..\"] = \"Fitted Value (pair)\"\n",
    "names(CI2logit)[names(CI2logit)==\"F.CIsingle...3..\"] = \"97.5%\"\n",
    "\n",
    "head(CI2logit)"
   ]
  },
  {
   "cell_type": "code",
   "execution_count": 24,
   "metadata": {
    "ExecuteTime": {
     "end_time": "2019-09-15T06:06:26.795326Z",
     "start_time": "2019-09-15T06:06:26.178Z"
    }
   },
   "outputs": [
    {
     "data": {
      "text/html": [
       "<table>\n",
       "<thead><tr><th scope=col>2.5%</th><th scope=col>Fitted Value (pair)</th><th scope=col>97.5%</th></tr></thead>\n",
       "<tbody>\n",
       "\t<tr><td>0.4802891</td><td>0.4880952</td><td>0.4959071</td></tr>\n",
       "\t<tr><td>0.4802891</td><td>0.4880952</td><td>0.4959071</td></tr>\n",
       "\t<tr><td>0.6393226</td><td>0.6468254</td><td>0.6542565</td></tr>\n",
       "\t<tr><td>0.4802891</td><td>0.4880952</td><td>0.4959071</td></tr>\n",
       "\t<tr><td>0.4802891</td><td>0.4880952</td><td>0.4959071</td></tr>\n",
       "\t<tr><td>0.4802891</td><td>0.4880952</td><td>0.4959071</td></tr>\n",
       "</tbody>\n",
       "</table>\n"
      ],
      "text/latex": [
       "\\begin{tabular}{r|lll}\n",
       " 2.5\\% & Fitted Value (pair) & 97.5\\%\\\\\n",
       "\\hline\n",
       "\t 0.4802891 & 0.4880952 & 0.4959071\\\\\n",
       "\t 0.4802891 & 0.4880952 & 0.4959071\\\\\n",
       "\t 0.6393226 & 0.6468254 & 0.6542565\\\\\n",
       "\t 0.4802891 & 0.4880952 & 0.4959071\\\\\n",
       "\t 0.4802891 & 0.4880952 & 0.4959071\\\\\n",
       "\t 0.4802891 & 0.4880952 & 0.4959071\\\\\n",
       "\\end{tabular}\n"
      ],
      "text/markdown": [
       "\n",
       "| 2.5% | Fitted Value (pair) | 97.5% |\n",
       "|---|---|---|\n",
       "| 0.4802891 | 0.4880952 | 0.4959071 |\n",
       "| 0.4802891 | 0.4880952 | 0.4959071 |\n",
       "| 0.6393226 | 0.6468254 | 0.6542565 |\n",
       "| 0.4802891 | 0.4880952 | 0.4959071 |\n",
       "| 0.4802891 | 0.4880952 | 0.4959071 |\n",
       "| 0.4802891 | 0.4880952 | 0.4959071 |\n",
       "\n"
      ],
      "text/plain": [
       "  2.5%      Fitted Value (pair) 97.5%    \n",
       "1 0.4802891 0.4880952           0.4959071\n",
       "2 0.4802891 0.4880952           0.4959071\n",
       "3 0.6393226 0.6468254           0.6542565\n",
       "4 0.4802891 0.4880952           0.4959071\n",
       "5 0.4802891 0.4880952           0.4959071\n",
       "6 0.4802891 0.4880952           0.4959071"
      ]
     },
     "metadata": {},
     "output_type": "display_data"
    }
   ],
   "source": [
    "CI3logit = data.frame(F(CIpair[,1]), F(CIpair[,2]), F(CIpair[,3]))\n",
    "# Rename for clarity\n",
    "names(CI3logit)[names(CI3logit)==\"F.CIpair...1..\"] = \"2.5%\"\n",
    "names(CI3logit)[names(CI3logit)==\"F.CIpair...2..\"] = \"Fitted Value (pair)\"\n",
    "names(CI3logit)[names(CI3logit)==\"F.CIpair...3..\"] = \"97.5%\"\n",
    "\n",
    "head(CI3logit)"
   ]
  },
  {
   "cell_type": "code",
   "execution_count": 25,
   "metadata": {
    "ExecuteTime": {
     "end_time": "2019-09-15T06:06:27.119416Z",
     "start_time": "2019-09-15T06:06:26.181Z"
    }
   },
   "outputs": [
    {
     "data": {
      "image/png": "[encoded data removed]",
      "text/plain": [
       "plot without title"
      ]
     },
     "metadata": {},
     "output_type": "display_data"
    }
   ],
   "source": [
    "# Residual Plots\n",
    "par(mfrow=c(2,2))\n",
    "plot(residuals(bm.step) ~ predict(bm.step, type=\"response\"), xlab=expression(hat(mu)), ylab=\"Deviance Residuals\")\n",
    "plot(residuals(bm.step) ~ predict(bm.step, type=\"link\"), xlab=expression(hat(eta)), ylab=\"Deviance Residuals\")\n",
    "plot(residuals(bm.step, type=\"pearson\") ~ predict(bm.step, type=\"link\"), \n",
    "     xlab=expression(hat(eta)), ylab=\"Pearson Residuals\")\n",
    "plot(residuals(bm.step, type=\"response\") ~ predict(bm.step, type=\"link\"), \n",
    "     xlab=expression(hat(eta)), ylab=\"Response Residuals\")"
   ]
  },
  {
   "cell_type": "markdown",
   "metadata": {},
   "source": [
    "There seems to be no trend at all"
   ]
  },
  {
   "cell_type": "markdown",
   "metadata": {},
   "source": [
    "Let's check for overdispersion - we've assumed $\\hat{\\phi} = 1$ so far..."
   ]
  },
  {
   "cell_type": "code",
   "execution_count": 26,
   "metadata": {
    "ExecuteTime": {
     "end_time": "2019-09-15T06:06:27.167352Z",
     "start_time": "2019-09-15T06:06:26.195Z"
    }
   },
   "outputs": [
    {
     "data": {
      "text/html": [
       "1.00398406374501"
      ],
      "text/latex": [
       "1.00398406374501"
      ],
      "text/markdown": [
       "1.00398406374501"
      ],
      "text/plain": [
       "[1] 1.003984"
      ]
     },
     "metadata": {},
     "output_type": "display_data"
    }
   ],
   "source": [
    "n = dim(df)[1]\n",
    "p = 2 # number of fitted params\n",
    "phi.hat = sum(residuals(bm.step, type=\"pearson\")^2) / (n - p)\n",
    "phi.hat"
   ]
  },
  {
   "cell_type": "markdown",
   "metadata": {},
   "source": [
    "Nice, our dispersion parameter is pretty much 1, so the model is good."
   ]
  },
  {
   "cell_type": "markdown",
   "metadata": {},
   "source": [
    "### Contingency Table - Testing for Independence"
   ]
  },
  {
   "cell_type": "code",
   "execution_count": 27,
   "metadata": {
    "ExecuteTime": {
     "end_time": "2019-09-15T06:06:27.211298Z",
     "start_time": "2019-09-15T06:06:26.209Z"
    }
   },
   "outputs": [
    {
     "data": {
      "text/plain": [
       "Number of cases in table: 252 \n",
       "Number of factors: 2 \n",
       "Test for independence of all factors:\n",
       "\tChisq = 49.14, df = 6, p-value = 6.99e-09"
      ]
     },
     "metadata": {},
     "output_type": "display_data"
    }
   ],
   "source": [
    "# The first most interesting attribute to look at is the handedness, which is tested for during control experiment\n",
    "t1 = table(single$pulled_left, single$actor)\n",
    "summary(t1)"
   ]
  },
  {
   "cell_type": "markdown",
   "metadata": {},
   "source": [
    "It is very significant, so there is a dependency between the handedness of each chimp. This is expected since it is natural to have a preferred handedness (humans are more right handed)."
   ]
  },
  {
   "cell_type": "code",
   "execution_count": 28,
   "metadata": {
    "ExecuteTime": {
     "end_time": "2019-09-15T06:06:27.251602Z",
     "start_time": "2019-09-15T06:06:26.214Z"
    }
   },
   "outputs": [
    {
     "data": {
      "text/plain": [
       "Number of cases in table: 504 \n",
       "Number of factors: 2 \n",
       "Test for independence of all factors:\n",
       "\tChisq = 7.518, df = 6, p-value = 0.2756"
      ]
     },
     "metadata": {},
     "output_type": "display_data"
    }
   ],
   "source": [
    "# We can also see if some chimps may be more prosocial by nature\n",
    "t2 = table(df$is_prosoc, df$actor)\n",
    "summary(t2)"
   ]
  },
  {
   "cell_type": "markdown",
   "metadata": {},
   "source": [
    "So during experiments, we observe that chimps are acting independently regardless of the prosocial option"
   ]
  },
  {
   "cell_type": "code",
   "execution_count": 29,
   "metadata": {
    "ExecuteTime": {
     "end_time": "2019-09-15T06:06:27.426802Z",
     "start_time": "2019-09-15T06:06:26.222Z"
    }
   },
   "outputs": [
    {
     "data": {
      "image/png": "[encoded data removed]",
      "text/plain": [
       "plot without title"
      ]
     },
     "metadata": {},
     "output_type": "display_data"
    }
   ],
   "source": [
    "par(mfrow=c(1,2))\n",
    "\n",
    "l = (prop.table(table(single$actor, single$pulled_left), 1) - prop.table(table(pair$actor, pair$pulled_left), 1))[,1]\n",
    "plot(l, ylim=c(-.2,.2), xlab=\"Actor ID\", \n",
    "     ylab=\"Handedness Preference (Proportion)\")\n",
    "lines(x=c(0,8), y=c(0,0), col=\"orange\")\n",
    "\n",
    "# If the value is 0, then there is either no preference (50/50) or complete bias (100/0) to a side\n",
    "# Negative difference indicates a tendency to pull the left lever compared to the control, \n",
    "# and a positive indicates a tendency to pull the right lever compared to the control\n",
    "\n",
    "diff = (prop.table(table(single$actor, single$is_prosoc), 1) - prop.table(table(pair$actor, pair$is_prosoc), 1))[,1]\n",
    "plot(diff, ylim=c(-.2,.2), xlab=\"Actor ID\", \n",
    "     ylab=\"Difference in Prosocial Tendency (Proportion)\")\n",
    "lines(x=c(0,8), y=c(0,0), col=\"orange\")\n",
    "\n",
    "# A 0 value inidcates no change in their original choice (i.e their actions are more indiciative of just pulling the\n",
    "# lever and not choosing the prosocial option). From observations, there is only a very minor difference between \n",
    "# choosing the prosocial option."
   ]
  },
  {
   "cell_type": "code",
   "execution_count": 30,
   "metadata": {
    "ExecuteTime": {
     "end_time": "2019-09-15T06:06:27.486775Z",
     "start_time": "2019-09-15T06:06:26.224Z"
    }
   },
   "outputs": [
    {
     "data": {
      "text/html": [
       "<table>\n",
       "<thead><tr><th scope=col>l</th><th scope=col>diff</th></tr></thead>\n",
       "<tbody>\n",
       "\t<tr><td> 0.00000000</td><td> 0.05555556</td></tr>\n",
       "\t<tr><td> 0.00000000</td><td> 0.00000000</td></tr>\n",
       "\t<tr><td>-0.19444444</td><td>-0.08333333</td></tr>\n",
       "\t<tr><td>-0.13888889</td><td> 0.08333333</td></tr>\n",
       "\t<tr><td>-0.05555556</td><td> 0.00000000</td></tr>\n",
       "\t<tr><td>-0.11111111</td><td> 0.11111111</td></tr>\n",
       "\t<tr><td> 0.16666667</td><td> 0.00000000</td></tr>\n",
       "</tbody>\n",
       "</table>\n"
      ],
      "text/latex": [
       "\\begin{tabular}{r|ll}\n",
       " l & diff\\\\\n",
       "\\hline\n",
       "\t  0.00000000 &  0.05555556\\\\\n",
       "\t  0.00000000 &  0.00000000\\\\\n",
       "\t -0.19444444 & -0.08333333\\\\\n",
       "\t -0.13888889 &  0.08333333\\\\\n",
       "\t -0.05555556 &  0.00000000\\\\\n",
       "\t -0.11111111 &  0.11111111\\\\\n",
       "\t  0.16666667 &  0.00000000\\\\\n",
       "\\end{tabular}\n"
      ],
      "text/markdown": [
       "\n",
       "| l | diff |\n",
       "|---|---|\n",
       "|  0.00000000 |  0.05555556 |\n",
       "|  0.00000000 |  0.00000000 |\n",
       "| -0.19444444 | -0.08333333 |\n",
       "| -0.13888889 |  0.08333333 |\n",
       "| -0.05555556 |  0.00000000 |\n",
       "| -0.11111111 |  0.11111111 |\n",
       "|  0.16666667 |  0.00000000 |\n",
       "\n"
      ],
      "text/plain": [
       "  l           diff       \n",
       "1  0.00000000  0.05555556\n",
       "2  0.00000000  0.00000000\n",
       "3 -0.19444444 -0.08333333\n",
       "4 -0.13888889  0.08333333\n",
       "5 -0.05555556  0.00000000\n",
       "6 -0.11111111  0.11111111\n",
       "7  0.16666667  0.00000000"
      ]
     },
     "metadata": {},
     "output_type": "display_data"
    }
   ],
   "source": [
    "cbind(l, diff)"
   ]
  },
  {
   "cell_type": "code",
   "execution_count": 31,
   "metadata": {
    "ExecuteTime": {
     "end_time": "2019-09-15T06:06:27.584169Z",
     "start_time": "2019-09-15T06:06:26.226Z"
    }
   },
   "outputs": [
    {
     "data": {
      "image/png": "[encoded data removed]",
      "text/plain": [
       "Plot with title \"Tendency to be more prosocial given handedness\""
      ]
     },
     "metadata": {},
     "output_type": "display_data"
    }
   ],
   "source": [
    "l = (prop.table(table(single$actor, single$pulled_left), 1) - prop.table(table(pair$actor, pair$pulled_left), 1))[,1]\n",
    "diff = (prop.table(table(single$actor, single$is_prosoc), 1) - prop.table(table(pair$actor, pair$is_prosoc), 1))[,1]\n",
    "plot(l - diff, xlab=\"Actor ID\", ylab=\"Proportion Difference\", main=\"Tendency to be more prosocial given handedness\")\n",
    "lines(x=c(0,8), y=c(0,0), col=\"orange\")"
   ]
  }
 ],
 "metadata": {
  "kernelspec": {
   "display_name": "R",
   "language": "R",
   "name": "ir"
  },
  "language_info": {
   "codemirror_mode": "r",
   "file_extension": ".r",
   "mimetype": "text/x-r-source",
   "name": "R",
   "pygments_lexer": "r",
   "version": "3.6.1"
  },
  "latex_envs": {
   "LaTeX_envs_menu_present": true,
   "autoclose": true,
   "autocomplete": true,
   "bibliofile": "biblio.bib",
   "cite_by": "apalike",
   "current_citInitial": 1,
   "eqLabelWithNumbers": true,
   "eqNumInitial": 1,
   "hotkeys": {
    "equation": "Ctrl-E",
    "itemize": "Ctrl-I"
   },
   "labels_anchors": false,
   "latex_user_defs": false,
   "report_style_numbering": false,
   "user_envs_cfg": false
  }
 },
 "nbformat": 4,
 "nbformat_minor": 2
}
