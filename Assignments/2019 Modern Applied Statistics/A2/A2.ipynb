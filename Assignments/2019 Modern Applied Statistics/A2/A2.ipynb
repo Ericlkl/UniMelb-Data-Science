{
 "cells": [
  {
   "cell_type": "code",
   "execution_count": 1,
   "metadata": {
    "ExecuteTime": {
     "end_time": "2019-09-12T01:20:52.540413Z",
     "start_time": "2019-09-12T01:20:52.361Z"
    }
   },
   "outputs": [],
   "source": []
  },
  {
   "cell_type": "markdown",
   "metadata": {
    "ExecuteTime": {
     "end_time": "2019-09-08T03:26:11.129482Z",
     "start_time": "2019-09-08T03:26:10.684Z"
    }
   },
   "source": [
    "- `actor`: ID of chimpanzee (1 - 7)\n",
    "- `condition`: `1` if partner is sitting on opposite side else `0` for lone experiment\n",
    "- `prosoc_left`: `1` if two food items on left else `0` for two food items on right side\n",
    "- `pulled_left`: `1` if left lever pulled else `0` for right lever pulled"
   ]
  },
  {
   "cell_type": "markdown",
   "metadata": {},
   "source": [
    "### Problem\n",
    "- If humans participate GIVEN another human is on the opposite side of the table, the lever linked to the two food items is always picked (the prosocial option)\n",
    "- Question: *Do chimpanzees behave the same? If not, describe their behavior (interpret model results).*\n",
    "- It seems we wish to predict if a chimpanzee will pick the more prosocial option **if** there is a partner chimp sitting opposite.\n",
    "    - So we want `prosoc_left == pulled_left & condition == 1` > `prosoc_left == pulled_left & condition == 0`\n",
    "\n",
    "### Requirements\n",
    "- Data visualization\n",
    "- Choice of model\n",
    "- Model fitting and selection (AIC)\n",
    "- Diagnostics (overdisperson checking)"
   ]
  },
  {
   "cell_type": "code",
   "execution_count": 2,
   "metadata": {
    "ExecuteTime": {
     "end_time": "2019-09-12T01:20:52.588285Z",
     "start_time": "2019-09-12T01:20:52.406Z"
    }
   },
   "outputs": [
    {
     "name": "stdout",
     "output_type": "stream",
     "text": [
      "'data.frame':\t504 obs. of  4 variables:\n",
      " $ actor      : int  1 1 1 1 1 1 1 1 1 1 ...\n",
      " $ condition  : int  0 0 0 0 0 0 0 0 0 0 ...\n",
      " $ prosoc_left: int  0 0 1 0 1 1 1 1 0 0 ...\n",
      " $ pulled_left: int  0 1 0 0 1 1 0 0 0 0 ...\n"
     ]
    }
   ],
   "source": [
    "str(df)"
   ]
  },
  {
   "cell_type": "code",
   "execution_count": 3,
   "metadata": {
    "ExecuteTime": {
     "end_time": "2019-09-12T01:20:52.627181Z",
     "start_time": "2019-09-12T01:20:52.414Z"
    }
   },
   "outputs": [
    {
     "data": {
      "text/html": [
       "<table>\n",
       "<thead><tr><th scope=col>actor</th><th scope=col>condition</th><th scope=col>prosoc_left</th><th scope=col>pulled_left</th></tr></thead>\n",
       "<tbody>\n",
       "\t<tr><td>1</td><td>0</td><td>0</td><td>0</td></tr>\n",
       "\t<tr><td>1</td><td>0</td><td>0</td><td>1</td></tr>\n",
       "\t<tr><td>1</td><td>0</td><td>1</td><td>0</td></tr>\n",
       "\t<tr><td>1</td><td>0</td><td>0</td><td>0</td></tr>\n",
       "\t<tr><td>1</td><td>0</td><td>1</td><td>1</td></tr>\n",
       "\t<tr><td>1</td><td>0</td><td>1</td><td>1</td></tr>\n",
       "</tbody>\n",
       "</table>\n"
      ],
      "text/latex": [
       "\\begin{tabular}{r|llll}\n",
       " actor & condition & prosoc\\_left & pulled\\_left\\\\\n",
       "\\hline\n",
       "\t 1 & 0 & 0 & 0\\\\\n",
       "\t 1 & 0 & 0 & 1\\\\\n",
       "\t 1 & 0 & 1 & 0\\\\\n",
       "\t 1 & 0 & 0 & 0\\\\\n",
       "\t 1 & 0 & 1 & 1\\\\\n",
       "\t 1 & 0 & 1 & 1\\\\\n",
       "\\end{tabular}\n"
      ],
      "text/markdown": [
       "\n",
       "| actor | condition | prosoc_left | pulled_left |\n",
       "|---|---|---|---|\n",
       "| 1 | 0 | 0 | 0 |\n",
       "| 1 | 0 | 0 | 1 |\n",
       "| 1 | 0 | 1 | 0 |\n",
       "| 1 | 0 | 0 | 0 |\n",
       "| 1 | 0 | 1 | 1 |\n",
       "| 1 | 0 | 1 | 1 |\n",
       "\n"
      ],
      "text/plain": [
       "  actor condition prosoc_left pulled_left\n",
       "1 1     0         0           0          \n",
       "2 1     0         0           1          \n",
       "3 1     0         1           0          \n",
       "4 1     0         0           0          \n",
       "5 1     0         1           1          \n",
       "6 1     0         1           1          "
      ]
     },
     "metadata": {},
     "output_type": "display_data"
    }
   ],
   "source": [
    "head(df)"
   ]
  },
  {
   "cell_type": "code",
   "execution_count": 4,
   "metadata": {
    "ExecuteTime": {
     "end_time": "2019-09-12T01:20:52.664086Z",
     "start_time": "2019-09-12T01:20:52.422Z"
    }
   },
   "outputs": [],
   "source": []
  },
  {
   "cell_type": "markdown",
   "metadata": {},
   "source": [
    "Compare `is_prosoc` wrt `condition`?"
   ]
  },
  {
   "cell_type": "code",
   "execution_count": 5,
   "metadata": {
    "ExecuteTime": {
     "end_time": "2019-09-12T01:20:52.710958Z",
     "start_time": "2019-09-12T01:20:52.440Z"
    }
   },
   "outputs": [
    {
     "data": {
      "text/html": [
       "<table>\n",
       "<thead><tr><th scope=col>actor</th><th scope=col>condition</th><th scope=col>prosoc_left</th><th scope=col>pulled_left</th><th scope=col>is_prosoc</th></tr></thead>\n",
       "<tbody>\n",
       "\t<tr><td>1</td><td>0</td><td>0</td><td>0</td><td>1</td></tr>\n",
       "\t<tr><td>1</td><td>0</td><td>0</td><td>1</td><td>0</td></tr>\n",
       "\t<tr><td>1</td><td>0</td><td>1</td><td>0</td><td>0</td></tr>\n",
       "\t<tr><td>1</td><td>0</td><td>0</td><td>0</td><td>1</td></tr>\n",
       "\t<tr><td>1</td><td>0</td><td>1</td><td>1</td><td>1</td></tr>\n",
       "\t<tr><td>1</td><td>0</td><td>1</td><td>1</td><td>1</td></tr>\n",
       "</tbody>\n",
       "</table>\n"
      ],
      "text/latex": [
       "\\begin{tabular}{r|lllll}\n",
       " actor & condition & prosoc\\_left & pulled\\_left & is\\_prosoc\\\\\n",
       "\\hline\n",
       "\t 1 & 0 & 0 & 0 & 1\\\\\n",
       "\t 1 & 0 & 0 & 1 & 0\\\\\n",
       "\t 1 & 0 & 1 & 0 & 0\\\\\n",
       "\t 1 & 0 & 0 & 0 & 1\\\\\n",
       "\t 1 & 0 & 1 & 1 & 1\\\\\n",
       "\t 1 & 0 & 1 & 1 & 1\\\\\n",
       "\\end{tabular}\n"
      ],
      "text/markdown": [
       "\n",
       "| actor | condition | prosoc_left | pulled_left | is_prosoc |\n",
       "|---|---|---|---|---|\n",
       "| 1 | 0 | 0 | 0 | 1 |\n",
       "| 1 | 0 | 0 | 1 | 0 |\n",
       "| 1 | 0 | 1 | 0 | 0 |\n",
       "| 1 | 0 | 0 | 0 | 1 |\n",
       "| 1 | 0 | 1 | 1 | 1 |\n",
       "| 1 | 0 | 1 | 1 | 1 |\n",
       "\n"
      ],
      "text/plain": [
       "  actor condition prosoc_left pulled_left is_prosoc\n",
       "1 1     0         0           0           1        \n",
       "2 1     0         0           1           0        \n",
       "3 1     0         1           0           0        \n",
       "4 1     0         0           0           1        \n",
       "5 1     0         1           1           1        \n",
       "6 1     0         1           1           1        "
      ]
     },
     "metadata": {},
     "output_type": "display_data"
    }
   ],
   "source": [
    "head(df)"
   ]
  },
  {
   "cell_type": "markdown",
   "metadata": {},
   "source": [
    "Frequentist Estimation from Observed Results"
   ]
  },
  {
   "cell_type": "code",
   "execution_count": 6,
   "metadata": {
    "ExecuteTime": {
     "end_time": "2019-09-12T01:20:52.749856Z",
     "start_time": "2019-09-12T01:20:52.449Z"
    }
   },
   "outputs": [],
   "source": [
    "single = df[which(df$condition == 0),]\n",
    "pair = df[which(df$condition == 1),]"
   ]
  },
  {
   "cell_type": "code",
   "execution_count": 7,
   "metadata": {
    "ExecuteTime": {
     "end_time": "2019-09-12T01:20:52.817672Z",
     "start_time": "2019-09-12T01:20:52.453Z"
    }
   },
   "outputs": [
    {
     "data": {
      "text/html": [
       "3"
      ],
      "text/latex": [
       "3"
      ],
      "text/markdown": [
       "3"
      ],
      "text/plain": [
       "[1] 3"
      ]
     },
     "metadata": {},
     "output_type": "display_data"
    },
    {
     "data": {
      "text/html": [
       "3"
      ],
      "text/latex": [
       "3"
      ],
      "text/markdown": [
       "3"
      ],
      "text/plain": [
       "[1] 3"
      ]
     },
     "metadata": {},
     "output_type": "display_data"
    },
    {
     "data": {
      "text/html": [
       "1"
      ],
      "text/latex": [
       "1"
      ],
      "text/markdown": [
       "1"
      ],
      "text/plain": [
       "[1] 1"
      ]
     },
     "metadata": {},
     "output_type": "display_data"
    }
   ],
   "source": [
    "sum(prop.table(table(single$actor, single$is_prosoc), 1)[,2] < prop.table(table(pair$actor, pair$is_prosoc), 1)[,2])\n",
    "sum(prop.table(table(single$actor, single$is_prosoc), 1)[,2] == prop.table(table(pair$actor, pair$is_prosoc), 1)[,2])\n",
    "sum(prop.table(table(single$actor, single$is_prosoc), 1)[,2] > prop.table(table(pair$actor, pair$is_prosoc), 1)[,2])"
   ]
  },
  {
   "cell_type": "markdown",
   "metadata": {},
   "source": [
    "- 4 actors chose the more prosocial option\n",
    "- 3 actors chose the non prosocial option\n",
    "- Roughly speaking, chimps do indeed choose the more prosocial option when there is a partner chimp sitting on the opposite side.\n",
    "    - Now, we need to test this relationship using regression"
   ]
  },
  {
   "cell_type": "code",
   "execution_count": 8,
   "metadata": {
    "ExecuteTime": {
     "end_time": "2019-09-12T01:20:52.868537Z",
     "start_time": "2019-09-12T01:20:52.463Z"
    }
   },
   "outputs": [
    {
     "data": {
      "text/plain": [
       "Number of cases in table: 504 \n",
       "Number of factors: 2 \n",
       "Test for independence of all factors:\n",
       "\tChisq = 129.11, df = 6, p-value = 1.979e-25"
      ]
     },
     "metadata": {},
     "output_type": "display_data"
    }
   ],
   "source": [
    "t = table(df$pulled_left, df$actor)\n",
    "summary(t)"
   ]
  },
  {
   "cell_type": "markdown",
   "metadata": {},
   "source": [
    "### Contingency Table\n",
    "- Two Factors, we wish to test independence"
   ]
  },
  {
   "cell_type": "markdown",
   "metadata": {},
   "source": [
    "Control group:"
   ]
  },
  {
   "cell_type": "code",
   "execution_count": 9,
   "metadata": {
    "ExecuteTime": {
     "end_time": "2019-09-12T01:20:52.941341Z",
     "start_time": "2019-09-12T01:20:52.476Z"
    }
   },
   "outputs": [
    {
     "data": {
      "text/plain": [
       "     prosoc_left\n",
       "actor  0  1\n",
       "    1  6  9\n",
       "    2 18 18\n",
       "    3  5 11\n",
       "    4  6  9\n",
       "    5  6 10\n",
       "    6 14 11\n",
       "    7 14 15"
      ]
     },
     "metadata": {},
     "output_type": "display_data"
    },
    {
     "data": {
      "text/plain": [
       "Call: xtabs(formula = pulled_left ~ actor + prosoc_left, data = df, \n",
       "    subset = (condition == 0))\n",
       "Number of cases in table: 152 \n",
       "Number of factors: 2 \n",
       "Test for independence of all factors:\n",
       "\tChisq = 3.585, df = 6, p-value = 0.7326"
      ]
     },
     "metadata": {},
     "output_type": "display_data"
    }
   ],
   "source": [
    "cta = xtabs(pulled_left ~ actor + prosoc_left, df, subset=(condition==0))\n",
    "cta\n",
    "summary(cta)"
   ]
  },
  {
   "cell_type": "markdown",
   "metadata": {},
   "source": [
    "We observe that the chimps will pull the left lever independently of actor and regardless of prosocial option."
   ]
  },
  {
   "cell_type": "markdown",
   "metadata": {},
   "source": [
    "Partner opposite:"
   ]
  },
  {
   "cell_type": "code",
   "execution_count": 10,
   "metadata": {
    "ExecuteTime": {
     "end_time": "2019-09-12T01:20:52.989214Z",
     "start_time": "2019-09-12T01:20:52.487Z"
    }
   },
   "outputs": [
    {
     "data": {
      "text/plain": [
       "Call: xtabs(formula = pulled_left ~ actor + prosoc_left, data = df, \n",
       "    subset = (condition == 1))\n",
       "Number of cases in table: 140 \n",
       "Number of factors: 2 \n",
       "Test for independence of all factors:\n",
       "\tChisq = 4.725, df = 6, p-value = 0.5795\n",
       "\tChi-squared approximation may be incorrect"
      ]
     },
     "metadata": {},
     "output_type": "display_data"
    }
   ],
   "source": [
    "ctb = xtabs(pulled_left ~ actor + prosoc_left, df, subset=(condition==1))\n",
    "summary(ctb)"
   ]
  },
  {
   "cell_type": "markdown",
   "metadata": {},
   "source": [
    "Here, it seems that the left lever being pulled is independent."
   ]
  },
  {
   "cell_type": "markdown",
   "metadata": {},
   "source": [
    "#### Test for independence for prosocial chimps: Side of Prosocial Option + Actor"
   ]
  },
  {
   "cell_type": "code",
   "execution_count": 11,
   "metadata": {
    "ExecuteTime": {
     "end_time": "2019-09-12T01:20:53.041075Z",
     "start_time": "2019-09-12T01:20:52.497Z"
    }
   },
   "outputs": [
    {
     "data": {
      "text/plain": [
       "           actor\n",
       "pulled_left  1  2  3  4  5  6  7\n",
       "          0 13  0 15 16 13  8  1\n",
       "          1 10 18  6  8  9 11 18"
      ]
     },
     "metadata": {},
     "output_type": "display_data"
    },
    {
     "data": {
      "text/plain": [
       "Call: xtabs(formula = is_prosoc ~ pulled_left + actor, data = df, subset = (condition == \n",
       "    1))\n",
       "Number of cases in table: 146 \n",
       "Number of factors: 2 \n",
       "Test for independence of all factors:\n",
       "\tChisq = 40.36, df = 6, p-value = 3.879e-07"
      ]
     },
     "metadata": {},
     "output_type": "display_data"
    }
   ],
   "source": [
    "ctb = xtabs(is_prosoc ~ pulled_left + actor, df, subset=(condition==1))\n",
    "ctb\n",
    "summary(ctb)"
   ]
  },
  {
   "cell_type": "code",
   "execution_count": 12,
   "metadata": {
    "ExecuteTime": {
     "end_time": "2019-09-12T01:20:53.097924Z",
     "start_time": "2019-09-12T01:20:52.499Z"
    }
   },
   "outputs": [
    {
     "data": {
      "text/plain": [
       "           actor\n",
       "prosoc_left  1  2  3  4  5  6  7\n",
       "          0 25  0 28 28 25 12  5\n",
       "          1 19 36 17 17 19 22 33"
      ]
     },
     "metadata": {},
     "output_type": "display_data"
    },
    {
     "data": {
      "text/plain": [
       "Call: xtabs(formula = is_prosoc ~ prosoc_left + actor, data = df)\n",
       "Number of cases in table: 286 \n",
       "Number of factors: 2 \n",
       "Test for independence of all factors:\n",
       "\tChisq = 62.21, df = 6, p-value = 1.599e-11"
      ]
     },
     "metadata": {},
     "output_type": "display_data"
    }
   ],
   "source": [
    "ctb = xtabs(is_prosoc ~ prosoc_left + actor, df)\n",
    "ctb\n",
    "summary(ctb)"
   ]
  },
  {
   "cell_type": "markdown",
   "metadata": {},
   "source": [
    "#### Finding a model for experiments WITH A PARTNER ACROSS"
   ]
  },
  {
   "cell_type": "code",
   "execution_count": 13,
   "metadata": {
    "ExecuteTime": {
     "end_time": "2019-09-12T01:20:53.190674Z",
     "start_time": "2019-09-12T01:20:52.524Z"
    }
   },
   "outputs": [
    {
     "data": {
      "text/plain": [
       "\n",
       "Call:\n",
       "glm(formula = is_prosoc ~ actor + pulled_left + prosoc_left, \n",
       "    family = poisson, data = pair)\n",
       "\n",
       "Deviance Residuals: \n",
       "    Min       1Q   Median       3Q      Max  \n",
       "-1.1975  -0.9892   0.3531   0.5171   0.6935  \n",
       "\n",
       "Coefficients:\n",
       "            Estimate Std. Error z value Pr(>|z|)  \n",
       "(Intercept) -0.56583    0.23835  -2.374   0.0176 *\n",
       "actor2      -0.27321    0.33464  -0.816   0.4143  \n",
       "actor3      -0.08236    0.30390  -0.271   0.7864  \n",
       "actor4       0.04939    0.29315   0.168   0.8662  \n",
       "actor5      -0.04294    0.29828  -0.144   0.8855  \n",
       "actor6      -0.19884    0.31165  -0.638   0.5235  \n",
       "actor7      -0.21791    0.32858  -0.663   0.5072  \n",
       "pulled_left  0.04975    0.20361   0.244   0.8070  \n",
       "prosoc_left  0.18384    0.16996   1.082   0.2794  \n",
       "---\n",
       "Signif. codes:  0 '***' 0.001 '**' 0.01 '*' 0.05 '.' 0.1 ' ' 1\n",
       "\n",
       "(Dispersion parameter for poisson family taken to be 1)\n",
       "\n",
       "    Null deviance: 159.38  on 251  degrees of freedom\n",
       "Residual deviance: 156.50  on 243  degrees of freedom\n",
       "AIC: 466.5\n",
       "\n",
       "Number of Fisher Scoring iterations: 5\n"
      ]
     },
     "metadata": {},
     "output_type": "display_data"
    }
   ],
   "source": [
    "m = glm(is_prosoc ~ actor + pulled_left + prosoc_left, pair, family=poisson)\n",
    "summary(m)"
   ]
  },
  {
   "cell_type": "code",
   "execution_count": 14,
   "metadata": {
    "ExecuteTime": {
     "end_time": "2019-09-12T01:20:53.267469Z",
     "start_time": "2019-09-12T01:20:52.528Z"
    }
   },
   "outputs": [
    {
     "data": {
      "text/plain": [
       "\n",
       "Call:\n",
       "glm(formula = is_prosoc ~ 1, family = poisson, data = pair)\n",
       "\n",
       "Deviance Residuals: \n",
       "    Min       1Q   Median       3Q      Max  \n",
       "-1.0764  -1.0764   0.5004   0.5004   0.5004  \n",
       "\n",
       "Coefficients:\n",
       "            Estimate Std. Error z value Pr(>|z|)    \n",
       "(Intercept) -0.54582    0.08276  -6.595 4.25e-11 ***\n",
       "---\n",
       "Signif. codes:  0 '***' 0.001 '**' 0.01 '*' 0.05 '.' 0.1 ' ' 1\n",
       "\n",
       "(Dispersion parameter for poisson family taken to be 1)\n",
       "\n",
       "    Null deviance: 159.38  on 251  degrees of freedom\n",
       "Residual deviance: 159.38  on 251  degrees of freedom\n",
       "AIC: 453.38\n",
       "\n",
       "Number of Fisher Scoring iterations: 5\n"
      ]
     },
     "metadata": {},
     "output_type": "display_data"
    }
   ],
   "source": [
    "mFinal = step(m, trace=FALSE)\n",
    "summary(mFinal)"
   ]
  },
  {
   "cell_type": "code",
   "execution_count": 61,
   "metadata": {
    "ExecuteTime": {
     "end_time": "2019-09-12T03:08:56.295668Z",
     "start_time": "2019-09-12T03:08:56.241Z"
    }
   },
   "outputs": [
    {
     "data": {
      "text/html": [
       "<ol class=list-inline>\n",
       "\t<li>-0.708030160032371</li>\n",
       "\t<li>-0.383614771572847</li>\n",
       "</ol>\n"
      ],
      "text/latex": [
       "\\begin{enumerate*}\n",
       "\\item -0.708030160032371\n",
       "\\item -0.383614771572847\n",
       "\\end{enumerate*}\n"
      ],
      "text/markdown": [
       "1. -0.708030160032371\n",
       "2. -0.383614771572847\n",
       "\n",
       "\n"
      ],
      "text/plain": [
       "[1] -0.7080302 -0.3836148"
      ]
     },
     "metadata": {},
     "output_type": "display_data"
    }
   ],
   "source": [
    "coefs = summary(mFinal)$coefficients\n",
    "beta.0 = coefs[1]\n",
    "s0 = coefs[1,2]\n",
    "alpha = qnorm(0.975)\n",
    "\n",
    "CI.beta0 = beta.0 + c(-1, 1) * alpha * s0\n",
    "CI.beta0"
   ]
  },
  {
   "cell_type": "code",
   "execution_count": 95,
   "metadata": {
    "ExecuteTime": {
     "end_time": "2019-09-12T03:23:36.403884Z",
     "start_time": "2019-09-12T03:23:36.361Z"
    }
   },
   "outputs": [
    {
     "data": {
      "text/html": [
       "<table>\n",
       "<thead><tr><th scope=col>phi.hat</th></tr></thead>\n",
       "<tbody>\n",
       "\t<tr><td>0.424</td></tr>\n",
       "</tbody>\n",
       "</table>\n"
      ],
      "text/latex": [
       "\\begin{tabular}{l}\n",
       " phi.hat\\\\\n",
       "\\hline\n",
       "\t 0.424\\\\\n",
       "\\end{tabular}\n"
      ],
      "text/markdown": [
       "\n",
       "| phi.hat |\n",
       "|---|\n",
       "| 0.424 |\n",
       "\n"
      ],
      "text/plain": [
       "     phi.hat\n",
       "[1,] 0.424  "
      ]
     },
     "metadata": {},
     "output_type": "display_data"
    }
   ],
   "source": [
    "N = dim(pair)[1]\n",
    "p = 2\n",
    "\n",
    "# phi.hat is the dispersion parameter \n",
    "phi.hat = sum(residuals(mFinal, \"pearson\")^2) / (N - p)\n",
    "cbind(phi.hat)"
   ]
  },
  {
   "cell_type": "code",
   "execution_count": 60,
   "metadata": {
    "ExecuteTime": {
     "end_time": "2019-09-12T02:50:51.194115Z",
     "start_time": "2019-09-12T02:50:51.153Z"
    }
   },
   "outputs": [
    {
     "data": {
      "text/plain": [
       "Number of cases in table: 252 \n",
       "Number of factors: 2 \n",
       "Test for independence of all factors:\n",
       "\tChisq = 3.517, df = 6, p-value = 0.7417"
      ]
     },
     "metadata": {},
     "output_type": "display_data"
    }
   ],
   "source": [
    "summary(table(pair$is_prosoc, pair$actor))"
   ]
  },
  {
   "cell_type": "markdown",
   "metadata": {},
   "source": [
    "#### Including all the data..."
   ]
  },
  {
   "cell_type": "code",
   "execution_count": 81,
   "metadata": {
    "ExecuteTime": {
     "end_time": "2019-09-12T03:12:45.401546Z",
     "start_time": "2019-09-12T03:12:45.351Z"
    }
   },
   "outputs": [
    {
     "data": {
      "text/plain": [
       "\n",
       "Call:\n",
       "glm(formula = is_prosoc ~ actor + pulled_left + prosoc_left + \n",
       "    condition, family = poisson, data = df)\n",
       "\n",
       "Deviance Residuals: \n",
       "    Min       1Q   Median       3Q      Max  \n",
       "-1.2025  -1.0192   0.3327   0.5486   0.8062  \n",
       "\n",
       "Coefficients:\n",
       "              Estimate Std. Error z value Pr(>|z|)    \n",
       "(Intercept) -6.699e-01  1.836e-01  -3.648 0.000264 ***\n",
       "actor2      -2.091e-01  2.379e-01  -0.879 0.379547    \n",
       "actor3       2.351e-02  2.122e-01   0.111 0.911795    \n",
       "actor4       2.350e-02  2.122e-01   0.111 0.911840    \n",
       "actor5       1.002e-05  2.132e-01   0.000 0.999962    \n",
       "actor6      -2.608e-01  2.300e-01  -1.134 0.256862    \n",
       "actor7      -1.534e-01  2.304e-01  -0.666 0.505478    \n",
       "pulled_left  1.483e-02  1.384e-01   0.107 0.914668    \n",
       "prosoc_left  2.794e-01  1.212e-01   2.305 0.021163 *  \n",
       "condition    4.269e-02  1.185e-01   0.360 0.718592    \n",
       "---\n",
       "Signif. codes:  0 '***' 0.001 '**' 0.01 '*' 0.05 '.' 0.1 ' ' 1\n",
       "\n",
       "(Dispersion parameter for poisson family taken to be 1)\n",
       "\n",
       "    Null deviance: 324.09  on 503  degrees of freedom\n",
       "Residual deviance: 315.02  on 494  degrees of freedom\n",
       "AIC: 907.02\n",
       "\n",
       "Number of Fisher Scoring iterations: 5\n"
      ]
     },
     "metadata": {},
     "output_type": "display_data"
    }
   ],
   "source": [
    "test = glm(is_prosoc ~ actor + pulled_left + prosoc_left + condition, df, family=poisson)\n",
    "summary(test)"
   ]
  },
  {
   "cell_type": "code",
   "execution_count": 82,
   "metadata": {
    "ExecuteTime": {
     "end_time": "2019-09-12T03:12:45.827275Z",
     "start_time": "2019-09-12T03:12:45.729Z"
    }
   },
   "outputs": [
    {
     "data": {
      "text/plain": [
       "\n",
       "Call:\n",
       "glm(formula = is_prosoc ~ prosoc_left, family = poisson, data = df)\n",
       "\n",
       "Deviance Residuals: \n",
       "    Min       1Q   Median       3Q      Max  \n",
       "-1.1374  -0.9880   0.4062   0.4062   0.6408  \n",
       "\n",
       "Coefficients:\n",
       "            Estimate Std. Error z value Pr(>|z|)    \n",
       "(Intercept) -0.71724    0.09017  -7.955  1.8e-15 ***\n",
       "prosoc_left  0.28157    0.11944   2.357   0.0184 *  \n",
       "---\n",
       "Signif. codes:  0 '***' 0.001 '**' 0.01 '*' 0.05 '.' 0.1 ' ' 1\n",
       "\n",
       "(Dispersion parameter for poisson family taken to be 1)\n",
       "\n",
       "    Null deviance: 324.09  on 503  degrees of freedom\n",
       "Residual deviance: 318.47  on 502  degrees of freedom\n",
       "AIC: 894.47\n",
       "\n",
       "Number of Fisher Scoring iterations: 5\n"
      ]
     },
     "metadata": {},
     "output_type": "display_data"
    }
   ],
   "source": [
    "testStep = step(test, trace=FALSE)\n",
    "summary(testStep)"
   ]
  },
  {
   "cell_type": "code",
   "execution_count": 84,
   "metadata": {
    "ExecuteTime": {
     "end_time": "2019-09-12T03:13:23.811366Z",
     "start_time": "2019-09-12T03:13:23.763Z"
    }
   },
   "outputs": [
    {
     "data": {
      "text/html": [
       "0.435765652384063"
      ],
      "text/latex": [
       "0.435765652384063"
      ],
      "text/markdown": [
       "0.435765652384063"
      ],
      "text/plain": [
       "[1] 0.4357657"
      ]
     },
     "metadata": {},
     "output_type": "display_data"
    }
   ],
   "source": [
    "N2 = length(df$actor)\n",
    "p2 = length(test$coef)\n",
    "\n",
    "# phi.hat is the dispersion parameter \n",
    "phi.hat2 = sum(residuals(test, \"pearson\")^2) / (N2 - p2)\n",
    "phi.hat2"
   ]
  },
  {
   "cell_type": "markdown",
   "metadata": {},
   "source": [
    "#### Testing for independence between actors pulling the left lever when they are by themselves (control). "
   ]
  },
  {
   "cell_type": "code",
   "execution_count": 25,
   "metadata": {
    "ExecuteTime": {
     "end_time": "2019-09-12T02:20:40.794912Z",
     "start_time": "2019-09-12T02:20:40.725Z"
    }
   },
   "outputs": [
    {
     "data": {
      "text/plain": [
       "\n",
       "Call:\n",
       "glm(formula = pulled_left ~ actor, family = poisson, data = single)\n",
       "\n",
       "Deviance Residuals: \n",
       "    Min       1Q   Median       3Q      Max  \n",
       "-1.2693  -0.9129   0.0000   0.3438   0.7644  \n",
       "\n",
       "Coefficients:\n",
       "              Estimate Std. Error z value Pr(>|z|)    \n",
       "(Intercept) -8.755e-01  2.582e-01  -3.391 0.000697 ***\n",
       "actor2       8.755e-01  3.073e-01   2.849 0.004389 ** \n",
       "actor3       6.454e-02  3.594e-01   0.180 0.857486    \n",
       "actor4       4.023e-16  3.651e-01   0.000 1.000000    \n",
       "actor5       6.454e-02  3.594e-01   0.180 0.857486    \n",
       "actor6       5.108e-01  3.266e-01   1.564 0.117797    \n",
       "actor7       6.592e-01  3.180e-01   2.073 0.038186 *  \n",
       "---\n",
       "Signif. codes:  0 '***' 0.001 '**' 0.01 '*' 0.05 '.' 0.1 ' ' 1\n",
       "\n",
       "(Dispersion parameter for poisson family taken to be 1)\n",
       "\n",
       "    Null deviance: 153.69  on 251  degrees of freedom\n",
       "Residual deviance: 135.20  on 245  degrees of freedom\n",
       "AIC: 453.2\n",
       "\n",
       "Number of Fisher Scoring iterations: 5\n"
      ]
     },
     "metadata": {},
     "output_type": "display_data"
    }
   ],
   "source": [
    "m2 = glm(pulled_left ~ actor, single, family=poisson)\n",
    "summary(m2)"
   ]
  },
  {
   "cell_type": "code",
   "execution_count": 26,
   "metadata": {
    "ExecuteTime": {
     "end_time": "2019-09-12T02:20:41.655611Z",
     "start_time": "2019-09-12T02:20:41.575Z"
    }
   },
   "outputs": [
    {
     "data": {
      "text/plain": [
       "\n",
       "Call:\n",
       "glm(formula = pulled_left ~ actor, family = poisson, data = single)\n",
       "\n",
       "Deviance Residuals: \n",
       "    Min       1Q   Median       3Q      Max  \n",
       "-1.2693  -0.9129   0.0000   0.3438   0.7644  \n",
       "\n",
       "Coefficients:\n",
       "              Estimate Std. Error z value Pr(>|z|)    \n",
       "(Intercept) -8.755e-01  2.582e-01  -3.391 0.000697 ***\n",
       "actor2       8.755e-01  3.073e-01   2.849 0.004389 ** \n",
       "actor3       6.454e-02  3.594e-01   0.180 0.857486    \n",
       "actor4       4.023e-16  3.651e-01   0.000 1.000000    \n",
       "actor5       6.454e-02  3.594e-01   0.180 0.857486    \n",
       "actor6       5.108e-01  3.266e-01   1.564 0.117797    \n",
       "actor7       6.592e-01  3.180e-01   2.073 0.038186 *  \n",
       "---\n",
       "Signif. codes:  0 '***' 0.001 '**' 0.01 '*' 0.05 '.' 0.1 ' ' 1\n",
       "\n",
       "(Dispersion parameter for poisson family taken to be 1)\n",
       "\n",
       "    Null deviance: 153.69  on 251  degrees of freedom\n",
       "Residual deviance: 135.20  on 245  degrees of freedom\n",
       "AIC: 453.2\n",
       "\n",
       "Number of Fisher Scoring iterations: 5\n"
      ]
     },
     "metadata": {},
     "output_type": "display_data"
    }
   ],
   "source": [
    "m2Final = step(m2, trace=FALSE)\n",
    "summary(m2Final)"
   ]
  },
  {
   "cell_type": "markdown",
   "metadata": {},
   "source": [
    "### So can we determine if `pulled_left` given attributes?"
   ]
  },
  {
   "cell_type": "code",
   "execution_count": 19,
   "metadata": {
    "ExecuteTime": {
     "end_time": "2019-09-12T01:20:53.614059Z",
     "start_time": "2019-09-12T01:20:52.561Z"
    }
   },
   "outputs": [
    {
     "data": {
      "text/plain": [
       "\n",
       "Call:\n",
       "glm(formula = pulled_left ~ actor + condition + prosoc_left, \n",
       "    family = poisson, data = df)\n",
       "\n",
       "Deviance Residuals: \n",
       "     Min        1Q    Median        3Q       Max  \n",
       "-1.43748  -0.86223  -0.03281   0.48835   1.01758  \n",
       "\n",
       "Coefficients:\n",
       "              Estimate Std. Error z value Pr(>|z|)    \n",
       "(Intercept) -9.590e-01  2.020e-01  -4.747 2.07e-06 ***\n",
       "actor2       8.755e-01  2.173e-01   4.029 5.61e-05 ***\n",
       "actor3      -1.823e-01  2.708e-01  -0.673 0.500772    \n",
       "actor4      -1.823e-01  2.708e-01  -0.673 0.500772    \n",
       "actor5      -5.232e-12  2.582e-01   0.000 1.000000    \n",
       "actor6       4.274e-01  2.347e-01   1.821 0.068541 .  \n",
       "actor7       7.577e-01  2.213e-01   3.424 0.000616 ***\n",
       "condition   -8.224e-02  1.171e-01  -0.702 0.482647    \n",
       "prosoc_left  2.339e-01  1.178e-01   1.985 0.047125 *  \n",
       "---\n",
       "Signif. codes:  0 '***' 0.001 '**' 0.01 '*' 0.05 '.' 0.1 ' ' 1\n",
       "\n",
       "(Dispersion parameter for poisson family taken to be 1)\n",
       "\n",
       "    Null deviance: 318.76  on 503  degrees of freedom\n",
       "Residual deviance: 262.67  on 495  degrees of freedom\n",
       "AIC: 864.67\n",
       "\n",
       "Number of Fisher Scoring iterations: 5\n"
      ]
     },
     "metadata": {},
     "output_type": "display_data"
    }
   ],
   "source": [
    "t = glm(pulled_left ~ actor + condition + prosoc_left, df, family=poisson)\n",
    "summary(t)"
   ]
  },
  {
   "cell_type": "code",
   "execution_count": 20,
   "metadata": {
    "ExecuteTime": {
     "end_time": "2019-09-12T01:20:53.698831Z",
     "start_time": "2019-09-12T01:20:52.564Z"
    }
   },
   "outputs": [
    {
     "data": {
      "text/plain": [
       "\n",
       "Call:\n",
       "glm(formula = pulled_left ~ actor + prosoc_left, family = poisson, \n",
       "    data = df)\n",
       "\n",
       "Deviance Residuals: \n",
       "     Min        1Q    Median        3Q       Max  \n",
       "-1.40882  -0.85808   0.00763   0.52214   0.98831  \n",
       "\n",
       "Coefficients:\n",
       "              Estimate Std. Error z value Pr(>|z|)    \n",
       "(Intercept) -9.993e-01  1.941e-01  -5.149 2.62e-07 ***\n",
       "actor2       8.755e-01  2.173e-01   4.029 5.61e-05 ***\n",
       "actor3      -1.823e-01  2.708e-01  -0.673 0.500772    \n",
       "actor4      -1.823e-01  2.708e-01  -0.673 0.500772    \n",
       "actor5       2.457e-16  2.582e-01   0.000 1.000000    \n",
       "actor6       4.274e-01  2.347e-01   1.821 0.068541 .  \n",
       "actor7       7.577e-01  2.213e-01   3.424 0.000616 ***\n",
       "prosoc_left  2.339e-01  1.178e-01   1.985 0.047125 *  \n",
       "---\n",
       "Signif. codes:  0 '***' 0.001 '**' 0.01 '*' 0.05 '.' 0.1 ' ' 1\n",
       "\n",
       "(Dispersion parameter for poisson family taken to be 1)\n",
       "\n",
       "    Null deviance: 318.76  on 503  degrees of freedom\n",
       "Residual deviance: 263.16  on 496  degrees of freedom\n",
       "AIC: 863.16\n",
       "\n",
       "Number of Fisher Scoring iterations: 5\n"
      ]
     },
     "metadata": {},
     "output_type": "display_data"
    }
   ],
   "source": [
    "tstep = step(t, trace=FALSE)\n",
    "summary(tstep)"
   ]
  },
  {
   "cell_type": "markdown",
   "metadata": {},
   "source": [
    "Now, it seems we can determine if a chimp pulled left given the ID of chimp AND the side of the prosocial option."
   ]
  },
  {
   "cell_type": "markdown",
   "metadata": {},
   "source": [
    "# Realistic Predictors???"
   ]
  },
  {
   "cell_type": "code",
   "execution_count": 21,
   "metadata": {
    "ExecuteTime": {
     "end_time": "2019-09-12T01:20:53.845439Z",
     "start_time": "2019-09-12T01:20:52.577Z"
    }
   },
   "outputs": [
    {
     "data": {
      "text/plain": [
       "\n",
       "Call:\n",
       "glm(formula = is_prosoc ~ actor + condition + prosoc_left, family = poisson, \n",
       "    data = df)\n",
       "\n",
       "Deviance Residuals: \n",
       "    Min       1Q   Median       3Q      Max  \n",
       "-1.2061  -1.0145   0.3399   0.5455   0.7998  \n",
       "\n",
       "Coefficients:\n",
       "              Estimate Std. Error z value Pr(>|z|)    \n",
       "(Intercept) -6.643e-01  1.761e-01  -3.773 0.000161 ***\n",
       "actor2      -2.007e-01  2.247e-01  -0.893 0.371895    \n",
       "actor3       2.247e-02  2.120e-01   0.106 0.915584    \n",
       "actor4       2.247e-02  2.120e-01   0.106 0.915584    \n",
       "actor5       1.078e-14  2.132e-01   0.000 1.000000    \n",
       "actor6      -2.578e-01  2.283e-01  -1.129 0.258835    \n",
       "actor7      -1.466e-01  2.215e-01  -0.662 0.507973    \n",
       "condition    4.196e-02  1.183e-01   0.355 0.722768    \n",
       "prosoc_left  2.816e-01  1.194e-01   2.357 0.018401 *  \n",
       "---\n",
       "Signif. codes:  0 '***' 0.001 '**' 0.01 '*' 0.05 '.' 0.1 ' ' 1\n",
       "\n",
       "(Dispersion parameter for poisson family taken to be 1)\n",
       "\n",
       "    Null deviance: 324.09  on 503  degrees of freedom\n",
       "Residual deviance: 315.04  on 495  degrees of freedom\n",
       "AIC: 905.04\n",
       "\n",
       "Number of Fisher Scoring iterations: 5\n"
      ]
     },
     "metadata": {},
     "output_type": "display_data"
    },
    {
     "data": {
      "text/plain": [
       "\n",
       "Call:\n",
       "glm(formula = is_prosoc ~ prosoc_left, family = poisson, data = df)\n",
       "\n",
       "Deviance Residuals: \n",
       "    Min       1Q   Median       3Q      Max  \n",
       "-1.1374  -0.9880   0.4062   0.4062   0.6408  \n",
       "\n",
       "Coefficients:\n",
       "            Estimate Std. Error z value Pr(>|z|)    \n",
       "(Intercept) -0.71724    0.09017  -7.955  1.8e-15 ***\n",
       "prosoc_left  0.28157    0.11944   2.357   0.0184 *  \n",
       "---\n",
       "Signif. codes:  0 '***' 0.001 '**' 0.01 '*' 0.05 '.' 0.1 ' ' 1\n",
       "\n",
       "(Dispersion parameter for poisson family taken to be 1)\n",
       "\n",
       "    Null deviance: 324.09  on 503  degrees of freedom\n",
       "Residual deviance: 318.47  on 502  degrees of freedom\n",
       "AIC: 894.47\n",
       "\n",
       "Number of Fisher Scoring iterations: 5\n"
      ]
     },
     "metadata": {},
     "output_type": "display_data"
    }
   ],
   "source": [
    "t2 = glm(is_prosoc ~ actor + condition + prosoc_left, df, family=poisson)\n",
    "summary(t2)\n",
    "t2step = step(t2, trace=FALSE)\n",
    "summary(t2step)"
   ]
  },
  {
   "cell_type": "markdown",
   "metadata": {},
   "source": []
  },
  {
   "cell_type": "code",
   "execution_count": null,
   "metadata": {},
   "outputs": [],
   "source": []
  },
  {
   "cell_type": "code",
   "execution_count": 22,
   "metadata": {
    "ExecuteTime": {
     "end_time": "2019-09-12T01:20:54.068420Z",
     "start_time": "2019-09-12T01:20:52.586Z"
    },
    "scrolled": false
   },
   "outputs": [
    {
     "data": {
      "text/plain": [
       "\n",
       "Call:\n",
       "glm(formula = is_prosoc ~ actor * condition * prosoc_left, family = poisson, \n",
       "    data = df)\n",
       "\n",
       "Deviance Residuals: \n",
       "    Min       1Q   Median       3Q      Max  \n",
       "-1.3333  -0.8165   0.0000   0.3798   1.9728  \n",
       "\n",
       "Coefficients:\n",
       "                               Estimate Std. Error z value Pr(>|z|)  \n",
       "(Intercept)                  -4.055e-01  2.887e-01  -1.405   0.1601  \n",
       "actor2                       -1.790e+01  1.348e+03  -0.013   0.9894  \n",
       "actor3                        8.004e-02  4.003e-01   0.200   0.8415  \n",
       "actor4                        5.268e-16  4.082e-01   0.000   1.0000  \n",
       "actor5                        8.256e-16  4.082e-01   0.000   1.0000  \n",
       "actor6                       -1.099e+00  5.774e-01  -1.903   0.0571 .\n",
       "actor7                       -1.099e+00  5.774e-01  -1.903   0.0571 .\n",
       "condition                     8.004e-02  4.003e-01   0.200   0.8415  \n",
       "prosoc_left                  -2.877e-01  4.410e-01  -0.652   0.5141  \n",
       "actor2:condition             -8.004e-02  1.906e+03   0.000   1.0000  \n",
       "actor3:condition              6.306e-02  5.512e-01   0.114   0.9089  \n",
       "actor4:condition              2.076e-01  5.533e-01   0.375   0.7074  \n",
       "actor5:condition             -1.495e-15  5.661e-01   0.000   1.0000  \n",
       "actor6:condition              6.131e-01  7.316e-01   0.838   0.4020  \n",
       "actor7:condition             -1.466e+00  1.188e+00  -1.235   0.2169  \n",
       "actor2:prosoc_left            1.859e+01  1.348e+03   0.014   0.9890  \n",
       "actor3:prosoc_left            1.206e-01  6.019e-01   0.200   0.8412  \n",
       "actor4:prosoc_left           -2.999e-16  6.236e-01   0.000   1.0000  \n",
       "actor5:prosoc_left            1.054e-01  6.146e-01   0.171   0.8639  \n",
       "actor6:prosoc_left            1.299e+00  7.317e-01   1.776   0.0758 .\n",
       "actor7:prosoc_left            1.609e+00  7.149e-01   2.251   0.0244 *\n",
       "condition:prosoc_left         2.532e-02  6.094e-01   0.042   0.9669  \n",
       "actor2:condition:prosoc_left -2.532e-02  1.906e+03   0.000   1.0000  \n",
       "actor3:condition:prosoc_left -7.746e-01  8.789e-01  -0.881   0.3782  \n",
       "actor4:condition:prosoc_left -4.308e-01  8.679e-01  -0.496   0.6197  \n",
       "actor5:condition:prosoc_left -2.107e-01  8.618e-01  -0.245   0.8068  \n",
       "actor6:condition:prosoc_left -7.185e-01  9.634e-01  -0.746   0.4558  \n",
       "actor7:condition:prosoc_left  1.543e+00  1.320e+00   1.169   0.2425  \n",
       "---\n",
       "Signif. codes:  0 '***' 0.001 '**' 0.01 '*' 0.05 '.' 0.1 ' ' 1\n",
       "\n",
       "(Dispersion parameter for poisson family taken to be 1)\n",
       "\n",
       "    Null deviance: 324.09  on 503  degrees of freedom\n",
       "Residual deviance: 231.71  on 476  degrees of freedom\n",
       "AIC: 859.71\n",
       "\n",
       "Number of Fisher Scoring iterations: 16\n"
      ]
     },
     "metadata": {},
     "output_type": "display_data"
    },
    {
     "data": {
      "text/plain": [
       "\n",
       "Call:\n",
       "glm(formula = is_prosoc ~ actor + prosoc_left + actor:prosoc_left, \n",
       "    family = poisson, data = df)\n",
       "\n",
       "Deviance Residuals: \n",
       "    Min       1Q   Median       3Q      Max  \n",
       "-1.3540  -0.9718   0.0000   0.3438   1.4920  \n",
       "\n",
       "Coefficients:\n",
       "                     Estimate Std. Error z value Pr(>|z|)    \n",
       "(Intercept)        -3.646e-01  2.000e-01  -1.823 0.068271 .  \n",
       "actor2             -1.794e+01  9.529e+02  -0.019 0.984981    \n",
       "actor3              1.133e-01  2.752e-01   0.412 0.680441    \n",
       "actor4              1.133e-01  2.752e-01   0.412 0.680441    \n",
       "actor5              7.863e-16  2.828e-01   0.000 1.000000    \n",
       "actor6             -7.340e-01  3.512e-01  -2.090 0.036622 *  \n",
       "actor7             -1.609e+00  4.899e-01  -3.285 0.001019 ** \n",
       "prosoc_left        -2.744e-01  3.044e-01  -0.902 0.367215    \n",
       "actor2:prosoc_left  1.858e+01  9.529e+02   0.019 0.984446    \n",
       "actor3:prosoc_left -2.246e-01  4.326e-01  -0.519 0.603730    \n",
       "actor4:prosoc_left -2.246e-01  4.326e-01  -0.519 0.603730    \n",
       "actor5:prosoc_left -3.279e-16  4.304e-01   0.000 1.000000    \n",
       "actor6:prosoc_left  8.806e-01  4.706e-01   1.871 0.061295 .  \n",
       "actor7:prosoc_left  2.162e+00  5.683e-01   3.804 0.000143 ***\n",
       "---\n",
       "Signif. codes:  0 '***' 0.001 '**' 0.01 '*' 0.05 '.' 0.1 ' ' 1\n",
       "\n",
       "(Dispersion parameter for poisson family taken to be 1)\n",
       "\n",
       "    Null deviance: 324.09  on 503  degrees of freedom\n",
       "Residual deviance: 237.72  on 490  degrees of freedom\n",
       "AIC: 837.72\n",
       "\n",
       "Number of Fisher Scoring iterations: 16\n"
      ]
     },
     "metadata": {},
     "output_type": "display_data"
    }
   ],
   "source": [
    "t3 = glm(is_prosoc ~ actor * condition * prosoc_left, df, family=poisson)\n",
    "summary(t3)\n",
    "summary(step(t3,trace=FALSE))"
   ]
  },
  {
   "cell_type": "code",
   "execution_count": null,
   "metadata": {},
   "outputs": [],
   "source": []
  }
 ],
 "metadata": {
  "kernelspec": {
   "display_name": "R",
   "language": "R",
   "name": "ir"
  },
  "language_info": {
   "codemirror_mode": "r",
   "file_extension": ".r",
   "mimetype": "text/x-r-source",
   "name": "R",
   "pygments_lexer": "r",
   "version": "3.6.1"
  },
  "latex_envs": {
   "LaTeX_envs_menu_present": true,
   "autoclose": true,
   "autocomplete": true,
   "bibliofile": "biblio.bib",
   "cite_by": "apalike",
   "current_citInitial": 1,
   "eqLabelWithNumbers": true,
   "eqNumInitial": 1,
   "hotkeys": {
    "equation": "Ctrl-E",
    "itemize": "Ctrl-I"
   },
   "labels_anchors": false,
   "latex_user_defs": false,
   "report_style_numbering": false,
   "user_envs_cfg": false
  }
 },
 "nbformat": 4,
 "nbformat_minor": 2
}
