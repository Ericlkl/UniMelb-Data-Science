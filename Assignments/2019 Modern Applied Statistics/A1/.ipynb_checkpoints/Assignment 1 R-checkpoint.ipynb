{
 "cells": [
  {
   "cell_type": "markdown",
   "metadata": {},
   "source": [
    "# Question 1 a)"
   ]
  },
  {
   "cell_type": "markdown",
   "metadata": {},
   "source": [
    "#### Estimation for $\\hat{\\beta}$ using log-likelihood.\n",
    "\n",
    "\\begin{align*}\n",
    "    \\ell(\\beta) &= \\sum^N_{i=1}y_i\\textrm{log}\\bigg(\\frac{p_i}{1-p_i}\\bigg) + m_i\\textrm{log}(1-p_i) \\\\\n",
    "    &= \\sum^N_{i=1}y_i\\textrm{log}(p) + (m_i - y_i)\\textrm{log}(1 - p)\n",
    "\\end{align*}"
   ]
  },
  {
   "cell_type": "code",
   "execution_count": 24,
   "metadata": {
    "ExecuteTime": {
     "end_time": "2019-08-21T00:21:23.067377Z",
     "start_time": "2019-08-21T00:21:22.985Z"
    }
   },
   "outputs": [],
   "source": [
    "library(faraway)\n",
    "data(orings)\n",
    "\n",
    "N = 6\n",
    "INITIAL_PARAMS = c(10, -0.05)"
   ]
  },
  {
   "cell_type": "code",
   "execution_count": 9,
   "metadata": {
    "ExecuteTime": {
     "end_time": "2019-08-23T01:35:22.869425Z",
     "start_time": "2019-08-23T01:35:22.831Z"
    }
   },
   "outputs": [],
   "source": [
    "F = function(eta) pnorm(eta)\n",
    "f = function(eta) dnorm(eta)\n",
    "iprobit = function(p) qnorm(p)"
   ]
  },
  {
   "cell_type": "code",
   "execution_count": 5,
   "metadata": {
    "ExecuteTime": {
     "end_time": "2019-08-21T00:04:24.270489Z",
     "start_time": "2019-08-21T00:04:22.845Z"
    }
   },
   "outputs": [],
   "source": [
    "logL = function(beta, data) {\n",
    "    n = 6\n",
    "    y = data$damage\n",
    "    eta = cbind(1, data$temp) %*% beta\n",
    "    p = probit(eta)\n",
    "    return(sum(y * log(p) + (n - y)* log(1 - p)))\n",
    "}\n",
    "\n",
    "beta.hat = optim(INITIAL_PARAMS, logL, data=orings, control=list(fnscale=-1))$par\n",
    "beta0 = beta.hat[1]\n",
    "beta1 = beta.hat[2]"
   ]
  },
  {
   "cell_type": "markdown",
   "metadata": {},
   "source": [
    "#### Answer to Q1 a)"
   ]
  },
  {
   "cell_type": "code",
   "execution_count": 6,
   "metadata": {
    "ExecuteTime": {
     "end_time": "2019-08-21T00:04:24.310432Z",
     "start_time": "2019-08-21T00:04:22.854Z"
    }
   },
   "outputs": [
    {
     "data": {
      "text/html": [
       "<table>\n",
       "<thead><tr><th scope=col>beta0</th><th scope=col>beta1</th></tr></thead>\n",
       "<tbody>\n",
       "\t<tr><td>5.597882  </td><td>-0.1059069</td></tr>\n",
       "</tbody>\n",
       "</table>\n"
      ],
      "text/latex": [
       "\\begin{tabular}{ll}\n",
       " beta0 & beta1\\\\\n",
       "\\hline\n",
       "\t 5.597882   & -0.1059069\\\\\n",
       "\\end{tabular}\n"
      ],
      "text/markdown": [
       "\n",
       "| beta0 | beta1 |\n",
       "|---|---|\n",
       "| 5.597882   | -0.1059069 |\n",
       "\n"
      ],
      "text/plain": [
       "     beta0    beta1     \n",
       "[1,] 5.597882 -0.1059069"
      ]
     },
     "metadata": {},
     "output_type": "display_data"
    }
   ],
   "source": [
    "cbind(beta0, beta1)"
   ]
  },
  {
   "cell_type": "markdown",
   "metadata": {},
   "source": [
    "# Question 1b)"
   ]
  },
  {
   "cell_type": "markdown",
   "metadata": {},
   "source": [
    "#### Fisher Information Matrix\n",
    "\n",
    "Let $\\eta_i = x_i^T\\beta = \\beta_0 + \\beta_1x_i$, where $\\beta$ is the parameter vector and $x_i$ is a vector of observed variables.\n",
    "\n",
    "Probit function is defined as the Standard Normal CDF $p = F(\\eta)$, and we take note of the some properties of the Standard Normal CDF:\n",
    "\n",
    "\\begin{align*}\n",
    "    & F(-x) = 1 - F(x) \\\\\n",
    "    & F'(x) = f(x) \\\\\n",
    "    & f'(x) = -xf(x).\n",
    "\\end{align*}\n",
    "\n",
    "The Score Vector (first derivative) is:\n",
    "\\begin{align*}\n",
    "    U(\\eta_i) &= \\frac{\\partial\\ell(\\beta_0,\\beta_1)}{\\partial\\eta_i} \\\\\n",
    "    &= \\sum^N_{i=1}\\bigg[y_i\\frac{f(\\eta_i)}{F(\\eta_i)} + y_i\\frac{f(\\eta_i)}{1 - F(\\eta_i)} - m_i\\frac{f(\\eta_i)}{1 - F(\\eta_i)}\\bigg]\\eta_i' \\\\\n",
    "    &= \\sum^N_{i=1}\\bigg[y_i\\frac{f(\\eta_i)}{F(\\eta_i)} - (m_i - y_i)\\frac{f(\\eta_i)}{1 - F(\\eta_i)}\\bigg]\\eta_i',\n",
    "\\end{align*}\n",
    "\n",
    "The Fisher Information (second derivative using quotient rule) is:\n",
    "\\begin{align*}\n",
    "    I(\\eta_i) &= -\\frac{\\partial U(\\eta_i)}{\\partial\\eta_i} \\\\\n",
    "    &= -\\sum^N_{i=1}\\bigg[y_i\\frac{f(\\eta)f(\\eta) + \\eta f(\\eta)F(\\eta)}{F(\\eta)^2} - (m_i - y_i)\\frac{-f(\\eta)f(\\eta)-\\eta f(\\eta)[1 - F(\\eta)]}{[1 - F(\\eta)]^2}\\bigg]\\eta_i'\\eta_i'^T\n",
    "\\end{align*}\n",
    "\n",
    "We also have,\n",
    "\\begin{align*}\n",
    "    \\frac{\\partial\\eta_i}{\\partial\\beta_0} &= 1 \\\\\n",
    "    \\frac{\\partial\\eta_i}{\\partial\\beta_1} &= x_i,\n",
    "\\end{align*}\n",
    "\n",
    "where,\n",
    "\\begin{align*}\n",
    "    \\eta_i'\\eta_i'^T = X_iX_i^T.\n",
    "\\end{align*}\n",
    "\n",
    "Substitute $\\hat{\\eta}$ and $\\hat{p} = E[y_i]$,\n",
    "\\begin{equation}\n",
    "    I(\\hat{\\eta}) = -\\sum^N_{i=1}\\bigg[6\\hat{p}\\frac{f(\\hat{\\eta})f(\\hat{\\eta}) + \\eta f(\\hat{\\eta})F(\\hat{\\eta})}{F(\\hat{\\eta})^2} - (m_i - 6\\hat{p})\\frac{-f(\\hat{\\eta})f(\\hat{\\eta})-\\hat{\\eta} f(\\hat{\\eta})[1 - F(\\hat{\\eta})]}{[1 - F(\\hat{\\eta})]^2}\\bigg]X_iX_i^T\n",
    "\\end{equation}"
   ]
  },
  {
   "cell_type": "code",
   "execution_count": 7,
   "metadata": {
    "ExecuteTime": {
     "end_time": "2019-08-21T00:04:24.350379Z",
     "start_time": "2019-08-21T00:04:22.874Z"
    }
   },
   "outputs": [],
   "source": [
    "X = cbind(1, orings$temp)\n",
    "x = orings$temp\n",
    "y = orings$damage\n",
    "eta = X %*% beta.hat\n",
    "\n",
    "f.dash = function(eta) {\n",
    "    constants = -eta / sqrt(2 * pi)\n",
    "    exponential = (-eta^2)/2\n",
    "    return(constants * exp(exponential))\n",
    "}"
   ]
  },
  {
   "cell_type": "code",
   "execution_count": 8,
   "metadata": {
    "ExecuteTime": {
     "end_time": "2019-08-21T00:04:24.402315Z",
     "start_time": "2019-08-21T00:04:22.876Z"
    }
   },
   "outputs": [],
   "source": [
    "LEFT = (f.dash(eta) * F(eta) - f(eta)^2) / (F(eta)^2)\n",
    "RIGHT = (f.dash(eta) * (1 - F(eta)) + f(eta)^2) / (1 - F(eta))^2\n",
    "\n",
    "I11 = (N * F(eta) * LEFT) + (N * F(eta) - N) * RIGHT\n",
    "I12 = I21 = x %*% I11\n",
    "I22 = x^2 %*% I11\n",
    "\n",
    "I = -matrix(c(sum(I11), sum(I21), sum(I12), sum(I22)), 2, 2)"
   ]
  },
  {
   "cell_type": "code",
   "execution_count": 9,
   "metadata": {
    "ExecuteTime": {
     "end_time": "2019-08-21T00:04:24.442257Z",
     "start_time": "2019-08-21T00:04:22.879Z"
    }
   },
   "outputs": [
    {
     "data": {
      "text/html": [
       "<table>\n",
       "<tbody>\n",
       "\t<tr><td>  30.16329</td><td>  1931.384</td></tr>\n",
       "\t<tr><td>1931.38421</td><td>125084.505</td></tr>\n",
       "</tbody>\n",
       "</table>\n"
      ],
      "text/latex": [
       "\\begin{tabular}{ll}\n",
       "\t   30.16329 &   1931.384\\\\\n",
       "\t 1931.38421 & 125084.505\\\\\n",
       "\\end{tabular}\n"
      ],
      "text/markdown": [
       "\n",
       "|   30.16329 |   1931.384 |\n",
       "| 1931.38421 | 125084.505 |\n",
       "\n"
      ],
      "text/plain": [
       "     [,1]       [,2]      \n",
       "[1,]   30.16329   1931.384\n",
       "[2,] 1931.38421 125084.505"
      ]
     },
     "metadata": {},
     "output_type": "display_data"
    }
   ],
   "source": [
    "I"
   ]
  },
  {
   "cell_type": "code",
   "execution_count": 10,
   "metadata": {
    "ExecuteTime": {
     "end_time": "2019-08-21T00:04:24.482201Z",
     "start_time": "2019-08-21T00:04:22.881Z"
    }
   },
   "outputs": [],
   "source": [
    "Iinv = solve(I)\n",
    "\n",
    "beta0.error = sqrt(Iinv[1,1])\n",
    "beta1.error = sqrt(Iinv[2,2])"
   ]
  },
  {
   "cell_type": "code",
   "execution_count": 11,
   "metadata": {
    "ExecuteTime": {
     "end_time": "2019-08-21T00:04:24.530141Z",
     "start_time": "2019-08-21T00:04:22.883Z"
    }
   },
   "outputs": [
    {
     "data": {
      "text/html": [
       "<table>\n",
       "<tbody>\n",
       "\t<tr><td> 2.92831155  </td><td>-0.0452149904</td></tr>\n",
       "\t<tr><td>-0.04521499  </td><td> 0.0007061428</td></tr>\n",
       "</tbody>\n",
       "</table>\n"
      ],
      "text/latex": [
       "\\begin{tabular}{ll}\n",
       "\t  2.92831155   & -0.0452149904\\\\\n",
       "\t -0.04521499   &  0.0007061428\\\\\n",
       "\\end{tabular}\n"
      ],
      "text/markdown": [
       "\n",
       "|  2.92831155   | -0.0452149904 |\n",
       "| -0.04521499   |  0.0007061428 |\n",
       "\n"
      ],
      "text/plain": [
       "     [,1]        [,2]         \n",
       "[1,]  2.92831155 -0.0452149904\n",
       "[2,] -0.04521499  0.0007061428"
      ]
     },
     "metadata": {},
     "output_type": "display_data"
    }
   ],
   "source": [
    "Iinv"
   ]
  },
  {
   "cell_type": "code",
   "execution_count": 12,
   "metadata": {
    "ExecuteTime": {
     "end_time": "2019-08-21T00:04:24.566100Z",
     "start_time": "2019-08-21T00:04:22.886Z"
    }
   },
   "outputs": [],
   "source": [
    "z.alpha = qnorm(0.975)\n",
    "\n",
    "CI.beta0 = beta0 + c(-1, 1) * z.alpha * beta0.error\n",
    "CI.beta1 = beta1 + c(-1, 1) * z.alpha * beta1.error"
   ]
  },
  {
   "cell_type": "markdown",
   "metadata": {},
   "source": [
    "#### Answer to Q1 b)"
   ]
  },
  {
   "cell_type": "code",
   "execution_count": 13,
   "metadata": {
    "ExecuteTime": {
     "end_time": "2019-08-21T00:04:24.614029Z",
     "start_time": "2019-08-21T00:04:22.892Z"
    }
   },
   "outputs": [
    {
     "data": {
      "text/html": [
       "<table>\n",
       "<tbody>\n",
       "\t<tr><th scope=row>CI.beta0</th><td>2.243931</td><td>8.951834</td></tr>\n",
       "</tbody>\n",
       "</table>\n"
      ],
      "text/latex": [
       "\\begin{tabular}{r|ll}\n",
       "\tCI.beta0 & 2.243931 & 8.951834\\\\\n",
       "\\end{tabular}\n"
      ],
      "text/markdown": [
       "\n",
       "| CI.beta0 | 2.243931 | 8.951834 |\n",
       "\n"
      ],
      "text/plain": [
       "         [,1]     [,2]    \n",
       "CI.beta0 2.243931 8.951834"
      ]
     },
     "metadata": {},
     "output_type": "display_data"
    },
    {
     "data": {
      "text/html": [
       "<table>\n",
       "<tbody>\n",
       "\t<tr><th scope=row>CI.beta1</th><td>-0.1579897 </td><td>-0.05382405</td></tr>\n",
       "</tbody>\n",
       "</table>\n"
      ],
      "text/latex": [
       "\\begin{tabular}{r|ll}\n",
       "\tCI.beta1 & -0.1579897  & -0.05382405\\\\\n",
       "\\end{tabular}\n"
      ],
      "text/markdown": [
       "\n",
       "| CI.beta1 | -0.1579897  | -0.05382405 |\n",
       "\n"
      ],
      "text/plain": [
       "         [,1]       [,2]       \n",
       "CI.beta1 -0.1579897 -0.05382405"
      ]
     },
     "metadata": {},
     "output_type": "display_data"
    }
   ],
   "source": [
    "rbind(CI.beta0)\n",
    "rbind(CI.beta1)"
   ]
  },
  {
   "cell_type": "markdown",
   "metadata": {},
   "source": [
    "# Question 1c)"
   ]
  },
  {
   "cell_type": "markdown",
   "metadata": {},
   "source": [
    "#### LRT for the temperature parameter $\\beta_1$"
   ]
  },
  {
   "cell_type": "code",
   "execution_count": 14,
   "metadata": {
    "ExecuteTime": {
     "end_time": "2019-08-21T00:04:24.654034Z",
     "start_time": "2019-08-21T00:04:22.904Z"
    }
   },
   "outputs": [],
   "source": [
    "p.hat = sum(y) / sum(rep(n, length(y)))\n",
    "\n",
    "F.model = logL(beta.hat, orings)\n",
    "R.model = sum(y)*log(p.hat) + sum(N - y)*log(1 - p.hat)\n",
    "\n",
    "LR = -2 * (R.model - F.model)"
   ]
  },
  {
   "cell_type": "markdown",
   "metadata": {},
   "source": [
    "#### Answer to Q1 c)"
   ]
  },
  {
   "cell_type": "code",
   "execution_count": 15,
   "metadata": {
    "ExecuteTime": {
     "end_time": "2019-08-21T00:04:24.726506Z",
     "start_time": "2019-08-21T00:04:22.910Z"
    }
   },
   "outputs": [
    {
     "data": {
      "text/html": [
       "5.18671169167522e-06"
      ],
      "text/latex": [
       "5.18671169167522e-06"
      ],
      "text/markdown": [
       "5.18671169167522e-06"
      ],
      "text/plain": [
       "[1] 5.186712e-06"
      ]
     },
     "metadata": {},
     "output_type": "display_data"
    }
   ],
   "source": [
    "pchisq(LR, df=1, lower=FALSE)"
   ]
  },
  {
   "cell_type": "markdown",
   "metadata": {},
   "source": [
    "At the $\\alpha=0.05$ significance level, the LRT concludes that the $\\beta_1$ parameter is significantly relevant."
   ]
  },
  {
   "cell_type": "markdown",
   "metadata": {},
   "source": [
    "# Question 1d)"
   ]
  },
  {
   "cell_type": "markdown",
   "metadata": {},
   "source": [
    "#### Estimate when $\\textrm{temeperature} = 31^oF$.\n",
    "Let $t^T = \\begin{bmatrix} 1 & 31 \\end{bmatrix}$."
   ]
  },
  {
   "cell_type": "code",
   "execution_count": 16,
   "metadata": {
    "ExecuteTime": {
     "end_time": "2019-08-21T00:04:24.815668Z",
     "start_time": "2019-08-21T00:04:22.926Z"
    }
   },
   "outputs": [],
   "source": [
    "TEMP = 31\n",
    "eta = beta0 + beta1 * TEMP\n",
    "\n",
    "t = c(1, 31)\n",
    "damage.estimate = F(eta)\n",
    "\n",
    "CI.ttbeta = F(eta + c(-1, 1) * c(z.alpha * sqrt(t(t) %*% Iinv %*% t)))"
   ]
  },
  {
   "cell_type": "markdown",
   "metadata": {},
   "source": [
    "#### Answer to Q1 d)"
   ]
  },
  {
   "cell_type": "code",
   "execution_count": 17,
   "metadata": {
    "ExecuteTime": {
     "end_time": "2019-08-21T00:04:24.859615Z",
     "start_time": "2019-08-21T00:04:22.934Z"
    }
   },
   "outputs": [
    {
     "data": {
      "text/html": [
       "<table>\n",
       "<tbody>\n",
       "\t<tr><th scope=row>damage.estimate</th><td>0.9896872</td></tr>\n",
       "</tbody>\n",
       "</table>\n"
      ],
      "text/latex": [
       "\\begin{tabular}{r|l}\n",
       "\tdamage.estimate & 0.9896872\\\\\n",
       "\\end{tabular}\n"
      ],
      "text/markdown": [
       "\n",
       "| damage.estimate | 0.9896872 |\n",
       "\n"
      ],
      "text/plain": [
       "                [,1]     \n",
       "damage.estimate 0.9896872"
      ]
     },
     "metadata": {},
     "output_type": "display_data"
    },
    {
     "data": {
      "text/html": [
       "<table>\n",
       "<tbody>\n",
       "\t<tr><th scope=row>CI.ttbeta</th><td>0.7115098</td><td>0.9999767</td></tr>\n",
       "</tbody>\n",
       "</table>\n"
      ],
      "text/latex": [
       "\\begin{tabular}{r|ll}\n",
       "\tCI.ttbeta & 0.7115098 & 0.9999767\\\\\n",
       "\\end{tabular}\n"
      ],
      "text/markdown": [
       "\n",
       "| CI.ttbeta | 0.7115098 | 0.9999767 |\n",
       "\n"
      ],
      "text/plain": [
       "          [,1]      [,2]     \n",
       "CI.ttbeta 0.7115098 0.9999767"
      ]
     },
     "metadata": {},
     "output_type": "display_data"
    }
   ],
   "source": [
    "rbind(damage.estimate)\n",
    "rbind(CI.ttbeta)"
   ]
  },
  {
   "cell_type": "markdown",
   "metadata": {},
   "source": [
    "# Question 1e)"
   ]
  },
  {
   "cell_type": "markdown",
   "metadata": {},
   "source": [
    "#### Answer to Q1 e)"
   ]
  },
  {
   "cell_type": "code",
   "execution_count": 18,
   "metadata": {
    "ExecuteTime": {
     "end_time": "2019-08-21T00:04:25.045361Z",
     "start_time": "2019-08-21T00:04:22.944Z"
    }
   },
   "outputs": [
    {
     "data": {
      "image/png": "[encoded data removed]",
      "text/plain": [
       "Plot with title \"Logit and Probit fit to Orings Data\""
      ]
     },
     "metadata": {},
     "output_type": "display_data"
    }
   ],
   "source": [
    "logit = function(eta) exp(eta) / (1 + exp(eta))\n",
    "\n",
    "logit.beta = glm(cbind(damage, N - damage) ~ temp, family=binomial(link='logit'), orings)$coef\n",
    "plot(damage/N ~ temp, orings, xlim=c(25,85), ylim=c(0,1), main=\"Logit and Probit fit to Orings Data\")\n",
    "\n",
    "xrange = 25:85\n",
    "lines(xrange, logit(logit.beta[1] + logit.beta[2] * xrange), col='red')\n",
    "lines(xrange, F(beta0 + beta1 * xrange), col='blue')\n",
    "legend(\"topright\", c(\"Logit\",\"Probit\"), col=c(\"red\",\"blue\"), lty=c(1,1))"
   ]
  },
  {
   "cell_type": "markdown",
   "metadata": {},
   "source": [
    "# Question 2a)"
   ]
  },
  {
   "cell_type": "markdown",
   "metadata": {},
   "source": [
    "We have,\n",
    "\n",
    "\\begin{align*}\n",
    "    \\textrm{log}(o_i) &= \\textrm{log}\\bigg(\\frac{p_i}{1-p_i}\\bigg) \\\\\n",
    "    &= \\beta_0 + \\beta_1x_i.\n",
    "\\end{align*}\n",
    "\n",
    "Hence an increase in 10 for bmi is:\n",
    "\\begin{align*}\n",
    "    \\textrm{log}(o)_2 - \\textrm{log}(o)_1 &= [\\beta_0 + \\beta_1(x_i + 10)] - [\\beta_0 + \\beta_1x_i] \\\\\n",
    "    &= 10\\beta_1 \n",
    "\\end{align*}"
   ]
  },
  {
   "cell_type": "code",
   "execution_count": 24,
   "metadata": {
    "ExecuteTime": {
     "end_time": "2019-08-23T01:41:23.869223Z",
     "start_time": "2019-08-23T01:41:23.824Z"
    }
   },
   "outputs": [
    {
     "name": "stdout",
     "output_type": "stream",
     "text": [
      "Loading objects:\n",
      "  pima_subset\n"
     ]
    }
   ],
   "source": [
    "load(\"assign1.Robj\", verbose=TRUE)\n",
    "\n",
    "INCREASE = 10\n",
    "odds = function(p) p / (1 - p)"
   ]
  },
  {
   "cell_type": "code",
   "execution_count": 25,
   "metadata": {
    "ExecuteTime": {
     "end_time": "2019-08-23T01:41:24.147483Z",
     "start_time": "2019-08-23T01:41:24.089Z"
    }
   },
   "outputs": [],
   "source": [
    "br = glm(cbind(test, 1 - test) ~ ., data=pima_subset, family=binomial)\n",
    "beta.hat = br$coeff\n",
    "\n",
    "beta0 = beta.hat[1]\n",
    "beta1 = beta.hat[2]"
   ]
  },
  {
   "cell_type": "markdown",
   "metadata": {},
   "source": [
    "#### Answer to Question 2 a)"
   ]
  },
  {
   "cell_type": "code",
   "execution_count": 26,
   "metadata": {
    "ExecuteTime": {
     "end_time": "2019-08-23T01:41:24.874534Z",
     "start_time": "2019-08-23T01:41:24.841Z"
    }
   },
   "outputs": [
    {
     "data": {
      "text/html": [
       "<strong>bmi:</strong> 0.997168404895279"
      ],
      "text/latex": [
       "\\textbf{bmi:} 0.997168404895279"
      ],
      "text/markdown": [
       "**bmi:** 0.997168404895279"
      ],
      "text/plain": [
       "      bmi \n",
       "0.9971684 "
      ]
     },
     "metadata": {},
     "output_type": "display_data"
    }
   ],
   "source": [
    "INCREASE * beta1"
   ]
  },
  {
   "cell_type": "markdown",
   "metadata": {},
   "source": [
    "Estimated increase in log(odds) is 0.9972 when the bmi increase by 10."
   ]
  },
  {
   "cell_type": "markdown",
   "metadata": {},
   "source": [
    "# Question 2b)"
   ]
  },
  {
   "cell_type": "code",
   "execution_count": 34,
   "metadata": {
    "ExecuteTime": {
     "end_time": "2019-08-23T01:43:00.863893Z",
     "start_time": "2019-08-23T01:43:00.807Z"
    }
   },
   "outputs": [],
   "source": [
    "# Standard Error is sqrt(variance)\n",
    "ilogit = function(eta) exp(eta) / (1 + exp(eta))\n",
    "x = pima_subset$bmi\n",
    "eta = beta0 + beta1 * x\n",
    "\n",
    "p.hat = ilogit(eta)\n",
    "\n",
    "I11 = sum(p.hat * (1 - p.hat))\n",
    "I12 = I21 = sum(x * p.hat *(1 - p.hat))\n",
    "I22 = sum(x^2 * p.hat * (1 - p.hat))\n",
    "\n",
    "Iinv = solve(matrix(c(I11, I12, I21, I22), 2, 2))\n",
    "\n",
    "beta1.error = sqrt(Iinv[2,2])"
   ]
  },
  {
   "cell_type": "code",
   "execution_count": 36,
   "metadata": {
    "ExecuteTime": {
     "end_time": "2019-08-23T01:43:04.529340Z",
     "start_time": "2019-08-23T01:43:04.491Z"
    }
   },
   "outputs": [],
   "source": [
    "CI.10beta1 = 10 * beta1 + c(-1, 1) * z.alpha * 10 * beta1.error"
   ]
  },
  {
   "cell_type": "markdown",
   "metadata": {},
   "source": [
    "#### Answer to Question 2 b)"
   ]
  },
  {
   "cell_type": "code",
   "execution_count": 37,
   "metadata": {
    "ExecuteTime": {
     "end_time": "2019-08-23T01:43:05.186581Z",
     "start_time": "2019-08-23T01:43:05.152Z"
    }
   },
   "outputs": [
    {
     "data": {
      "text/html": [
       "<table>\n",
       "<tbody>\n",
       "\t<tr><th scope=row>CI.10beta1</th><td>0.6976052</td><td>1.296732 </td></tr>\n",
       "</tbody>\n",
       "</table>\n"
      ],
      "text/latex": [
       "\\begin{tabular}{r|ll}\n",
       "\tCI.10beta1 & 0.6976052 & 1.296732 \\\\\n",
       "\\end{tabular}\n"
      ],
      "text/markdown": [
       "\n",
       "| CI.10beta1 | 0.6976052 | 1.296732  |\n",
       "\n"
      ],
      "text/plain": [
       "           [,1]      [,2]    \n",
       "CI.10beta1 0.6976052 1.296732"
      ]
     },
     "metadata": {},
     "output_type": "display_data"
    }
   ],
   "source": [
    "rbind(CI.10beta1)"
   ]
  }
 ],
 "metadata": {
  "kernelspec": {
   "display_name": "R",
   "language": "R",
   "name": "ir"
  },
  "latex_envs": {
   "LaTeX_envs_menu_present": true,
   "autoclose": true,
   "autocomplete": true,
   "bibliofile": "biblio.bib",
   "cite_by": "apalike",
   "current_citInitial": 1,
   "eqLabelWithNumbers": true,
   "eqNumInitial": 1,
   "hotkeys": {
    "equation": "Ctrl-E",
    "itemize": "Ctrl-I"
   },
   "labels_anchors": false,
   "latex_user_defs": false,
   "report_style_numbering": false,
   "user_envs_cfg": false
  }
 },
 "nbformat": 4,
 "nbformat_minor": 2
}
