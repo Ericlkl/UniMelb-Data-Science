{
 "cells": [
  {
   "cell_type": "code",
   "execution_count": 1,
   "metadata": {},
   "outputs": [],
   "source": [
    "# Import Library to parse\n",
    "import pandas as pd"
   ]
  },
  {
   "cell_type": "code",
   "execution_count": 2,
   "metadata": {},
   "outputs": [],
   "source": [
    "# Import datasets\n",
    "xl = pd.ExcelFile(\"Senior Secondary Achievement and Completion Information  2012-2017.xlsx\")"
   ]
  },
  {
   "cell_type": "code",
   "execution_count": 3,
   "metadata": {},
   "outputs": [
    {
     "data": {
      "text/plain": [
       "['Read Me', 'Definitions', '2012', '2013', '2014', '2015', '2016', '2017']"
      ]
     },
     "execution_count": 3,
     "metadata": {},
     "output_type": "execute_result"
    }
   ],
   "source": [
    "# Find out available sheets\n",
    "xl.sheet_names"
   ]
  },
  {
   "cell_type": "code",
   "execution_count": 4,
   "metadata": {},
   "outputs": [],
   "source": [
    "# Parse Data and a bit of clean up\n",
    "# We are only looking at 2016-2017 for analysis for better match with other datasets\n",
    "df2 = xl.parse(\"2017\").fillna(0)\n",
    "df3 = xl.parse(\"2016\").fillna(0)"
   ]
  },
  {
   "cell_type": "code",
   "execution_count": 5,
   "metadata": {},
   "outputs": [],
   "source": [
    "# Insert years before merging\n",
    "df2.insert(loc=0, column=\"Year\", value='2017')\n",
    "df3.insert(loc=0, column=\"Year\", value='2016')"
   ]
  },
  {
   "cell_type": "code",
   "execution_count": 6,
   "metadata": {},
   "outputs": [],
   "source": [
    "# Rename columns for easier use\n",
    "df2.rename({'APS School/Provider Name': 'School',\n",
    "            'Number of VCE studies at unit 3-4 level taken up by students in 2017': 'Number of Unit 3/4 VCE Stubjects Offered',\n",
    "            'Number of VET certificates with 2017 enrolments': ' Number of VET Subjects Offered',\n",
    "            'Availability of International Baccalaureate (Diploma)': 'IB Offered',\n",
    "            'Number of students enrolled in at least one VCE unit at level 3-4 in 2017': 'Number of VCE Enrollments',\n",
    "            'Number of students enrolled in a VET certificate in 2017': 'Number of VET Enrollments',\n",
    "            'Number of students enrolled in VCAL in 2017': 'Number of VCAL Enrollments',\n",
    "            'Percentage of satisfactory VCE completions in 2017': 'VCE Percentage of Sastisfactory Completion',\n",
    "            'Percentage of VET units of competency completed in 2017': 'VET Percentage of Sastisfactory Completion',\n",
    "            'Percentage of VCAL units completed in 2017': 'VCAL Percentage of Sastisfactory Completion',\n",
    "           }, axis=1, inplace=True)\n",
    "df3.rename({'APS School/Provider Name': 'School',\n",
    "            'Number of VCE studies at unit 3-4 level taken up by students in 2016': 'Number of Unit 3/4 VCE Stubjects Offered',\n",
    "            'Number of VET certificates with 2016 enrolments': ' Number of VET Subjects Offered',\n",
    "            'Availability of International Baccalaureate (Diploma)': 'IB Offered',\n",
    "            'Number of students enrolled in at least one VCE unit at level 3-4 in 2016': 'Number of VCE Enrollments',\n",
    "            'Number of students enrolled in a VET certificate in 2016': 'Number of VET Enrollments',\n",
    "            'Number of students enrolled in VCAL in 2016': 'Number of VCAL Enrollments',\n",
    "            'Percentage of satisfactory VCE completions in 2016': 'VCE Percentage of Sastisfactory Completion',\n",
    "            'Percentage of VET units of competency completed in 2016': 'VET Percentage of Sastisfactory Completion',\n",
    "            'Percentage of VCAL units completed in 2016': 'VCAL Percentage of Sastisfactory Completion',\n",
    "           }, axis=1, inplace=True)"
   ]
  },
  {
   "cell_type": "code",
   "execution_count": 7,
   "metadata": {},
   "outputs": [],
   "source": [
    "df1 = pd.concat([df2, df3], sort=False)"
   ]
  },
  {
   "cell_type": "code",
   "execution_count": 8,
   "metadata": {},
   "outputs": [],
   "source": [
    "### Clean up data entries\n",
    "# Small School column, replace '*' with 1 for bool\n",
    "df1.replace('*', 1, inplace=True)\n",
    "\n",
    "# Results columns, replace '-' with 0\n",
    "df1.replace('-', 0, inplace=True)\n",
    "\n",
    "# Results columns, replace I/D with 0 (schools that have not enrolled into VCE)\n",
    "df1.replace('I/D', 0, inplace=True)\n",
    "\n",
    "# Adult column, replace 'A' with 1 for bool\n",
    "df1.replace('A', 1, inplace=True)\n",
    "\n",
    "# IB column, replace 'Y' with 1 for bool\n",
    "df1.replace('Y', 1, inplace=True)\n",
    "\n",
    "# Enrollment columns, replace '<4' with 0\n",
    "df1.replace('< 4', 0, inplace=True)"
   ]
  },
  {
   "cell_type": "code",
   "execution_count": 9,
   "metadata": {},
   "outputs": [],
   "source": [
    "# Drop the adult sector as we are only interesed in high schools\n",
    "df1 = df1.drop(df1.loc[df1['Adult School'] == 1].index)\n",
    "\n",
    "# Furthermore, drop small schools as per warning from the dataset:\n",
    "# A small school is one with 20 or fewer students enrolled in at least one VCE unit at level 3-4 in 2017. \n",
    "# Much care is required in interpreting their results as the overall results might be significantly affected \n",
    "# by those of one or two students.\n",
    "df1 = df1.drop(df1.loc[df1['Small School'] == 1].index)\n",
    "\n",
    "# Ignore Median VCE study scores that are 0 (schools that did not offer VCE / students failed VCE)\n",
    "df1 = df1.loc[df1['Median VCE study score'] != 0]"
   ]
  },
  {
   "cell_type": "code",
   "execution_count": 10,
   "metadata": {},
   "outputs": [],
   "source": [
    "# We can now drop irrelevant columns\n",
    "df1 = df1.drop(['VCAAcd', 'Adult School', 'Small School'], axis=1)"
   ]
  },
  {
   "cell_type": "code",
   "execution_count": 11,
   "metadata": {},
   "outputs": [],
   "source": [
    "# Add in selective school to differentiate\n",
    "selective_schools = ['MELBOURNE HIGH SCHOOL', 'MACROBERTSON GIRLS HIGH SCHOOL', 'NOSSAL HIGH SCHOOL',\\\n",
    "                    'SUZANNE CORY HIGH SCHOOL', 'JOHN MONASH SCIENCE SCHOOL']\n",
    "df1.loc[df1.School.isin(selective_schools), 'Sector'] = 'SELECTIVE'"
   ]
  },
  {
   "cell_type": "code",
   "execution_count": 12,
   "metadata": {},
   "outputs": [
    {
     "data": {
      "text/plain": [
       "Year                                                        object\n",
       "Sector                                                      object\n",
       "School                                                      object\n",
       "Locality                                                    object\n",
       "Number of Unit 3/4 VCE Stubjects Offered                    object\n",
       " Number of VET Subjects Offered                             object\n",
       "IB Offered                                                   int64\n",
       "Number of VCE Enrollments                                   object\n",
       "Number of VET Enrollments                                   object\n",
       "Number of VCAL Enrollments                                  object\n",
       "Percentage of VCE students applying for tertiary places    float64\n",
       "VCE Percentage of Sastisfactory Completion                  object\n",
       "Number of students awarded the VCE (Baccalaureate)          object\n",
       "VET Percentage of Sastisfactory Completion                  object\n",
       "VCAL Percentage of Sastisfactory Completion                 object\n",
       "Median VCE study score                                      object\n",
       "Percentage of study scores of 40 and over                   object\n",
       "dtype: object"
      ]
     },
     "execution_count": 12,
     "metadata": {},
     "output_type": "execute_result"
    }
   ],
   "source": [
    "df1.dtypes"
   ]
  },
  {
   "cell_type": "code",
   "execution_count": 13,
   "metadata": {},
   "outputs": [],
   "source": [
    "df1[df1.columns[4:-4]] = df1[df1.columns[4:-4]].astype(int)\n",
    "df1[df1.columns[-4:]] = df1[df1.columns[-4:]].astype(float)"
   ]
  },
  {
   "cell_type": "code",
   "execution_count": 14,
   "metadata": {},
   "outputs": [
    {
     "data": {
      "text/plain": [
       "Year                                                        object\n",
       "Sector                                                      object\n",
       "School                                                      object\n",
       "Locality                                                    object\n",
       "Number of Unit 3/4 VCE Stubjects Offered                     int32\n",
       " Number of VET Subjects Offered                              int32\n",
       "IB Offered                                                   int32\n",
       "Number of VCE Enrollments                                    int32\n",
       "Number of VET Enrollments                                    int32\n",
       "Number of VCAL Enrollments                                   int32\n",
       "Percentage of VCE students applying for tertiary places      int32\n",
       "VCE Percentage of Sastisfactory Completion                   int32\n",
       "Number of students awarded the VCE (Baccalaureate)           int32\n",
       "VET Percentage of Sastisfactory Completion                 float64\n",
       "VCAL Percentage of Sastisfactory Completion                float64\n",
       "Median VCE study score                                     float64\n",
       "Percentage of study scores of 40 and over                  float64\n",
       "dtype: object"
      ]
     },
     "execution_count": 14,
     "metadata": {},
     "output_type": "execute_result"
    }
   ],
   "source": [
    "df1.dtypes"
   ]
  },
  {
   "cell_type": "code",
   "execution_count": 15,
   "metadata": {},
   "outputs": [
    {
     "data": {
      "text/html": [
       "<div>\n",
       "<style scoped>\n",
       "    .dataframe tbody tr th:only-of-type {\n",
       "        vertical-align: middle;\n",
       "    }\n",
       "\n",
       "    .dataframe tbody tr th {\n",
       "        vertical-align: top;\n",
       "    }\n",
       "\n",
       "    .dataframe thead th {\n",
       "        text-align: right;\n",
       "    }\n",
       "</style>\n",
       "<table border=\"1\" class=\"dataframe\">\n",
       "  <thead>\n",
       "    <tr style=\"text-align: right;\">\n",
       "      <th></th>\n",
       "      <th>Year</th>\n",
       "      <th>Sector</th>\n",
       "      <th>School</th>\n",
       "      <th>Locality</th>\n",
       "      <th>Number of Unit 3/4 VCE Stubjects Offered</th>\n",
       "      <th>Number of VET Subjects Offered</th>\n",
       "      <th>IB Offered</th>\n",
       "      <th>Number of VCE Enrollments</th>\n",
       "      <th>Number of VET Enrollments</th>\n",
       "      <th>Number of VCAL Enrollments</th>\n",
       "      <th>Percentage of VCE students applying for tertiary places</th>\n",
       "      <th>VCE Percentage of Sastisfactory Completion</th>\n",
       "      <th>Number of students awarded the VCE (Baccalaureate)</th>\n",
       "      <th>VET Percentage of Sastisfactory Completion</th>\n",
       "      <th>VCAL Percentage of Sastisfactory Completion</th>\n",
       "      <th>Median VCE study score</th>\n",
       "      <th>Percentage of study scores of 40 and over</th>\n",
       "    </tr>\n",
       "  </thead>\n",
       "  <tbody>\n",
       "    <tr>\n",
       "      <th>0</th>\n",
       "      <td>2017</td>\n",
       "      <td>CATHOLIC</td>\n",
       "      <td>ACADEMY OF MARY IMMACULATE</td>\n",
       "      <td>FITZROY</td>\n",
       "      <td>41</td>\n",
       "      <td>6</td>\n",
       "      <td>0</td>\n",
       "      <td>149</td>\n",
       "      <td>17</td>\n",
       "      <td>0</td>\n",
       "      <td>93</td>\n",
       "      <td>96</td>\n",
       "      <td>9</td>\n",
       "      <td>99.0</td>\n",
       "      <td>0.0</td>\n",
       "      <td>31.0</td>\n",
       "      <td>12.4</td>\n",
       "    </tr>\n",
       "    <tr>\n",
       "      <th>3</th>\n",
       "      <td>2017</td>\n",
       "      <td>INDEPENDENT</td>\n",
       "      <td>AITKEN COLLEGE</td>\n",
       "      <td>GREENVALE</td>\n",
       "      <td>52</td>\n",
       "      <td>23</td>\n",
       "      <td>0</td>\n",
       "      <td>165</td>\n",
       "      <td>135</td>\n",
       "      <td>22</td>\n",
       "      <td>94</td>\n",
       "      <td>100</td>\n",
       "      <td>6</td>\n",
       "      <td>91.0</td>\n",
       "      <td>100.0</td>\n",
       "      <td>29.0</td>\n",
       "      <td>6.1</td>\n",
       "    </tr>\n",
       "    <tr>\n",
       "      <th>4</th>\n",
       "      <td>2017</td>\n",
       "      <td>INDEPENDENT</td>\n",
       "      <td>AL SIRAAT COLLEGE</td>\n",
       "      <td>EPPING</td>\n",
       "      <td>12</td>\n",
       "      <td>2</td>\n",
       "      <td>0</td>\n",
       "      <td>34</td>\n",
       "      <td>48</td>\n",
       "      <td>0</td>\n",
       "      <td>100</td>\n",
       "      <td>100</td>\n",
       "      <td>0</td>\n",
       "      <td>99.0</td>\n",
       "      <td>0.0</td>\n",
       "      <td>25.0</td>\n",
       "      <td>2.2</td>\n",
       "    </tr>\n",
       "    <tr>\n",
       "      <th>5</th>\n",
       "      <td>2017</td>\n",
       "      <td>INDEPENDENT</td>\n",
       "      <td>AL-TAQWA COLLEGE</td>\n",
       "      <td>TRUGANINA</td>\n",
       "      <td>27</td>\n",
       "      <td>11</td>\n",
       "      <td>0</td>\n",
       "      <td>177</td>\n",
       "      <td>46</td>\n",
       "      <td>38</td>\n",
       "      <td>92</td>\n",
       "      <td>100</td>\n",
       "      <td>2</td>\n",
       "      <td>93.0</td>\n",
       "      <td>94.0</td>\n",
       "      <td>27.0</td>\n",
       "      <td>3.0</td>\n",
       "    </tr>\n",
       "    <tr>\n",
       "      <th>6</th>\n",
       "      <td>2017</td>\n",
       "      <td>GOVERNMENT</td>\n",
       "      <td>ALBERT PARK COLLEGE</td>\n",
       "      <td>ALBERT PARK</td>\n",
       "      <td>50</td>\n",
       "      <td>19</td>\n",
       "      <td>1</td>\n",
       "      <td>248</td>\n",
       "      <td>39</td>\n",
       "      <td>0</td>\n",
       "      <td>91</td>\n",
       "      <td>99</td>\n",
       "      <td>10</td>\n",
       "      <td>84.0</td>\n",
       "      <td>0.0</td>\n",
       "      <td>32.0</td>\n",
       "      <td>12.5</td>\n",
       "    </tr>\n",
       "  </tbody>\n",
       "</table>\n",
       "</div>"
      ],
      "text/plain": [
       "   Year       Sector                      School     Locality  \\\n",
       "0  2017     CATHOLIC  ACADEMY OF MARY IMMACULATE      FITZROY   \n",
       "3  2017  INDEPENDENT              AITKEN COLLEGE    GREENVALE   \n",
       "4  2017  INDEPENDENT           AL SIRAAT COLLEGE       EPPING   \n",
       "5  2017  INDEPENDENT            AL-TAQWA COLLEGE    TRUGANINA   \n",
       "6  2017   GOVERNMENT         ALBERT PARK COLLEGE  ALBERT PARK   \n",
       "\n",
       "   Number of Unit 3/4 VCE Stubjects Offered   Number of VET Subjects Offered  \\\n",
       "0                                        41                                6   \n",
       "3                                        52                               23   \n",
       "4                                        12                                2   \n",
       "5                                        27                               11   \n",
       "6                                        50                               19   \n",
       "\n",
       "   IB Offered  Number of VCE Enrollments  Number of VET Enrollments  \\\n",
       "0           0                        149                         17   \n",
       "3           0                        165                        135   \n",
       "4           0                         34                         48   \n",
       "5           0                        177                         46   \n",
       "6           1                        248                         39   \n",
       "\n",
       "   Number of VCAL Enrollments  \\\n",
       "0                           0   \n",
       "3                          22   \n",
       "4                           0   \n",
       "5                          38   \n",
       "6                           0   \n",
       "\n",
       "   Percentage of VCE students applying for tertiary places  \\\n",
       "0                                                 93         \n",
       "3                                                 94         \n",
       "4                                                100         \n",
       "5                                                 92         \n",
       "6                                                 91         \n",
       "\n",
       "   VCE Percentage of Sastisfactory Completion  \\\n",
       "0                                          96   \n",
       "3                                         100   \n",
       "4                                         100   \n",
       "5                                         100   \n",
       "6                                          99   \n",
       "\n",
       "   Number of students awarded the VCE (Baccalaureate)  \\\n",
       "0                                                  9    \n",
       "3                                                  6    \n",
       "4                                                  0    \n",
       "5                                                  2    \n",
       "6                                                 10    \n",
       "\n",
       "   VET Percentage of Sastisfactory Completion  \\\n",
       "0                                        99.0   \n",
       "3                                        91.0   \n",
       "4                                        99.0   \n",
       "5                                        93.0   \n",
       "6                                        84.0   \n",
       "\n",
       "   VCAL Percentage of Sastisfactory Completion  Median VCE study score  \\\n",
       "0                                          0.0                    31.0   \n",
       "3                                        100.0                    29.0   \n",
       "4                                          0.0                    25.0   \n",
       "5                                         94.0                    27.0   \n",
       "6                                          0.0                    32.0   \n",
       "\n",
       "   Percentage of study scores of 40 and over  \n",
       "0                                       12.4  \n",
       "3                                        6.1  \n",
       "4                                        2.2  \n",
       "5                                        3.0  \n",
       "6                                       12.5  "
      ]
     },
     "execution_count": 15,
     "metadata": {},
     "output_type": "execute_result"
    }
   ],
   "source": [
    "df1.head()"
   ]
  },
  {
   "cell_type": "code",
   "execution_count": 16,
   "metadata": {},
   "outputs": [],
   "source": [
    "# Export clean data to csv\n",
    "df1.to_csv(\"clean_VCAA_data.csv\")"
   ]
  },
  {
   "cell_type": "code",
   "execution_count": null,
   "metadata": {},
   "outputs": [],
   "source": []
  }
 ],
 "metadata": {
  "kernelspec": {
   "display_name": "Python 3",
   "language": "python",
   "name": "python3"
  },
  "language_info": {
   "codemirror_mode": {
    "name": "ipython",
    "version": 3
   },
   "file_extension": ".py",
   "mimetype": "text/x-python",
   "name": "python",
   "nbconvert_exporter": "python",
   "pygments_lexer": "ipython3",
   "version": "3.6.5"
  }
 },
 "nbformat": 4,
 "nbformat_minor": 2
}
