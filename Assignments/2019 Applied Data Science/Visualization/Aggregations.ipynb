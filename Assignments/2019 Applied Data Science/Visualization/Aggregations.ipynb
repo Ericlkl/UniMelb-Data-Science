{
 "cells": [
  {
   "cell_type": "markdown",
   "metadata": {},
   "source": [
    "Weather - (snow, rain, intense conditions)  \n",
    "Taxi1 - (groupby credit card and only take fare + tip)  \n",
    "Taxi2 - only take datetime and duration  \n",
    "\n",
    "Questions:  \n",
    "- Does the day of week (weekend/normal day) affect trip duration\n",
    "- logplot for output, dataframe table for analysis to talk about\n",
    "\n",
    "- Does weather affect trip duration (due to potential delays and road closures)\n",
    "\n",
    "- Do the delays caused by weather potentially increase profit?\n",
    "- First of all, prove that the correlation between trip duration and fare is positive linear\n",
    "- Second, show that the correlation between tips and fare is positive\n",
    "- IF it is positive, then we can say that potentially weather impact may lead to increase durations (albeit less frequency)\n",
    "\n",
    "Subquestions:  \n",
    "- Why are airports short in freq/duration? (snow, shuttle bus)\n",
    "- Why do some zones have longer durations than others during months that cannot be explained by the data [choropleth by months] (road works)\n",
    "\n",
    "As long as assumptions justified and sources provided, all is good\n"
   ]
  },
  {
   "cell_type": "code",
   "execution_count": 1,
   "metadata": {
    "ExecuteTime": {
     "end_time": "2019-08-10T10:15:15.839241Z",
     "start_time": "2019-08-10T10:15:15.433862Z"
    }
   },
   "outputs": [
    {
     "data": {
      "text/plain": [
       "\"\\ngf = gpd.GeoDataFrame(pd.merge(df, sf, left_on=['PULocationID'], right_on=['LocationID']))\\n\""
      ]
     },
     "execution_count": 1,
     "metadata": {},
     "output_type": "execute_result"
    }
   ],
   "source": [
    "import pandas as pd\n",
    "import geopandas as gpd\n",
    "import numpy as np\n",
    "\n",
    "\"\"\"\n",
    "gf = gpd.GeoDataFrame(pd.merge(df, sf, left_on=['PULocationID'], right_on=['LocationID']))\n",
    "\"\"\""
   ]
  },
  {
   "cell_type": "code",
   "execution_count": 2,
   "metadata": {
    "ExecuteTime": {
     "end_time": "2019-08-10T10:15:15.844252Z",
     "start_time": "2019-08-10T10:15:15.840239Z"
    }
   },
   "outputs": [],
   "source": [
    "num_to_dow = {\n",
    "    1: 'Monday',\n",
    "    2: 'Tuesday',\n",
    "    3: 'Wednesday',\n",
    "    4: 'Thursday',\n",
    "    5: 'Friday',\n",
    "    6: 'Saturday',\n",
    "    0: 'Sunday'\n",
    "}"
   ]
  },
  {
   "cell_type": "markdown",
   "metadata": {},
   "source": [
    "# Taxi 2 Data"
   ]
  },
  {
   "cell_type": "markdown",
   "metadata": {},
   "source": [
    "- Does the day of week (weekend/normal day) affect trip duration\n",
    "- logplot for output, dataframe table for analysis to talk about"
   ]
  },
  {
   "cell_type": "code",
   "execution_count": 3,
   "metadata": {
    "ExecuteTime": {
     "end_time": "2019-08-10T10:15:31.335233Z",
     "start_time": "2019-08-10T10:15:23.033249Z"
    }
   },
   "outputs": [
    {
     "name": "stderr",
     "output_type": "stream",
     "text": [
      "C:\\Users\\akira\\Anaconda3\\lib\\site-packages\\pyarrow\\pandas_compat.py:752: FutureWarning: .labels was deprecated in version 0.24.0. Use .codes instead.\n",
      "  labels, = index.labels\n"
     ]
    }
   ],
   "source": [
    "df = pd.read_feather('./data/v2/2018taxi_durations.feather').drop('index', axis=1)"
   ]
  },
  {
   "cell_type": "code",
   "execution_count": 4,
   "metadata": {
    "ExecuteTime": {
     "end_time": "2019-08-10T10:15:31.354157Z",
     "start_time": "2019-08-10T10:15:31.336204Z"
    }
   },
   "outputs": [
    {
     "data": {
      "text/html": [
       "<div>\n",
       "<style scoped>\n",
       "    .dataframe tbody tr th:only-of-type {\n",
       "        vertical-align: middle;\n",
       "    }\n",
       "\n",
       "    .dataframe tbody tr th {\n",
       "        vertical-align: top;\n",
       "    }\n",
       "\n",
       "    .dataframe thead th {\n",
       "        text-align: right;\n",
       "    }\n",
       "</style>\n",
       "<table border=\"1\" class=\"dataframe\">\n",
       "  <thead>\n",
       "    <tr style=\"text-align: right;\">\n",
       "      <th></th>\n",
       "      <th>PUdatetime</th>\n",
       "      <th>DOdatetime</th>\n",
       "      <th>PULocationID</th>\n",
       "      <th>trip_duration</th>\n",
       "      <th>trip_distance</th>\n",
       "    </tr>\n",
       "  </thead>\n",
       "  <tbody>\n",
       "    <tr>\n",
       "      <th>0</th>\n",
       "      <td>2018-01-01 00:21:05</td>\n",
       "      <td>2018-01-01 00:24:23</td>\n",
       "      <td>41</td>\n",
       "      <td>3</td>\n",
       "      <td>0.5</td>\n",
       "    </tr>\n",
       "    <tr>\n",
       "      <th>1</th>\n",
       "      <td>2018-01-01 00:44:55</td>\n",
       "      <td>2018-01-01 01:03:05</td>\n",
       "      <td>239</td>\n",
       "      <td>18</td>\n",
       "      <td>2.7</td>\n",
       "    </tr>\n",
       "    <tr>\n",
       "      <th>2</th>\n",
       "      <td>2018-01-01 00:08:26</td>\n",
       "      <td>2018-01-01 00:14:21</td>\n",
       "      <td>262</td>\n",
       "      <td>5</td>\n",
       "      <td>0.8</td>\n",
       "    </tr>\n",
       "    <tr>\n",
       "      <th>3</th>\n",
       "      <td>2018-01-01 00:20:22</td>\n",
       "      <td>2018-01-01 00:52:51</td>\n",
       "      <td>140</td>\n",
       "      <td>32</td>\n",
       "      <td>10.2</td>\n",
       "    </tr>\n",
       "    <tr>\n",
       "      <th>4</th>\n",
       "      <td>2018-01-01 00:09:18</td>\n",
       "      <td>2018-01-01 00:27:06</td>\n",
       "      <td>246</td>\n",
       "      <td>17</td>\n",
       "      <td>2.5</td>\n",
       "    </tr>\n",
       "  </tbody>\n",
       "</table>\n",
       "</div>"
      ],
      "text/plain": [
       "           PUdatetime          DOdatetime  PULocationID  trip_duration  \\\n",
       "0 2018-01-01 00:21:05 2018-01-01 00:24:23            41              3   \n",
       "1 2018-01-01 00:44:55 2018-01-01 01:03:05           239             18   \n",
       "2 2018-01-01 00:08:26 2018-01-01 00:14:21           262              5   \n",
       "3 2018-01-01 00:20:22 2018-01-01 00:52:51           140             32   \n",
       "4 2018-01-01 00:09:18 2018-01-01 00:27:06           246             17   \n",
       "\n",
       "   trip_distance  \n",
       "0            0.5  \n",
       "1            2.7  \n",
       "2            0.8  \n",
       "3           10.2  \n",
       "4            2.5  "
      ]
     },
     "execution_count": 4,
     "metadata": {},
     "output_type": "execute_result"
    }
   ],
   "source": [
    "df.head()"
   ]
  },
  {
   "cell_type": "code",
   "execution_count": 7,
   "metadata": {},
   "outputs": [],
   "source": [
    "def workday(x):\n",
    "    if x in ['Saturday', 'Sunday']:\n",
    "        return 0\n",
    "    return 1"
   ]
  },
  {
   "cell_type": "code",
   "execution_count": 8,
   "metadata": {},
   "outputs": [],
   "source": [
    "df['Day of Week'] = df['PUdatetime'].dt.dayofweek\n",
    "df.drop('DOdatetime', axis=1, inplace=True)\n",
    "\n",
    "df['Day of Week'] = df['Day of Week'].apply(lambda x: num_to_dow[x])\n",
    "df['Is_WorkDay'] = df['Day of Week'].apply(lambda x: workday(x))\n",
    "\n",
    "df['log_duration'] = np.log(df['trip_duration'])"
   ]
  },
  {
   "cell_type": "code",
   "execution_count": 9,
   "metadata": {},
   "outputs": [
    {
     "data": {
      "text/html": [
       "<div>\n",
       "<style scoped>\n",
       "    .dataframe tbody tr th:only-of-type {\n",
       "        vertical-align: middle;\n",
       "    }\n",
       "\n",
       "    .dataframe tbody tr th {\n",
       "        vertical-align: top;\n",
       "    }\n",
       "\n",
       "    .dataframe thead th {\n",
       "        text-align: right;\n",
       "    }\n",
       "</style>\n",
       "<table border=\"1\" class=\"dataframe\">\n",
       "  <thead>\n",
       "    <tr style=\"text-align: right;\">\n",
       "      <th></th>\n",
       "      <th>PUdatetime</th>\n",
       "      <th>PULocationID</th>\n",
       "      <th>trip_duration</th>\n",
       "      <th>trip_distance</th>\n",
       "      <th>Day of Week</th>\n",
       "      <th>Is_WorkDay</th>\n",
       "      <th>log_duration</th>\n",
       "    </tr>\n",
       "  </thead>\n",
       "  <tbody>\n",
       "    <tr>\n",
       "      <th>0</th>\n",
       "      <td>2018-01-01 00:21:05</td>\n",
       "      <td>41</td>\n",
       "      <td>3</td>\n",
       "      <td>0.5</td>\n",
       "      <td>Sunday</td>\n",
       "      <td>0</td>\n",
       "      <td>1.098612</td>\n",
       "    </tr>\n",
       "    <tr>\n",
       "      <th>1</th>\n",
       "      <td>2018-01-01 00:44:55</td>\n",
       "      <td>239</td>\n",
       "      <td>18</td>\n",
       "      <td>2.7</td>\n",
       "      <td>Sunday</td>\n",
       "      <td>0</td>\n",
       "      <td>2.890372</td>\n",
       "    </tr>\n",
       "    <tr>\n",
       "      <th>2</th>\n",
       "      <td>2018-01-01 00:08:26</td>\n",
       "      <td>262</td>\n",
       "      <td>5</td>\n",
       "      <td>0.8</td>\n",
       "      <td>Sunday</td>\n",
       "      <td>0</td>\n",
       "      <td>1.609438</td>\n",
       "    </tr>\n",
       "    <tr>\n",
       "      <th>3</th>\n",
       "      <td>2018-01-01 00:20:22</td>\n",
       "      <td>140</td>\n",
       "      <td>32</td>\n",
       "      <td>10.2</td>\n",
       "      <td>Sunday</td>\n",
       "      <td>0</td>\n",
       "      <td>3.465736</td>\n",
       "    </tr>\n",
       "    <tr>\n",
       "      <th>4</th>\n",
       "      <td>2018-01-01 00:09:18</td>\n",
       "      <td>246</td>\n",
       "      <td>17</td>\n",
       "      <td>2.5</td>\n",
       "      <td>Sunday</td>\n",
       "      <td>0</td>\n",
       "      <td>2.833213</td>\n",
       "    </tr>\n",
       "  </tbody>\n",
       "</table>\n",
       "</div>"
      ],
      "text/plain": [
       "           PUdatetime  PULocationID  trip_duration  trip_distance Day of Week  \\\n",
       "0 2018-01-01 00:21:05            41              3            0.5      Sunday   \n",
       "1 2018-01-01 00:44:55           239             18            2.7      Sunday   \n",
       "2 2018-01-01 00:08:26           262              5            0.8      Sunday   \n",
       "3 2018-01-01 00:20:22           140             32           10.2      Sunday   \n",
       "4 2018-01-01 00:09:18           246             17            2.5      Sunday   \n",
       "\n",
       "   Is_WorkDay  log_duration  \n",
       "0           0      1.098612  \n",
       "1           0      2.890372  \n",
       "2           0      1.609438  \n",
       "3           0      3.465736  \n",
       "4           0      2.833213  "
      ]
     },
     "execution_count": 9,
     "metadata": {},
     "output_type": "execute_result"
    }
   ],
   "source": [
    "df.head()"
   ]
  },
  {
   "cell_type": "code",
   "execution_count": null,
   "metadata": {},
   "outputs": [],
   "source": [
    "# This dataset is used to see duration/distance/logduration by day of week, and also can be used to\n",
    "# plot violin plot of workday vs non-workday changing datetime to months\n",
    "df.reset_index().to_feather('./data/v2/dow_durations.feather')"
   ]
  },
  {
   "cell_type": "code",
   "execution_count": 10,
   "metadata": {},
   "outputs": [],
   "source": [
    "agg_df_mean = df.groupby('Is_WorkDay')[['trip_duration',\n",
    "                                   'trip_distance','log_duration']].mean().reset_index()\n",
    "agg_df_mean.columns = [i + '_mean' if i != 'Is_WorkDay' else i for i in agg_df_mean.columns]\n",
    "\n",
    "agg_df_std = df.groupby('Is_WorkDay')[['trip_duration',\n",
    "                                   'trip_distance','log_duration']].std().reset_index()\n",
    "agg_df_std.columns = [i + '_std' if i != 'Is_WorkDay' else i for i in agg_df_std.columns]\n",
    "\n",
    "agg_df = pd.merge(agg_df_mean, agg_df_std, on='Is_WorkDay')"
   ]
  },
  {
   "cell_type": "code",
   "execution_count": 11,
   "metadata": {},
   "outputs": [
    {
     "data": {
      "text/html": [
       "<div>\n",
       "<style scoped>\n",
       "    .dataframe tbody tr th:only-of-type {\n",
       "        vertical-align: middle;\n",
       "    }\n",
       "\n",
       "    .dataframe tbody tr th {\n",
       "        vertical-align: top;\n",
       "    }\n",
       "\n",
       "    .dataframe thead th {\n",
       "        text-align: right;\n",
       "    }\n",
       "</style>\n",
       "<table border=\"1\" class=\"dataframe\">\n",
       "  <thead>\n",
       "    <tr style=\"text-align: right;\">\n",
       "      <th></th>\n",
       "      <th>Is_WorkDay</th>\n",
       "      <th>trip_duration_mean</th>\n",
       "      <th>trip_distance_mean</th>\n",
       "      <th>log_duration_mean</th>\n",
       "      <th>trip_duration_std</th>\n",
       "      <th>trip_distance_std</th>\n",
       "      <th>log_duration_std</th>\n",
       "    </tr>\n",
       "  </thead>\n",
       "  <tbody>\n",
       "    <tr>\n",
       "      <th>0</th>\n",
       "      <td>0</td>\n",
       "      <td>16.317133</td>\n",
       "      <td>3.151116</td>\n",
       "      <td>2.279878</td>\n",
       "      <td>68.105006</td>\n",
       "      <td>4.146053</td>\n",
       "      <td>0.832793</td>\n",
       "    </tr>\n",
       "    <tr>\n",
       "      <th>1</th>\n",
       "      <td>1</td>\n",
       "      <td>17.425457</td>\n",
       "      <td>2.895147</td>\n",
       "      <td>2.375643</td>\n",
       "      <td>66.466553</td>\n",
       "      <td>22.211267</td>\n",
       "      <td>0.829152</td>\n",
       "    </tr>\n",
       "  </tbody>\n",
       "</table>\n",
       "</div>"
      ],
      "text/plain": [
       "   Is_WorkDay  trip_duration_mean  trip_distance_mean  log_duration_mean  \\\n",
       "0           0           16.317133            3.151116           2.279878   \n",
       "1           1           17.425457            2.895147           2.375643   \n",
       "\n",
       "   trip_duration_std  trip_distance_std  log_duration_std  \n",
       "0          68.105006           4.146053          0.832793  \n",
       "1          66.466553          22.211267          0.829152  "
      ]
     },
     "execution_count": 11,
     "metadata": {},
     "output_type": "execute_result"
    }
   ],
   "source": [
    "agg_df.head()"
   ]
  },
  {
   "cell_type": "code",
   "execution_count": null,
   "metadata": {},
   "outputs": [],
   "source": [
    "# This dataset is good to see weeknds vs weekdays in a plot\n",
    "agg_df.to_csv('./data/v2/by_workday_agg.csv')"
   ]
  },
  {
   "cell_type": "markdown",
   "metadata": {},
   "source": [
    "- Does weather affect trip duration (due to potential delays and road closures)"
   ]
  },
  {
   "cell_type": "code",
   "execution_count": 5,
   "metadata": {
    "ExecuteTime": {
     "end_time": "2019-08-10T10:15:32.825532Z",
     "start_time": "2019-08-10T10:15:32.799969Z"
    }
   },
   "outputs": [
    {
     "data": {
      "text/html": [
       "<div>\n",
       "<style scoped>\n",
       "    .dataframe tbody tr th:only-of-type {\n",
       "        vertical-align: middle;\n",
       "    }\n",
       "\n",
       "    .dataframe tbody tr th {\n",
       "        vertical-align: top;\n",
       "    }\n",
       "\n",
       "    .dataframe thead th {\n",
       "        text-align: right;\n",
       "    }\n",
       "</style>\n",
       "<table border=\"1\" class=\"dataframe\">\n",
       "  <thead>\n",
       "    <tr style=\"text-align: right;\">\n",
       "      <th></th>\n",
       "      <th>datetime</th>\n",
       "      <th>tmpc</th>\n",
       "      <th>heavy_snow</th>\n",
       "      <th>snow</th>\n",
       "      <th>heavy_rain</th>\n",
       "      <th>rain</th>\n",
       "    </tr>\n",
       "  </thead>\n",
       "  <tbody>\n",
       "    <tr>\n",
       "      <th>0</th>\n",
       "      <td>2017-12-31 00:00:00</td>\n",
       "      <td>-6.000000</td>\n",
       "      <td>0</td>\n",
       "      <td>0</td>\n",
       "      <td>0</td>\n",
       "      <td>0</td>\n",
       "    </tr>\n",
       "    <tr>\n",
       "      <th>1</th>\n",
       "      <td>2017-12-31 01:00:00</td>\n",
       "      <td>-6.110000</td>\n",
       "      <td>0</td>\n",
       "      <td>0</td>\n",
       "      <td>0</td>\n",
       "      <td>0</td>\n",
       "    </tr>\n",
       "    <tr>\n",
       "      <th>2</th>\n",
       "      <td>2017-12-31 02:00:00</td>\n",
       "      <td>-6.387500</td>\n",
       "      <td>0</td>\n",
       "      <td>0</td>\n",
       "      <td>0</td>\n",
       "      <td>0</td>\n",
       "    </tr>\n",
       "    <tr>\n",
       "      <th>3</th>\n",
       "      <td>2017-12-31 03:00:00</td>\n",
       "      <td>-6.683333</td>\n",
       "      <td>0</td>\n",
       "      <td>0</td>\n",
       "      <td>0</td>\n",
       "      <td>0</td>\n",
       "    </tr>\n",
       "    <tr>\n",
       "      <th>4</th>\n",
       "      <td>2017-12-31 04:00:00</td>\n",
       "      <td>-7.036667</td>\n",
       "      <td>0</td>\n",
       "      <td>0</td>\n",
       "      <td>0</td>\n",
       "      <td>0</td>\n",
       "    </tr>\n",
       "  </tbody>\n",
       "</table>\n",
       "</div>"
      ],
      "text/plain": [
       "             datetime      tmpc  heavy_snow  snow  heavy_rain  rain\n",
       "0 2017-12-31 00:00:00 -6.000000           0     0           0     0\n",
       "1 2017-12-31 01:00:00 -6.110000           0     0           0     0\n",
       "2 2017-12-31 02:00:00 -6.387500           0     0           0     0\n",
       "3 2017-12-31 03:00:00 -6.683333           0     0           0     0\n",
       "4 2017-12-31 04:00:00 -7.036667           0     0           0     0"
      ]
     },
     "execution_count": 5,
     "metadata": {},
     "output_type": "execute_result"
    }
   ],
   "source": [
    "weather = pd.read_csv('./data/weather.csv', index_col=0)\n",
    "weather['datetime'] = pd.to_datetime(weather['datetime'])\n",
    "\n",
    "weather.head()"
   ]
  },
  {
   "cell_type": "code",
   "execution_count": 6,
   "metadata": {
    "ExecuteTime": {
     "end_time": "2019-08-10T10:16:12.259012Z",
     "start_time": "2019-08-10T10:15:34.272313Z"
    }
   },
   "outputs": [],
   "source": [
    "# Round to the closest hour and add months column\n",
    "df['datetime'] = df['PUdatetime'].dt.round('H')\n",
    "df['month'] = df['PUdatetime'].dt.month\n",
    "\n",
    "weather_df = pd.merge(df, weather, on='datetime', how='left')"
   ]
  },
  {
   "cell_type": "code",
   "execution_count": 7,
   "metadata": {
    "ExecuteTime": {
     "end_time": "2019-08-10T10:16:12.598440Z",
     "start_time": "2019-08-10T10:16:12.270980Z"
    }
   },
   "outputs": [],
   "source": [
    "weather_df['count'] = 1"
   ]
  },
  {
   "cell_type": "code",
   "execution_count": 8,
   "metadata": {
    "ExecuteTime": {
     "end_time": "2019-08-10T10:16:12.634344Z",
     "start_time": "2019-08-10T10:16:12.600436Z"
    }
   },
   "outputs": [
    {
     "data": {
      "text/html": [
       "<div>\n",
       "<style scoped>\n",
       "    .dataframe tbody tr th:only-of-type {\n",
       "        vertical-align: middle;\n",
       "    }\n",
       "\n",
       "    .dataframe tbody tr th {\n",
       "        vertical-align: top;\n",
       "    }\n",
       "\n",
       "    .dataframe thead th {\n",
       "        text-align: right;\n",
       "    }\n",
       "</style>\n",
       "<table border=\"1\" class=\"dataframe\">\n",
       "  <thead>\n",
       "    <tr style=\"text-align: right;\">\n",
       "      <th></th>\n",
       "      <th>PUdatetime</th>\n",
       "      <th>DOdatetime</th>\n",
       "      <th>PULocationID</th>\n",
       "      <th>trip_duration</th>\n",
       "      <th>trip_distance</th>\n",
       "      <th>datetime</th>\n",
       "      <th>month</th>\n",
       "      <th>tmpc</th>\n",
       "      <th>heavy_snow</th>\n",
       "      <th>snow</th>\n",
       "      <th>heavy_rain</th>\n",
       "      <th>rain</th>\n",
       "      <th>count</th>\n",
       "    </tr>\n",
       "  </thead>\n",
       "  <tbody>\n",
       "    <tr>\n",
       "      <th>0</th>\n",
       "      <td>2018-01-01 00:21:05</td>\n",
       "      <td>2018-01-01 00:24:23</td>\n",
       "      <td>41</td>\n",
       "      <td>3</td>\n",
       "      <td>0.5</td>\n",
       "      <td>2018-01-01 00:00:00</td>\n",
       "      <td>1</td>\n",
       "      <td>-12.056667</td>\n",
       "      <td>0.0</td>\n",
       "      <td>0.0</td>\n",
       "      <td>0.0</td>\n",
       "      <td>0.0</td>\n",
       "      <td>1</td>\n",
       "    </tr>\n",
       "    <tr>\n",
       "      <th>1</th>\n",
       "      <td>2018-01-01 00:44:55</td>\n",
       "      <td>2018-01-01 01:03:05</td>\n",
       "      <td>239</td>\n",
       "      <td>18</td>\n",
       "      <td>2.7</td>\n",
       "      <td>2018-01-01 01:00:00</td>\n",
       "      <td>1</td>\n",
       "      <td>-11.917500</td>\n",
       "      <td>0.0</td>\n",
       "      <td>0.0</td>\n",
       "      <td>0.0</td>\n",
       "      <td>0.0</td>\n",
       "      <td>1</td>\n",
       "    </tr>\n",
       "    <tr>\n",
       "      <th>2</th>\n",
       "      <td>2018-01-01 00:08:26</td>\n",
       "      <td>2018-01-01 00:14:21</td>\n",
       "      <td>262</td>\n",
       "      <td>5</td>\n",
       "      <td>0.8</td>\n",
       "      <td>2018-01-01 00:00:00</td>\n",
       "      <td>1</td>\n",
       "      <td>-12.056667</td>\n",
       "      <td>0.0</td>\n",
       "      <td>0.0</td>\n",
       "      <td>0.0</td>\n",
       "      <td>0.0</td>\n",
       "      <td>1</td>\n",
       "    </tr>\n",
       "    <tr>\n",
       "      <th>3</th>\n",
       "      <td>2018-01-01 00:20:22</td>\n",
       "      <td>2018-01-01 00:52:51</td>\n",
       "      <td>140</td>\n",
       "      <td>32</td>\n",
       "      <td>10.2</td>\n",
       "      <td>2018-01-01 00:00:00</td>\n",
       "      <td>1</td>\n",
       "      <td>-12.056667</td>\n",
       "      <td>0.0</td>\n",
       "      <td>0.0</td>\n",
       "      <td>0.0</td>\n",
       "      <td>0.0</td>\n",
       "      <td>1</td>\n",
       "    </tr>\n",
       "    <tr>\n",
       "      <th>4</th>\n",
       "      <td>2018-01-01 00:09:18</td>\n",
       "      <td>2018-01-01 00:27:06</td>\n",
       "      <td>246</td>\n",
       "      <td>17</td>\n",
       "      <td>2.5</td>\n",
       "      <td>2018-01-01 00:00:00</td>\n",
       "      <td>1</td>\n",
       "      <td>-12.056667</td>\n",
       "      <td>0.0</td>\n",
       "      <td>0.0</td>\n",
       "      <td>0.0</td>\n",
       "      <td>0.0</td>\n",
       "      <td>1</td>\n",
       "    </tr>\n",
       "  </tbody>\n",
       "</table>\n",
       "</div>"
      ],
      "text/plain": [
       "           PUdatetime          DOdatetime  PULocationID  trip_duration  \\\n",
       "0 2018-01-01 00:21:05 2018-01-01 00:24:23            41              3   \n",
       "1 2018-01-01 00:44:55 2018-01-01 01:03:05           239             18   \n",
       "2 2018-01-01 00:08:26 2018-01-01 00:14:21           262              5   \n",
       "3 2018-01-01 00:20:22 2018-01-01 00:52:51           140             32   \n",
       "4 2018-01-01 00:09:18 2018-01-01 00:27:06           246             17   \n",
       "\n",
       "   trip_distance            datetime  month       tmpc  heavy_snow  snow  \\\n",
       "0            0.5 2018-01-01 00:00:00      1 -12.056667         0.0   0.0   \n",
       "1            2.7 2018-01-01 01:00:00      1 -11.917500         0.0   0.0   \n",
       "2            0.8 2018-01-01 00:00:00      1 -12.056667         0.0   0.0   \n",
       "3           10.2 2018-01-01 00:00:00      1 -12.056667         0.0   0.0   \n",
       "4            2.5 2018-01-01 00:00:00      1 -12.056667         0.0   0.0   \n",
       "\n",
       "   heavy_rain  rain  count  \n",
       "0         0.0   0.0      1  \n",
       "1         0.0   0.0      1  \n",
       "2         0.0   0.0      1  \n",
       "3         0.0   0.0      1  \n",
       "4         0.0   0.0      1  "
      ]
     },
     "execution_count": 8,
     "metadata": {},
     "output_type": "execute_result"
    }
   ],
   "source": [
    "weather_df.head()"
   ]
  },
  {
   "cell_type": "code",
   "execution_count": null,
   "metadata": {
    "ExecuteTime": {
     "end_time": "2019-08-10T10:16:50.148865Z",
     "start_time": "2019-08-10T10:16:12.636339Z"
    }
   },
   "outputs": [],
   "source": [
    "all_snow = weather_df.groupby('month')[['heavy_snow','snow']].sum().reset_index()\n",
    "all_rain = weather_df.groupby('month')[['heavy_rain','rain']].sum().reset_index()"
   ]
  },
  {
   "cell_type": "code",
   "execution_count": null,
   "metadata": {
    "ExecuteTime": {
     "end_time": "2019-08-10T10:16:50.151856Z",
     "start_time": "2019-08-10T10:15:36.770Z"
    }
   },
   "outputs": [],
   "source": [
    "weather_duration = weather_df.groupby('month')[['trip_duration',\n",
    "                                        'log_duration', 'trip_distance', 'count','tmpc']].agg({'trip_duration': 'mean',\n",
    "                                                                                       'log_duration': 'mean',\n",
    "                                                                                       'trip_distance': 'mean',\n",
    "                                                                                        'tmpc': 'mean',\n",
    "                                                                                       'count': 'sum'}).reset_index()"
   ]
  },
  {
   "cell_type": "code",
   "execution_count": null,
   "metadata": {
    "ExecuteTime": {
     "end_time": "2019-08-10T10:16:50.152854Z",
     "start_time": "2019-08-10T10:15:37.090Z"
    }
   },
   "outputs": [],
   "source": [
    "weather_duration = pd.merge(weather_duration, pd.merge(all_snow, all_rain, on='month'), on='month')"
   ]
  },
  {
   "cell_type": "code",
   "execution_count": null,
   "metadata": {
    "ExecuteTime": {
     "end_time": "2019-08-10T10:16:50.154849Z",
     "start_time": "2019-08-10T10:15:39.505Z"
    }
   },
   "outputs": [],
   "source": [
    "weather_duration.head()"
   ]
  },
  {
   "cell_type": "code",
   "execution_count": null,
   "metadata": {},
   "outputs": [],
   "source": [
    "# This dataset is an aggregation of ALL attributes by MONTH\n",
    "# Includes TOTAL SUM / FREQ of trips made, how \"snowy\" or \"rainy\" the month was as well\n",
    "weather_duration.to_csv('./data/v2/by_month.csv')"
   ]
  },
  {
   "cell_type": "code",
   "execution_count": 22,
   "metadata": {
    "ExecuteTime": {
     "end_time": "2019-08-10T06:10:48.146475Z",
     "start_time": "2019-08-10T06:10:39.842616Z"
    }
   },
   "outputs": [],
   "source": [
    "weather_zone = weather_df.groupby(['PULocationID','month']).agg({'trip_duration': 'mean',\n",
    "                                                              'trip_distance': 'mean',\n",
    "                                                              'tmpc': 'max',\n",
    "                                                              'heavy_snow': 'sum',\n",
    "                                                              'snow': 'sum',\n",
    "                                                              'heavy_rain': 'sum',\n",
    "                                                              'rain': 'sum',\n",
    "                                                              'count': 'sum'}).reset_index()"
   ]
  },
  {
   "cell_type": "code",
   "execution_count": 24,
   "metadata": {
    "ExecuteTime": {
     "end_time": "2019-08-10T06:11:08.727183Z",
     "start_time": "2019-08-10T06:11:08.667314Z"
    }
   },
   "outputs": [],
   "source": [
    "weather_zone.to_csv('./data/v2/by_zone.csv')"
   ]
  },
  {
   "cell_type": "code",
   "execution_count": 12,
   "metadata": {
    "ExecuteTime": {
     "end_time": "2019-08-10T10:17:59.975503Z",
     "start_time": "2019-08-10T10:17:59.951183Z"
    }
   },
   "outputs": [
    {
     "data": {
      "text/html": [
       "<div>\n",
       "<style scoped>\n",
       "    .dataframe tbody tr th:only-of-type {\n",
       "        vertical-align: middle;\n",
       "    }\n",
       "\n",
       "    .dataframe tbody tr th {\n",
       "        vertical-align: top;\n",
       "    }\n",
       "\n",
       "    .dataframe thead th {\n",
       "        text-align: right;\n",
       "    }\n",
       "</style>\n",
       "<table border=\"1\" class=\"dataframe\">\n",
       "  <thead>\n",
       "    <tr style=\"text-align: right;\">\n",
       "      <th></th>\n",
       "      <th>PUdatetime</th>\n",
       "      <th>DOdatetime</th>\n",
       "      <th>PULocationID</th>\n",
       "      <th>trip_duration</th>\n",
       "      <th>trip_distance</th>\n",
       "      <th>datetime</th>\n",
       "      <th>month</th>\n",
       "      <th>tmpc</th>\n",
       "      <th>heavy_snow</th>\n",
       "      <th>snow</th>\n",
       "      <th>heavy_rain</th>\n",
       "      <th>rain</th>\n",
       "      <th>count</th>\n",
       "    </tr>\n",
       "  </thead>\n",
       "  <tbody>\n",
       "    <tr>\n",
       "      <th>0</th>\n",
       "      <td>2018-01-01 00:21:05</td>\n",
       "      <td>2018-01-01 00:24:23</td>\n",
       "      <td>41</td>\n",
       "      <td>3</td>\n",
       "      <td>0.5</td>\n",
       "      <td>2018-01-01 00:00:00</td>\n",
       "      <td>1</td>\n",
       "      <td>-12.056667</td>\n",
       "      <td>0.0</td>\n",
       "      <td>0.0</td>\n",
       "      <td>0.0</td>\n",
       "      <td>0.0</td>\n",
       "      <td>1</td>\n",
       "    </tr>\n",
       "    <tr>\n",
       "      <th>1</th>\n",
       "      <td>2018-01-01 00:44:55</td>\n",
       "      <td>2018-01-01 01:03:05</td>\n",
       "      <td>239</td>\n",
       "      <td>18</td>\n",
       "      <td>2.7</td>\n",
       "      <td>2018-01-01 01:00:00</td>\n",
       "      <td>1</td>\n",
       "      <td>-11.917500</td>\n",
       "      <td>0.0</td>\n",
       "      <td>0.0</td>\n",
       "      <td>0.0</td>\n",
       "      <td>0.0</td>\n",
       "      <td>1</td>\n",
       "    </tr>\n",
       "    <tr>\n",
       "      <th>2</th>\n",
       "      <td>2018-01-01 00:08:26</td>\n",
       "      <td>2018-01-01 00:14:21</td>\n",
       "      <td>262</td>\n",
       "      <td>5</td>\n",
       "      <td>0.8</td>\n",
       "      <td>2018-01-01 00:00:00</td>\n",
       "      <td>1</td>\n",
       "      <td>-12.056667</td>\n",
       "      <td>0.0</td>\n",
       "      <td>0.0</td>\n",
       "      <td>0.0</td>\n",
       "      <td>0.0</td>\n",
       "      <td>1</td>\n",
       "    </tr>\n",
       "    <tr>\n",
       "      <th>3</th>\n",
       "      <td>2018-01-01 00:20:22</td>\n",
       "      <td>2018-01-01 00:52:51</td>\n",
       "      <td>140</td>\n",
       "      <td>32</td>\n",
       "      <td>10.2</td>\n",
       "      <td>2018-01-01 00:00:00</td>\n",
       "      <td>1</td>\n",
       "      <td>-12.056667</td>\n",
       "      <td>0.0</td>\n",
       "      <td>0.0</td>\n",
       "      <td>0.0</td>\n",
       "      <td>0.0</td>\n",
       "      <td>1</td>\n",
       "    </tr>\n",
       "    <tr>\n",
       "      <th>4</th>\n",
       "      <td>2018-01-01 00:09:18</td>\n",
       "      <td>2018-01-01 00:27:06</td>\n",
       "      <td>246</td>\n",
       "      <td>17</td>\n",
       "      <td>2.5</td>\n",
       "      <td>2018-01-01 00:00:00</td>\n",
       "      <td>1</td>\n",
       "      <td>-12.056667</td>\n",
       "      <td>0.0</td>\n",
       "      <td>0.0</td>\n",
       "      <td>0.0</td>\n",
       "      <td>0.0</td>\n",
       "      <td>1</td>\n",
       "    </tr>\n",
       "  </tbody>\n",
       "</table>\n",
       "</div>"
      ],
      "text/plain": [
       "           PUdatetime          DOdatetime  PULocationID  trip_duration  \\\n",
       "0 2018-01-01 00:21:05 2018-01-01 00:24:23            41              3   \n",
       "1 2018-01-01 00:44:55 2018-01-01 01:03:05           239             18   \n",
       "2 2018-01-01 00:08:26 2018-01-01 00:14:21           262              5   \n",
       "3 2018-01-01 00:20:22 2018-01-01 00:52:51           140             32   \n",
       "4 2018-01-01 00:09:18 2018-01-01 00:27:06           246             17   \n",
       "\n",
       "   trip_distance            datetime  month       tmpc  heavy_snow  snow  \\\n",
       "0            0.5 2018-01-01 00:00:00      1 -12.056667         0.0   0.0   \n",
       "1            2.7 2018-01-01 01:00:00      1 -11.917500         0.0   0.0   \n",
       "2            0.8 2018-01-01 00:00:00      1 -12.056667         0.0   0.0   \n",
       "3           10.2 2018-01-01 00:00:00      1 -12.056667         0.0   0.0   \n",
       "4            2.5 2018-01-01 00:00:00      1 -12.056667         0.0   0.0   \n",
       "\n",
       "   heavy_rain  rain  count  \n",
       "0         0.0   0.0      1  \n",
       "1         0.0   0.0      1  \n",
       "2         0.0   0.0      1  \n",
       "3         0.0   0.0      1  \n",
       "4         0.0   0.0      1  "
      ]
     },
     "execution_count": 12,
     "metadata": {},
     "output_type": "execute_result"
    }
   ],
   "source": [
    "weather_df.head()"
   ]
  },
  {
   "cell_type": "code",
   "execution_count": null,
   "metadata": {},
   "outputs": [],
   "source": []
  },
  {
   "cell_type": "code",
   "execution_count": null,
   "metadata": {},
   "outputs": [],
   "source": []
  },
  {
   "cell_type": "markdown",
   "metadata": {},
   "source": [
    "# Taxi 2 Data"
   ]
  },
  {
   "cell_type": "markdown",
   "metadata": {},
   "source": [
    "_Based off months_\n",
    "- Do the delays caused by weather potentially increase profit?\n",
    "    - First of all, prove that the correlation between trip duration and fare is positive linear\n",
    "    - Second, show that the correlation between tips and fare is positive\n",
    "    - IF it is positive, then we can say that potentially weather impact may lead to increase durations (albeit less frequency)\n"
   ]
  },
  {
   "cell_type": "code",
   "execution_count": 2,
   "metadata": {},
   "outputs": [
    {
     "name": "stderr",
     "output_type": "stream",
     "text": [
      "C:\\Users\\akira\\Anaconda3\\lib\\site-packages\\pyarrow\\pandas_compat.py:752: FutureWarning: .labels was deprecated in version 0.24.0. Use .codes instead.\n",
      "  labels, = index.labels\n"
     ]
    }
   ],
   "source": [
    "df1 = pd.read_feather('./data/v2/2018taxi_fares.feather').drop('index',axis=1)\n",
    "df1['month'] = df1['PUdatetime'].dt.month"
   ]
  },
  {
   "cell_type": "code",
   "execution_count": 12,
   "metadata": {},
   "outputs": [],
   "source": [
    "first_proof = pd.merge(df[['trip_duration', \n",
    "                           'month']].groupby('month').mean().reset_index(), \n",
    "                       df1[['fare_amount', \n",
    "                            'month']].groupby('month').mean().reset_index(), on='month')"
   ]
  },
  {
   "cell_type": "code",
   "execution_count": 17,
   "metadata": {},
   "outputs": [
    {
     "data": {
      "text/html": [
       "<div>\n",
       "<style scoped>\n",
       "    .dataframe tbody tr th:only-of-type {\n",
       "        vertical-align: middle;\n",
       "    }\n",
       "\n",
       "    .dataframe tbody tr th {\n",
       "        vertical-align: top;\n",
       "    }\n",
       "\n",
       "    .dataframe thead th {\n",
       "        text-align: right;\n",
       "    }\n",
       "</style>\n",
       "<table border=\"1\" class=\"dataframe\">\n",
       "  <thead>\n",
       "    <tr style=\"text-align: right;\">\n",
       "      <th></th>\n",
       "      <th>trip_duration</th>\n",
       "      <th>fare_amount</th>\n",
       "    </tr>\n",
       "  </thead>\n",
       "  <tbody>\n",
       "    <tr>\n",
       "      <th>trip_duration</th>\n",
       "      <td>1.000000</td>\n",
       "      <td>0.889485</td>\n",
       "    </tr>\n",
       "    <tr>\n",
       "      <th>fare_amount</th>\n",
       "      <td>0.889485</td>\n",
       "      <td>1.000000</td>\n",
       "    </tr>\n",
       "  </tbody>\n",
       "</table>\n",
       "</div>"
      ],
      "text/plain": [
       "               trip_duration  fare_amount\n",
       "trip_duration       1.000000     0.889485\n",
       "fare_amount         0.889485     1.000000"
      ]
     },
     "execution_count": 17,
     "metadata": {},
     "output_type": "execute_result"
    }
   ],
   "source": [
    "first_proof.drop('month',axis=1).corr()s"
   ]
  },
  {
   "cell_type": "code",
   "execution_count": 20,
   "metadata": {},
   "outputs": [
    {
     "data": {
      "text/html": [
       "<div>\n",
       "<style scoped>\n",
       "    .dataframe tbody tr th:only-of-type {\n",
       "        vertical-align: middle;\n",
       "    }\n",
       "\n",
       "    .dataframe tbody tr th {\n",
       "        vertical-align: top;\n",
       "    }\n",
       "\n",
       "    .dataframe thead th {\n",
       "        text-align: right;\n",
       "    }\n",
       "</style>\n",
       "<table border=\"1\" class=\"dataframe\">\n",
       "  <thead>\n",
       "    <tr style=\"text-align: right;\">\n",
       "      <th></th>\n",
       "      <th>fare_amount</th>\n",
       "      <th>tip_amount</th>\n",
       "    </tr>\n",
       "  </thead>\n",
       "  <tbody>\n",
       "    <tr>\n",
       "      <th>fare_amount</th>\n",
       "      <td>1.000000</td>\n",
       "      <td>0.756705</td>\n",
       "    </tr>\n",
       "    <tr>\n",
       "      <th>tip_amount</th>\n",
       "      <td>0.756705</td>\n",
       "      <td>1.000000</td>\n",
       "    </tr>\n",
       "  </tbody>\n",
       "</table>\n",
       "</div>"
      ],
      "text/plain": [
       "             fare_amount  tip_amount\n",
       "fare_amount     1.000000    0.756705\n",
       "tip_amount      0.756705    1.000000"
      ]
     },
     "execution_count": 20,
     "metadata": {},
     "output_type": "execute_result"
    }
   ],
   "source": [
    "df1[['fare_amount','tip_amount']].corr()"
   ]
  },
  {
   "cell_type": "markdown",
   "metadata": {},
   "source": [
    "        - From above, we can see that obviously duration and amount have a strong positive correlation\n",
    "        - Furthermore, there is also a strong positive correlation that those who had a larger fare, \n",
    "                tipped more as well (only considering card payments)"
   ]
  },
  {
   "cell_type": "markdown",
   "metadata": {},
   "source": [
    "# Subquestions\n",
    "- Why are airports short in freq/duration"
   ]
  },
  {
   "cell_type": "code",
   "execution_count": 21,
   "metadata": {},
   "outputs": [
    {
     "data": {
      "text/html": [
       "<div>\n",
       "<style scoped>\n",
       "    .dataframe tbody tr th:only-of-type {\n",
       "        vertical-align: middle;\n",
       "    }\n",
       "\n",
       "    .dataframe tbody tr th {\n",
       "        vertical-align: top;\n",
       "    }\n",
       "\n",
       "    .dataframe thead th {\n",
       "        text-align: right;\n",
       "    }\n",
       "</style>\n",
       "<table border=\"1\" class=\"dataframe\">\n",
       "  <thead>\n",
       "    <tr style=\"text-align: right;\">\n",
       "      <th></th>\n",
       "      <th>PUdatetime</th>\n",
       "      <th>PULocationID</th>\n",
       "      <th>trip_duration</th>\n",
       "      <th>trip_distance</th>\n",
       "      <th>Day of Week</th>\n",
       "      <th>Is_WorkDay</th>\n",
       "      <th>log_duration</th>\n",
       "      <th>datetime</th>\n",
       "      <th>month</th>\n",
       "    </tr>\n",
       "  </thead>\n",
       "  <tbody>\n",
       "    <tr>\n",
       "      <th>0</th>\n",
       "      <td>2018-01-01 00:21:05</td>\n",
       "      <td>41</td>\n",
       "      <td>3</td>\n",
       "      <td>0.5</td>\n",
       "      <td>Sunday</td>\n",
       "      <td>0</td>\n",
       "      <td>1.098612</td>\n",
       "      <td>2018-01-01 00:00:00</td>\n",
       "      <td>1</td>\n",
       "    </tr>\n",
       "    <tr>\n",
       "      <th>1</th>\n",
       "      <td>2018-01-01 00:44:55</td>\n",
       "      <td>239</td>\n",
       "      <td>18</td>\n",
       "      <td>2.7</td>\n",
       "      <td>Sunday</td>\n",
       "      <td>0</td>\n",
       "      <td>2.890372</td>\n",
       "      <td>2018-01-01 01:00:00</td>\n",
       "      <td>1</td>\n",
       "    </tr>\n",
       "    <tr>\n",
       "      <th>2</th>\n",
       "      <td>2018-01-01 00:08:26</td>\n",
       "      <td>262</td>\n",
       "      <td>5</td>\n",
       "      <td>0.8</td>\n",
       "      <td>Sunday</td>\n",
       "      <td>0</td>\n",
       "      <td>1.609438</td>\n",
       "      <td>2018-01-01 00:00:00</td>\n",
       "      <td>1</td>\n",
       "    </tr>\n",
       "    <tr>\n",
       "      <th>3</th>\n",
       "      <td>2018-01-01 00:20:22</td>\n",
       "      <td>140</td>\n",
       "      <td>32</td>\n",
       "      <td>10.2</td>\n",
       "      <td>Sunday</td>\n",
       "      <td>0</td>\n",
       "      <td>3.465736</td>\n",
       "      <td>2018-01-01 00:00:00</td>\n",
       "      <td>1</td>\n",
       "    </tr>\n",
       "    <tr>\n",
       "      <th>4</th>\n",
       "      <td>2018-01-01 00:09:18</td>\n",
       "      <td>246</td>\n",
       "      <td>17</td>\n",
       "      <td>2.5</td>\n",
       "      <td>Sunday</td>\n",
       "      <td>0</td>\n",
       "      <td>2.833213</td>\n",
       "      <td>2018-01-01 00:00:00</td>\n",
       "      <td>1</td>\n",
       "    </tr>\n",
       "  </tbody>\n",
       "</table>\n",
       "</div>"
      ],
      "text/plain": [
       "           PUdatetime  PULocationID  trip_duration  trip_distance Day of Week  \\\n",
       "0 2018-01-01 00:21:05            41              3            0.5      Sunday   \n",
       "1 2018-01-01 00:44:55           239             18            2.7      Sunday   \n",
       "2 2018-01-01 00:08:26           262              5            0.8      Sunday   \n",
       "3 2018-01-01 00:20:22           140             32           10.2      Sunday   \n",
       "4 2018-01-01 00:09:18           246             17            2.5      Sunday   \n",
       "\n",
       "   Is_WorkDay  log_duration            datetime  month  \n",
       "0           0      1.098612 2018-01-01 00:00:00      1  \n",
       "1           0      2.890372 2018-01-01 01:00:00      1  \n",
       "2           0      1.609438 2018-01-01 00:00:00      1  \n",
       "3           0      3.465736 2018-01-01 00:00:00      1  \n",
       "4           0      2.833213 2018-01-01 00:00:00      1  "
      ]
     },
     "execution_count": 21,
     "metadata": {},
     "output_type": "execute_result"
    }
   ],
   "source": [
    "df.head()"
   ]
  },
  {
   "cell_type": "code",
   "execution_count": 27,
   "metadata": {},
   "outputs": [
    {
     "data": {
      "text/html": [
       "<div>\n",
       "<style scoped>\n",
       "    .dataframe tbody tr th:only-of-type {\n",
       "        vertical-align: middle;\n",
       "    }\n",
       "\n",
       "    .dataframe tbody tr th {\n",
       "        vertical-align: top;\n",
       "    }\n",
       "\n",
       "    .dataframe thead th {\n",
       "        text-align: right;\n",
       "    }\n",
       "</style>\n",
       "<table border=\"1\" class=\"dataframe\">\n",
       "  <thead>\n",
       "    <tr style=\"text-align: right;\">\n",
       "      <th></th>\n",
       "      <th>PUdatetime</th>\n",
       "      <th>DOdatetime</th>\n",
       "      <th>PULocationID</th>\n",
       "      <th>fare_amount</th>\n",
       "      <th>tip_amount</th>\n",
       "      <th>month</th>\n",
       "    </tr>\n",
       "  </thead>\n",
       "  <tbody>\n",
       "    <tr>\n",
       "      <th>0</th>\n",
       "      <td>2018-01-01 00:08:26</td>\n",
       "      <td>2018-01-01 00:14:21</td>\n",
       "      <td>262</td>\n",
       "      <td>6.0</td>\n",
       "      <td>1.00</td>\n",
       "      <td>1</td>\n",
       "    </tr>\n",
       "    <tr>\n",
       "      <th>1</th>\n",
       "      <td>2018-01-01 00:09:18</td>\n",
       "      <td>2018-01-01 00:27:06</td>\n",
       "      <td>246</td>\n",
       "      <td>12.5</td>\n",
       "      <td>2.75</td>\n",
       "      <td>1</td>\n",
       "    </tr>\n",
       "    <tr>\n",
       "      <th>2</th>\n",
       "      <td>2018-01-01 00:38:08</td>\n",
       "      <td>2018-01-01 00:48:24</td>\n",
       "      <td>50</td>\n",
       "      <td>9.0</td>\n",
       "      <td>2.05</td>\n",
       "      <td>1</td>\n",
       "    </tr>\n",
       "    <tr>\n",
       "      <th>3</th>\n",
       "      <td>2018-01-01 00:49:29</td>\n",
       "      <td>2018-01-01 00:51:53</td>\n",
       "      <td>239</td>\n",
       "      <td>4.0</td>\n",
       "      <td>1.00</td>\n",
       "      <td>1</td>\n",
       "    </tr>\n",
       "    <tr>\n",
       "      <th>4</th>\n",
       "      <td>2018-01-01 00:56:38</td>\n",
       "      <td>2018-01-01 01:01:05</td>\n",
       "      <td>238</td>\n",
       "      <td>5.5</td>\n",
       "      <td>1.70</td>\n",
       "      <td>1</td>\n",
       "    </tr>\n",
       "  </tbody>\n",
       "</table>\n",
       "</div>"
      ],
      "text/plain": [
       "           PUdatetime          DOdatetime  PULocationID  fare_amount  \\\n",
       "0 2018-01-01 00:08:26 2018-01-01 00:14:21           262          6.0   \n",
       "1 2018-01-01 00:09:18 2018-01-01 00:27:06           246         12.5   \n",
       "2 2018-01-01 00:38:08 2018-01-01 00:48:24            50          9.0   \n",
       "3 2018-01-01 00:49:29 2018-01-01 00:51:53           239          4.0   \n",
       "4 2018-01-01 00:56:38 2018-01-01 01:01:05           238          5.5   \n",
       "\n",
       "   tip_amount  month  \n",
       "0        1.00      1  \n",
       "1        2.75      1  \n",
       "2        2.05      1  \n",
       "3        1.00      1  \n",
       "4        1.70      1  "
      ]
     },
     "execution_count": 27,
     "metadata": {},
     "output_type": "execute_result"
    }
   ],
   "source": [
    "df1.head()"
   ]
  },
  {
   "cell_type": "code",
   "execution_count": 36,
   "metadata": {},
   "outputs": [],
   "source": [
    "left = df.groupby('PULocationID')[['trip_duration','log_duration','trip_distance']].mean().reset_index()\n",
    "right = df1.groupby('PULocationID')[['fare_amount','tip_amount']].mean().reset_index()\n",
    "freq = df.groupby('PULocationID')['trip_duration'].count().reset_index().rename({'trip_duration': 'freq'},axis=1)"
   ]
  },
  {
   "cell_type": "code",
   "execution_count": 37,
   "metadata": {},
   "outputs": [],
   "source": [
    "zone_agg = pd.merge(pd.merge(left, right, on='PULocationID'), freq, on='PULocationID')"
   ]
  },
  {
   "cell_type": "code",
   "execution_count": 38,
   "metadata": {},
   "outputs": [
    {
     "data": {
      "text/html": [
       "<div>\n",
       "<style scoped>\n",
       "    .dataframe tbody tr th:only-of-type {\n",
       "        vertical-align: middle;\n",
       "    }\n",
       "\n",
       "    .dataframe tbody tr th {\n",
       "        vertical-align: top;\n",
       "    }\n",
       "\n",
       "    .dataframe thead th {\n",
       "        text-align: right;\n",
       "    }\n",
       "</style>\n",
       "<table border=\"1\" class=\"dataframe\">\n",
       "  <thead>\n",
       "    <tr style=\"text-align: right;\">\n",
       "      <th></th>\n",
       "      <th>PULocationID</th>\n",
       "      <th>trip_duration</th>\n",
       "      <th>log_duration</th>\n",
       "      <th>trip_distance</th>\n",
       "      <th>fare_amount</th>\n",
       "      <th>tip_amount</th>\n",
       "      <th>freq</th>\n",
       "    </tr>\n",
       "  </thead>\n",
       "  <tbody>\n",
       "    <tr>\n",
       "      <th>0</th>\n",
       "      <td>1</td>\n",
       "      <td>29.272941</td>\n",
       "      <td>1.981902</td>\n",
       "      <td>9.654553</td>\n",
       "      <td>72.405204</td>\n",
       "      <td>13.829650</td>\n",
       "      <td>850</td>\n",
       "    </tr>\n",
       "    <tr>\n",
       "      <th>1</th>\n",
       "      <td>2</td>\n",
       "      <td>35.042254</td>\n",
       "      <td>3.200203</td>\n",
       "      <td>12.238028</td>\n",
       "      <td>34.565217</td>\n",
       "      <td>7.570435</td>\n",
       "      <td>71</td>\n",
       "    </tr>\n",
       "    <tr>\n",
       "      <th>2</th>\n",
       "      <td>3</td>\n",
       "      <td>29.177162</td>\n",
       "      <td>2.985264</td>\n",
       "      <td>7.837792</td>\n",
       "      <td>28.430118</td>\n",
       "      <td>0.994877</td>\n",
       "      <td>1191</td>\n",
       "    </tr>\n",
       "    <tr>\n",
       "      <th>3</th>\n",
       "      <td>4</td>\n",
       "      <td>16.102240</td>\n",
       "      <td>2.323058</td>\n",
       "      <td>2.659884</td>\n",
       "      <td>12.480253</td>\n",
       "      <td>2.258586</td>\n",
       "      <td>210729</td>\n",
       "    </tr>\n",
       "    <tr>\n",
       "      <th>4</th>\n",
       "      <td>5</td>\n",
       "      <td>79.475248</td>\n",
       "      <td>4.035608</td>\n",
       "      <td>25.395149</td>\n",
       "      <td>78.415789</td>\n",
       "      <td>0.502737</td>\n",
       "      <td>101</td>\n",
       "    </tr>\n",
       "  </tbody>\n",
       "</table>\n",
       "</div>"
      ],
      "text/plain": [
       "   PULocationID  trip_duration  log_duration  trip_distance  fare_amount  \\\n",
       "0             1      29.272941      1.981902       9.654553    72.405204   \n",
       "1             2      35.042254      3.200203      12.238028    34.565217   \n",
       "2             3      29.177162      2.985264       7.837792    28.430118   \n",
       "3             4      16.102240      2.323058       2.659884    12.480253   \n",
       "4             5      79.475248      4.035608      25.395149    78.415789   \n",
       "\n",
       "   tip_amount    freq  \n",
       "0   13.829650     850  \n",
       "1    7.570435      71  \n",
       "2    0.994877    1191  \n",
       "3    2.258586  210729  \n",
       "4    0.502737     101  "
      ]
     },
     "execution_count": 38,
     "metadata": {},
     "output_type": "execute_result"
    }
   ],
   "source": [
    "zone_agg.head()"
   ]
  },
  {
   "cell_type": "code",
   "execution_count": 39,
   "metadata": {},
   "outputs": [],
   "source": [
    "# This dataset is an aggregation of ALL attributes by ZONES\n",
    "# Useful for plotting choropleth for duration/logduration/distance/fare/tip/freq\n",
    "zone_agg.to_csv('./data/v2/zone_agg.csv')"
   ]
  },
  {
   "cell_type": "code",
   "execution_count": 40,
   "metadata": {},
   "outputs": [
    {
     "data": {
      "text/html": [
       "<div>\n",
       "<style scoped>\n",
       "    .dataframe tbody tr th:only-of-type {\n",
       "        vertical-align: middle;\n",
       "    }\n",
       "\n",
       "    .dataframe tbody tr th {\n",
       "        vertical-align: top;\n",
       "    }\n",
       "\n",
       "    .dataframe thead th {\n",
       "        text-align: right;\n",
       "    }\n",
       "</style>\n",
       "<table border=\"1\" class=\"dataframe\">\n",
       "  <thead>\n",
       "    <tr style=\"text-align: right;\">\n",
       "      <th></th>\n",
       "      <th>datetime</th>\n",
       "      <th>tmpc</th>\n",
       "      <th>heavy_snow</th>\n",
       "      <th>snow</th>\n",
       "      <th>heavy_rain</th>\n",
       "      <th>rain</th>\n",
       "    </tr>\n",
       "  </thead>\n",
       "  <tbody>\n",
       "    <tr>\n",
       "      <th>0</th>\n",
       "      <td>2017-12-31 00:00:00</td>\n",
       "      <td>-6.000000</td>\n",
       "      <td>0</td>\n",
       "      <td>0</td>\n",
       "      <td>0</td>\n",
       "      <td>0</td>\n",
       "    </tr>\n",
       "    <tr>\n",
       "      <th>1</th>\n",
       "      <td>2017-12-31 01:00:00</td>\n",
       "      <td>-6.110000</td>\n",
       "      <td>0</td>\n",
       "      <td>0</td>\n",
       "      <td>0</td>\n",
       "      <td>0</td>\n",
       "    </tr>\n",
       "    <tr>\n",
       "      <th>2</th>\n",
       "      <td>2017-12-31 02:00:00</td>\n",
       "      <td>-6.387500</td>\n",
       "      <td>0</td>\n",
       "      <td>0</td>\n",
       "      <td>0</td>\n",
       "      <td>0</td>\n",
       "    </tr>\n",
       "    <tr>\n",
       "      <th>3</th>\n",
       "      <td>2017-12-31 03:00:00</td>\n",
       "      <td>-6.683333</td>\n",
       "      <td>0</td>\n",
       "      <td>0</td>\n",
       "      <td>0</td>\n",
       "      <td>0</td>\n",
       "    </tr>\n",
       "    <tr>\n",
       "      <th>4</th>\n",
       "      <td>2017-12-31 04:00:00</td>\n",
       "      <td>-7.036667</td>\n",
       "      <td>0</td>\n",
       "      <td>0</td>\n",
       "      <td>0</td>\n",
       "      <td>0</td>\n",
       "    </tr>\n",
       "  </tbody>\n",
       "</table>\n",
       "</div>"
      ],
      "text/plain": [
       "             datetime      tmpc  heavy_snow  snow  heavy_rain  rain\n",
       "0 2017-12-31 00:00:00 -6.000000           0     0           0     0\n",
       "1 2017-12-31 01:00:00 -6.110000           0     0           0     0\n",
       "2 2017-12-31 02:00:00 -6.387500           0     0           0     0\n",
       "3 2017-12-31 03:00:00 -6.683333           0     0           0     0\n",
       "4 2017-12-31 04:00:00 -7.036667           0     0           0     0"
      ]
     },
     "execution_count": 40,
     "metadata": {},
     "output_type": "execute_result"
    }
   ],
   "source": [
    "weather.head()"
   ]
  },
  {
   "cell_type": "code",
   "execution_count": 41,
   "metadata": {},
   "outputs": [
    {
     "data": {
      "text/html": [
       "<div>\n",
       "<style scoped>\n",
       "    .dataframe tbody tr th:only-of-type {\n",
       "        vertical-align: middle;\n",
       "    }\n",
       "\n",
       "    .dataframe tbody tr th {\n",
       "        vertical-align: top;\n",
       "    }\n",
       "\n",
       "    .dataframe thead th {\n",
       "        text-align: right;\n",
       "    }\n",
       "</style>\n",
       "<table border=\"1\" class=\"dataframe\">\n",
       "  <thead>\n",
       "    <tr style=\"text-align: right;\">\n",
       "      <th></th>\n",
       "      <th>PUdatetime</th>\n",
       "      <th>PULocationID</th>\n",
       "      <th>trip_duration</th>\n",
       "      <th>trip_distance</th>\n",
       "      <th>Day of Week</th>\n",
       "      <th>Is_WorkDay</th>\n",
       "      <th>log_duration</th>\n",
       "      <th>datetime</th>\n",
       "      <th>month</th>\n",
       "    </tr>\n",
       "  </thead>\n",
       "  <tbody>\n",
       "    <tr>\n",
       "      <th>0</th>\n",
       "      <td>2018-01-01 00:21:05</td>\n",
       "      <td>41</td>\n",
       "      <td>3</td>\n",
       "      <td>0.5</td>\n",
       "      <td>Sunday</td>\n",
       "      <td>0</td>\n",
       "      <td>1.098612</td>\n",
       "      <td>2018-01-01 00:00:00</td>\n",
       "      <td>1</td>\n",
       "    </tr>\n",
       "    <tr>\n",
       "      <th>1</th>\n",
       "      <td>2018-01-01 00:44:55</td>\n",
       "      <td>239</td>\n",
       "      <td>18</td>\n",
       "      <td>2.7</td>\n",
       "      <td>Sunday</td>\n",
       "      <td>0</td>\n",
       "      <td>2.890372</td>\n",
       "      <td>2018-01-01 01:00:00</td>\n",
       "      <td>1</td>\n",
       "    </tr>\n",
       "    <tr>\n",
       "      <th>2</th>\n",
       "      <td>2018-01-01 00:08:26</td>\n",
       "      <td>262</td>\n",
       "      <td>5</td>\n",
       "      <td>0.8</td>\n",
       "      <td>Sunday</td>\n",
       "      <td>0</td>\n",
       "      <td>1.609438</td>\n",
       "      <td>2018-01-01 00:00:00</td>\n",
       "      <td>1</td>\n",
       "    </tr>\n",
       "    <tr>\n",
       "      <th>3</th>\n",
       "      <td>2018-01-01 00:20:22</td>\n",
       "      <td>140</td>\n",
       "      <td>32</td>\n",
       "      <td>10.2</td>\n",
       "      <td>Sunday</td>\n",
       "      <td>0</td>\n",
       "      <td>3.465736</td>\n",
       "      <td>2018-01-01 00:00:00</td>\n",
       "      <td>1</td>\n",
       "    </tr>\n",
       "    <tr>\n",
       "      <th>4</th>\n",
       "      <td>2018-01-01 00:09:18</td>\n",
       "      <td>246</td>\n",
       "      <td>17</td>\n",
       "      <td>2.5</td>\n",
       "      <td>Sunday</td>\n",
       "      <td>0</td>\n",
       "      <td>2.833213</td>\n",
       "      <td>2018-01-01 00:00:00</td>\n",
       "      <td>1</td>\n",
       "    </tr>\n",
       "  </tbody>\n",
       "</table>\n",
       "</div>"
      ],
      "text/plain": [
       "           PUdatetime  PULocationID  trip_duration  trip_distance Day of Week  \\\n",
       "0 2018-01-01 00:21:05            41              3            0.5      Sunday   \n",
       "1 2018-01-01 00:44:55           239             18            2.7      Sunday   \n",
       "2 2018-01-01 00:08:26           262              5            0.8      Sunday   \n",
       "3 2018-01-01 00:20:22           140             32           10.2      Sunday   \n",
       "4 2018-01-01 00:09:18           246             17            2.5      Sunday   \n",
       "\n",
       "   Is_WorkDay  log_duration            datetime  month  \n",
       "0           0      1.098612 2018-01-01 00:00:00      1  \n",
       "1           0      2.890372 2018-01-01 01:00:00      1  \n",
       "2           0      1.609438 2018-01-01 00:00:00      1  \n",
       "3           0      3.465736 2018-01-01 00:00:00      1  \n",
       "4           0      2.833213 2018-01-01 00:00:00      1  "
      ]
     },
     "execution_count": 41,
     "metadata": {},
     "output_type": "execute_result"
    }
   ],
   "source": [
    "df.head()"
   ]
  },
  {
   "cell_type": "code",
   "execution_count": 42,
   "metadata": {},
   "outputs": [
    {
     "data": {
      "text/html": [
       "<div>\n",
       "<style scoped>\n",
       "    .dataframe tbody tr th:only-of-type {\n",
       "        vertical-align: middle;\n",
       "    }\n",
       "\n",
       "    .dataframe tbody tr th {\n",
       "        vertical-align: top;\n",
       "    }\n",
       "\n",
       "    .dataframe thead th {\n",
       "        text-align: right;\n",
       "    }\n",
       "</style>\n",
       "<table border=\"1\" class=\"dataframe\">\n",
       "  <thead>\n",
       "    <tr style=\"text-align: right;\">\n",
       "      <th></th>\n",
       "      <th>PUdatetime</th>\n",
       "      <th>DOdatetime</th>\n",
       "      <th>PULocationID</th>\n",
       "      <th>fare_amount</th>\n",
       "      <th>tip_amount</th>\n",
       "      <th>month</th>\n",
       "    </tr>\n",
       "  </thead>\n",
       "  <tbody>\n",
       "    <tr>\n",
       "      <th>0</th>\n",
       "      <td>2018-01-01 00:08:26</td>\n",
       "      <td>2018-01-01 00:14:21</td>\n",
       "      <td>262</td>\n",
       "      <td>6.0</td>\n",
       "      <td>1.00</td>\n",
       "      <td>1</td>\n",
       "    </tr>\n",
       "    <tr>\n",
       "      <th>1</th>\n",
       "      <td>2018-01-01 00:09:18</td>\n",
       "      <td>2018-01-01 00:27:06</td>\n",
       "      <td>246</td>\n",
       "      <td>12.5</td>\n",
       "      <td>2.75</td>\n",
       "      <td>1</td>\n",
       "    </tr>\n",
       "    <tr>\n",
       "      <th>2</th>\n",
       "      <td>2018-01-01 00:38:08</td>\n",
       "      <td>2018-01-01 00:48:24</td>\n",
       "      <td>50</td>\n",
       "      <td>9.0</td>\n",
       "      <td>2.05</td>\n",
       "      <td>1</td>\n",
       "    </tr>\n",
       "    <tr>\n",
       "      <th>3</th>\n",
       "      <td>2018-01-01 00:49:29</td>\n",
       "      <td>2018-01-01 00:51:53</td>\n",
       "      <td>239</td>\n",
       "      <td>4.0</td>\n",
       "      <td>1.00</td>\n",
       "      <td>1</td>\n",
       "    </tr>\n",
       "    <tr>\n",
       "      <th>4</th>\n",
       "      <td>2018-01-01 00:56:38</td>\n",
       "      <td>2018-01-01 01:01:05</td>\n",
       "      <td>238</td>\n",
       "      <td>5.5</td>\n",
       "      <td>1.70</td>\n",
       "      <td>1</td>\n",
       "    </tr>\n",
       "  </tbody>\n",
       "</table>\n",
       "</div>"
      ],
      "text/plain": [
       "           PUdatetime          DOdatetime  PULocationID  fare_amount  \\\n",
       "0 2018-01-01 00:08:26 2018-01-01 00:14:21           262          6.0   \n",
       "1 2018-01-01 00:09:18 2018-01-01 00:27:06           246         12.5   \n",
       "2 2018-01-01 00:38:08 2018-01-01 00:48:24            50          9.0   \n",
       "3 2018-01-01 00:49:29 2018-01-01 00:51:53           239          4.0   \n",
       "4 2018-01-01 00:56:38 2018-01-01 01:01:05           238          5.5   \n",
       "\n",
       "   tip_amount  month  \n",
       "0        1.00      1  \n",
       "1        2.75      1  \n",
       "2        2.05      1  \n",
       "3        1.00      1  \n",
       "4        1.70      1  "
      ]
     },
     "execution_count": 42,
     "metadata": {},
     "output_type": "execute_result"
    }
   ],
   "source": [
    "df1.head()"
   ]
  },
  {
   "cell_type": "code",
   "execution_count": null,
   "metadata": {},
   "outputs": [],
   "source": []
  },
  {
   "cell_type": "code",
   "execution_count": null,
   "metadata": {},
   "outputs": [],
   "source": []
  },
  {
   "cell_type": "code",
   "execution_count": null,
   "metadata": {},
   "outputs": [],
   "source": []
  }
 ],
 "metadata": {
  "kernelspec": {
   "display_name": "Python 3",
   "language": "python",
   "name": "python3"
  },
  "language_info": {
   "codemirror_mode": {
    "name": "ipython",
    "version": 3
   },
   "file_extension": ".py",
   "mimetype": "text/x-python",
   "name": "python",
   "nbconvert_exporter": "python",
   "pygments_lexer": "ipython3",
   "version": "3.6.9"
  },
  "latex_envs": {
   "LaTeX_envs_menu_present": true,
   "autoclose": false,
   "autocomplete": true,
   "bibliofile": "biblio.bib",
   "cite_by": "apalike",
   "current_citInitial": 1,
   "eqLabelWithNumbers": true,
   "eqNumInitial": 1,
   "hotkeys": {
    "equation": "Ctrl-E",
    "itemize": "Ctrl-I"
   },
   "labels_anchors": false,
   "latex_user_defs": false,
   "report_style_numbering": false,
   "user_envs_cfg": false
  }
 },
 "nbformat": 4,
 "nbformat_minor": 2
}
