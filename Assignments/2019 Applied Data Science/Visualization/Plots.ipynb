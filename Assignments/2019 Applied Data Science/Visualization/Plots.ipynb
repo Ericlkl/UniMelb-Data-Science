{
 "cells": [
  {
   "cell_type": "code",
   "execution_count": 15,
   "metadata": {
    "ExecuteTime": {
     "end_time": "2019-08-11T09:13:50.261185Z",
     "start_time": "2019-08-11T09:13:50.258193Z"
    }
   },
   "outputs": [],
   "source": [
    "import pandas as pd\n",
    "import geopandas as gpd\n",
    "import numpy as np\n",
    "\n",
    "import matplotlib.pyplot as plt\n",
    "import geoplot as gplt\n",
    "import seaborn as sns\n",
    "\n",
    "import folium\n",
    "\n",
    "from ipywidgets import interact, fixed\n",
    "\n",
    "sns.set_style('white')\n",
    "plt.rcParams.update({'font.size': 16})"
   ]
  },
  {
   "cell_type": "markdown",
   "metadata": {},
   "source": [
    "# DOW Durations\n",
    "- This dataset is used to see duration/distance/logduration by day of week, and also can be used to\n",
    "- plot violin plot of workday vs non-workday changing datetime to months"
   ]
  },
  {
   "cell_type": "code",
   "execution_count": 2,
   "metadata": {
    "ExecuteTime": {
     "end_time": "2019-08-11T07:35:09.029226Z",
     "start_time": "2019-08-11T07:34:31.512879Z"
    }
   },
   "outputs": [
    {
     "name": "stderr",
     "output_type": "stream",
     "text": [
      "C:\\Users\\akira\\Anaconda3\\lib\\site-packages\\pyarrow\\pandas_compat.py:752: FutureWarning: .labels was deprecated in version 0.24.0. Use .codes instead.\n",
      "  labels, = index.labels\n"
     ]
    }
   ],
   "source": [
    "df = pd.read_feather('./data/v2/dow_durations.feather').drop('index', axis=1)"
   ]
  },
  {
   "cell_type": "code",
   "execution_count": null,
   "metadata": {
    "ExecuteTime": {
     "end_time": "2019-08-11T07:35:22.660118Z",
     "start_time": "2019-08-11T07:35:09.044186Z"
    }
   },
   "outputs": [],
   "source": [
    "df['months'] = df['PUdatetime'].dt.month\n",
    "df['hour'] = df['PUdatetime'].dt.hour\n",
    "df.drop('PUdatetime',axis=1,inplace=True)"
   ]
  },
  {
   "cell_type": "code",
   "execution_count": null,
   "metadata": {
    "ExecuteTime": {
     "end_time": "2019-08-11T07:35:22.665105Z",
     "start_time": "2019-08-11T07:34:29.201Z"
    }
   },
   "outputs": [],
   "source": [
    "df['Is_PeakHour'] = df['hour'].apply(lambda x: 1 if x in (8,9,10) or x in (4,5,6,7) else 0)"
   ]
  },
  {
   "cell_type": "code",
   "execution_count": null,
   "metadata": {
    "ExecuteTime": {
     "end_time": "2019-08-11T07:35:22.666102Z",
     "start_time": "2019-08-11T07:34:29.202Z"
    }
   },
   "outputs": [],
   "source": [
    "fig, ax = fig, ax = plt.subplots(1, 1, figsize=(10,7))\n",
    "\n",
    "sns.violinplot(x='months', y='log_duration', data=df, hue='Is_WorkDay', split=True, ax=ax, label='Day of Week')\n",
    "ax.set_title(\"Duration of Trips (log minutes) by Month and Day of Week\")\n",
    "ax.set_ylabel(\"Trip Duration (log minutes)\")\n",
    "ax.set_xlabel(\"Month\")\n",
    "\n",
    "fig.savefig('./data/v2/plots/dow_violin.jpg')\n",
    "\n",
    "plt.show()"
   ]
  },
  {
   "cell_type": "code",
   "execution_count": null,
   "metadata": {
    "ExecuteTime": {
     "end_time": "2019-08-11T07:35:22.667100Z",
     "start_time": "2019-08-11T07:34:29.204Z"
    }
   },
   "outputs": [],
   "source": [
    "fig, ax = fig, ax = plt.subplots(1, 1, figsize=(10,7))\n",
    "\n",
    "sns.violinplot(x='Day of Week', y='log_duration', data=df, hue='Is_PeakHour', split=True, ax=ax, label='Time of Day')\n",
    "ax.set_title(\"Duration of Trips (log minutes) during Off-Peak and Peak Hours\")\n",
    "ax.set_ylabel(\"Trip Duration (log minutes)\")\n",
    "ax.set_xlabel(\"Day of Week\")\n",
    "\n",
    "fig.savefig('./data/v2/plots/rushhour_violin.jpg')\n",
    "\n",
    "plt.show()"
   ]
  },
  {
   "cell_type": "code",
   "execution_count": null,
   "metadata": {
    "ExecuteTime": {
     "end_time": "2019-08-11T07:35:22.668097Z",
     "start_time": "2019-08-11T07:34:29.205Z"
    }
   },
   "outputs": [],
   "source": [
    "df.groupby('Is_WorkDay')['trip_duration'].mean()"
   ]
  },
  {
   "cell_type": "code",
   "execution_count": null,
   "metadata": {
    "ExecuteTime": {
     "end_time": "2019-08-11T07:35:22.669094Z",
     "start_time": "2019-08-11T07:34:29.206Z"
    }
   },
   "outputs": [],
   "source": [
    "df.groupby('Is_PeakHour')['trip_duration'].mean()"
   ]
  },
  {
   "cell_type": "markdown",
   "metadata": {},
   "source": [
    "# By Months\n",
    "- This dataset is an aggregation of ALL attributes by MONTH\n",
    "- Includes TOTAL SUM / FREQ of trips made, how \"snowy\" or \"rainy\" the month was as well"
   ]
  },
  {
   "cell_type": "code",
   "execution_count": null,
   "metadata": {
    "ExecuteTime": {
     "end_time": "2019-08-11T07:35:22.670091Z",
     "start_time": "2019-08-11T07:34:29.211Z"
    }
   },
   "outputs": [],
   "source": [
    "df = pd.read_csv('./data/v2/by_month.csv', index_col=0)"
   ]
  },
  {
   "cell_type": "code",
   "execution_count": null,
   "metadata": {
    "ExecuteTime": {
     "end_time": "2019-08-11T07:35:22.671089Z",
     "start_time": "2019-08-11T07:34:29.213Z"
    }
   },
   "outputs": [],
   "source": [
    "df"
   ]
  },
  {
   "cell_type": "code",
   "execution_count": null,
   "metadata": {
    "ExecuteTime": {
     "end_time": "2019-08-11T07:35:22.672087Z",
     "start_time": "2019-08-11T07:34:29.214Z"
    }
   },
   "outputs": [],
   "source": [
    "fig, ax = fig, ax = plt.subplots(1, 1, figsize=(10,7))\n",
    "\n",
    "plt.grid(False)\n",
    "\n",
    "sns.barplot(x='month',y='trip_duration', data=df, ax=ax, label='Trip Duration')\n",
    "ax.set_title(\"Duration of Trips (minutes) by Month\")\n",
    "ax.set_ylabel(\"Trip Duration (minutes)\")\n",
    "ax.set_xlabel(\"Month\")\n",
    "ax.set_ylim(12.5, 20)\n",
    "\n",
    "plt.savefig(\"./data/v2/plots/duration_trips_month.jpg\")"
   ]
  },
  {
   "cell_type": "code",
   "execution_count": null,
   "metadata": {
    "ExecuteTime": {
     "end_time": "2019-08-11T07:35:22.673084Z",
     "start_time": "2019-08-11T07:34:29.215Z"
    },
    "scrolled": false
   },
   "outputs": [],
   "source": [
    "fig, ax = fig, ax = plt.subplots(1, 1, figsize=(10,7))\n",
    "\n",
    "plt.grid(False)\n",
    "\n",
    "sns.barplot(x='month',y='count', data=df, ax=ax, label='Trip Duration')\n",
    "ax.set_title(\"Number of Trips by Month\")\n",
    "ax.set_ylabel(\"Number of Trips (x10⁷)\")\n",
    "ax.set_xlabel(\"Month\")\n",
    "ax.set_ylim(7500000, 10000000)\n",
    "\n",
    "plt.savefig(\"./data/v2/plots/number_of_trips_month.jpg\")"
   ]
  },
  {
   "cell_type": "code",
   "execution_count": null,
   "metadata": {
    "ExecuteTime": {
     "end_time": "2019-08-11T07:35:22.674093Z",
     "start_time": "2019-08-11T07:34:29.216Z"
    }
   },
   "outputs": [],
   "source": [
    "df['total'] = df['trip_duration'] * df['count']\n",
    "\n",
    "fig, ax = fig, ax = plt.subplots(1, 1, figsize=(10,7))\n",
    "\n",
    "plt.grid(False)\n",
    "\n",
    "sns.barplot(x='month',y='total', data=df, ax=ax, label='Trip Duration')\n",
    "ax.set_title(\"Grand Total of Minutes Driven by Month\")\n",
    "ax.set_ylabel(\"Grand Total of Trip Duration (minutes)\")\n",
    "ax.set_xlabel(\"Month\")\n",
    "ax.set_ylim(125000000, 170000000)\n",
    "\n",
    "plt.savefig(\"./data/v2/plots/grand_total_month.jpg\")"
   ]
  },
  {
   "cell_type": "code",
   "execution_count": null,
   "metadata": {
    "ExecuteTime": {
     "end_time": "2019-08-11T07:35:22.675082Z",
     "start_time": "2019-08-11T07:34:29.218Z"
    }
   },
   "outputs": [],
   "source": [
    "fig, ax = fig, ax = plt.subplots(1, 1, figsize=(14,7))\n",
    "\n",
    "plt.grid(False)\n",
    "\n",
    "df[['month','heavy_snow','snow','heavy_rain','rain','count']].plot.bar(ax=ax, x='month')\n",
    "ax.set_title(\"Weather Impacts on Trip Frequency by Month\")\n",
    "ax.set_ylabel(\"Total Count\")\n",
    "ax.set_xlabel(\"Month\")\n",
    "ax.set_xlim(-0.5,12)\n",
    "\n",
    "plt.setp(ax.xaxis.get_majorticklabels(), rotation=0)\n",
    "plt.legend(loc=(1.025,0.775))\n",
    "\n",
    "plt.savefig(\"./data/v2/plots/number_of_trips_month.jpg\")"
   ]
  },
  {
   "cell_type": "code",
   "execution_count": null,
   "metadata": {
    "ExecuteTime": {
     "end_time": "2019-08-11T07:35:22.676076Z",
     "start_time": "2019-08-11T07:34:29.219Z"
    }
   },
   "outputs": [],
   "source": [
    "df.corr()"
   ]
  },
  {
   "cell_type": "code",
   "execution_count": null,
   "metadata": {
    "ExecuteTime": {
     "end_time": "2019-08-11T07:35:22.677073Z",
     "start_time": "2019-08-11T07:34:29.220Z"
    }
   },
   "outputs": [],
   "source": [
    "plt.figure(figsize=(10,7))\n",
    "sns.heatmap(df.corr())\n",
    "\n",
    "plt.savefig('./data/v2/plots/weather_corrHeatmap.jpg')\n",
    "\n",
    "plt.show()"
   ]
  },
  {
   "cell_type": "code",
   "execution_count": null,
   "metadata": {
    "ExecuteTime": {
     "end_time": "2019-08-11T07:35:22.677073Z",
     "start_time": "2019-08-11T07:34:29.222Z"
    }
   },
   "outputs": [],
   "source": [
    "df"
   ]
  },
  {
   "cell_type": "markdown",
   "metadata": {
    "ExecuteTime": {
     "end_time": "2019-08-08T01:58:17.381676Z",
     "start_time": "2019-08-08T01:58:17.357072Z"
    }
   },
   "source": [
    "# By Zone\n",
    "- This dataset is an aggregation of ALL attributes by ZONES\n",
    "- Useful for plotting choropleth for duration/logduration/distance/fare/tip/freq\n",
    "- **Need to merge with shapefiles**"
   ]
  },
  {
   "cell_type": "code",
   "execution_count": 5,
   "metadata": {
    "ExecuteTime": {
     "end_time": "2019-08-11T09:01:41.768396Z",
     "start_time": "2019-08-11T09:01:41.633645Z"
    }
   },
   "outputs": [],
   "source": [
    "zones = pd.read_csv('./data/taxi+_zone_lookup.csv')\n",
    "\n",
    "sf = gpd.read_file(\"./data/taxi_zones/taxi_zones.shp\")\n",
    "# Drop these columns since they are preserved in the zone_lookup.csv \n",
    "sf.drop(['OBJECTID','Shape_Leng','Shape_Area','zone','borough'],axis=1,inplace=True)\n",
    "# Convert to long/lat \n",
    "sf['geometry'] = sf['geometry'].to_crs(\"+proj=longlat +ellps=WGS84 +datum=WGS84 +no_defs\")"
   ]
  },
  {
   "cell_type": "code",
   "execution_count": 6,
   "metadata": {
    "ExecuteTime": {
     "end_time": "2019-08-11T09:01:41.894467Z",
     "start_time": "2019-08-11T09:01:41.885491Z"
    }
   },
   "outputs": [],
   "source": [
    "df1 = pd.read_csv('./data/v2/zone_agg.csv', index_col=0)\n",
    "df1 = gpd.GeoDataFrame(pd.merge(df1, sf, left_on='PULocationID', right_on='LocationID')).drop('PULocationID',axis=1)"
   ]
  },
  {
   "cell_type": "code",
   "execution_count": 7,
   "metadata": {
    "ExecuteTime": {
     "end_time": "2019-08-11T09:01:42.158144Z",
     "start_time": "2019-08-11T09:01:42.148630Z"
    }
   },
   "outputs": [
    {
     "data": {
      "text/html": [
       "<div>\n",
       "<style scoped>\n",
       "    .dataframe tbody tr th:only-of-type {\n",
       "        vertical-align: middle;\n",
       "    }\n",
       "\n",
       "    .dataframe tbody tr th {\n",
       "        vertical-align: top;\n",
       "    }\n",
       "\n",
       "    .dataframe thead th {\n",
       "        text-align: right;\n",
       "    }\n",
       "</style>\n",
       "<table border=\"1\" class=\"dataframe\">\n",
       "  <thead>\n",
       "    <tr style=\"text-align: right;\">\n",
       "      <th></th>\n",
       "      <th>LocationID</th>\n",
       "      <th>Borough</th>\n",
       "      <th>Zone</th>\n",
       "      <th>service_zone</th>\n",
       "    </tr>\n",
       "  </thead>\n",
       "  <tbody>\n",
       "    <tr>\n",
       "      <th>0</th>\n",
       "      <td>1</td>\n",
       "      <td>EWR</td>\n",
       "      <td>Newark Airport</td>\n",
       "      <td>EWR</td>\n",
       "    </tr>\n",
       "    <tr>\n",
       "      <th>1</th>\n",
       "      <td>2</td>\n",
       "      <td>Queens</td>\n",
       "      <td>Jamaica Bay</td>\n",
       "      <td>Boro Zone</td>\n",
       "    </tr>\n",
       "    <tr>\n",
       "      <th>2</th>\n",
       "      <td>3</td>\n",
       "      <td>Bronx</td>\n",
       "      <td>Allerton/Pelham Gardens</td>\n",
       "      <td>Boro Zone</td>\n",
       "    </tr>\n",
       "    <tr>\n",
       "      <th>3</th>\n",
       "      <td>4</td>\n",
       "      <td>Manhattan</td>\n",
       "      <td>Alphabet City</td>\n",
       "      <td>Yellow Zone</td>\n",
       "    </tr>\n",
       "    <tr>\n",
       "      <th>4</th>\n",
       "      <td>5</td>\n",
       "      <td>Staten Island</td>\n",
       "      <td>Arden Heights</td>\n",
       "      <td>Boro Zone</td>\n",
       "    </tr>\n",
       "  </tbody>\n",
       "</table>\n",
       "</div>"
      ],
      "text/plain": [
       "   LocationID        Borough                     Zone service_zone\n",
       "0           1            EWR           Newark Airport          EWR\n",
       "1           2         Queens              Jamaica Bay    Boro Zone\n",
       "2           3          Bronx  Allerton/Pelham Gardens    Boro Zone\n",
       "3           4      Manhattan            Alphabet City  Yellow Zone\n",
       "4           5  Staten Island            Arden Heights    Boro Zone"
      ]
     },
     "execution_count": 7,
     "metadata": {},
     "output_type": "execute_result"
    }
   ],
   "source": [
    "zones.head()"
   ]
  },
  {
   "cell_type": "markdown",
   "metadata": {},
   "source": [
    "# Folium Plots"
   ]
  },
  {
   "cell_type": "code",
   "execution_count": null,
   "metadata": {
    "ExecuteTime": {
     "end_time": "2019-08-11T07:35:22.681077Z",
     "start_time": "2019-08-11T07:34:29.232Z"
    }
   },
   "outputs": [],
   "source": [
    "dfzone = pd.merge(df1, zones, on='LocationID')\n",
    "geo = gpd.GeoDataFrame(dfzone[['LocationID','geometry']]).to_json()"
   ]
  },
  {
   "cell_type": "code",
   "execution_count": null,
   "metadata": {
    "ExecuteTime": {
     "end_time": "2019-08-11T07:35:22.682060Z",
     "start_time": "2019-08-11T07:34:29.233Z"
    }
   },
   "outputs": [],
   "source": [
    "nyc_map = folium.Map(location=[40.66, -73.94], tiles=\"Stamen Terrain\", zoom_start=10)\n",
    "\n",
    "folium.Choropleth(\n",
    "    geo_data=geo,\n",
    "    name='choropleth',\n",
    "    fill_color='blue',\n",
    "    fill_opacity=0.15,\n",
    "    line_opacity=0.75\n",
    ").add_to(nyc_map)\n",
    "\n",
    "nyc_map.save('./data/v2/plots/nyc_map_interactive.html')"
   ]
  },
  {
   "cell_type": "code",
   "execution_count": null,
   "metadata": {
    "ExecuteTime": {
     "end_time": "2019-08-11T07:35:22.683057Z",
     "start_time": "2019-08-11T07:34:29.235Z"
    }
   },
   "outputs": [],
   "source": [
    "ld_m = folium.Map(location=[40.66, -73.94], tiles=\"Stamen Terrain\", zoom_start=11)\n",
    "\n",
    "folium.Choropleth(\n",
    "    geo_data=geo,\n",
    "    name='choropleth',\n",
    "    data=dfzone,\n",
    "    columns=['LocationID', 'log_duration'],\n",
    "    key_on='properties.LocationID',\n",
    "    fill_color='OrRd',\n",
    "    fill_opacity=0.9,\n",
    "    line_opacity=0.5,\n",
    "    legend_name='log(Trip Duration)'\n",
    ").add_to(ld_m)\n",
    "\n",
    "ld_m.save('./data/v2/plots/choropleth_logduration_interactive.html')"
   ]
  },
  {
   "cell_type": "code",
   "execution_count": null,
   "metadata": {
    "ExecuteTime": {
     "end_time": "2019-08-11T07:35:22.684054Z",
     "start_time": "2019-08-11T07:34:29.236Z"
    }
   },
   "outputs": [],
   "source": [
    "geo_t15 = gpd.GeoDataFrame(top_15[['LocationID','geometry']]).to_json()\n",
    "t15_m = folium.Map(location=[40.66, -73.94], tiles=\"Stamen Terrain\", zoom_start=11)\n",
    "\n",
    "folium.Choropleth(\n",
    "    geo_data=geo_t15,\n",
    "    name='choropleth',\n",
    "    data=top_15,\n",
    "    columns=['LocationID', 'log_duration'],\n",
    "    key_on='properties.LocationID',\n",
    "    fill_color='OrRd',\n",
    "    fill_opacity=0.9,\n",
    "    line_opacity=0.5,\n",
    "    legend_name='log(Trip Duration)'\n",
    ").add_to(t15_m)\n",
    "\n",
    "t15_m.save('./data/v2/plots/choropleth_top15_duration_interactive.html')"
   ]
  },
  {
   "cell_type": "code",
   "execution_count": 8,
   "metadata": {
    "ExecuteTime": {
     "end_time": "2019-08-11T09:01:49.874465Z",
     "start_time": "2019-08-11T09:01:49.859473Z"
    }
   },
   "outputs": [],
   "source": [
    "weather_df = pd.merge(pd.read_csv('./data/v2/by_zone.csv', index_col=0), sf, left_on='PULocationID', right_on='LocationID').drop('PULocationID',axis=1)"
   ]
  },
  {
   "cell_type": "code",
   "execution_count": 9,
   "metadata": {
    "ExecuteTime": {
     "end_time": "2019-08-11T09:01:50.129887Z",
     "start_time": "2019-08-11T09:01:50.113950Z"
    }
   },
   "outputs": [
    {
     "data": {
      "text/html": [
       "<div>\n",
       "<style scoped>\n",
       "    .dataframe tbody tr th:only-of-type {\n",
       "        vertical-align: middle;\n",
       "    }\n",
       "\n",
       "    .dataframe tbody tr th {\n",
       "        vertical-align: top;\n",
       "    }\n",
       "\n",
       "    .dataframe thead th {\n",
       "        text-align: right;\n",
       "    }\n",
       "</style>\n",
       "<table border=\"1\" class=\"dataframe\">\n",
       "  <thead>\n",
       "    <tr style=\"text-align: right;\">\n",
       "      <th></th>\n",
       "      <th>month</th>\n",
       "      <th>trip_duration</th>\n",
       "      <th>trip_distance</th>\n",
       "      <th>tmpc</th>\n",
       "      <th>heavy_snow</th>\n",
       "      <th>snow</th>\n",
       "      <th>heavy_rain</th>\n",
       "      <th>rain</th>\n",
       "      <th>count</th>\n",
       "      <th>LocationID</th>\n",
       "      <th>geometry</th>\n",
       "    </tr>\n",
       "  </thead>\n",
       "  <tbody>\n",
       "    <tr>\n",
       "      <th>0</th>\n",
       "      <td>1</td>\n",
       "      <td>15.683333</td>\n",
       "      <td>9.143167</td>\n",
       "      <td>14.154444</td>\n",
       "      <td>14.0</td>\n",
       "      <td>14.0</td>\n",
       "      <td>20.0</td>\n",
       "      <td>23.0</td>\n",
       "      <td>60</td>\n",
       "      <td>1</td>\n",
       "      <td>POLYGON ((-74.18445299999996 40.6949959999999,...</td>\n",
       "    </tr>\n",
       "    <tr>\n",
       "      <th>1</th>\n",
       "      <td>2</td>\n",
       "      <td>16.758621</td>\n",
       "      <td>7.280517</td>\n",
       "      <td>22.265000</td>\n",
       "      <td>0.0</td>\n",
       "      <td>0.0</td>\n",
       "      <td>27.0</td>\n",
       "      <td>28.0</td>\n",
       "      <td>58</td>\n",
       "      <td>1</td>\n",
       "      <td>POLYGON ((-74.18445299999996 40.6949959999999,...</td>\n",
       "    </tr>\n",
       "    <tr>\n",
       "      <th>2</th>\n",
       "      <td>3</td>\n",
       "      <td>26.694915</td>\n",
       "      <td>11.049831</td>\n",
       "      <td>12.412000</td>\n",
       "      <td>23.0</td>\n",
       "      <td>23.0</td>\n",
       "      <td>23.0</td>\n",
       "      <td>27.0</td>\n",
       "      <td>59</td>\n",
       "      <td>1</td>\n",
       "      <td>POLYGON ((-74.18445299999996 40.6949959999999,...</td>\n",
       "    </tr>\n",
       "    <tr>\n",
       "      <th>3</th>\n",
       "      <td>4</td>\n",
       "      <td>43.738462</td>\n",
       "      <td>8.965692</td>\n",
       "      <td>21.020000</td>\n",
       "      <td>0.0</td>\n",
       "      <td>0.0</td>\n",
       "      <td>44.0</td>\n",
       "      <td>48.0</td>\n",
       "      <td>65</td>\n",
       "      <td>1</td>\n",
       "      <td>POLYGON ((-74.18445299999996 40.6949959999999,...</td>\n",
       "    </tr>\n",
       "    <tr>\n",
       "      <th>4</th>\n",
       "      <td>5</td>\n",
       "      <td>19.250000</td>\n",
       "      <td>9.426842</td>\n",
       "      <td>28.890000</td>\n",
       "      <td>0.0</td>\n",
       "      <td>0.0</td>\n",
       "      <td>50.0</td>\n",
       "      <td>51.0</td>\n",
       "      <td>76</td>\n",
       "      <td>1</td>\n",
       "      <td>POLYGON ((-74.18445299999996 40.6949959999999,...</td>\n",
       "    </tr>\n",
       "  </tbody>\n",
       "</table>\n",
       "</div>"
      ],
      "text/plain": [
       "   month  trip_duration  trip_distance       tmpc  heavy_snow  snow  \\\n",
       "0      1      15.683333       9.143167  14.154444        14.0  14.0   \n",
       "1      2      16.758621       7.280517  22.265000         0.0   0.0   \n",
       "2      3      26.694915      11.049831  12.412000        23.0  23.0   \n",
       "3      4      43.738462       8.965692  21.020000         0.0   0.0   \n",
       "4      5      19.250000       9.426842  28.890000         0.0   0.0   \n",
       "\n",
       "   heavy_rain  rain  count  LocationID  \\\n",
       "0        20.0  23.0     60           1   \n",
       "1        27.0  28.0     58           1   \n",
       "2        23.0  27.0     59           1   \n",
       "3        44.0  48.0     65           1   \n",
       "4        50.0  51.0     76           1   \n",
       "\n",
       "                                            geometry  \n",
       "0  POLYGON ((-74.18445299999996 40.6949959999999,...  \n",
       "1  POLYGON ((-74.18445299999996 40.6949959999999,...  \n",
       "2  POLYGON ((-74.18445299999996 40.6949959999999,...  \n",
       "3  POLYGON ((-74.18445299999996 40.6949959999999,...  \n",
       "4  POLYGON ((-74.18445299999996 40.6949959999999,...  "
      ]
     },
     "execution_count": 9,
     "metadata": {},
     "output_type": "execute_result"
    }
   ],
   "source": [
    "weather_df.head()"
   ]
  },
  {
   "cell_type": "code",
   "execution_count": null,
   "metadata": {
    "ExecuteTime": {
     "end_time": "2019-08-11T07:35:22.686049Z",
     "start_time": "2019-08-11T07:34:29.242Z"
    }
   },
   "outputs": [],
   "source": [
    "geo_event = gpd.GeoDataFrame(weather_df.loc[weather_df.month == 4][['LocationID','geometry']]).to_json()\n",
    "event_m = folium.Map(location=[40.66, -73.94], tiles=\"Stamen Terrain\", zoom_start=11)\n",
    "\n",
    "folium.Choropleth(\n",
    "    geo_data=geo_event,\n",
    "    name='choropleth',\n",
    "    data=weather_df,\n",
    "    columns=['LocationID', 'count'],\n",
    "    key_on='properties.LocationID',\n",
    "    fill_color='OrRd',\n",
    "    fill_opacity=0.9,\n",
    "    line_opacity=0.5,\n",
    "    legend_name='Number of Trips made'\n",
    ").add_to(event_m)\n",
    "\n",
    "event_m.save('./data/v2/plots/choropleth_events_may.html')"
   ]
  },
  {
   "cell_type": "code",
   "execution_count": null,
   "metadata": {
    "ExecuteTime": {
     "end_time": "2019-08-11T07:35:22.688044Z",
     "start_time": "2019-08-11T07:34:29.243Z"
    }
   },
   "outputs": [],
   "source": [
    "geo_event = gpd.GeoDataFrame(weather_df.loc[weather_df.month == 11][['LocationID','geometry']]).to_json()\n",
    "event_m = folium.Map(location=[40.66, -73.94], tiles=\"Stamen Terrain\", zoom_start=11)\n",
    "\n",
    "folium.Choropleth(\n",
    "    geo_data=geo_event,\n",
    "    name='choropleth',\n",
    "    data=weather_df,\n",
    "    columns=['LocationID', 'count'],\n",
    "    key_on='properties.LocationID',\n",
    "    fill_color='OrRd',\n",
    "    fill_opacity=0.9,\n",
    "    line_opacity=0.5,\n",
    "    legend_name='Fare Amount + Tips per Trip'\n",
    ").add_to(event_m)\n",
    "\n",
    "event_m.save('./data/v2/plots/choropleth_events_sept.html')"
   ]
  },
  {
   "cell_type": "code",
   "execution_count": null,
   "metadata": {},
   "outputs": [],
   "source": []
  },
  {
   "cell_type": "code",
   "execution_count": null,
   "metadata": {
    "ExecuteTime": {
     "end_time": "2019-08-11T07:35:22.688044Z",
     "start_time": "2019-08-11T07:34:29.246Z"
    }
   },
   "outputs": [],
   "source": [
    "df1['money_per_trip'] = df1['fare_amount'] + df1['tip_amount']\n",
    "df1['total_money'] = (df1['fare_amount'] + df1['tip_amount']) * df1['freq']"
   ]
  },
  {
   "cell_type": "code",
   "execution_count": null,
   "metadata": {
    "ExecuteTime": {
     "end_time": "2019-08-11T07:35:22.689041Z",
     "start_time": "2019-08-11T07:34:29.247Z"
    }
   },
   "outputs": [],
   "source": [
    "df1.head()"
   ]
  },
  {
   "cell_type": "code",
   "execution_count": null,
   "metadata": {
    "ExecuteTime": {
     "end_time": "2019-08-11T07:35:22.690040Z",
     "start_time": "2019-08-11T07:34:29.248Z"
    }
   },
   "outputs": [],
   "source": [
    "profits = pd.merge(df1[['LocationID','money_per_trip','total_money','freq','geometry']], zones, on='LocationID')\n",
    "best_trips = profits.sort_values('money_per_trip', ascending=False)[['LocationID','Zone','money_per_trip','freq','geometry']]\n",
    "most_money = profits.sort_values('total_money', ascending=False)[['LocationID','Zone','total_money','freq','geometry']]"
   ]
  },
  {
   "cell_type": "code",
   "execution_count": null,
   "metadata": {
    "ExecuteTime": {
     "end_time": "2019-08-11T07:35:22.692033Z",
     "start_time": "2019-08-11T07:34:29.250Z"
    }
   },
   "outputs": [],
   "source": [
    "best_trips.head()"
   ]
  },
  {
   "cell_type": "code",
   "execution_count": null,
   "metadata": {
    "ExecuteTime": {
     "end_time": "2019-08-11T07:35:22.693030Z",
     "start_time": "2019-08-11T07:34:29.251Z"
    }
   },
   "outputs": [],
   "source": [
    "most_money.head()"
   ]
  },
  {
   "cell_type": "code",
   "execution_count": null,
   "metadata": {
    "ExecuteTime": {
     "end_time": "2019-08-11T07:35:22.694041Z",
     "start_time": "2019-08-11T07:34:29.254Z"
    }
   },
   "outputs": [],
   "source": [
    "geo_mm = gpd.GeoDataFrame(most_money[['LocationID','geometry']]).to_json()\n",
    "most_money['log_tm'] = np.log(most_money['total_money'])\n",
    "mm_m = folium.Map(location=[40.66, -73.94], tiles=\"Stamen Terrain\", zoom_start=11)\n",
    "\n",
    "folium.Choropleth(\n",
    "    geo_data=geo_mm,\n",
    "    name='choropleth',\n",
    "    data=most_money,\n",
    "    columns=['LocationID', 'total_money'],\n",
    "    key_on='properties.LocationID',\n",
    "    fill_color='Purples',\n",
    "    fill_opacity=0.9,\n",
    "    line_opacity=0.5,\n",
    "    legend_name='Grand Total of Money Made'\n",
    ").add_to(mm_m)\n",
    "\n",
    "mm_m.save('./data/v2/plots/choropleth_most_money.html')"
   ]
  },
  {
   "cell_type": "code",
   "execution_count": null,
   "metadata": {
    "ExecuteTime": {
     "end_time": "2019-08-11T07:35:22.696023Z",
     "start_time": "2019-08-11T07:34:29.255Z"
    }
   },
   "outputs": [],
   "source": [
    "geo_ld = gpd.GeoDataFrame(best_trips[['LocationID','geometry']]).to_json()\n",
    "ld_m = folium.Map(location=[40.66, -73.94], tiles=\"Stamen Terrain\", zoom_start=11)\n",
    "\n",
    "folium.Choropleth(\n",
    "    geo_data=geo_ld,\n",
    "    name='choropleth',\n",
    "    data=best_trips,\n",
    "    columns=['LocationID', 'money_per_trip'],\n",
    "    key_on='properties.LocationID',\n",
    "    fill_color='Purples',\n",
    "    fill_opacity=0.9,\n",
    "    line_opacity=0.5,\n",
    "    legend_name='Profit per Trip'\n",
    ").add_to(ld_m)\n",
    "\n",
    "ld_m.save('./data/v2/plots/choropleth_best_trips.html')"
   ]
  },
  {
   "cell_type": "code",
   "execution_count": null,
   "metadata": {
    "ExecuteTime": {
     "end_time": "2019-08-11T07:35:22.696023Z",
     "start_time": "2019-08-11T07:34:29.257Z"
    }
   },
   "outputs": [],
   "source": [
    "df1.head()"
   ]
  },
  {
   "cell_type": "code",
   "execution_count": null,
   "metadata": {
    "ExecuteTime": {
     "end_time": "2019-08-11T07:35:22.699015Z",
     "start_time": "2019-08-11T07:34:29.258Z"
    }
   },
   "outputs": [],
   "source": [
    "df1['expected_rate_time'] = np.log((df1['money_per_trip'] / df1['trip_duration']) * (df1['freq'] / df1['freq'].sum()))\n",
    "df1['expected_rate_dist'] = np.log((df1['money_per_trip'] / df1['trip_distance']) * (df1['freq'] / df1['freq'].sum()))"
   ]
  },
  {
   "cell_type": "code",
   "execution_count": null,
   "metadata": {
    "ExecuteTime": {
     "end_time": "2019-08-11T07:35:22.700012Z",
     "start_time": "2019-08-11T07:34:29.260Z"
    }
   },
   "outputs": [],
   "source": [
    "test = gpd.GeoDataFrame(df1[['LocationID','geometry']]).to_json()\n",
    "test_m = folium.Map(location=[40.66, -73.94], tiles=\"Stamen Terrain\", zoom_start=11)\n",
    "\n",
    "folium.Choropleth(\n",
    "    geo_data=test,\n",
    "    name='choropleth',\n",
    "    data=df1,\n",
    "    columns=['LocationID', 'expected_rate_time'],\n",
    "    key_on='properties.LocationID',\n",
    "    fill_color='YlGnBu',\n",
    "    fill_opacity=0.9,\n",
    "    line_opacity=0.5,\n",
    "    legend_name='log(Expected Money per Minute x Proportion of Trips)'\n",
    ").add_to(test_m)\n",
    "\n",
    "test_m.save('./data/v2/plots/min_prop.html')"
   ]
  },
  {
   "cell_type": "code",
   "execution_count": null,
   "metadata": {
    "ExecuteTime": {
     "end_time": "2019-08-11T07:35:22.702007Z",
     "start_time": "2019-08-11T07:34:29.261Z"
    }
   },
   "outputs": [],
   "source": [
    "test = gpd.GeoDataFrame(df1[['LocationID','geometry']]).to_json()\n",
    "test_m = folium.Map(location=[40.7, -73.94], tiles=\"Stamen Terrain\", zoom_start=11)\n",
    "\n",
    "folium.Choropleth(\n",
    "    geo_data=test,\n",
    "    name='choropleth',\n",
    "    data=df1,\n",
    "    columns=['LocationID', 'expected_rate_dist'],\n",
    "    key_on='properties.LocationID',\n",
    "    fill_color='YlGnBu',\n",
    "    fill_opacity=0.9,\n",
    "    line_opacity=0.5,\n",
    "    legend_name='log(Expected Money per Mile x Proportion of Trips)'\n",
    ").add_to(test_m)\n",
    "\n",
    "test_m.save('./data/v2/plots/dist_prop.html')"
   ]
  },
  {
   "cell_type": "code",
   "execution_count": 12,
   "metadata": {
    "ExecuteTime": {
     "end_time": "2019-08-11T09:03:04.663491Z",
     "start_time": "2019-08-11T09:03:01.073226Z"
    }
   },
   "outputs": [],
   "source": [
    "# compare snow 1\n",
    "weather_df['log_count'] = np.log(weather_df['count'])\n",
    "\n",
    "SNOW = weather_df.loc[weather_df['heavy_snow'] > 0]\n",
    "SNOW = SNOW.loc[SNOW['count'] > 60]\n",
    "\n",
    "snow = gpd.GeoDataFrame(SNOW[['LocationID','geometry']]).to_json()\n",
    "snow_m = folium.Map(location=[40.7, -73.94], tiles=\"Stamen Terrain\", zoom_start=11)\n",
    "\n",
    "folium.Choropleth(\n",
    "    geo_data=snow,\n",
    "    name='choropleth',\n",
    "    data=SNOW,\n",
    "    columns=['LocationID', 'log_count'],\n",
    "    key_on='properties.LocationID',\n",
    "    fill_color='RdPu',\n",
    "    fill_opacity=0.9,\n",
    "    line_opacity=0.5,\n",
    "    legend_name='log(Number of Trips) in Snowy Conditions'\n",
    ").add_to(snow_m)\n",
    "\n",
    "snow_m.save(f'./data/v2/plots/snow/allsnow.html')"
   ]
  },
  {
   "cell_type": "code",
   "execution_count": 13,
   "metadata": {
    "ExecuteTime": {
     "end_time": "2019-08-11T09:03:17.518544Z",
     "start_time": "2019-08-11T09:03:09.504287Z"
    }
   },
   "outputs": [],
   "source": [
    "# compare normal 2\n",
    "NORMAL = weather_df.loc[weather_df['heavy_snow'] == 0]\n",
    "\n",
    "norm = gpd.GeoDataFrame(NORMAL[['LocationID','geometry']]).to_json()\n",
    "norm_m = folium.Map(location=[40.7, -73.94], tiles=\"Stamen Terrain\", zoom_start=11)\n",
    "\n",
    "folium.Choropleth(\n",
    "    geo_data=norm,\n",
    "    name='choropleth',\n",
    "    data=NORMAL,\n",
    "    columns=['LocationID', 'log_count'],\n",
    "    key_on='properties.LocationID',\n",
    "    fill_color='RdPu',\n",
    "    fill_opacity=0.9,\n",
    "    line_opacity=0.5,\n",
    "    legend_name='log(Number of Trips) in Normal Weather Conditions'\n",
    ").add_to(norm_m)\n",
    "\n",
    "norm_m.save(f'./data/v2/plots/snow/allnormal.html')"
   ]
  },
  {
   "cell_type": "code",
   "execution_count": 17,
   "metadata": {
    "ExecuteTime": {
     "end_time": "2019-08-11T09:13:55.605437Z",
     "start_time": "2019-08-11T09:13:55.599450Z"
    }
   },
   "outputs": [],
   "source": [
    "weather_df['is_snow'] = weather_df['heavy_snow'].apply(lambda x: 1 if x > 0 else 0)\n",
    "weather_df['log_duration'] = np.log(weather_df['trip_duration'])"
   ]
  },
  {
   "cell_type": "code",
   "execution_count": 18,
   "metadata": {
    "ExecuteTime": {
     "end_time": "2019-08-11T09:13:56.613293Z",
     "start_time": "2019-08-11T09:13:56.065143Z"
    }
   },
   "outputs": [
    {
     "data": {
      "image/png": "[encoded data removed]",
      "text/plain": [
       "<Figure size 864x504 with 1 Axes>"
      ]
     },
     "metadata": {},
     "output_type": "display_data"
    }
   ],
   "source": [
    "fig, ax = fig, ax = plt.subplots(1, 1, figsize=(12,7))\n",
    "\n",
    "sns.boxplot(x='month', y='trip_distance', hue='is_snow', data=weather_df, ax=ax, color='skyblue')\n",
    "\n",
    "ax.set_title(\"Trip Distance (miles) by Month with respect to Weather Condition\")\n",
    "ax.set_ylabel(\"Trip Distance (miles)\")\n",
    "ax.set_xlabel(\"Month\")\n",
    "\n",
    "fig.savefig('./data/v2/plots/snow/distance_snow.jpg')\n",
    "\n",
    "plt.show()"
   ]
  },
  {
   "cell_type": "code",
   "execution_count": 19,
   "metadata": {
    "ExecuteTime": {
     "end_time": "2019-08-11T09:13:59.293560Z",
     "start_time": "2019-08-11T09:13:58.870578Z"
    }
   },
   "outputs": [
    {
     "data": {
      "image/png": "[encoded data removed]",
      "text/plain": [
       "<Figure size 864x504 with 1 Axes>"
      ]
     },
     "metadata": {},
     "output_type": "display_data"
    }
   ],
   "source": [
    "fig, ax = fig, ax = plt.subplots(1, 1, figsize=(12,7))\n",
    "\n",
    "sns.boxplot(x='month', y='log_duration', hue='is_snow', data=weather_df, ax=ax, color='skyblue')\n",
    "\n",
    "ax.set_title(\"log(Trip Duration) by Month with respect to Weather Condition\")\n",
    "ax.set_ylabel(\"log(Trip Duration)\")\n",
    "ax.set_xlabel(\"Month\")\n",
    "\n",
    "fig.savefig('./data/v2/plots/snow/duration_snow.jpg')\n",
    "\n",
    "plt.show()"
   ]
  },
  {
   "cell_type": "code",
   "execution_count": 20,
   "metadata": {
    "ExecuteTime": {
     "end_time": "2019-08-11T09:14:00.185933Z",
     "start_time": "2019-08-11T09:13:59.740619Z"
    }
   },
   "outputs": [
    {
     "data": {
      "image/png": "[encoded data removed]",
      "text/plain": [
       "<Figure size 864x504 with 1 Axes>"
      ]
     },
     "metadata": {},
     "output_type": "display_data"
    }
   ],
   "source": [
    "fig, ax = fig, ax = plt.subplots(1, 1, figsize=(12,7))\n",
    "\n",
    "sns.boxplot(x='month', y='log_count', hue='is_snow', data=weather_df, ax=ax, color='skyblue')\n",
    "\n",
    "ax.set_title(\"log(Number of Trips) by Month with respect to Weather Condition\")\n",
    "ax.set_ylabel(\"log(Number of Trips)\")\n",
    "ax.set_xlabel(\"Month\")\n",
    "\n",
    "fig.savefig('./data/v2/plots/snow/count_snow.jpg')\n",
    "\n",
    "plt.show()"
   ]
  },
  {
   "cell_type": "code",
   "execution_count": null,
   "metadata": {},
   "outputs": [],
   "source": []
  }
 ],
 "metadata": {
  "kernelspec": {
   "display_name": "Python 3",
   "language": "python",
   "name": "python3"
  },
  "language_info": {
   "codemirror_mode": {
    "name": "ipython",
    "version": 3
   },
   "file_extension": ".py",
   "mimetype": "text/x-python",
   "name": "python",
   "nbconvert_exporter": "python",
   "pygments_lexer": "ipython3",
   "version": "3.6.9"
  },
  "latex_envs": {
   "LaTeX_envs_menu_present": true,
   "autoclose": false,
   "autocomplete": true,
   "bibliofile": "biblio.bib",
   "cite_by": "apalike",
   "current_citInitial": 1,
   "eqLabelWithNumbers": true,
   "eqNumInitial": 1,
   "hotkeys": {
    "equation": "Ctrl-E",
    "itemize": "Ctrl-I"
   },
   "labels_anchors": false,
   "latex_user_defs": false,
   "report_style_numbering": false,
   "user_envs_cfg": false
  }
 },
 "nbformat": 4,
 "nbformat_minor": 2
}
