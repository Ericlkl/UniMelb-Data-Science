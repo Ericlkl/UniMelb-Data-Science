{
 "cells": [
  {
   "cell_type": "code",
   "execution_count": 2,
   "metadata": {},
   "outputs": [],
   "source": [
    "import pandas as pd\n",
    "import numpy as np"
   ]
  },
  {
   "cell_type": "code",
   "execution_count": null,
   "metadata": {},
   "outputs": [],
   "source": [
    "weather_df = pd.read_csv('./data/asos.txt')"
   ]
  },
  {
   "cell_type": "code",
   "execution_count": null,
   "metadata": {},
   "outputs": [],
   "source": [
    "weather_df.head()"
   ]
  },
  {
   "cell_type": "code",
   "execution_count": null,
   "metadata": {},
   "outputs": [],
   "source": [
    "weather_df.rename({'valid':'datetime'},axis=1,inplace=True)"
   ]
  },
  {
   "cell_type": "code",
   "execution_count": null,
   "metadata": {},
   "outputs": [],
   "source": [
    "# Let 'GW' denote Good Weather (aka normal weather)\n",
    "weather_df['wxcodes'] = weather_df.wxcodes.replace(np.NaN, 'GW')\n",
    "np.unique(weather_df.wxcodes)"
   ]
  },
  {
   "cell_type": "code",
   "execution_count": null,
   "metadata": {},
   "outputs": [],
   "source": [
    "# intense rain, intense snow, intense thunderstorm, intense hail, rain, snow, thuderstorm, hail\n",
    "def is_intense_rain(s):\n",
    "    if '+' in s or '-' in s:\n",
    "        if 'RA' in s:\n",
    "            return 1\n",
    "    return 0\n",
    "\n",
    "def is_intense_snow(s):\n",
    "    if '+' in s or '-' in s:\n",
    "        if 'SN' in s:\n",
    "            return 1\n",
    "    return 0\n",
    "\n",
    "def is_rain(s):\n",
    "    if '+' not in s or '-' not in s:    \n",
    "        if 'RA' in s:\n",
    "            return 1\n",
    "    return 0\n",
    "\n",
    "def is_snow(s):\n",
    "    if '+' not in s or '-' not in s:    \n",
    "        if 'SN' in s:\n",
    "            return 1\n",
    "    return 0"
   ]
  },
  {
   "cell_type": "code",
   "execution_count": null,
   "metadata": {},
   "outputs": [],
   "source": [
    "weather_df['heavy_snow'] = weather_df['wxcodes'].apply(lambda x: is_intense_snow(x))\n",
    "weather_df['snow'] = weather_df['wxcodes'].apply(lambda x: is_snow(x))\n",
    "weather_df['heavy_rain'] = weather_df['wxcodes'].apply(lambda x: is_intense_rain(x))\n",
    "weather_df['rain'] = weather_df['wxcodes'].apply(lambda x: is_rain(x))"
   ]
  },
  {
   "cell_type": "code",
   "execution_count": null,
   "metadata": {},
   "outputs": [],
   "source": [
    "weather_df['datetime'] = pd.to_datetime(weather_df.datetime).dt.round('H')"
   ]
  },
  {
   "cell_type": "code",
   "execution_count": null,
   "metadata": {},
   "outputs": [],
   "source": [
    "# Drop rows with missing temperatures\n",
    "missing_weather = weather_df.loc[weather_df.tmpc.isna()].index\n",
    "weather_df.drop(missing_weather, inplace=True)"
   ]
  },
  {
   "cell_type": "code",
   "execution_count": null,
   "metadata": {},
   "outputs": [],
   "source": [
    "# Impute missing ice_accretion with 0, as it means they did not snow that day\n",
    "ia = [f'ice_accretion_{i}hr' for i in ['1','3','6']]\n",
    "for i in ia:\n",
    "    weather_df[i] = weather_df[i].astype(float).fillna(0)"
   ]
  },
  {
   "cell_type": "code",
   "execution_count": null,
   "metadata": {},
   "outputs": [],
   "source": [
    "weather_df.dtypes"
   ]
  },
  {
   "cell_type": "code",
   "execution_count": null,
   "metadata": {},
   "outputs": [],
   "source": [
    "weather_df = weather_df.groupby('datetime').agg({'tmpc': np.mean, 'heavy_snow': np.sum, 'snow': np.sum, 'heavy_rain': np.sum, 'rain': np.sum}).reset_index()"
   ]
  },
  {
   "cell_type": "code",
   "execution_count": null,
   "metadata": {},
   "outputs": [],
   "source": [
    "weather_df.to_csv('./data/weather.csv')\n",
    "del weather_df"
   ]
  },
  {
   "cell_type": "markdown",
   "metadata": {},
   "source": [
    "Dataset ETL:\n",
    "- Drop columns deemed irrelevant (according to the sample dataset, we found these to be non-interesting for the analysis)\n",
    "- Convert require columns to datetime\n",
    "- Add a trip duration column, which will be stored in minutes\n",
    "- No need to worry about invalid long/lat as the data set is now in valid taxi zones"
   ]
  },
  {
   "cell_type": "code",
   "execution_count": 3,
   "metadata": {},
   "outputs": [
    {
     "name": "stdout",
     "output_type": "stream",
     "text": [
      "Processing 1\n",
      "Processing 2\n",
      "Processing 3\n",
      "Processing 4\n",
      "Processing 5\n",
      "Processing 6\n",
      "Processing 7\n",
      "Processing 8\n",
      "Processing 9\n",
      "Processing 10\n",
      "Processing 11\n",
      "Processing 12\n"
     ]
    }
   ],
   "source": [
    "output = pd.DataFrame()\n",
    "\n",
    "for i in range(1, 13):\n",
    "    print(f\"Processing {i}\")\n",
    "    if i < 10:\n",
    "        df = pd.read_csv(f\"./data/yellow_tripdata_2018-0{i}.csv\")\n",
    "\n",
    "    else:\n",
    "        df = pd.read_csv(f\"./data/yellow_tripdata_2018-{i}.csv\")\n",
    "    \n",
    "    # Ensure all values fall within the defined values in the Dictionary specified\n",
    "    df['RatecodeID'] = df['RatecodeID'].apply(lambda x: int(x) if x in range(1, 7) else np.NaN)\n",
    "    df['payment_type'] = df['payment_type'].apply(lambda x: int(x) if x in range(1, 7) else np.NaN)\n",
    "    \n",
    "    # Convert to datetime\n",
    "    df['PUdatetime'] = pd.to_datetime(df['tpep_pickup_datetime'])\n",
    "    df['DOdatetime'] = pd.to_datetime(df['tpep_dropoff_datetime'])\n",
    "    \n",
    "    # Add trip duration by seconds\n",
    "    df['trip_duration'] = df['DOdatetime'] - df['PUdatetime']\n",
    "    df['trip_duration'] = df['trip_duration'].dt.seconds // 60 # round to the nearest minute so we preserve int\n",
    "\n",
    "    df.drop(['tpep_pickup_datetime','tpep_dropoff_datetime'],axis=1,inplace=True)\n",
    "    \n",
    "    # Refer to EDA_sample for reasoning behind this\n",
    "    invalid_vals = df[(df[['trip_duration','trip_distance']] <= 0).any(axis=1)].index\n",
    "    df = df.drop(axis=0, index=invalid_vals)\n",
    "    df = df.dropna()\n",
    "    \n",
    "    \"\"\"\n",
    "    TAXI 2 - Datetime, Duration, Location, Distance\n",
    "    \"\"\"\n",
    "    df = df[['PUdatetime','DOdatetime','PULocationID','trip_duration','trip_distance']]\n",
    "\n",
    "    output = pd.concat([output, df])\n",
    "    \n",
    "    del df\n",
    "\n",
    "output.reset_index().to_feather('./data/2018taxi_durations.feather')"
   ]
  },
  {
   "cell_type": "code",
   "execution_count": 5,
   "metadata": {},
   "outputs": [
    {
     "name": "stdout",
     "output_type": "stream",
     "text": [
      "Processing 1\n",
      "Processing 2\n",
      "Processing 3\n",
      "Processing 4\n",
      "Processing 5\n",
      "Processing 6\n",
      "Processing 7\n",
      "Processing 8\n",
      "Processing 9\n",
      "Processing 10\n",
      "Processing 11\n",
      "Processing 12\n"
     ]
    }
   ],
   "source": [
    "output = pd.DataFrame()\n",
    "\n",
    "for i in range(1, 13):\n",
    "    print(f\"Processing {i}\")\n",
    "    if i < 10:\n",
    "        df = pd.read_csv(f\"./data/yellow_tripdata_2018-0{i}.csv\")\n",
    "\n",
    "    else:\n",
    "        df = pd.read_csv(f\"./data/yellow_tripdata_2018-{i}.csv\")\n",
    "    \n",
    "    # Ensure all values fall within the defined values in the Dictionary specified\n",
    "    df['RatecodeID'] = df['RatecodeID'].apply(lambda x: int(x) if x in range(1, 7) else np.NaN)\n",
    "    df['payment_type'] = df['payment_type'].apply(lambda x: int(x) if x in range(1, 7) else np.NaN)\n",
    "    \n",
    "    # Convert to datetime\n",
    "    df['PUdatetime'] = pd.to_datetime(df['tpep_pickup_datetime'])\n",
    "    df['DOdatetime'] = pd.to_datetime(df['tpep_dropoff_datetime'])\n",
    "    \n",
    "    # Add trip duration by seconds\n",
    "    df['trip_duration'] = df['DOdatetime'] - df['PUdatetime']\n",
    "    df['trip_duration'] = df['trip_duration'].dt.seconds // 60 # round to the nearest minute so we preserve int\n",
    "\n",
    "    df.drop(['tpep_pickup_datetime','tpep_dropoff_datetime'],axis=1,inplace=True)\n",
    "    \n",
    "    # Refer to EDA_sample for reasoning behind this\n",
    "    invalid_vals = df[(df[['trip_duration','trip_distance']] <= 0).any(axis=1)].index\n",
    "    df = df.drop(axis=0, index=invalid_vals)\n",
    "    df = df.dropna()\n",
    "    \n",
    "    \"\"\"\n",
    "    TAXI 1 - Datetime, Duration, Fare, Tip USING ONLY CREDIT CARD TO REMOVE OUTLIERS\n",
    "    - This is because cash is uncertain (i.e some recorded, some not)\n",
    "    \"\"\"\n",
    "    df = df.loc[df['payment_type'] == 1][['PUdatetime','DOdatetime','PULocationID','fare_amount','tip_amount']]\n",
    "\n",
    "    output = pd.concat([output, df])\n",
    "    \n",
    "    del df\n",
    "\n",
    "output.reset_index().to_feather('./data/2018taxi_fares.feather')"
   ]
  },
  {
   "cell_type": "code",
   "execution_count": null,
   "metadata": {},
   "outputs": [],
   "source": []
  },
  {
   "cell_type": "code",
   "execution_count": null,
   "metadata": {},
   "outputs": [],
   "source": []
  },
  {
   "cell_type": "code",
   "execution_count": null,
   "metadata": {},
   "outputs": [],
   "source": []
  },
  {
   "cell_type": "code",
   "execution_count": 4,
   "metadata": {
    "ExecuteTime": {
     "end_time": "2019-08-10T08:35:03.413820Z",
     "start_time": "2019-08-10T08:35:03.409808Z"
    }
   },
   "outputs": [],
   "source": [
    "import pandas as pd\n",
    "import numpy as np"
   ]
  },
  {
   "cell_type": "code",
   "execution_count": 2,
   "metadata": {
    "ExecuteTime": {
     "end_time": "2019-08-10T08:34:55.667063Z",
     "start_time": "2019-08-10T08:34:44.711350Z"
    }
   },
   "outputs": [],
   "source": [
    "df = pd.read_csv(f\"./data/yellow_tripdata_2018-01.csv\")"
   ]
  },
  {
   "cell_type": "code",
   "execution_count": 5,
   "metadata": {
    "ExecuteTime": {
     "end_time": "2019-08-10T08:35:20.448475Z",
     "start_time": "2019-08-10T08:35:05.003182Z"
    }
   },
   "outputs": [],
   "source": [
    "df['RatecodeID'] = df['RatecodeID'].apply(lambda x: int(x) if x in range(1, 7) else np.NaN)\n",
    "df['payment_type'] = df['payment_type'].apply(lambda x: int(x) if x in range(1, 7) else np.NaN)\n",
    "\n",
    "# Convert to datetime\n",
    "df['PUdatetime'] = pd.to_datetime(df['tpep_pickup_datetime'])\n",
    "df['DOdatetime'] = pd.to_datetime(df['tpep_dropoff_datetime'])\n",
    "\n",
    "# Add trip duration by seconds\n",
    "df['trip_duration'] = df['DOdatetime'] - df['PUdatetime']\n",
    "df['trip_duration'] = df['trip_duration'].dt.seconds // 60 # round to the nearest minute so we preserve int\n",
    "\n",
    "df.drop(['tpep_pickup_datetime','tpep_dropoff_datetime'],axis=1,inplace=True)\n",
    "\n",
    "# Refer to EDA_sample for reasoning behind this\n",
    "invalid_vals = df[(df[['trip_duration','trip_distance']] <= 0).any(axis=1)].index\n",
    "df = df.drop(axis=0, index=invalid_vals)\n",
    "df = df.dropna()"
   ]
  },
  {
   "cell_type": "code",
   "execution_count": 10,
   "metadata": {
    "ExecuteTime": {
     "end_time": "2019-08-10T08:36:47.573541Z",
     "start_time": "2019-08-10T08:36:47.547519Z"
    }
   },
   "outputs": [],
   "source": [
    "df['count'] = 1"
   ]
  },
  {
   "cell_type": "code",
   "execution_count": 11,
   "metadata": {
    "ExecuteTime": {
     "end_time": "2019-08-10T08:37:24.475092Z",
     "start_time": "2019-08-10T08:37:24.471080Z"
    }
   },
   "outputs": [
    {
     "data": {
      "text/plain": [
       "Index(['VendorID', 'passenger_count', 'trip_distance', 'RatecodeID',\n",
       "       'store_and_fwd_flag', 'PULocationID', 'DOLocationID', 'payment_type',\n",
       "       'fare_amount', 'extra', 'mta_tax', 'tip_amount', 'tolls_amount',\n",
       "       'improvement_surcharge', 'total_amount', 'PUdatetime', 'DOdatetime',\n",
       "       'trip_duration', 'count'],\n",
       "      dtype='object')"
      ]
     },
     "execution_count": 11,
     "metadata": {},
     "output_type": "execute_result"
    }
   ],
   "source": [
    "df.columns"
   ]
  },
  {
   "cell_type": "code",
   "execution_count": 13,
   "metadata": {
    "ExecuteTime": {
     "end_time": "2019-08-10T08:37:59.615481Z",
     "start_time": "2019-08-10T08:37:59.337083Z"
    }
   },
   "outputs": [],
   "source": [
    "temp = df.groupby('PULocationID').agg({'trip_duration': 'mean',\n",
    "                                       'fare_amount': 'mean',\n",
    "                                       'tip_amount': 'mean',\n",
    "                                       'count': 'sum'\n",
    "}).reset_index()"
   ]
  },
  {
   "cell_type": "code",
   "execution_count": 17,
   "metadata": {
    "ExecuteTime": {
     "end_time": "2019-08-10T08:39:38.241349Z",
     "start_time": "2019-08-10T08:39:38.233815Z"
    }
   },
   "outputs": [
    {
     "data": {
      "text/html": [
       "<div>\n",
       "<style scoped>\n",
       "    .dataframe tbody tr th:only-of-type {\n",
       "        vertical-align: middle;\n",
       "    }\n",
       "\n",
       "    .dataframe tbody tr th {\n",
       "        vertical-align: top;\n",
       "    }\n",
       "\n",
       "    .dataframe thead th {\n",
       "        text-align: right;\n",
       "    }\n",
       "</style>\n",
       "<table border=\"1\" class=\"dataframe\">\n",
       "  <thead>\n",
       "    <tr style=\"text-align: right;\">\n",
       "      <th></th>\n",
       "      <th>PULocationID</th>\n",
       "      <th>trip_duration</th>\n",
       "      <th>fare_amount</th>\n",
       "      <th>tip_amount</th>\n",
       "      <th>count</th>\n",
       "    </tr>\n",
       "  </thead>\n",
       "  <tbody>\n",
       "    <tr>\n",
       "      <th>0</th>\n",
       "      <td>1</td>\n",
       "      <td>15.683333</td>\n",
       "      <td>56.770333</td>\n",
       "      <td>6.011000</td>\n",
       "      <td>60</td>\n",
       "    </tr>\n",
       "    <tr>\n",
       "      <th>1</th>\n",
       "      <td>2</td>\n",
       "      <td>30.500000</td>\n",
       "      <td>30.375000</td>\n",
       "      <td>4.262500</td>\n",
       "      <td>4</td>\n",
       "    </tr>\n",
       "    <tr>\n",
       "      <th>2</th>\n",
       "      <td>3</td>\n",
       "      <td>14.361111</td>\n",
       "      <td>16.055556</td>\n",
       "      <td>0.758056</td>\n",
       "      <td>36</td>\n",
       "    </tr>\n",
       "    <tr>\n",
       "      <th>3</th>\n",
       "      <td>4</td>\n",
       "      <td>14.087430</td>\n",
       "      <td>11.245184</td>\n",
       "      <td>1.475331</td>\n",
       "      <td>19467</td>\n",
       "    </tr>\n",
       "    <tr>\n",
       "      <th>4</th>\n",
       "      <td>6</td>\n",
       "      <td>17.521739</td>\n",
       "      <td>19.043478</td>\n",
       "      <td>3.363478</td>\n",
       "      <td>23</td>\n",
       "    </tr>\n",
       "  </tbody>\n",
       "</table>\n",
       "</div>"
      ],
      "text/plain": [
       "   PULocationID  trip_duration  fare_amount  tip_amount  count\n",
       "0             1      15.683333    56.770333    6.011000     60\n",
       "1             2      30.500000    30.375000    4.262500      4\n",
       "2             3      14.361111    16.055556    0.758056     36\n",
       "3             4      14.087430    11.245184    1.475331  19467\n",
       "4             6      17.521739    19.043478    3.363478     23"
      ]
     },
     "execution_count": 17,
     "metadata": {},
     "output_type": "execute_result"
    }
   ],
   "source": [
    "temp.head()"
   ]
  },
  {
   "cell_type": "code",
   "execution_count": 19,
   "metadata": {
    "ExecuteTime": {
     "end_time": "2019-08-10T08:40:37.646331Z",
     "start_time": "2019-08-10T08:40:37.313883Z"
    }
   },
   "outputs": [],
   "source": [
    "sf = gpd.read_file(\"./data/taxi_zones/taxi_zones.shp\")\n",
    "# Drop these columns since they are preserved in the zone_lookup.csv \n",
    "sf.drop(['OBJECTID','Shape_Leng','Shape_Area','zone','borough'],axis=1,inplace=True)\n",
    "# Convert to long/lat \n",
    "sf['geometry'] = sf['geometry'].to_crs(\"+proj=longlat +ellps=WGS84 +datum=WGS84 +no_defs\")"
   ]
  },
  {
   "cell_type": "code",
   "execution_count": 21,
   "metadata": {
    "ExecuteTime": {
     "end_time": "2019-08-10T08:41:05.442123Z",
     "start_time": "2019-08-10T08:41:05.436139Z"
    }
   },
   "outputs": [],
   "source": [
    "temp = pd.merge(temp, sf, left_on='PULocationID', right_on='LocationID')"
   ]
  },
  {
   "cell_type": "code",
   "execution_count": 36,
   "metadata": {
    "ExecuteTime": {
     "end_time": "2019-08-10T08:44:13.795093Z",
     "start_time": "2019-08-10T08:44:13.790515Z"
    }
   },
   "outputs": [],
   "source": [
    "temp['yongsee'] = np.log((temp['fare_amount'] + temp['tip_amount']) / temp['trip_duration'] + 0.001)"
   ]
  },
  {
   "cell_type": "code",
   "execution_count": 37,
   "metadata": {
    "ExecuteTime": {
     "end_time": "2019-08-10T08:44:14.342150Z",
     "start_time": "2019-08-10T08:44:14.314373Z"
    }
   },
   "outputs": [
    {
     "data": {
      "text/html": [
       "<div>\n",
       "<style scoped>\n",
       "    .dataframe tbody tr th:only-of-type {\n",
       "        vertical-align: middle;\n",
       "    }\n",
       "\n",
       "    .dataframe tbody tr th {\n",
       "        vertical-align: top;\n",
       "    }\n",
       "\n",
       "    .dataframe thead th {\n",
       "        text-align: right;\n",
       "    }\n",
       "</style>\n",
       "<table border=\"1\" class=\"dataframe\">\n",
       "  <thead>\n",
       "    <tr style=\"text-align: right;\">\n",
       "      <th></th>\n",
       "      <th>PULocationID</th>\n",
       "      <th>trip_duration</th>\n",
       "      <th>fare_amount</th>\n",
       "      <th>tip_amount</th>\n",
       "      <th>count</th>\n",
       "      <th>LocationID</th>\n",
       "      <th>geometry</th>\n",
       "      <th>yongsee</th>\n",
       "    </tr>\n",
       "  </thead>\n",
       "  <tbody>\n",
       "    <tr>\n",
       "      <th>0</th>\n",
       "      <td>1</td>\n",
       "      <td>15.683333</td>\n",
       "      <td>56.770333</td>\n",
       "      <td>6.011000</td>\n",
       "      <td>60</td>\n",
       "      <td>1</td>\n",
       "      <td>POLYGON ((-74.18445299999996 40.69499599999989...</td>\n",
       "      <td>1.387309</td>\n",
       "    </tr>\n",
       "    <tr>\n",
       "      <th>1</th>\n",
       "      <td>2</td>\n",
       "      <td>30.500000</td>\n",
       "      <td>30.375000</td>\n",
       "      <td>4.262500</td>\n",
       "      <td>4</td>\n",
       "      <td>2</td>\n",
       "      <td>(POLYGON ((-73.82337597260663 40.6389870471767...</td>\n",
       "      <td>0.128090</td>\n",
       "    </tr>\n",
       "    <tr>\n",
       "      <th>2</th>\n",
       "      <td>3</td>\n",
       "      <td>14.361111</td>\n",
       "      <td>16.055556</td>\n",
       "      <td>0.758056</td>\n",
       "      <td>36</td>\n",
       "      <td>3</td>\n",
       "      <td>POLYGON ((-73.84792614099985 40.8713422339999,...</td>\n",
       "      <td>0.158519</td>\n",
       "    </tr>\n",
       "    <tr>\n",
       "      <th>3</th>\n",
       "      <td>4</td>\n",
       "      <td>14.087430</td>\n",
       "      <td>11.245184</td>\n",
       "      <td>1.475331</td>\n",
       "      <td>19467</td>\n",
       "      <td>4</td>\n",
       "      <td>POLYGON ((-73.97177410965318 40.72582128133705...</td>\n",
       "      <td>-0.100960</td>\n",
       "    </tr>\n",
       "    <tr>\n",
       "      <th>4</th>\n",
       "      <td>6</td>\n",
       "      <td>17.521739</td>\n",
       "      <td>19.043478</td>\n",
       "      <td>3.363478</td>\n",
       "      <td>23</td>\n",
       "      <td>6</td>\n",
       "      <td>POLYGON ((-74.06367318899999 40.60219816599994...</td>\n",
       "      <td>0.246711</td>\n",
       "    </tr>\n",
       "  </tbody>\n",
       "</table>\n",
       "</div>"
      ],
      "text/plain": [
       "   PULocationID  trip_duration  fare_amount  tip_amount  count  LocationID  \\\n",
       "0             1      15.683333    56.770333    6.011000     60           1   \n",
       "1             2      30.500000    30.375000    4.262500      4           2   \n",
       "2             3      14.361111    16.055556    0.758056     36           3   \n",
       "3             4      14.087430    11.245184    1.475331  19467           4   \n",
       "4             6      17.521739    19.043478    3.363478     23           6   \n",
       "\n",
       "                                            geometry   yongsee  \n",
       "0  POLYGON ((-74.18445299999996 40.69499599999989...  1.387309  \n",
       "1  (POLYGON ((-73.82337597260663 40.6389870471767...  0.128090  \n",
       "2  POLYGON ((-73.84792614099985 40.8713422339999,...  0.158519  \n",
       "3  POLYGON ((-73.97177410965318 40.72582128133705... -0.100960  \n",
       "4  POLYGON ((-74.06367318899999 40.60219816599994...  0.246711  "
      ]
     },
     "execution_count": 37,
     "metadata": {},
     "output_type": "execute_result"
    }
   ],
   "source": [
    "temp.head()"
   ]
  },
  {
   "cell_type": "code",
   "execution_count": 38,
   "metadata": {
    "ExecuteTime": {
     "end_time": "2019-08-10T08:44:14.669138Z",
     "start_time": "2019-08-10T08:44:14.667109Z"
    }
   },
   "outputs": [],
   "source": [
    "import matplotlib.pyplot as plt"
   ]
  },
  {
   "cell_type": "code",
   "execution_count": 39,
   "metadata": {
    "ExecuteTime": {
     "end_time": "2019-08-10T08:44:15.294904Z",
     "start_time": "2019-08-10T08:44:15.013022Z"
    }
   },
   "outputs": [
    {
     "data": {
      "text/plain": [
       "<matplotlib.axes._subplots.AxesSubplot at 0x24fad3d62e8>"
      ]
     },
     "execution_count": 39,
     "metadata": {},
     "output_type": "execute_result"
    },
    {
     "data": {
      "image/png": "[encoded data removed]",
      "text/plain": [
       "<Figure size 1008x504 with 2 Axes>"
      ]
     },
     "metadata": {
      "needs_background": "light"
     },
     "output_type": "display_data"
    }
   ],
   "source": [
    "fig, ax = fig, ax = plt.subplots(1, 1, figsize=(14,7))\n",
    "\n",
    "gpd.GeoDataFrame(temp).plot(column='yongsee', ax=ax, legend=True)"
   ]
  },
  {
   "cell_type": "code",
   "execution_count": null,
   "metadata": {},
   "outputs": [],
   "source": []
  },
  {
   "cell_type": "code",
   "execution_count": 15,
   "metadata": {
    "ExecuteTime": {
     "end_time": "2019-08-10T08:38:48.463366Z",
     "start_time": "2019-08-10T08:38:48.456362Z"
    }
   },
   "outputs": [
    {
     "data": {
      "text/plain": [
       "0      2.768850e-05\n",
       "1      5.236761e-07\n",
       "2      4.858828e-06\n",
       "3      2.026413e-03\n",
       "4      3.390701e-06\n",
       "           ...     \n",
       "252    4.724944e-03\n",
       "253    1.198086e-02\n",
       "254    1.821927e-02\n",
       "255    1.588560e-02\n",
       "256    3.021501e-04\n",
       "Length: 257, dtype: float64"
      ]
     },
     "execution_count": 15,
     "metadata": {},
     "output_type": "execute_result"
    }
   ],
   "source": [
    "((temp['fare_amount'] + temp['tip_amount']) / temp['trip_duration']) * (temp['count'] / temp['count'].sum())"
   ]
  },
  {
   "cell_type": "code",
   "execution_count": null,
   "metadata": {},
   "outputs": [],
   "source": []
  },
  {
   "cell_type": "code",
   "execution_count": null,
   "metadata": {},
   "outputs": [],
   "source": []
  },
  {
   "cell_type": "code",
   "execution_count": null,
   "metadata": {},
   "outputs": [],
   "source": []
  },
  {
   "cell_type": "code",
   "execution_count": null,
   "metadata": {},
   "outputs": [],
   "source": []
  },
  {
   "cell_type": "code",
   "execution_count": null,
   "metadata": {},
   "outputs": [],
   "source": []
  }
 ],
 "metadata": {
  "kernelspec": {
   "display_name": "Python 3",
   "language": "python",
   "name": "python3"
  },
  "language_info": {
   "codemirror_mode": {
    "name": "ipython",
    "version": 3
   },
   "file_extension": ".py",
   "mimetype": "text/x-python",
   "name": "python",
   "nbconvert_exporter": "python",
   "pygments_lexer": "ipython3",
   "version": "3.6.9"
  },
  "latex_envs": {
   "LaTeX_envs_menu_present": true,
   "autoclose": false,
   "autocomplete": true,
   "bibliofile": "biblio.bib",
   "cite_by": "apalike",
   "current_citInitial": 1,
   "eqLabelWithNumbers": true,
   "eqNumInitial": 1,
   "hotkeys": {
    "equation": "Ctrl-E",
    "itemize": "Ctrl-I"
   },
   "labels_anchors": false,
   "latex_user_defs": false,
   "report_style_numbering": false,
   "user_envs_cfg": false
  }
 },
 "nbformat": 4,
 "nbformat_minor": 2
}
