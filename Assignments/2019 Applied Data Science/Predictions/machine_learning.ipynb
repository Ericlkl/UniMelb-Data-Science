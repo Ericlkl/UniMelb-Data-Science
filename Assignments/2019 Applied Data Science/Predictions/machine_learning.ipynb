{
 "cells": [
  {
   "cell_type": "code",
   "execution_count": 1,
   "metadata": {
    "ExecuteTime": {
     "end_time": "2019-09-07T00:08:58.890945Z",
     "start_time": "2019-09-07T00:08:58.090094Z"
    }
   },
   "outputs": [],
   "source": [
    "import pandas as pd\n",
    "import numpy as np\n",
    "import graphviz\n",
    "\n",
    "import matplotlib.pyplot as plt\n",
    "import seaborn as sns\n",
    "\n",
    "from sklearn.dummy import DummyClassifier\n",
    "\n",
    "from sklearn.linear_model import LogisticRegression\n",
    "from sklearn.tree import DecisionTreeClassifier, export_graphviz\n",
    "from sklearn.ensemble import RandomForestClassifier\n",
    "\n",
    "from sklearn.metrics import classification_report, accuracy_score, confusion_matrix\n",
    "from sklearn.model_selection import RandomizedSearchCV, train_test_split, cross_val_score, learning_curve\n",
    "\n",
    "import warnings\n",
    "from IPython.display import display\n",
    "warnings.filterwarnings('ignore')\n",
    "\n",
    "CLASS_LABELS = {0: \"Not Profitable at All\",\n",
    "     1: \"Not Profitable\",\n",
    "     2: \"Neutral\",\n",
    "     3: \"Profitable\",\n",
    "     4: \"Very Profitable\" \n",
    "}"
   ]
  },
  {
   "cell_type": "markdown",
   "metadata": {},
   "source": [
    "- Data loads in 3.67 seconds"
   ]
  },
  {
   "cell_type": "code",
   "execution_count": 43,
   "metadata": {
    "ExecuteTime": {
     "end_time": "2019-09-07T02:23:47.364678Z",
     "start_time": "2019-09-07T02:23:42.673058Z"
    }
   },
   "outputs": [],
   "source": [
    "train = pd.read_feather('./ml_data/2017train.feather')\n",
    "dev = pd.read_feather('./ml_data/2018dev.feather')\n",
    "X_test = pd.read_feather('./ml_data/2019test.feather').drop('index', axis=1)"
   ]
  },
  {
   "cell_type": "code",
   "execution_count": 44,
   "metadata": {
    "ExecuteTime": {
     "end_time": "2019-09-07T02:23:47.965169Z",
     "start_time": "2019-09-07T02:23:47.961179Z"
    }
   },
   "outputs": [
    {
     "data": {
      "text/plain": [
       "(26999747, 23820598, 15538830)"
      ]
     },
     "execution_count": 44,
     "metadata": {},
     "output_type": "execute_result"
    }
   ],
   "source": [
    "len(train), len(dev), len(X_test)"
   ]
  },
  {
   "cell_type": "code",
   "execution_count": 5,
   "metadata": {
    "ExecuteTime": {
     "end_time": "2019-09-07T00:09:30.855877Z",
     "start_time": "2019-09-07T00:09:29.948065Z"
    }
   },
   "outputs": [],
   "source": [
    "X_train = train[['PULocationID', 'dow', 'hour', 'tmpc', 'heavy_snow', 'snow']]\n",
    "y_train = train['label']\n",
    "\n",
    "X_dev = dev[['PULocationID', 'dow', 'hour', 'tmpc', 'heavy_snow', 'snow']]\n",
    "y_dev = dev['label']"
   ]
  },
  {
   "cell_type": "code",
   "execution_count": 6,
   "metadata": {
    "ExecuteTime": {
     "end_time": "2019-09-06T10:21:44.932510Z",
     "start_time": "2019-09-06T10:21:44.322610Z"
    }
   },
   "outputs": [
    {
     "data": {
      "text/plain": [
       "0    5399954\n",
       "4    5399950\n",
       "2    5399950\n",
       "3    5399948\n",
       "1    5399945\n",
       "Name: label, dtype: int64"
      ]
     },
     "metadata": {},
     "output_type": "display_data"
    },
    {
     "data": {
      "text/plain": [
       "3    4764120\n",
       "2    4764120\n",
       "0    4764120\n",
       "4    4764119\n",
       "1    4764119\n",
       "Name: label, dtype: int64"
      ]
     },
     "metadata": {},
     "output_type": "display_data"
    }
   ],
   "source": [
    "display(y_train.value_counts())\n",
    "display(y_dev.value_counts())"
   ]
  },
  {
   "cell_type": "code",
   "execution_count": 3,
   "metadata": {
    "ExecuteTime": {
     "end_time": "2019-09-07T00:09:02.373991Z",
     "start_time": "2019-09-07T00:09:02.368992Z"
    }
   },
   "outputs": [],
   "source": [
    "def reporter(y_dev, y_pred):\n",
    "    print(classification_report(y_dev, y_pred))\n",
    "    print(f'Classification Accuracy: {100*accuracy_score(y_pred, y_dev):.2f}%')\n",
    "\n",
    "    df = pd.DataFrame(confusion_matrix(y_dev, y_pred))\n",
    "    fig, ax = fig, ax = plt.subplots(1, 1, figsize=(10,7))\n",
    "    sns.heatmap(df, annot=True, fmt='d', ax=ax)\n",
    "    plt.ylim(-1, 5)\n",
    "    plt.xlim(-1, 5)\n",
    "    plt.show()"
   ]
  },
  {
   "cell_type": "markdown",
   "metadata": {},
   "source": [
    "### Baseline Classifier - OneR\n",
    "- 1 minute 10 seconds (laptop)\n",
    "- 47.8 seconds (desktop)\n",
    "- 28.97%"
   ]
  },
  {
   "cell_type": "code",
   "execution_count": 8,
   "metadata": {
    "ExecuteTime": {
     "end_time": "2019-09-06T10:22:25.323009Z",
     "start_time": "2019-09-06T10:21:44.939492Z"
    }
   },
   "outputs": [
    {
     "name": "stdout",
     "output_type": "stream",
     "text": [
      "              precision    recall  f1-score   support\n",
      "\n",
      "           0       0.51      0.53      0.52   4764120\n",
      "           1       0.00      0.00      0.00   4764119\n",
      "           2       0.00      0.00      0.00   4764120\n",
      "           3       0.23      0.93      0.37   4764120\n",
      "           4       0.00      0.00      0.00   4764119\n",
      "\n",
      "    accuracy                           0.29  23820598\n",
      "   macro avg       0.15      0.29      0.18  23820598\n",
      "weighted avg       0.15      0.29      0.18  23820598\n",
      "\n",
      "Classification Accuracy: 29.25%\n"
     ]
    },
    {
     "data": {
      "image/png": "[encoded data removed]",
      "text/plain": [
       "<Figure size 504x360 with 2 Axes>"
      ]
     },
     "metadata": {
      "needs_background": "light"
     },
     "output_type": "display_data"
    }
   ],
   "source": [
    "oneR = DecisionTreeClassifier(random_state=0, max_depth=1).fit(X_train, y_train)\n",
    "oneR_pred = oneR.predict(X_dev)\n",
    "\n",
    "print(classification_report(y_dev, oneR_pred))\n",
    "print(f'Classification Accuracy: {100*accuracy_score(oneR_pred, y_dev):.2f}%')\n",
    "\n",
    "df = pd.DataFrame(confusion_matrix(y_dev, oneR_pred))\n",
    "\n",
    "fig, ax = fig, ax = plt.subplots(1, 1, figsize=(7,5))\n",
    "sns.heatmap(df, annot=True, fmt='d', ax=ax)\n",
    "\n",
    "plt.title(\"Baseline Classifier - OneR\")\n",
    "\n",
    "plt.show()"
   ]
  },
  {
   "cell_type": "markdown",
   "metadata": {},
   "source": [
    "### Decision Tree Classifier\n",
    "- 1 minute 44 seconds (laptop)\n",
    "- 1 minute 13 seconds (desktop)\n",
    "- 44.96%"
   ]
  },
  {
   "cell_type": "code",
   "execution_count": 28,
   "metadata": {
    "ExecuteTime": {
     "end_time": "2019-09-07T01:03:48.879121Z",
     "start_time": "2019-09-07T01:03:06.492042Z"
    }
   },
   "outputs": [
    {
     "name": "stdout",
     "output_type": "stream",
     "text": [
      "              precision    recall  f1-score   support\n",
      "\n",
      "           0       0.81      0.48      0.61   4764120\n",
      "           1       0.42      0.44      0.43   4764119\n",
      "           2       0.28      0.37      0.32   4764120\n",
      "           3       0.37      0.38      0.38   4764120\n",
      "           4       0.56      0.57      0.56   4764119\n",
      "\n",
      "    accuracy                           0.45  23820598\n",
      "   macro avg       0.49      0.45      0.46  23820598\n",
      "weighted avg       0.49      0.45      0.46  23820598\n",
      "\n",
      "Classification Accuracy: 44.96%\n"
     ]
    },
    {
     "data": {
      "image/png": "[encoded data removed]",
      "text/plain": [
       "<Figure size 504x360 with 2 Axes>"
      ]
     },
     "metadata": {
      "needs_background": "light"
     },
     "output_type": "display_data"
    }
   ],
   "source": [
    "clf = DecisionTreeClassifier(random_state=0, min_impurity_decrease = 0, max_depth = 5).fit(X_train, y_train)\n",
    "y_pred = clf.predict(X_dev)\n",
    "\n",
    "export_graphviz(clf, out_file = 'treeInitial.dot',\n",
    "                                 feature_names=X_train.columns, filled   = True\n",
    "                                    , rounded  = True\n",
    "                                    , special_characters = True)\n",
    "\n",
    "print(classification_report(y_dev, y_pred))\n",
    "print(f'Classification Accuracy: {100*accuracy_score(y_pred, y_dev):.2f}%')\n",
    "\n",
    "df = pd.DataFrame(confusion_matrix(y_dev, y_pred))\n",
    "\n",
    "fig, ax = fig, ax = plt.subplots(1, 1, figsize=(7,5))\n",
    "sns.heatmap(df, annot=True, fmt='d', ax=ax)\n",
    "\n",
    "\n",
    "plt.show()"
   ]
  },
  {
   "cell_type": "code",
   "execution_count": 29,
   "metadata": {
    "ExecuteTime": {
     "end_time": "2019-09-07T01:03:48.967893Z",
     "start_time": "2019-09-07T01:03:48.880116Z"
    }
   },
   "outputs": [
    {
     "data": {
      "image/svg+xml": [
       "<?xml version=\"1.0\" encoding=\"UTF-8\" standalone=\"no\"?>\r\n",
       "<!DOCTYPE svg PUBLIC \"-//W3C//DTD SVG 1.1//EN\"\r\n",
       " \"http://www.w3.org/Graphics/SVG/1.1/DTD/svg11.dtd\">\r\n",
       "<!-- Generated by graphviz version 2.38.0 (20140413.2041)\r\n",
       " -->\r\n",
       "<!-- Title: Tree Pages: 1 -->\r\n",
       "<svg width=\"9717pt\" height=\"581pt\"\r\n",
       " viewBox=\"0.00 0.00 9717.00 581.00\" xmlns=\"http://www.w3.org/2000/svg\" xmlns:xlink=\"http://www.w3.org/1999/xlink\">\r\n",
       "<g id=\"graph0\" class=\"graph\" transform=\"scale(1 1) rotate(0) translate(4 577)\">\r\n",
       "<title>Tree</title>\r\n",
       "<polygon fill=\"white\" stroke=\"none\" points=\"-4,4 -4,-577 9713,-577 9713,4 -4,4\"/>\r\n",
       "<!-- 0 -->\r\n",
       "<g id=\"node1\" class=\"node\"><title>0</title>\r\n",
       "<path fill=\"#ffffff\" stroke=\"black\" d=\"M4891.5,-573C4891.5,-573 4523.5,-573 4523.5,-573 4517.5,-573 4511.5,-567 4511.5,-561 4511.5,-561 4511.5,-517 4511.5,-517 4511.5,-511 4517.5,-505 4523.5,-505 4523.5,-505 4891.5,-505 4891.5,-505 4897.5,-505 4903.5,-511 4903.5,-517 4903.5,-517 4903.5,-561 4903.5,-561 4903.5,-567 4897.5,-573 4891.5,-573\"/>\r\n",
       "<text text-anchor=\"start\" x=\"4671.5\" y=\"-557.8\" font-family=\"Helvetica,sans-Serif\" font-size=\"14.00\">hour ≤ 15.5</text>\r\n",
       "<text text-anchor=\"start\" x=\"4678.5\" y=\"-542.8\" font-family=\"Helvetica,sans-Serif\" font-size=\"14.00\">gini = 0.8</text>\r\n",
       "<text text-anchor=\"start\" x=\"4639.5\" y=\"-527.8\" font-family=\"Helvetica,sans-Serif\" font-size=\"14.00\">samples = 26999747</text>\r\n",
       "<text text-anchor=\"start\" x=\"4519.5\" y=\"-512.8\" font-family=\"Helvetica,sans-Serif\" font-size=\"14.00\">value = [5399954, 5399945, 5399950, 5399948, 5399950]</text>\r\n",
       "</g>\r\n",
       "<!-- 1 -->\r\n",
       "<g id=\"node2\" class=\"node\"><title>1</title>\r\n",
       "<path fill=\"#f7d6bf\" stroke=\"black\" d=\"M3691,-469C3691,-469 3348,-469 3348,-469 3342,-469 3336,-463 3336,-457 3336,-457 3336,-413 3336,-413 3336,-407 3342,-401 3348,-401 3348,-401 3691,-401 3691,-401 3697,-401 3703,-407 3703,-413 3703,-413 3703,-457 3703,-457 3703,-463 3697,-469 3691,-469\"/>\r\n",
       "<text text-anchor=\"start\" x=\"3488.5\" y=\"-453.8\" font-family=\"Helvetica,sans-Serif\" font-size=\"14.00\">dow ≤ 4.5</text>\r\n",
       "<text text-anchor=\"start\" x=\"3486\" y=\"-438.8\" font-family=\"Helvetica,sans-Serif\" font-size=\"14.00\">gini = 0.69</text>\r\n",
       "<text text-anchor=\"start\" x=\"3455.5\" y=\"-423.8\" font-family=\"Helvetica,sans-Serif\" font-size=\"14.00\">samples = 6144561</text>\r\n",
       "<text text-anchor=\"start\" x=\"3344\" y=\"-408.8\" font-family=\"Helvetica,sans-Serif\" font-size=\"14.00\">value = [2939659, 1396775, 717810, 472868, 617449]</text>\r\n",
       "</g>\r\n",
       "<!-- 0&#45;&gt;1 -->\r\n",
       "<g id=\"edge1\" class=\"edge\"><title>0&#45;&gt;1</title>\r\n",
       "<path fill=\"none\" stroke=\"black\" d=\"M4511.33,-521.157C4290.32,-502.182 3933.34,-471.532 3713.31,-452.64\"/>\r\n",
       "<polygon fill=\"black\" stroke=\"black\" points=\"3713.53,-449.146 3703.26,-451.778 3712.93,-456.12 3713.53,-449.146\"/>\r\n",
       "<text text-anchor=\"middle\" x=\"3719.36\" y=\"-467.203\" font-family=\"Helvetica,sans-Serif\" font-size=\"14.00\">True</text>\r\n",
       "</g>\r\n",
       "<!-- 32 -->\r\n",
       "<g id=\"node33\" class=\"node\"><title>32</title>\r\n",
       "<path fill=\"#fdfdff\" stroke=\"black\" d=\"M5887.5,-469C5887.5,-469 5519.5,-469 5519.5,-469 5513.5,-469 5507.5,-463 5507.5,-457 5507.5,-457 5507.5,-413 5507.5,-413 5507.5,-407 5513.5,-401 5519.5,-401 5519.5,-401 5887.5,-401 5887.5,-401 5893.5,-401 5899.5,-407 5899.5,-413 5899.5,-413 5899.5,-457 5899.5,-457 5899.5,-463 5893.5,-469 5887.5,-469\"/>\r\n",
       "<text text-anchor=\"start\" x=\"5633\" y=\"-453.8\" font-family=\"Helvetica,sans-Serif\" font-size=\"14.00\">PULocationID ≤ 160.5</text>\r\n",
       "<text text-anchor=\"start\" x=\"5670\" y=\"-438.8\" font-family=\"Helvetica,sans-Serif\" font-size=\"14.00\">gini = 0.79</text>\r\n",
       "<text text-anchor=\"start\" x=\"5635.5\" y=\"-423.8\" font-family=\"Helvetica,sans-Serif\" font-size=\"14.00\">samples = 20855186</text>\r\n",
       "<text text-anchor=\"start\" x=\"5515.5\" y=\"-408.8\" font-family=\"Helvetica,sans-Serif\" font-size=\"14.00\">value = [2460295, 4003170, 4682140, 4927080, 4782501]</text>\r\n",
       "</g>\r\n",
       "<!-- 0&#45;&gt;32 -->\r\n",
       "<g id=\"edge32\" class=\"edge\"><title>0&#45;&gt;32</title>\r\n",
       "<path fill=\"none\" stroke=\"black\" d=\"M4903.68,-517.909C5075.05,-500.359 5322.97,-474.97 5497.25,-457.122\"/>\r\n",
       "<polygon fill=\"black\" stroke=\"black\" points=\"5497.73,-460.591 5507.32,-456.091 5497.01,-453.628 5497.73,-460.591\"/>\r\n",
       "<text text-anchor=\"middle\" x=\"5491.53\" y=\"-471.777\" font-family=\"Helvetica,sans-Serif\" font-size=\"14.00\">False</text>\r\n",
       "</g>\r\n",
       "<!-- 2 -->\r\n",
       "<g id=\"node3\" class=\"node\"><title>2</title>\r\n",
       "<path fill=\"#efb286\" stroke=\"black\" d=\"M1883.5,-365C1883.5,-365 1565.5,-365 1565.5,-365 1559.5,-365 1553.5,-359 1553.5,-353 1553.5,-353 1553.5,-309 1553.5,-309 1553.5,-303 1559.5,-297 1565.5,-297 1565.5,-297 1883.5,-297 1883.5,-297 1889.5,-297 1895.5,-303 1895.5,-309 1895.5,-309 1895.5,-353 1895.5,-353 1895.5,-359 1889.5,-365 1883.5,-365\"/>\r\n",
       "<text text-anchor=\"start\" x=\"1692.5\" y=\"-349.8\" font-family=\"Helvetica,sans-Serif\" font-size=\"14.00\">hour ≤ 1.5</text>\r\n",
       "<text text-anchor=\"start\" x=\"1687\" y=\"-334.8\" font-family=\"Helvetica,sans-Serif\" font-size=\"14.00\">gini = 0.464</text>\r\n",
       "<text text-anchor=\"start\" x=\"1660.5\" y=\"-319.8\" font-family=\"Helvetica,sans-Serif\" font-size=\"14.00\">samples = 2915581</text>\r\n",
       "<text text-anchor=\"start\" x=\"1561.5\" y=\"-304.8\" font-family=\"Helvetica,sans-Serif\" font-size=\"14.00\">value = [2029852, 631914, 180665, 60148, 13002]</text>\r\n",
       "</g>\r\n",
       "<!-- 1&#45;&gt;2 -->\r\n",
       "<g id=\"edge2\" class=\"edge\"><title>1&#45;&gt;2</title>\r\n",
       "<path fill=\"none\" stroke=\"black\" d=\"M3335.84,-423.564C2990.66,-403.949 2249.03,-361.806 1905.72,-342.298\"/>\r\n",
       "<polygon fill=\"black\" stroke=\"black\" points=\"1905.87,-338.8 1895.68,-341.727 1905.47,-345.789 1905.87,-338.8\"/>\r\n",
       "</g>\r\n",
       "<!-- 17 -->\r\n",
       "<g id=\"node18\" class=\"node\"><title>17</title>\r\n",
       "<path fill=\"#fdf8f3\" stroke=\"black\" d=\"M3682.5,-365C3682.5,-365 3356.5,-365 3356.5,-365 3350.5,-365 3344.5,-359 3344.5,-353 3344.5,-353 3344.5,-309 3344.5,-309 3344.5,-303 3350.5,-297 3356.5,-297 3356.5,-297 3682.5,-297 3682.5,-297 3688.5,-297 3694.5,-303 3694.5,-309 3694.5,-309 3694.5,-353 3694.5,-353 3694.5,-359 3688.5,-365 3682.5,-365\"/>\r\n",
       "<text text-anchor=\"start\" x=\"3487.5\" y=\"-349.8\" font-family=\"Helvetica,sans-Serif\" font-size=\"14.00\">hour ≤ 3.5</text>\r\n",
       "<text text-anchor=\"start\" x=\"3482\" y=\"-334.8\" font-family=\"Helvetica,sans-Serif\" font-size=\"14.00\">gini = 0.785</text>\r\n",
       "<text text-anchor=\"start\" x=\"3455.5\" y=\"-319.8\" font-family=\"Helvetica,sans-Serif\" font-size=\"14.00\">samples = 3228980</text>\r\n",
       "<text text-anchor=\"start\" x=\"3352.5\" y=\"-304.8\" font-family=\"Helvetica,sans-Serif\" font-size=\"14.00\">value = [909807, 764861, 537145, 412720, 604447]</text>\r\n",
       "</g>\r\n",
       "<!-- 1&#45;&gt;17 -->\r\n",
       "<g id=\"edge17\" class=\"edge\"><title>1&#45;&gt;17</title>\r\n",
       "<path fill=\"none\" stroke=\"black\" d=\"M3519.5,-400.884C3519.5,-392.778 3519.5,-383.982 3519.5,-375.472\"/>\r\n",
       "<polygon fill=\"black\" stroke=\"black\" points=\"3523,-375.299 3519.5,-365.299 3516,-375.299 3523,-375.299\"/>\r\n",
       "</g>\r\n",
       "<!-- 3 -->\r\n",
       "<g id=\"node4\" class=\"node\"><title>3</title>\r\n",
       "<path fill=\"#f8ddc9\" stroke=\"black\" d=\"M1044.5,-261C1044.5,-261 734.5,-261 734.5,-261 728.5,-261 722.5,-255 722.5,-249 722.5,-249 722.5,-205 722.5,-205 722.5,-199 728.5,-193 734.5,-193 734.5,-193 1044.5,-193 1044.5,-193 1050.5,-193 1056.5,-199 1056.5,-205 1056.5,-205 1056.5,-249 1056.5,-249 1056.5,-255 1050.5,-261 1044.5,-261\"/>\r\n",
       "<text text-anchor=\"start\" x=\"858.5\" y=\"-245.8\" font-family=\"Helvetica,sans-Serif\" font-size=\"14.00\">dow ≤ 2.5</text>\r\n",
       "<text text-anchor=\"start\" x=\"852\" y=\"-230.8\" font-family=\"Helvetica,sans-Serif\" font-size=\"14.00\">gini = 0.614</text>\r\n",
       "<text text-anchor=\"start\" x=\"825.5\" y=\"-215.8\" font-family=\"Helvetica,sans-Serif\" font-size=\"14.00\">samples = 1570028</text>\r\n",
       "<text text-anchor=\"start\" x=\"730.5\" y=\"-200.8\" font-family=\"Helvetica,sans-Serif\" font-size=\"14.00\">value = [804467, 519635, 174479, 59008, 12439]</text>\r\n",
       "</g>\r\n",
       "<!-- 2&#45;&gt;3 -->\r\n",
       "<g id=\"edge3\" class=\"edge\"><title>2&#45;&gt;3</title>\r\n",
       "<path fill=\"none\" stroke=\"black\" d=\"M1553.26,-309.082C1411.36,-291.748 1210.39,-267.198 1066.83,-249.662\"/>\r\n",
       "<polygon fill=\"black\" stroke=\"black\" points=\"1066.95,-246.15 1056.6,-248.412 1066.1,-253.098 1066.95,-246.15\"/>\r\n",
       "</g>\r\n",
       "<!-- 10 -->\r\n",
       "<g id=\"node11\" class=\"node\"><title>10</title>\r\n",
       "<path fill=\"#e88d4c\" stroke=\"black\" d=\"M1863,-261C1863,-261 1586,-261 1586,-261 1580,-261 1574,-255 1574,-249 1574,-249 1574,-205 1574,-205 1574,-199 1580,-193 1586,-193 1586,-193 1863,-193 1863,-193 1869,-193 1875,-199 1875,-205 1875,-205 1875,-249 1875,-249 1875,-255 1869,-261 1863,-261\"/>\r\n",
       "<text text-anchor=\"start\" x=\"1658\" y=\"-245.8\" font-family=\"Helvetica,sans-Serif\" font-size=\"14.00\">PULocationID ≤ 79.5</text>\r\n",
       "<text text-anchor=\"start\" x=\"1687\" y=\"-230.8\" font-family=\"Helvetica,sans-Serif\" font-size=\"14.00\">gini = 0.164</text>\r\n",
       "<text text-anchor=\"start\" x=\"1660.5\" y=\"-215.8\" font-family=\"Helvetica,sans-Serif\" font-size=\"14.00\">samples = 1345553</text>\r\n",
       "<text text-anchor=\"start\" x=\"1582\" y=\"-200.8\" font-family=\"Helvetica,sans-Serif\" font-size=\"14.00\">value = [1225385, 112279, 6186, 1140, 563]</text>\r\n",
       "</g>\r\n",
       "<!-- 2&#45;&gt;10 -->\r\n",
       "<g id=\"edge10\" class=\"edge\"><title>2&#45;&gt;10</title>\r\n",
       "<path fill=\"none\" stroke=\"black\" d=\"M1724.5,-296.884C1724.5,-288.778 1724.5,-279.982 1724.5,-271.472\"/>\r\n",
       "<polygon fill=\"black\" stroke=\"black\" points=\"1728,-271.299 1724.5,-261.299 1721,-271.299 1728,-271.299\"/>\r\n",
       "</g>\r\n",
       "<!-- 4 -->\r\n",
       "<g id=\"node5\" class=\"node\"><title>4</title>\r\n",
       "<path fill=\"#f1ba92\" stroke=\"black\" d=\"M596,-157C596,-157 319,-157 319,-157 313,-157 307,-151 307,-145 307,-145 307,-101 307,-101 307,-95 313,-89 319,-89 319,-89 596,-89 596,-89 602,-89 608,-95 608,-101 608,-101 608,-145 608,-145 608,-151 602,-157 596,-157\"/>\r\n",
       "<text text-anchor=\"start\" x=\"425.5\" y=\"-141.8\" font-family=\"Helvetica,sans-Serif\" font-size=\"14.00\">hour ≤ 0.5</text>\r\n",
       "<text text-anchor=\"start\" x=\"420\" y=\"-126.8\" font-family=\"Helvetica,sans-Serif\" font-size=\"14.00\">gini = 0.468</text>\r\n",
       "<text text-anchor=\"start\" x=\"397.5\" y=\"-111.8\" font-family=\"Helvetica,sans-Serif\" font-size=\"14.00\">samples = 734550</text>\r\n",
       "<text text-anchor=\"start\" x=\"315\" y=\"-96.8\" font-family=\"Helvetica,sans-Serif\" font-size=\"14.00\">value = [494610, 203685, 30021, 5377, 857]</text>\r\n",
       "</g>\r\n",
       "<!-- 3&#45;&gt;4 -->\r\n",
       "<g id=\"edge4\" class=\"edge\"><title>3&#45;&gt;4</title>\r\n",
       "<path fill=\"none\" stroke=\"black\" d=\"M749.54,-192.954C704.1,-182.225 653.513,-170.281 607.38,-159.388\"/>\r\n",
       "<polygon fill=\"black\" stroke=\"black\" points=\"608.143,-155.972 597.607,-157.081 606.535,-162.785 608.143,-155.972\"/>\r\n",
       "</g>\r\n",
       "<!-- 7 -->\r\n",
       "<g id=\"node8\" class=\"node\"><title>7</title>\r\n",
       "<path fill=\"#fdfffd\" stroke=\"black\" d=\"M1044.5,-157C1044.5,-157 734.5,-157 734.5,-157 728.5,-157 722.5,-151 722.5,-145 722.5,-145 722.5,-101 722.5,-101 722.5,-95 728.5,-89 734.5,-89 734.5,-89 1044.5,-89 1044.5,-89 1050.5,-89 1056.5,-95 1056.5,-101 1056.5,-101 1056.5,-145 1056.5,-145 1056.5,-151 1050.5,-157 1044.5,-157\"/>\r\n",
       "<text text-anchor=\"start\" x=\"823\" y=\"-141.8\" font-family=\"Helvetica,sans-Serif\" font-size=\"14.00\">PULocationID ≤ 47.5</text>\r\n",
       "<text text-anchor=\"start\" x=\"852\" y=\"-126.8\" font-family=\"Helvetica,sans-Serif\" font-size=\"14.00\">gini = 0.685</text>\r\n",
       "<text text-anchor=\"start\" x=\"829.5\" y=\"-111.8\" font-family=\"Helvetica,sans-Serif\" font-size=\"14.00\">samples = 835478</text>\r\n",
       "<text text-anchor=\"start\" x=\"730.5\" y=\"-96.8\" font-family=\"Helvetica,sans-Serif\" font-size=\"14.00\">value = [309857, 315950, 144458, 53631, 11582]</text>\r\n",
       "</g>\r\n",
       "<!-- 3&#45;&gt;7 -->\r\n",
       "<g id=\"edge7\" class=\"edge\"><title>3&#45;&gt;7</title>\r\n",
       "<path fill=\"none\" stroke=\"black\" d=\"M889.5,-192.884C889.5,-184.778 889.5,-175.982 889.5,-167.472\"/>\r\n",
       "<polygon fill=\"black\" stroke=\"black\" points=\"893,-167.299 889.5,-157.299 886,-167.299 893,-167.299\"/>\r\n",
       "</g>\r\n",
       "<!-- 5 -->\r\n",
       "<g id=\"node6\" class=\"node\"><title>5</title>\r\n",
       "<path fill=\"#f6d2b8\" stroke=\"black\" d=\"M289,-53C289,-53 12,-53 12,-53 6,-53 0,-47 0,-41 0,-41 0,-12 0,-12 0,-6 6,-0 12,-0 12,-0 289,-0 289,-0 295,-0 301,-6 301,-12 301,-12 301,-41 301,-41 301,-47 295,-53 289,-53\"/>\r\n",
       "<text text-anchor=\"start\" x=\"113\" y=\"-37.8\" font-family=\"Helvetica,sans-Serif\" font-size=\"14.00\">gini = 0.539</text>\r\n",
       "<text text-anchor=\"start\" x=\"90.5\" y=\"-22.8\" font-family=\"Helvetica,sans-Serif\" font-size=\"14.00\">samples = 464971</text>\r\n",
       "<text text-anchor=\"start\" x=\"8\" y=\"-7.8\" font-family=\"Helvetica,sans-Serif\" font-size=\"14.00\">value = [270376, 160788, 27953, 5121, 733]</text>\r\n",
       "</g>\r\n",
       "<!-- 4&#45;&gt;5 -->\r\n",
       "<g id=\"edge5\" class=\"edge\"><title>4&#45;&gt;5</title>\r\n",
       "<path fill=\"none\" stroke=\"black\" d=\"M350.126,-88.9485C315.346,-78.2426 277.084,-66.4647 243.442,-56.1093\"/>\r\n",
       "<polygon fill=\"black\" stroke=\"black\" points=\"244.21,-52.6836 233.623,-53.0867 242.151,-59.3738 244.21,-52.6836\"/>\r\n",
       "</g>\r\n",
       "<!-- 6 -->\r\n",
       "<g id=\"node7\" class=\"node\"><title>6</title>\r\n",
       "<path fill=\"#ea9a61\" stroke=\"black\" d=\"M583.5,-53C583.5,-53 331.5,-53 331.5,-53 325.5,-53 319.5,-47 319.5,-41 319.5,-41 319.5,-12 319.5,-12 319.5,-6 325.5,-0 331.5,-0 331.5,-0 583.5,-0 583.5,-0 589.5,-0 595.5,-6 595.5,-12 595.5,-12 595.5,-41 595.5,-41 595.5,-47 589.5,-53 583.5,-53\"/>\r\n",
       "<text text-anchor=\"start\" x=\"420\" y=\"-37.8\" font-family=\"Helvetica,sans-Serif\" font-size=\"14.00\">gini = 0.283</text>\r\n",
       "<text text-anchor=\"start\" x=\"397.5\" y=\"-22.8\" font-family=\"Helvetica,sans-Serif\" font-size=\"14.00\">samples = 269579</text>\r\n",
       "<text text-anchor=\"start\" x=\"327.5\" y=\"-7.8\" font-family=\"Helvetica,sans-Serif\" font-size=\"14.00\">value = [224234, 42897, 2068, 256, 124]</text>\r\n",
       "</g>\r\n",
       "<!-- 4&#45;&gt;6 -->\r\n",
       "<g id=\"edge6\" class=\"edge\"><title>4&#45;&gt;6</title>\r\n",
       "<path fill=\"none\" stroke=\"black\" d=\"M457.5,-88.9485C457.5,-80.7153 457.5,-71.848 457.5,-63.4814\"/>\r\n",
       "<polygon fill=\"black\" stroke=\"black\" points=\"461,-63.2367 457.5,-53.2367 454,-63.2367 461,-63.2367\"/>\r\n",
       "</g>\r\n",
       "<!-- 8 -->\r\n",
       "<g id=\"node9\" class=\"node\"><title>8</title>\r\n",
       "<path fill=\"#e58139\" stroke=\"black\" d=\"M787,-53C787,-53 626,-53 626,-53 620,-53 614,-47 614,-41 614,-41 614,-12 614,-12 614,-6 620,-0 626,-0 626,-0 787,-0 787,-0 793,-0 799,-6 799,-12 799,-12 799,-41 799,-41 799,-47 793,-53 787,-53\"/>\r\n",
       "<text text-anchor=\"start\" x=\"669\" y=\"-37.8\" font-family=\"Helvetica,sans-Serif\" font-size=\"14.00\">gini = 0.002</text>\r\n",
       "<text text-anchor=\"start\" x=\"650.5\" y=\"-22.8\" font-family=\"Helvetica,sans-Serif\" font-size=\"14.00\">samples = 27449</text>\r\n",
       "<text text-anchor=\"start\" x=\"622\" y=\"-7.8\" font-family=\"Helvetica,sans-Serif\" font-size=\"14.00\">value = [27422, 20, 1, 2, 4]</text>\r\n",
       "</g>\r\n",
       "<!-- 7&#45;&gt;8 -->\r\n",
       "<g id=\"edge8\" class=\"edge\"><title>7&#45;&gt;8</title>\r\n",
       "<path fill=\"none\" stroke=\"black\" d=\"M825.495,-88.9485C805.831,-78.794 784.299,-67.675 765.022,-57.7203\"/>\r\n",
       "<polygon fill=\"black\" stroke=\"black\" points=\"766.54,-54.5652 756.049,-53.0867 763.328,-60.7849 766.54,-54.5652\"/>\r\n",
       "</g>\r\n",
       "<!-- 9 -->\r\n",
       "<g id=\"node10\" class=\"node\"><title>9</title>\r\n",
       "<path fill=\"#f7fdf2\" stroke=\"black\" d=\"M1139.5,-53C1139.5,-53 829.5,-53 829.5,-53 823.5,-53 817.5,-47 817.5,-41 817.5,-41 817.5,-12 817.5,-12 817.5,-6 823.5,-0 829.5,-0 829.5,-0 1139.5,-0 1139.5,-0 1145.5,-0 1151.5,-6 1151.5,-12 1151.5,-12 1151.5,-41 1151.5,-41 1151.5,-47 1145.5,-53 1139.5,-53\"/>\r\n",
       "<text text-anchor=\"start\" x=\"947\" y=\"-37.8\" font-family=\"Helvetica,sans-Serif\" font-size=\"14.00\">gini = 0.688</text>\r\n",
       "<text text-anchor=\"start\" x=\"924.5\" y=\"-22.8\" font-family=\"Helvetica,sans-Serif\" font-size=\"14.00\">samples = 808029</text>\r\n",
       "<text text-anchor=\"start\" x=\"825.5\" y=\"-7.8\" font-family=\"Helvetica,sans-Serif\" font-size=\"14.00\">value = [282435, 315930, 144457, 53629, 11578]</text>\r\n",
       "</g>\r\n",
       "<!-- 7&#45;&gt;9 -->\r\n",
       "<g id=\"edge9\" class=\"edge\"><title>7&#45;&gt;9</title>\r\n",
       "<path fill=\"none\" stroke=\"black\" d=\"M922.726,-88.9485C932.015,-79.709 942.106,-69.671 951.388,-60.4381\"/>\r\n",
       "<polygon fill=\"black\" stroke=\"black\" points=\"954.006,-62.7705 958.627,-53.2367 949.069,-57.8077 954.006,-62.7705\"/>\r\n",
       "</g>\r\n",
       "<!-- 11 -->\r\n",
       "<g id=\"node12\" class=\"node\"><title>11</title>\r\n",
       "<path fill=\"#eca26d\" stroke=\"black\" d=\"M1703.5,-157C1703.5,-157 1451.5,-157 1451.5,-157 1445.5,-157 1439.5,-151 1439.5,-145 1439.5,-145 1439.5,-101 1439.5,-101 1439.5,-95 1445.5,-89 1451.5,-89 1451.5,-89 1703.5,-89 1703.5,-89 1709.5,-89 1715.5,-95 1715.5,-101 1715.5,-101 1715.5,-145 1715.5,-145 1715.5,-151 1709.5,-157 1703.5,-157\"/>\r\n",
       "<text text-anchor=\"start\" x=\"1546.5\" y=\"-141.8\" font-family=\"Helvetica,sans-Serif\" font-size=\"14.00\">dow ≤ 3.5</text>\r\n",
       "<text text-anchor=\"start\" x=\"1540\" y=\"-126.8\" font-family=\"Helvetica,sans-Serif\" font-size=\"14.00\">gini = 0.341</text>\r\n",
       "<text text-anchor=\"start\" x=\"1517.5\" y=\"-111.8\" font-family=\"Helvetica,sans-Serif\" font-size=\"14.00\">samples = 289987</text>\r\n",
       "<text text-anchor=\"start\" x=\"1447.5\" y=\"-96.8\" font-family=\"Helvetica,sans-Serif\" font-size=\"14.00\">value = [228371, 56972, 3771, 676, 197]</text>\r\n",
       "</g>\r\n",
       "<!-- 10&#45;&gt;11 -->\r\n",
       "<g id=\"edge11\" class=\"edge\"><title>10&#45;&gt;11</title>\r\n",
       "<path fill=\"none\" stroke=\"black\" d=\"M1676.77,-192.884C1662.97,-183.304 1647.77,-172.761 1633.51,-162.864\"/>\r\n",
       "<polygon fill=\"black\" stroke=\"black\" points=\"1635.45,-159.95 1625.24,-157.125 1631.46,-165.701 1635.45,-159.95\"/>\r\n",
       "</g>\r\n",
       "<!-- 14 -->\r\n",
       "<g id=\"node15\" class=\"node\"><title>14</title>\r\n",
       "<path fill=\"#e78845\" stroke=\"black\" d=\"M1997.5,-157C1997.5,-157 1745.5,-157 1745.5,-157 1739.5,-157 1733.5,-151 1733.5,-145 1733.5,-145 1733.5,-101 1733.5,-101 1733.5,-95 1739.5,-89 1745.5,-89 1745.5,-89 1997.5,-89 1997.5,-89 2003.5,-89 2009.5,-95 2009.5,-101 2009.5,-101 2009.5,-145 2009.5,-145 2009.5,-151 2003.5,-157 1997.5,-157\"/>\r\n",
       "<text text-anchor=\"start\" x=\"1840.5\" y=\"-141.8\" font-family=\"Helvetica,sans-Serif\" font-size=\"14.00\">dow ≤ 3.5</text>\r\n",
       "<text text-anchor=\"start\" x=\"1834\" y=\"-126.8\" font-family=\"Helvetica,sans-Serif\" font-size=\"14.00\">gini = 0.105</text>\r\n",
       "<text text-anchor=\"start\" x=\"1807.5\" y=\"-111.8\" font-family=\"Helvetica,sans-Serif\" font-size=\"14.00\">samples = 1055566</text>\r\n",
       "<text text-anchor=\"start\" x=\"1741.5\" y=\"-96.8\" font-family=\"Helvetica,sans-Serif\" font-size=\"14.00\">value = [997014, 55307, 2415, 464, 366]</text>\r\n",
       "</g>\r\n",
       "<!-- 10&#45;&gt;14 -->\r\n",
       "<g id=\"edge14\" class=\"edge\"><title>10&#45;&gt;14</title>\r\n",
       "<path fill=\"none\" stroke=\"black\" d=\"M1772.23,-192.884C1786.03,-183.304 1801.23,-172.761 1815.49,-162.864\"/>\r\n",
       "<polygon fill=\"black\" stroke=\"black\" points=\"1817.54,-165.701 1823.76,-157.125 1813.55,-159.95 1817.54,-165.701\"/>\r\n",
       "</g>\r\n",
       "<!-- 12 -->\r\n",
       "<g id=\"node13\" class=\"node\"><title>12</title>\r\n",
       "<path fill=\"#e99559\" stroke=\"black\" d=\"M1417.5,-53C1417.5,-53 1181.5,-53 1181.5,-53 1175.5,-53 1169.5,-47 1169.5,-41 1169.5,-41 1169.5,-12 1169.5,-12 1169.5,-6 1175.5,-0 1181.5,-0 1181.5,-0 1417.5,-0 1417.5,-0 1423.5,-0 1429.5,-6 1429.5,-12 1429.5,-12 1429.5,-41 1429.5,-41 1429.5,-47 1423.5,-53 1417.5,-53\"/>\r\n",
       "<text text-anchor=\"start\" x=\"1262\" y=\"-37.8\" font-family=\"Helvetica,sans-Serif\" font-size=\"14.00\">gini = 0.242</text>\r\n",
       "<text text-anchor=\"start\" x=\"1239.5\" y=\"-22.8\" font-family=\"Helvetica,sans-Serif\" font-size=\"14.00\">samples = 210440</text>\r\n",
       "<text text-anchor=\"start\" x=\"1177.5\" y=\"-7.8\" font-family=\"Helvetica,sans-Serif\" font-size=\"14.00\">value = [180986, 28566, 698, 121, 69]</text>\r\n",
       "</g>\r\n",
       "<!-- 11&#45;&gt;12 -->\r\n",
       "<g id=\"edge12\" class=\"edge\"><title>11&#45;&gt;12</title>\r\n",
       "<path fill=\"none\" stroke=\"black\" d=\"M1480.27,-88.9485C1449.04,-78.3345 1414.72,-66.6668 1384.45,-56.3763\"/>\r\n",
       "<polygon fill=\"black\" stroke=\"black\" points=\"1385.37,-52.9914 1374.77,-53.0867 1383.11,-59.6189 1385.37,-52.9914\"/>\r\n",
       "</g>\r\n",
       "<!-- 13 -->\r\n",
       "<g id=\"node14\" class=\"node\"><title>13</title>\r\n",
       "<path fill=\"#f5d0b6\" stroke=\"black\" d=\"M1703.5,-53C1703.5,-53 1459.5,-53 1459.5,-53 1453.5,-53 1447.5,-47 1447.5,-41 1447.5,-41 1447.5,-12 1447.5,-12 1447.5,-6 1453.5,-0 1459.5,-0 1459.5,-0 1703.5,-0 1703.5,-0 1709.5,-0 1715.5,-6 1715.5,-12 1715.5,-12 1715.5,-41 1715.5,-41 1715.5,-47 1709.5,-53 1703.5,-53\"/>\r\n",
       "<text text-anchor=\"start\" x=\"1544\" y=\"-37.8\" font-family=\"Helvetica,sans-Serif\" font-size=\"14.00\">gini = 0.516</text>\r\n",
       "<text text-anchor=\"start\" x=\"1525.5\" y=\"-22.8\" font-family=\"Helvetica,sans-Serif\" font-size=\"14.00\">samples = 79547</text>\r\n",
       "<text text-anchor=\"start\" x=\"1455.5\" y=\"-7.8\" font-family=\"Helvetica,sans-Serif\" font-size=\"14.00\">value = [47385, 28406, 3073, 555, 128]</text>\r\n",
       "</g>\r\n",
       "<!-- 11&#45;&gt;13 -->\r\n",
       "<g id=\"edge13\" class=\"edge\"><title>11&#45;&gt;13</title>\r\n",
       "<path fill=\"none\" stroke=\"black\" d=\"M1578.9,-88.9485C1579.25,-80.7153 1579.62,-71.848 1579.98,-63.4814\"/>\r\n",
       "<polygon fill=\"black\" stroke=\"black\" points=\"1583.48,-63.3758 1580.41,-53.2367 1576.49,-63.0797 1583.48,-63.3758\"/>\r\n",
       "</g>\r\n",
       "<!-- 15 -->\r\n",
       "<g id=\"node16\" class=\"node\"><title>15</title>\r\n",
       "<path fill=\"#e6853f\" stroke=\"black\" d=\"M1989.5,-53C1989.5,-53 1745.5,-53 1745.5,-53 1739.5,-53 1733.5,-47 1733.5,-41 1733.5,-41 1733.5,-12 1733.5,-12 1733.5,-6 1739.5,-0 1745.5,-0 1745.5,-0 1989.5,-0 1989.5,-0 1995.5,-0 2001.5,-6 2001.5,-12 2001.5,-12 2001.5,-41 2001.5,-41 2001.5,-47 1995.5,-53 1989.5,-53\"/>\r\n",
       "<text text-anchor=\"start\" x=\"1830\" y=\"-37.8\" font-family=\"Helvetica,sans-Serif\" font-size=\"14.00\">gini = 0.053</text>\r\n",
       "<text text-anchor=\"start\" x=\"1807.5\" y=\"-22.8\" font-family=\"Helvetica,sans-Serif\" font-size=\"14.00\">samples = 764930</text>\r\n",
       "<text text-anchor=\"start\" x=\"1741.5\" y=\"-7.8\" font-family=\"Helvetica,sans-Serif\" font-size=\"14.00\">value = [744094, 20134, 424, 117, 161]</text>\r\n",
       "</g>\r\n",
       "<!-- 14&#45;&gt;15 -->\r\n",
       "<g id=\"edge15\" class=\"edge\"><title>14&#45;&gt;15</title>\r\n",
       "<path fill=\"none\" stroke=\"black\" d=\"M1870.1,-88.9485C1869.75,-80.7153 1869.38,-71.848 1869.02,-63.4814\"/>\r\n",
       "<polygon fill=\"black\" stroke=\"black\" points=\"1872.51,-63.0797 1868.59,-53.2367 1865.52,-63.3758 1872.51,-63.0797\"/>\r\n",
       "</g>\r\n",
       "<!-- 16 -->\r\n",
       "<g id=\"node17\" class=\"node\"><title>16</title>\r\n",
       "<path fill=\"#e99456\" stroke=\"black\" d=\"M2283.5,-53C2283.5,-53 2031.5,-53 2031.5,-53 2025.5,-53 2019.5,-47 2019.5,-41 2019.5,-41 2019.5,-12 2019.5,-12 2019.5,-6 2025.5,-0 2031.5,-0 2031.5,-0 2283.5,-0 2283.5,-0 2289.5,-0 2295.5,-6 2295.5,-12 2295.5,-12 2295.5,-41 2295.5,-41 2295.5,-47 2289.5,-53 2283.5,-53\"/>\r\n",
       "<text text-anchor=\"start\" x=\"2120\" y=\"-37.8\" font-family=\"Helvetica,sans-Serif\" font-size=\"14.00\">gini = 0.228</text>\r\n",
       "<text text-anchor=\"start\" x=\"2097.5\" y=\"-22.8\" font-family=\"Helvetica,sans-Serif\" font-size=\"14.00\">samples = 290636</text>\r\n",
       "<text text-anchor=\"start\" x=\"2027.5\" y=\"-7.8\" font-family=\"Helvetica,sans-Serif\" font-size=\"14.00\">value = [252920, 35173, 1991, 347, 205]</text>\r\n",
       "</g>\r\n",
       "<!-- 14&#45;&gt;16 -->\r\n",
       "<g id=\"edge16\" class=\"edge\"><title>14&#45;&gt;16</title>\r\n",
       "<path fill=\"none\" stroke=\"black\" d=\"M1971.53,-88.9485C2003.79,-78.2886 2039.27,-66.5657 2070.51,-56.2427\"/>\r\n",
       "<polygon fill=\"black\" stroke=\"black\" points=\"2071.67,-59.5474 2080.06,-53.0867 2069.47,-52.9008 2071.67,-59.5474\"/>\r\n",
       "</g>\r\n",
       "<!-- 18 -->\r\n",
       "<g id=\"node19\" class=\"node\"><title>18</title>\r\n",
       "<path fill=\"#fbfef9\" stroke=\"black\" d=\"M3354.5,-261C3354.5,-261 3028.5,-261 3028.5,-261 3022.5,-261 3016.5,-255 3016.5,-249 3016.5,-249 3016.5,-205 3016.5,-205 3016.5,-199 3022.5,-193 3028.5,-193 3028.5,-193 3354.5,-193 3354.5,-193 3360.5,-193 3366.5,-199 3366.5,-205 3366.5,-205 3366.5,-249 3366.5,-249 3366.5,-255 3360.5,-261 3354.5,-261\"/>\r\n",
       "<text text-anchor=\"start\" x=\"3125\" y=\"-245.8\" font-family=\"Helvetica,sans-Serif\" font-size=\"14.00\">PULocationID ≤ 79.5</text>\r\n",
       "<text text-anchor=\"start\" x=\"3154\" y=\"-230.8\" font-family=\"Helvetica,sans-Serif\" font-size=\"14.00\">gini = 0.794</text>\r\n",
       "<text text-anchor=\"start\" x=\"3127.5\" y=\"-215.8\" font-family=\"Helvetica,sans-Serif\" font-size=\"14.00\">samples = 2786629</text>\r\n",
       "<text text-anchor=\"start\" x=\"3024.5\" y=\"-200.8\" font-family=\"Helvetica,sans-Serif\" font-size=\"14.00\">value = [608742, 678833, 501526, 397269, 600259]</text>\r\n",
       "</g>\r\n",
       "<!-- 17&#45;&gt;18 -->\r\n",
       "<g id=\"edge18\" class=\"edge\"><title>17&#45;&gt;18</title>\r\n",
       "<path fill=\"none\" stroke=\"black\" d=\"M3413.01,-296.884C3379.24,-286.382 3341.74,-274.722 3307.35,-264.027\"/>\r\n",
       "<polygon fill=\"black\" stroke=\"black\" points=\"3308.33,-260.665 3297.74,-261.038 3306.25,-267.349 3308.33,-260.665\"/>\r\n",
       "</g>\r\n",
       "<!-- 25 -->\r\n",
       "<g id=\"node26\" class=\"node\"><title>25</title>\r\n",
       "<path fill=\"#efb388\" stroke=\"black\" d=\"M3909,-261C3909,-261 3624,-261 3624,-261 3618,-261 3612,-255 3612,-249 3612,-249 3612,-205 3612,-205 3612,-199 3618,-193 3624,-193 3624,-193 3909,-193 3909,-193 3915,-193 3921,-199 3921,-205 3921,-205 3921,-249 3921,-249 3921,-255 3915,-261 3909,-261\"/>\r\n",
       "<text text-anchor=\"start\" x=\"3734.5\" y=\"-245.8\" font-family=\"Helvetica,sans-Serif\" font-size=\"14.00\">hour ≤ 4.5</text>\r\n",
       "<text text-anchor=\"start\" x=\"3729\" y=\"-230.8\" font-family=\"Helvetica,sans-Serif\" font-size=\"14.00\">gini = 0.491</text>\r\n",
       "<text text-anchor=\"start\" x=\"3706.5\" y=\"-215.8\" font-family=\"Helvetica,sans-Serif\" font-size=\"14.00\">samples = 442351</text>\r\n",
       "<text text-anchor=\"start\" x=\"3620\" y=\"-200.8\" font-family=\"Helvetica,sans-Serif\" font-size=\"14.00\">value = [301065, 86028, 35619, 15451, 4188]</text>\r\n",
       "</g>\r\n",
       "<!-- 17&#45;&gt;25 -->\r\n",
       "<g id=\"edge25\" class=\"edge\"><title>17&#45;&gt;25</title>\r\n",
       "<path fill=\"none\" stroke=\"black\" d=\"M3599.69,-296.884C3624.3,-286.722 3651.53,-275.476 3676.74,-265.069\"/>\r\n",
       "<polygon fill=\"black\" stroke=\"black\" points=\"3678.38,-268.177 3686.29,-261.125 3675.71,-261.707 3678.38,-268.177\"/>\r\n",
       "</g>\r\n",
       "<!-- 19 -->\r\n",
       "<g id=\"node20\" class=\"node\"><title>19</title>\r\n",
       "<path fill=\"#f7c0eb\" stroke=\"black\" d=\"M2905.5,-157C2905.5,-157 2603.5,-157 2603.5,-157 2597.5,-157 2591.5,-151 2591.5,-145 2591.5,-145 2591.5,-101 2591.5,-101 2591.5,-95 2597.5,-89 2603.5,-89 2603.5,-89 2905.5,-89 2905.5,-89 2911.5,-89 2917.5,-95 2917.5,-101 2917.5,-101 2917.5,-145 2917.5,-145 2917.5,-151 2911.5,-157 2905.5,-157\"/>\r\n",
       "<text text-anchor=\"start\" x=\"2688\" y=\"-141.8\" font-family=\"Helvetica,sans-Serif\" font-size=\"14.00\">PULocationID ≤ 78.5</text>\r\n",
       "<text text-anchor=\"start\" x=\"2717\" y=\"-126.8\" font-family=\"Helvetica,sans-Serif\" font-size=\"14.00\">gini = 0.698</text>\r\n",
       "<text text-anchor=\"start\" x=\"2694.5\" y=\"-111.8\" font-family=\"Helvetica,sans-Serif\" font-size=\"14.00\">samples = 655285</text>\r\n",
       "<text text-anchor=\"start\" x=\"2599.5\" y=\"-96.8\" font-family=\"Helvetica,sans-Serif\" font-size=\"14.00\">value = [140940, 35716, 91148, 81774, 305707]</text>\r\n",
       "</g>\r\n",
       "<!-- 18&#45;&gt;19 -->\r\n",
       "<g id=\"edge19\" class=\"edge\"><title>18&#45;&gt;19</title>\r\n",
       "<path fill=\"none\" stroke=\"black\" d=\"M3049.92,-192.954C3003.95,-182.225 2952.78,-170.281 2906.11,-159.388\"/>\r\n",
       "<polygon fill=\"black\" stroke=\"black\" points=\"2906.76,-155.945 2896.23,-157.081 2905.17,-162.762 2906.76,-155.945\"/>\r\n",
       "</g>\r\n",
       "<!-- 22 -->\r\n",
       "<g id=\"node23\" class=\"node\"><title>22</title>\r\n",
       "<path fill=\"#f1fcea\" stroke=\"black\" d=\"M3354.5,-157C3354.5,-157 3028.5,-157 3028.5,-157 3022.5,-157 3016.5,-151 3016.5,-145 3016.5,-145 3016.5,-101 3016.5,-101 3016.5,-95 3022.5,-89 3028.5,-89 3028.5,-89 3354.5,-89 3354.5,-89 3360.5,-89 3366.5,-95 3366.5,-101 3366.5,-101 3366.5,-145 3366.5,-145 3366.5,-151 3360.5,-157 3354.5,-157\"/>\r\n",
       "<text text-anchor=\"start\" x=\"3125\" y=\"-141.8\" font-family=\"Helvetica,sans-Serif\" font-size=\"14.00\">PULocationID ≤ 89.5</text>\r\n",
       "<text text-anchor=\"start\" x=\"3154\" y=\"-126.8\" font-family=\"Helvetica,sans-Serif\" font-size=\"14.00\">gini = 0.783</text>\r\n",
       "<text text-anchor=\"start\" x=\"3127.5\" y=\"-111.8\" font-family=\"Helvetica,sans-Serif\" font-size=\"14.00\">samples = 2131344</text>\r\n",
       "<text text-anchor=\"start\" x=\"3024.5\" y=\"-96.8\" font-family=\"Helvetica,sans-Serif\" font-size=\"14.00\">value = [467802, 643117, 410378, 315495, 294552]</text>\r\n",
       "</g>\r\n",
       "<!-- 18&#45;&gt;22 -->\r\n",
       "<g id=\"edge22\" class=\"edge\"><title>18&#45;&gt;22</title>\r\n",
       "<path fill=\"none\" stroke=\"black\" d=\"M3191.5,-192.884C3191.5,-184.778 3191.5,-175.982 3191.5,-167.472\"/>\r\n",
       "<polygon fill=\"black\" stroke=\"black\" points=\"3195,-167.299 3191.5,-157.299 3188,-167.299 3195,-167.299\"/>\r\n",
       "</g>\r\n",
       "<!-- 20 -->\r\n",
       "<g id=\"node21\" class=\"node\"><title>20</title>\r\n",
       "<path fill=\"#fae9dc\" stroke=\"black\" d=\"M2619,-53C2619,-53 2326,-53 2326,-53 2320,-53 2314,-47 2314,-41 2314,-41 2314,-12 2314,-12 2314,-6 2320,-0 2326,-0 2326,-0 2619,-0 2619,-0 2625,-0 2631,-6 2631,-12 2631,-12 2631,-41 2631,-41 2631,-47 2625,-53 2619,-53\"/>\r\n",
       "<text text-anchor=\"start\" x=\"2435\" y=\"-37.8\" font-family=\"Helvetica,sans-Serif\" font-size=\"14.00\">gini = 0.738</text>\r\n",
       "<text text-anchor=\"start\" x=\"2412.5\" y=\"-22.8\" font-family=\"Helvetica,sans-Serif\" font-size=\"14.00\">samples = 371028</text>\r\n",
       "<text text-anchor=\"start\" x=\"2322\" y=\"-7.8\" font-family=\"Helvetica,sans-Serif\" font-size=\"14.00\">value = [140940, 35715, 91148, 76755, 26470]</text>\r\n",
       "</g>\r\n",
       "<!-- 19&#45;&gt;20 -->\r\n",
       "<g id=\"edge20\" class=\"edge\"><title>19&#45;&gt;20</title>\r\n",
       "<path fill=\"none\" stroke=\"black\" d=\"M2655.87,-88.9485C2624.2,-78.3345 2589.38,-66.6668 2558.67,-56.3763\"/>\r\n",
       "<polygon fill=\"black\" stroke=\"black\" points=\"2559.45,-52.9455 2548.85,-53.0867 2557.22,-59.5828 2559.45,-52.9455\"/>\r\n",
       "</g>\r\n",
       "<!-- 21 -->\r\n",
       "<g id=\"node22\" class=\"node\"><title>21</title>\r\n",
       "<path fill=\"#e53dc1\" stroke=\"black\" d=\"M2847.5,-53C2847.5,-53 2661.5,-53 2661.5,-53 2655.5,-53 2649.5,-47 2649.5,-41 2649.5,-41 2649.5,-12 2649.5,-12 2649.5,-6 2655.5,-0 2661.5,-0 2661.5,-0 2847.5,-0 2847.5,-0 2853.5,-0 2859.5,-6 2859.5,-12 2859.5,-12 2859.5,-41 2859.5,-41 2859.5,-47 2853.5,-53 2847.5,-53\"/>\r\n",
       "<text text-anchor=\"start\" x=\"2717\" y=\"-37.8\" font-family=\"Helvetica,sans-Serif\" font-size=\"14.00\">gini = 0.035</text>\r\n",
       "<text text-anchor=\"start\" x=\"2694.5\" y=\"-22.8\" font-family=\"Helvetica,sans-Serif\" font-size=\"14.00\">samples = 284257</text>\r\n",
       "<text text-anchor=\"start\" x=\"2657.5\" y=\"-7.8\" font-family=\"Helvetica,sans-Serif\" font-size=\"14.00\">value = [0, 1, 0, 5019, 279237]</text>\r\n",
       "</g>\r\n",
       "<!-- 19&#45;&gt;21 -->\r\n",
       "<g id=\"edge21\" class=\"edge\"><title>19&#45;&gt;21</title>\r\n",
       "<path fill=\"none\" stroke=\"black\" d=\"M2754.5,-88.9485C2754.5,-80.7153 2754.5,-71.848 2754.5,-63.4814\"/>\r\n",
       "<polygon fill=\"black\" stroke=\"black\" points=\"2758,-63.2367 2754.5,-53.2367 2751,-63.2367 2758,-63.2367\"/>\r\n",
       "</g>\r\n",
       "<!-- 23 -->\r\n",
       "<g id=\"node24\" class=\"node\"><title>23</title>\r\n",
       "<path fill=\"#e5833c\" stroke=\"black\" d=\"M3067.5,-53C3067.5,-53 2889.5,-53 2889.5,-53 2883.5,-53 2877.5,-47 2877.5,-41 2877.5,-41 2877.5,-12 2877.5,-12 2877.5,-6 2883.5,-0 2889.5,-0 2889.5,-0 3067.5,-0 3067.5,-0 3073.5,-0 3079.5,-6 3079.5,-12 3079.5,-12 3079.5,-41 3079.5,-41 3079.5,-47 3073.5,-53 3067.5,-53\"/>\r\n",
       "<text text-anchor=\"start\" x=\"2941\" y=\"-37.8\" font-family=\"Helvetica,sans-Serif\" font-size=\"14.00\">gini = 0.029</text>\r\n",
       "<text text-anchor=\"start\" x=\"2922.5\" y=\"-22.8\" font-family=\"Helvetica,sans-Serif\" font-size=\"14.00\">samples = 34691</text>\r\n",
       "<text text-anchor=\"start\" x=\"2885.5\" y=\"-7.8\" font-family=\"Helvetica,sans-Serif\" font-size=\"14.00\">value = [34189, 467, 18, 9, 8]</text>\r\n",
       "</g>\r\n",
       "<!-- 22&#45;&gt;23 -->\r\n",
       "<g id=\"edge23\" class=\"edge\"><title>22&#45;&gt;23</title>\r\n",
       "<path fill=\"none\" stroke=\"black\" d=\"M3117,-88.9485C3093.7,-78.6102 3068.15,-67.2722 3045.4,-57.1809\"/>\r\n",
       "<polygon fill=\"black\" stroke=\"black\" points=\"3046.73,-53.9429 3036.17,-53.0867 3043.89,-60.3414 3046.73,-53.9429\"/>\r\n",
       "</g>\r\n",
       "<!-- 24 -->\r\n",
       "<g id=\"node25\" class=\"node\"><title>24</title>\r\n",
       "<path fill=\"#eefce6\" stroke=\"black\" d=\"M3435.5,-53C3435.5,-53 3109.5,-53 3109.5,-53 3103.5,-53 3097.5,-47 3097.5,-41 3097.5,-41 3097.5,-12 3097.5,-12 3097.5,-6 3103.5,-0 3109.5,-0 3109.5,-0 3435.5,-0 3435.5,-0 3441.5,-0 3447.5,-6 3447.5,-12 3447.5,-12 3447.5,-41 3447.5,-41 3447.5,-47 3441.5,-53 3435.5,-53\"/>\r\n",
       "<text text-anchor=\"start\" x=\"3235\" y=\"-37.8\" font-family=\"Helvetica,sans-Serif\" font-size=\"14.00\">gini = 0.783</text>\r\n",
       "<text text-anchor=\"start\" x=\"3208.5\" y=\"-22.8\" font-family=\"Helvetica,sans-Serif\" font-size=\"14.00\">samples = 2096653</text>\r\n",
       "<text text-anchor=\"start\" x=\"3105.5\" y=\"-7.8\" font-family=\"Helvetica,sans-Serif\" font-size=\"14.00\">value = [433613, 642650, 410360, 315486, 294544]</text>\r\n",
       "</g>\r\n",
       "<!-- 22&#45;&gt;24 -->\r\n",
       "<g id=\"edge24\" class=\"edge\"><title>22&#45;&gt;24</title>\r\n",
       "<path fill=\"none\" stroke=\"black\" d=\"M3219.83,-88.9485C3227.59,-79.892 3236.01,-70.0682 3243.8,-60.9875\"/>\r\n",
       "<polygon fill=\"black\" stroke=\"black\" points=\"3246.59,-63.1071 3250.44,-53.2367 3241.27,-58.5515 3246.59,-63.1071\"/>\r\n",
       "</g>\r\n",
       "<!-- 26 -->\r\n",
       "<g id=\"node27\" class=\"node\"><title>26</title>\r\n",
       "<path fill=\"#f5cdb1\" stroke=\"black\" d=\"M3909,-157C3909,-157 3624,-157 3624,-157 3618,-157 3612,-151 3612,-145 3612,-145 3612,-101 3612,-101 3612,-95 3618,-89 3624,-89 3624,-89 3909,-89 3909,-89 3915,-89 3921,-95 3921,-101 3921,-101 3921,-145 3921,-145 3921,-151 3915,-157 3909,-157\"/>\r\n",
       "<text text-anchor=\"start\" x=\"3700\" y=\"-141.8\" font-family=\"Helvetica,sans-Serif\" font-size=\"14.00\">PULocationID ≤ 79.5</text>\r\n",
       "<text text-anchor=\"start\" x=\"3729\" y=\"-126.8\" font-family=\"Helvetica,sans-Serif\" font-size=\"14.00\">gini = 0.606</text>\r\n",
       "<text text-anchor=\"start\" x=\"3706.5\" y=\"-111.8\" font-family=\"Helvetica,sans-Serif\" font-size=\"14.00\">samples = 304436</text>\r\n",
       "<text text-anchor=\"start\" x=\"3620\" y=\"-96.8\" font-family=\"Helvetica,sans-Serif\" font-size=\"14.00\">value = [168856, 80530, 35488, 15414, 4148]</text>\r\n",
       "</g>\r\n",
       "<!-- 25&#45;&gt;26 -->\r\n",
       "<g id=\"edge26\" class=\"edge\"><title>25&#45;&gt;26</title>\r\n",
       "<path fill=\"none\" stroke=\"black\" d=\"M3766.5,-192.884C3766.5,-184.778 3766.5,-175.982 3766.5,-167.472\"/>\r\n",
       "<polygon fill=\"black\" stroke=\"black\" points=\"3770,-167.299 3766.5,-157.299 3763,-167.299 3770,-167.299\"/>\r\n",
       "</g>\r\n",
       "<!-- 29 -->\r\n",
       "<g id=\"node30\" class=\"node\"><title>29</title>\r\n",
       "<path fill=\"#e68642\" stroke=\"black\" d=\"M4319,-157C4319,-157 4100,-157 4100,-157 4094,-157 4088,-151 4088,-145 4088,-145 4088,-101 4088,-101 4088,-95 4094,-89 4100,-89 4100,-89 4319,-89 4319,-89 4325,-89 4331,-95 4331,-101 4331,-101 4331,-145 4331,-145 4331,-151 4325,-157 4319,-157\"/>\r\n",
       "<text text-anchor=\"start\" x=\"4143\" y=\"-141.8\" font-family=\"Helvetica,sans-Serif\" font-size=\"14.00\">PULocationID ≤ 79.5</text>\r\n",
       "<text text-anchor=\"start\" x=\"4172\" y=\"-126.8\" font-family=\"Helvetica,sans-Serif\" font-size=\"14.00\">gini = 0.079</text>\r\n",
       "<text text-anchor=\"start\" x=\"4149.5\" y=\"-111.8\" font-family=\"Helvetica,sans-Serif\" font-size=\"14.00\">samples = 137915</text>\r\n",
       "<text text-anchor=\"start\" x=\"4096\" y=\"-96.8\" font-family=\"Helvetica,sans-Serif\" font-size=\"14.00\">value = [132209, 5498, 131, 37, 40]</text>\r\n",
       "</g>\r\n",
       "<!-- 25&#45;&gt;29 -->\r\n",
       "<g id=\"edge29\" class=\"edge\"><title>25&#45;&gt;29</title>\r\n",
       "<path fill=\"none\" stroke=\"black\" d=\"M3910.02,-192.954C3964.03,-180.519 4025.12,-166.452 4077.98,-154.282\"/>\r\n",
       "<polygon fill=\"black\" stroke=\"black\" points=\"4078.79,-157.687 4087.75,-152.032 4077.22,-150.865 4078.79,-157.687\"/>\r\n",
       "</g>\r\n",
       "<!-- 27 -->\r\n",
       "<g id=\"node28\" class=\"node\"><title>27</title>\r\n",
       "<path fill=\"#ffffff\" stroke=\"black\" d=\"M3755,-53C3755,-53 3478,-53 3478,-53 3472,-53 3466,-47 3466,-41 3466,-41 3466,-12 3466,-12 3466,-6 3472,-0 3478,-0 3478,-0 3755,-0 3755,-0 3761,-0 3767,-6 3767,-12 3767,-12 3767,-41 3767,-41 3767,-47 3761,-53 3755,-53\"/>\r\n",
       "<text text-anchor=\"start\" x=\"3579\" y=\"-37.8\" font-family=\"Helvetica,sans-Serif\" font-size=\"14.00\">gini = 0.753</text>\r\n",
       "<text text-anchor=\"start\" x=\"3560.5\" y=\"-22.8\" font-family=\"Helvetica,sans-Serif\" font-size=\"14.00\">samples = 81084</text>\r\n",
       "<text text-anchor=\"start\" x=\"3474\" y=\"-7.8\" font-family=\"Helvetica,sans-Serif\" font-size=\"14.00\">value = [23552, 23658, 18900, 11816, 3158]</text>\r\n",
       "</g>\r\n",
       "<!-- 26&#45;&gt;27 -->\r\n",
       "<g id=\"edge27\" class=\"edge\"><title>26&#45;&gt;27</title>\r\n",
       "<path fill=\"none\" stroke=\"black\" d=\"M3714.04,-88.9485C3698.5,-79.1601 3681.54,-68.4756 3666.18,-58.8015\"/>\r\n",
       "<polygon fill=\"black\" stroke=\"black\" points=\"3667.68,-55.6058 3657.35,-53.2367 3663.95,-61.5285 3667.68,-55.6058\"/>\r\n",
       "</g>\r\n",
       "<!-- 28 -->\r\n",
       "<g id=\"node29\" class=\"node\"><title>28</title>\r\n",
       "<path fill=\"#f1bc96\" stroke=\"black\" d=\"M4066,-53C4066,-53 3797,-53 3797,-53 3791,-53 3785,-47 3785,-41 3785,-41 3785,-12 3785,-12 3785,-6 3791,-0 3797,-0 3797,-0 4066,-0 4066,-0 4072,-0 4078,-6 4078,-12 4078,-12 4078,-41 4078,-41 4078,-47 4072,-53 4066,-53\"/>\r\n",
       "<text text-anchor=\"start\" x=\"3894\" y=\"-37.8\" font-family=\"Helvetica,sans-Serif\" font-size=\"14.00\">gini = 0.506</text>\r\n",
       "<text text-anchor=\"start\" x=\"3871.5\" y=\"-22.8\" font-family=\"Helvetica,sans-Serif\" font-size=\"14.00\">samples = 223352</text>\r\n",
       "<text text-anchor=\"start\" x=\"3793\" y=\"-7.8\" font-family=\"Helvetica,sans-Serif\" font-size=\"14.00\">value = [145304, 56872, 16588, 3598, 990]</text>\r\n",
       "</g>\r\n",
       "<!-- 26&#45;&gt;28 -->\r\n",
       "<g id=\"edge28\" class=\"edge\"><title>26&#45;&gt;28</title>\r\n",
       "<path fill=\"none\" stroke=\"black\" d=\"M3824.21,-88.9485C3841.7,-78.9318 3860.83,-67.9767 3878.03,-58.1263\"/>\r\n",
       "<polygon fill=\"black\" stroke=\"black\" points=\"3879.89,-61.0938 3886.82,-53.0867 3876.41,-55.0195 3879.89,-61.0938\"/>\r\n",
       "</g>\r\n",
       "<!-- 30 -->\r\n",
       "<g id=\"node31\" class=\"node\"><title>30</title>\r\n",
       "<path fill=\"#e99457\" stroke=\"black\" d=\"M4311,-53C4311,-53 4108,-53 4108,-53 4102,-53 4096,-47 4096,-41 4096,-41 4096,-12 4096,-12 4096,-6 4102,-0 4108,-0 4108,-0 4311,-0 4311,-0 4317,-0 4323,-6 4323,-12 4323,-12 4323,-41 4323,-41 4323,-47 4317,-53 4311,-53\"/>\r\n",
       "<text text-anchor=\"start\" x=\"4172\" y=\"-37.8\" font-family=\"Helvetica,sans-Serif\" font-size=\"14.00\">gini = 0.228</text>\r\n",
       "<text text-anchor=\"start\" x=\"4153.5\" y=\"-22.8\" font-family=\"Helvetica,sans-Serif\" font-size=\"14.00\">samples = 33181</text>\r\n",
       "<text text-anchor=\"start\" x=\"4104\" y=\"-7.8\" font-family=\"Helvetica,sans-Serif\" font-size=\"14.00\">value = [28851, 4217, 81, 15, 17]</text>\r\n",
       "</g>\r\n",
       "<!-- 29&#45;&gt;30 -->\r\n",
       "<g id=\"edge30\" class=\"edge\"><title>29&#45;&gt;30</title>\r\n",
       "<path fill=\"none\" stroke=\"black\" d=\"M4209.5,-88.9485C4209.5,-80.7153 4209.5,-71.848 4209.5,-63.4814\"/>\r\n",
       "<polygon fill=\"black\" stroke=\"black\" points=\"4213,-63.2367 4209.5,-53.2367 4206,-63.2367 4213,-63.2367\"/>\r\n",
       "</g>\r\n",
       "<!-- 31 -->\r\n",
       "<g id=\"node32\" class=\"node\"><title>31</title>\r\n",
       "<path fill=\"#e5833c\" stroke=\"black\" d=\"M4564,-53C4564,-53 4353,-53 4353,-53 4347,-53 4341,-47 4341,-41 4341,-41 4341,-12 4341,-12 4341,-6 4347,-0 4353,-0 4353,-0 4564,-0 4564,-0 4570,-0 4576,-6 4576,-12 4576,-12 4576,-41 4576,-41 4576,-47 4570,-53 4564,-53\"/>\r\n",
       "<text text-anchor=\"start\" x=\"4421\" y=\"-37.8\" font-family=\"Helvetica,sans-Serif\" font-size=\"14.00\">gini = 0.026</text>\r\n",
       "<text text-anchor=\"start\" x=\"4398.5\" y=\"-22.8\" font-family=\"Helvetica,sans-Serif\" font-size=\"14.00\">samples = 104734</text>\r\n",
       "<text text-anchor=\"start\" x=\"4349\" y=\"-7.8\" font-family=\"Helvetica,sans-Serif\" font-size=\"14.00\">value = [103358, 1281, 50, 22, 23]</text>\r\n",
       "</g>\r\n",
       "<!-- 29&#45;&gt;31 -->\r\n",
       "<g id=\"edge31\" class=\"edge\"><title>29&#45;&gt;31</title>\r\n",
       "<path fill=\"none\" stroke=\"black\" d=\"M4296.59,-88.9485C4324.31,-78.4264 4354.77,-66.8687 4381.71,-56.6439\"/>\r\n",
       "<polygon fill=\"black\" stroke=\"black\" points=\"4382.97,-59.9073 4391.08,-53.0867 4380.49,-53.3627 4382.97,-59.9073\"/>\r\n",
       "</g>\r\n",
       "<!-- 33 -->\r\n",
       "<g id=\"node34\" class=\"node\"><title>33</title>\r\n",
       "<path fill=\"#fbfffe\" stroke=\"black\" d=\"M5887.5,-365C5887.5,-365 5519.5,-365 5519.5,-365 5513.5,-365 5507.5,-359 5507.5,-353 5507.5,-353 5507.5,-309 5507.5,-309 5507.5,-303 5513.5,-297 5519.5,-297 5519.5,-297 5887.5,-297 5887.5,-297 5893.5,-297 5899.5,-303 5899.5,-309 5899.5,-309 5899.5,-353 5899.5,-353 5899.5,-359 5893.5,-365 5887.5,-365\"/>\r\n",
       "<text text-anchor=\"start\" x=\"5637\" y=\"-349.8\" font-family=\"Helvetica,sans-Serif\" font-size=\"14.00\">PULocationID ≤ 42.5</text>\r\n",
       "<text text-anchor=\"start\" x=\"5666\" y=\"-334.8\" font-family=\"Helvetica,sans-Serif\" font-size=\"14.00\">gini = 0.786</text>\r\n",
       "<text text-anchor=\"start\" x=\"5639.5\" y=\"-319.8\" font-family=\"Helvetica,sans-Serif\" font-size=\"14.00\">samples = 9260473</text>\r\n",
       "<text text-anchor=\"start\" x=\"5515.5\" y=\"-304.8\" font-family=\"Helvetica,sans-Serif\" font-size=\"14.00\">value = [1669610, 2268828, 2398777, 1884646, 1038612]</text>\r\n",
       "</g>\r\n",
       "<!-- 32&#45;&gt;33 -->\r\n",
       "<g id=\"edge33\" class=\"edge\"><title>32&#45;&gt;33</title>\r\n",
       "<path fill=\"none\" stroke=\"black\" d=\"M5703.5,-400.884C5703.5,-392.778 5703.5,-383.982 5703.5,-375.472\"/>\r\n",
       "<polygon fill=\"black\" stroke=\"black\" points=\"5707,-375.299 5703.5,-365.299 5700,-375.299 5707,-375.299\"/>\r\n",
       "</g>\r\n",
       "<!-- 48 -->\r\n",
       "<g id=\"node49\" class=\"node\"><title>48</title>\r\n",
       "<path fill=\"#fdeffa\" stroke=\"black\" d=\"M7882,-365C7882,-365 7523,-365 7523,-365 7517,-365 7511,-359 7511,-353 7511,-353 7511,-309 7511,-309 7511,-303 7517,-297 7523,-297 7523,-297 7882,-297 7882,-297 7888,-297 7894,-303 7894,-309 7894,-309 7894,-353 7894,-353 7894,-359 7888,-365 7882,-365\"/>\r\n",
       "<text text-anchor=\"start\" x=\"7632\" y=\"-349.8\" font-family=\"Helvetica,sans-Serif\" font-size=\"14.00\">PULocationID ≤ 237.5</text>\r\n",
       "<text text-anchor=\"start\" x=\"7665\" y=\"-334.8\" font-family=\"Helvetica,sans-Serif\" font-size=\"14.00\">gini = 0.761</text>\r\n",
       "<text text-anchor=\"start\" x=\"7634.5\" y=\"-319.8\" font-family=\"Helvetica,sans-Serif\" font-size=\"14.00\">samples = 11594713</text>\r\n",
       "<text text-anchor=\"start\" x=\"7519\" y=\"-304.8\" font-family=\"Helvetica,sans-Serif\" font-size=\"14.00\">value = [790685, 1734342, 2283363, 3042434, 3743889]</text>\r\n",
       "</g>\r\n",
       "<!-- 32&#45;&gt;48 -->\r\n",
       "<g id=\"edge48\" class=\"edge\"><title>32&#45;&gt;48</title>\r\n",
       "<path fill=\"none\" stroke=\"black\" d=\"M5899.73,-423.987C6280.37,-404.565 7115.34,-361.96 7500.51,-342.306\"/>\r\n",
       "<polygon fill=\"black\" stroke=\"black\" points=\"7500.84,-345.794 7510.65,-341.789 7500.49,-338.803 7500.84,-345.794\"/>\r\n",
       "</g>\r\n",
       "<!-- 34 -->\r\n",
       "<g id=\"node35\" class=\"node\"><title>34</title>\r\n",
       "<path fill=\"#ea9b63\" stroke=\"black\" d=\"M5506.5,-261C5506.5,-261 5254.5,-261 5254.5,-261 5248.5,-261 5242.5,-255 5242.5,-249 5242.5,-249 5242.5,-205 5242.5,-205 5242.5,-199 5248.5,-193 5254.5,-193 5254.5,-193 5506.5,-193 5506.5,-193 5512.5,-193 5518.5,-199 5518.5,-205 5518.5,-205 5518.5,-249 5518.5,-249 5518.5,-255 5512.5,-261 5506.5,-261\"/>\r\n",
       "<text text-anchor=\"start\" x=\"5314\" y=\"-245.8\" font-family=\"Helvetica,sans-Serif\" font-size=\"14.00\">PULocationID ≤ 13.5</text>\r\n",
       "<text text-anchor=\"start\" x=\"5343\" y=\"-230.8\" font-family=\"Helvetica,sans-Serif\" font-size=\"14.00\">gini = 0.289</text>\r\n",
       "<text text-anchor=\"start\" x=\"5320.5\" y=\"-215.8\" font-family=\"Helvetica,sans-Serif\" font-size=\"14.00\">samples = 445090</text>\r\n",
       "<text text-anchor=\"start\" x=\"5250.5\" y=\"-200.8\" font-family=\"Helvetica,sans-Serif\" font-size=\"14.00\">value = [367636, 75762, 1375, 175, 142]</text>\r\n",
       "</g>\r\n",
       "<!-- 33&#45;&gt;34 -->\r\n",
       "<g id=\"edge34\" class=\"edge\"><title>33&#45;&gt;34</title>\r\n",
       "<path fill=\"none\" stroke=\"black\" d=\"M5598.63,-296.884C5565.52,-286.427 5528.77,-274.822 5495.02,-264.164\"/>\r\n",
       "<polygon fill=\"black\" stroke=\"black\" points=\"5495.71,-260.711 5485.12,-261.038 5493.6,-267.386 5495.71,-260.711\"/>\r\n",
       "</g>\r\n",
       "<!-- 41 -->\r\n",
       "<g id=\"node42\" class=\"node\"><title>41</title>\r\n",
       "<path fill=\"#f9fefd\" stroke=\"black\" d=\"M6159.5,-261C6159.5,-261 5791.5,-261 5791.5,-261 5785.5,-261 5779.5,-255 5779.5,-249 5779.5,-249 5779.5,-205 5779.5,-205 5779.5,-199 5785.5,-193 5791.5,-193 5791.5,-193 6159.5,-193 6159.5,-193 6165.5,-193 6171.5,-199 6171.5,-205 6171.5,-205 6171.5,-249 6171.5,-249 6171.5,-255 6165.5,-261 6159.5,-261\"/>\r\n",
       "<text text-anchor=\"start\" x=\"5905\" y=\"-245.8\" font-family=\"Helvetica,sans-Serif\" font-size=\"14.00\">PULocationID ≤ 142.5</text>\r\n",
       "<text text-anchor=\"start\" x=\"5938\" y=\"-230.8\" font-family=\"Helvetica,sans-Serif\" font-size=\"14.00\">gini = 0.783</text>\r\n",
       "<text text-anchor=\"start\" x=\"5911.5\" y=\"-215.8\" font-family=\"Helvetica,sans-Serif\" font-size=\"14.00\">samples = 8815383</text>\r\n",
       "<text text-anchor=\"start\" x=\"5787.5\" y=\"-200.8\" font-family=\"Helvetica,sans-Serif\" font-size=\"14.00\">value = [1301974, 2193066, 2397402, 1884471, 1038470]</text>\r\n",
       "</g>\r\n",
       "<!-- 33&#45;&gt;41 -->\r\n",
       "<g id=\"edge41\" class=\"edge\"><title>33&#45;&gt;41</title>\r\n",
       "<path fill=\"none\" stroke=\"black\" d=\"M5791.81,-296.884C5819.27,-286.588 5849.69,-275.179 5877.75,-264.656\"/>\r\n",
       "<polygon fill=\"black\" stroke=\"black\" points=\"5879.03,-267.913 5887.17,-261.125 5876.58,-261.359 5879.03,-267.913\"/>\r\n",
       "</g>\r\n",
       "<!-- 35 -->\r\n",
       "<g id=\"node36\" class=\"node\"><title>35</title>\r\n",
       "<path fill=\"#f1bb94\" stroke=\"black\" d=\"M5124.5,-157C5124.5,-157 4872.5,-157 4872.5,-157 4866.5,-157 4860.5,-151 4860.5,-145 4860.5,-145 4860.5,-101 4860.5,-101 4860.5,-95 4866.5,-89 4872.5,-89 4872.5,-89 5124.5,-89 5124.5,-89 5130.5,-89 5136.5,-95 5136.5,-101 5136.5,-101 5136.5,-145 5136.5,-145 5136.5,-151 5130.5,-157 5124.5,-157\"/>\r\n",
       "<text text-anchor=\"start\" x=\"4962.5\" y=\"-141.8\" font-family=\"Helvetica,sans-Serif\" font-size=\"14.00\">hour ≤ 19.5</text>\r\n",
       "<text text-anchor=\"start\" x=\"4961\" y=\"-126.8\" font-family=\"Helvetica,sans-Serif\" font-size=\"14.00\">gini = 0.437</text>\r\n",
       "<text text-anchor=\"start\" x=\"4938.5\" y=\"-111.8\" font-family=\"Helvetica,sans-Serif\" font-size=\"14.00\">samples = 241930</text>\r\n",
       "<text text-anchor=\"start\" x=\"4868.5\" y=\"-96.8\" font-family=\"Helvetica,sans-Serif\" font-size=\"14.00\">value = [165343, 75015, 1316, 153, 103]</text>\r\n",
       "</g>\r\n",
       "<!-- 34&#45;&gt;35 -->\r\n",
       "<g id=\"edge35\" class=\"edge\"><title>34&#45;&gt;35</title>\r\n",
       "<path fill=\"none\" stroke=\"black\" d=\"M5256.74,-192.954C5216.89,-182.315 5172.58,-170.481 5132.06,-159.662\"/>\r\n",
       "<polygon fill=\"black\" stroke=\"black\" points=\"5132.96,-156.279 5122.39,-157.081 5131.15,-163.042 5132.96,-156.279\"/>\r\n",
       "</g>\r\n",
       "<!-- 38 -->\r\n",
       "<g id=\"node39\" class=\"node\"><title>38</title>\r\n",
       "<path fill=\"#e5823a\" stroke=\"black\" d=\"M5482,-157C5482,-157 5279,-157 5279,-157 5273,-157 5267,-151 5267,-145 5267,-145 5267,-101 5267,-101 5267,-95 5273,-89 5279,-89 5279,-89 5482,-89 5482,-89 5488,-89 5494,-95 5494,-101 5494,-101 5494,-145 5494,-145 5494,-151 5488,-157 5482,-157\"/>\r\n",
       "<text text-anchor=\"start\" x=\"5344.5\" y=\"-141.8\" font-family=\"Helvetica,sans-Serif\" font-size=\"14.00\">hour ≤ 18.5</text>\r\n",
       "<text text-anchor=\"start\" x=\"5343\" y=\"-126.8\" font-family=\"Helvetica,sans-Serif\" font-size=\"14.00\">gini = 0.009</text>\r\n",
       "<text text-anchor=\"start\" x=\"5320.5\" y=\"-111.8\" font-family=\"Helvetica,sans-Serif\" font-size=\"14.00\">samples = 203160</text>\r\n",
       "<text text-anchor=\"start\" x=\"5275\" y=\"-96.8\" font-family=\"Helvetica,sans-Serif\" font-size=\"14.00\">value = [202293, 747, 59, 22, 39]</text>\r\n",
       "</g>\r\n",
       "<!-- 34&#45;&gt;38 -->\r\n",
       "<g id=\"edge38\" class=\"edge\"><title>34&#45;&gt;38</title>\r\n",
       "<path fill=\"none\" stroke=\"black\" d=\"M5380.5,-192.884C5380.5,-184.778 5380.5,-175.982 5380.5,-167.472\"/>\r\n",
       "<polygon fill=\"black\" stroke=\"black\" points=\"5384,-167.299 5380.5,-157.299 5377,-167.299 5384,-167.299\"/>\r\n",
       "</g>\r\n",
       "<!-- 36 -->\r\n",
       "<g id=\"node37\" class=\"node\"><title>36</title>\r\n",
       "<path fill=\"#ebfbe1\" stroke=\"black\" d=\"M4842.5,-53C4842.5,-53 4606.5,-53 4606.5,-53 4600.5,-53 4594.5,-47 4594.5,-41 4594.5,-41 4594.5,-12 4594.5,-12 4594.5,-6 4600.5,-0 4606.5,-0 4606.5,-0 4842.5,-0 4842.5,-0 4848.5,-0 4854.5,-6 4854.5,-12 4854.5,-12 4854.5,-41 4854.5,-41 4854.5,-47 4848.5,-53 4842.5,-53\"/>\r\n",
       "<text text-anchor=\"start\" x=\"4687\" y=\"-37.8\" font-family=\"Helvetica,sans-Serif\" font-size=\"14.00\">gini = 0.508</text>\r\n",
       "<text text-anchor=\"start\" x=\"4664.5\" y=\"-22.8\" font-family=\"Helvetica,sans-Serif\" font-size=\"14.00\">samples = 108424</text>\r\n",
       "<text text-anchor=\"start\" x=\"4602.5\" y=\"-7.8\" font-family=\"Helvetica,sans-Serif\" font-size=\"14.00\">value = [49153, 58044, 1056, 107, 64]</text>\r\n",
       "</g>\r\n",
       "<!-- 35&#45;&gt;36 -->\r\n",
       "<g id=\"edge36\" class=\"edge\"><title>35&#45;&gt;36</title>\r\n",
       "<path fill=\"none\" stroke=\"black\" d=\"M4902.67,-88.9485C4871.89,-78.3345 4838.06,-66.6668 4808.23,-56.3763\"/>\r\n",
       "<polygon fill=\"black\" stroke=\"black\" points=\"4809.28,-53.0384 4798.69,-53.0867 4807,-59.6559 4809.28,-53.0384\"/>\r\n",
       "</g>\r\n",
       "<!-- 37 -->\r\n",
       "<g id=\"node38\" class=\"node\"><title>37</title>\r\n",
       "<path fill=\"#e99456\" stroke=\"black\" d=\"M5112,-53C5112,-53 4885,-53 4885,-53 4879,-53 4873,-47 4873,-41 4873,-41 4873,-12 4873,-12 4873,-6 4879,-0 4885,-0 4885,-0 5112,-0 5112,-0 5118,-0 5124,-6 5124,-12 5124,-12 5124,-41 5124,-41 5124,-47 5118,-53 5112,-53\"/>\r\n",
       "<text text-anchor=\"start\" x=\"4961\" y=\"-37.8\" font-family=\"Helvetica,sans-Serif\" font-size=\"14.00\">gini = 0.226</text>\r\n",
       "<text text-anchor=\"start\" x=\"4938.5\" y=\"-22.8\" font-family=\"Helvetica,sans-Serif\" font-size=\"14.00\">samples = 133506</text>\r\n",
       "<text text-anchor=\"start\" x=\"4881\" y=\"-7.8\" font-family=\"Helvetica,sans-Serif\" font-size=\"14.00\">value = [116190, 16971, 260, 46, 39]</text>\r\n",
       "</g>\r\n",
       "<!-- 35&#45;&gt;37 -->\r\n",
       "<g id=\"edge37\" class=\"edge\"><title>35&#45;&gt;37</title>\r\n",
       "<path fill=\"none\" stroke=\"black\" d=\"M4998.5,-88.9485C4998.5,-80.7153 4998.5,-71.848 4998.5,-63.4814\"/>\r\n",
       "<polygon fill=\"black\" stroke=\"black\" points=\"5002,-63.2367 4998.5,-53.2367 4995,-63.2367 5002,-63.2367\"/>\r\n",
       "</g>\r\n",
       "<!-- 39 -->\r\n",
       "<g id=\"node40\" class=\"node\"><title>39</title>\r\n",
       "<path fill=\"#e5823b\" stroke=\"black\" d=\"M5348.5,-53C5348.5,-53 5154.5,-53 5154.5,-53 5148.5,-53 5142.5,-47 5142.5,-41 5142.5,-41 5142.5,-12 5142.5,-12 5142.5,-6 5148.5,-0 5154.5,-0 5154.5,-0 5348.5,-0 5348.5,-0 5354.5,-0 5360.5,-6 5360.5,-12 5360.5,-12 5360.5,-41 5360.5,-41 5360.5,-47 5354.5,-53 5348.5,-53\"/>\r\n",
       "<text text-anchor=\"start\" x=\"5214\" y=\"-37.8\" font-family=\"Helvetica,sans-Serif\" font-size=\"14.00\">gini = 0.019</text>\r\n",
       "<text text-anchor=\"start\" x=\"5195.5\" y=\"-22.8\" font-family=\"Helvetica,sans-Serif\" font-size=\"14.00\">samples = 64684</text>\r\n",
       "<text text-anchor=\"start\" x=\"5150.5\" y=\"-7.8\" font-family=\"Helvetica,sans-Serif\" font-size=\"14.00\">value = [64054, 570, 25, 12, 23]</text>\r\n",
       "</g>\r\n",
       "<!-- 38&#45;&gt;39 -->\r\n",
       "<g id=\"edge39\" class=\"edge\"><title>38&#45;&gt;39</title>\r\n",
       "<path fill=\"none\" stroke=\"black\" d=\"M5335.38,-88.9485C5322.27,-79.3431 5307.98,-68.8747 5294.97,-59.345\"/>\r\n",
       "<polygon fill=\"black\" stroke=\"black\" points=\"5296.77,-56.3228 5286.63,-53.2367 5292.63,-61.9698 5296.77,-56.3228\"/>\r\n",
       "</g>\r\n",
       "<!-- 40 -->\r\n",
       "<g id=\"node41\" class=\"node\"><title>40</title>\r\n",
       "<path fill=\"#e58139\" stroke=\"black\" d=\"M5594,-53C5594,-53 5391,-53 5391,-53 5385,-53 5379,-47 5379,-41 5379,-41 5379,-12 5379,-12 5379,-6 5385,-0 5391,-0 5391,-0 5594,-0 5594,-0 5600,-0 5606,-6 5606,-12 5606,-12 5606,-41 5606,-41 5606,-47 5600,-53 5594,-53\"/>\r\n",
       "<text text-anchor=\"start\" x=\"5455\" y=\"-37.8\" font-family=\"Helvetica,sans-Serif\" font-size=\"14.00\">gini = 0.003</text>\r\n",
       "<text text-anchor=\"start\" x=\"5432.5\" y=\"-22.8\" font-family=\"Helvetica,sans-Serif\" font-size=\"14.00\">samples = 138476</text>\r\n",
       "<text text-anchor=\"start\" x=\"5387\" y=\"-7.8\" font-family=\"Helvetica,sans-Serif\" font-size=\"14.00\">value = [138239, 177, 34, 10, 16]</text>\r\n",
       "</g>\r\n",
       "<!-- 38&#45;&gt;40 -->\r\n",
       "<g id=\"edge40\" class=\"edge\"><title>38&#45;&gt;40</title>\r\n",
       "<path fill=\"none\" stroke=\"black\" d=\"M5419.67,-88.9485C5430.84,-79.526 5442.99,-69.2731 5454.11,-59.8906\"/>\r\n",
       "<polygon fill=\"black\" stroke=\"black\" points=\"5456.61,-62.3605 5462,-53.2367 5452.1,-57.0104 5456.61,-62.3605\"/>\r\n",
       "</g>\r\n",
       "<!-- 42 -->\r\n",
       "<g id=\"node43\" class=\"node\"><title>42</title>\r\n",
       "<path fill=\"#f1fdfb\" stroke=\"black\" d=\"M6155,-157C6155,-157 5796,-157 5796,-157 5790,-157 5784,-151 5784,-145 5784,-145 5784,-101 5784,-101 5784,-95 5790,-89 5796,-89 5796,-89 6155,-89 6155,-89 6161,-89 6167,-95 6167,-101 6167,-101 6167,-145 6167,-145 6167,-151 6161,-157 6155,-157\"/>\r\n",
       "<text text-anchor=\"start\" x=\"5905\" y=\"-141.8\" font-family=\"Helvetica,sans-Serif\" font-size=\"14.00\">PULocationID ≤ 141.5</text>\r\n",
       "<text text-anchor=\"start\" x=\"5942\" y=\"-126.8\" font-family=\"Helvetica,sans-Serif\" font-size=\"14.00\">gini = 0.78</text>\r\n",
       "<text text-anchor=\"start\" x=\"5911.5\" y=\"-111.8\" font-family=\"Helvetica,sans-Serif\" font-size=\"14.00\">samples = 7652649</text>\r\n",
       "<text text-anchor=\"start\" x=\"5792\" y=\"-96.8\" font-family=\"Helvetica,sans-Serif\" font-size=\"14.00\">value = [999466, 1543818, 2247111, 1835734, 1026520]</text>\r\n",
       "</g>\r\n",
       "<!-- 41&#45;&gt;42 -->\r\n",
       "<g id=\"edge42\" class=\"edge\"><title>41&#45;&gt;42</title>\r\n",
       "<path fill=\"none\" stroke=\"black\" d=\"M5975.5,-192.884C5975.5,-184.778 5975.5,-175.982 5975.5,-167.472\"/>\r\n",
       "<polygon fill=\"black\" stroke=\"black\" points=\"5979,-167.299 5975.5,-157.299 5972,-167.299 5979,-167.299\"/>\r\n",
       "</g>\r\n",
       "<!-- 45 -->\r\n",
       "<g id=\"node46\" class=\"node\"><title>45</title>\r\n",
       "<path fill=\"#caf5af\" stroke=\"black\" d=\"M6671.5,-157C6671.5,-157 6361.5,-157 6361.5,-157 6355.5,-157 6349.5,-151 6349.5,-145 6349.5,-145 6349.5,-101 6349.5,-101 6349.5,-95 6355.5,-89 6361.5,-89 6361.5,-89 6671.5,-89 6671.5,-89 6677.5,-89 6683.5,-95 6683.5,-101 6683.5,-101 6683.5,-145 6683.5,-145 6683.5,-151 6677.5,-157 6671.5,-157\"/>\r\n",
       "<text text-anchor=\"start\" x=\"6480.5\" y=\"-141.8\" font-family=\"Helvetica,sans-Serif\" font-size=\"14.00\">hour ≤ 21.5</text>\r\n",
       "<text text-anchor=\"start\" x=\"6479\" y=\"-126.8\" font-family=\"Helvetica,sans-Serif\" font-size=\"14.00\">gini = 0.602</text>\r\n",
       "<text text-anchor=\"start\" x=\"6452.5\" y=\"-111.8\" font-family=\"Helvetica,sans-Serif\" font-size=\"14.00\">samples = 1162734</text>\r\n",
       "<text text-anchor=\"start\" x=\"6357.5\" y=\"-96.8\" font-family=\"Helvetica,sans-Serif\" font-size=\"14.00\">value = [302508, 649248, 150291, 48737, 11950]</text>\r\n",
       "</g>\r\n",
       "<!-- 41&#45;&gt;45 -->\r\n",
       "<g id=\"edge45\" class=\"edge\"><title>41&#45;&gt;45</title>\r\n",
       "<path fill=\"none\" stroke=\"black\" d=\"M6150.77,-192.954C6211.14,-181.572 6278.77,-168.822 6339.29,-157.411\"/>\r\n",
       "<polygon fill=\"black\" stroke=\"black\" points=\"6340.15,-160.81 6349.33,-155.518 6338.85,-153.932 6340.15,-160.81\"/>\r\n",
       "</g>\r\n",
       "<!-- 43 -->\r\n",
       "<g id=\"node44\" class=\"node\"><title>43</title>\r\n",
       "<path fill=\"#e9fcf8\" stroke=\"black\" d=\"M5987,-53C5987,-53 5636,-53 5636,-53 5630,-53 5624,-47 5624,-41 5624,-41 5624,-12 5624,-12 5624,-6 5630,-0 5636,-0 5636,-0 5987,-0 5987,-0 5993,-0 5999,-6 5999,-12 5999,-12 5999,-41 5999,-41 5999,-47 5993,-53 5987,-53\"/>\r\n",
       "<text text-anchor=\"start\" x=\"5774\" y=\"-37.8\" font-family=\"Helvetica,sans-Serif\" font-size=\"14.00\">gini = 0.777</text>\r\n",
       "<text text-anchor=\"start\" x=\"5747.5\" y=\"-22.8\" font-family=\"Helvetica,sans-Serif\" font-size=\"14.00\">samples = 6944870</text>\r\n",
       "<text text-anchor=\"start\" x=\"5632\" y=\"-7.8\" font-family=\"Helvetica,sans-Serif\" font-size=\"14.00\">value = [996589, 1523818, 2137776, 1483738, 802949]</text>\r\n",
       "</g>\r\n",
       "<!-- 42&#45;&gt;43 -->\r\n",
       "<g id=\"edge43\" class=\"edge\"><title>42&#45;&gt;43</title>\r\n",
       "<path fill=\"none\" stroke=\"black\" d=\"M5918.14,-88.9485C5900.76,-78.9318 5881.75,-67.9767 5864.65,-58.1263\"/>\r\n",
       "<polygon fill=\"black\" stroke=\"black\" points=\"5866.32,-55.0468 5855.9,-53.0867 5862.82,-61.112 5866.32,-55.0468\"/>\r\n",
       "</g>\r\n",
       "<!-- 44 -->\r\n",
       "<g id=\"node45\" class=\"node\"><title>44</title>\r\n",
       "<path fill=\"#cbcaf8\" stroke=\"black\" d=\"M6331.5,-53C6331.5,-53 6029.5,-53 6029.5,-53 6023.5,-53 6017.5,-47 6017.5,-41 6017.5,-41 6017.5,-12 6017.5,-12 6017.5,-6 6023.5,-0 6029.5,-0 6029.5,-0 6331.5,-0 6331.5,-0 6337.5,-0 6343.5,-6 6343.5,-12 6343.5,-12 6343.5,-41 6343.5,-41 6343.5,-47 6337.5,-53 6331.5,-53\"/>\r\n",
       "<text text-anchor=\"start\" x=\"6143\" y=\"-37.8\" font-family=\"Helvetica,sans-Serif\" font-size=\"14.00\">gini = 0.628</text>\r\n",
       "<text text-anchor=\"start\" x=\"6120.5\" y=\"-22.8\" font-family=\"Helvetica,sans-Serif\" font-size=\"14.00\">samples = 707779</text>\r\n",
       "<text text-anchor=\"start\" x=\"6025.5\" y=\"-7.8\" font-family=\"Helvetica,sans-Serif\" font-size=\"14.00\">value = [2877, 20000, 109335, 351996, 223571]</text>\r\n",
       "</g>\r\n",
       "<!-- 42&#45;&gt;44 -->\r\n",
       "<g id=\"edge44\" class=\"edge\"><title>42&#45;&gt;44</title>\r\n",
       "<path fill=\"none\" stroke=\"black\" d=\"M6047.2,-88.9485C6069.53,-78.6562 6094,-67.3729 6115.82,-57.3155\"/>\r\n",
       "<polygon fill=\"black\" stroke=\"black\" points=\"6117.38,-60.4517 6124.99,-53.0867 6114.45,-54.0946 6117.38,-60.4517\"/>\r\n",
       "</g>\r\n",
       "<!-- 46 -->\r\n",
       "<g id=\"node47\" class=\"node\"><title>46</title>\r\n",
       "<path fill=\"#bdf29c\" stroke=\"black\" d=\"M6659,-53C6659,-53 6374,-53 6374,-53 6368,-53 6362,-47 6362,-41 6362,-41 6362,-12 6362,-12 6362,-6 6368,-0 6374,-0 6374,-0 6659,-0 6659,-0 6665,-0 6671,-6 6671,-12 6671,-12 6671,-41 6671,-41 6671,-47 6665,-53 6659,-53\"/>\r\n",
       "<text text-anchor=\"start\" x=\"6479\" y=\"-37.8\" font-family=\"Helvetica,sans-Serif\" font-size=\"14.00\">gini = 0.528</text>\r\n",
       "<text text-anchor=\"start\" x=\"6456.5\" y=\"-22.8\" font-family=\"Helvetica,sans-Serif\" font-size=\"14.00\">samples = 788227</text>\r\n",
       "<text text-anchor=\"start\" x=\"6370\" y=\"-7.8\" font-family=\"Helvetica,sans-Serif\" font-size=\"14.00\">value = [203685, 495624, 76907, 9948, 2063]</text>\r\n",
       "</g>\r\n",
       "<!-- 45&#45;&gt;46 -->\r\n",
       "<g id=\"edge46\" class=\"edge\"><title>45&#45;&gt;46</title>\r\n",
       "<path fill=\"none\" stroke=\"black\" d=\"M6516.5,-88.9485C6516.5,-80.7153 6516.5,-71.848 6516.5,-63.4814\"/>\r\n",
       "<polygon fill=\"black\" stroke=\"black\" points=\"6520,-63.2367 6516.5,-53.2367 6513,-63.2367 6520,-63.2367\"/>\r\n",
       "</g>\r\n",
       "<!-- 47 -->\r\n",
       "<g id=\"node48\" class=\"node\"><title>47</title>\r\n",
       "<path fill=\"#e5fad8\" stroke=\"black\" d=\"M6986,-53C6986,-53 6701,-53 6701,-53 6695,-53 6689,-47 6689,-41 6689,-41 6689,-12 6689,-12 6689,-6 6695,-0 6701,-0 6701,-0 6986,-0 6986,-0 6992,-0 6998,-6 6998,-12 6998,-12 6998,-41 6998,-41 6998,-47 6992,-53 6986,-53\"/>\r\n",
       "<text text-anchor=\"start\" x=\"6806\" y=\"-37.8\" font-family=\"Helvetica,sans-Serif\" font-size=\"14.00\">gini = 0.712</text>\r\n",
       "<text text-anchor=\"start\" x=\"6783.5\" y=\"-22.8\" font-family=\"Helvetica,sans-Serif\" font-size=\"14.00\">samples = 374507</text>\r\n",
       "<text text-anchor=\"start\" x=\"6697\" y=\"-7.8\" font-family=\"Helvetica,sans-Serif\" font-size=\"14.00\">value = [98823, 153624, 73384, 38789, 9887]</text>\r\n",
       "</g>\r\n",
       "<!-- 45&#45;&gt;47 -->\r\n",
       "<g id=\"edge47\" class=\"edge\"><title>45&#45;&gt;47</title>\r\n",
       "<path fill=\"none\" stroke=\"black\" d=\"M6630.87,-88.9485C6668.16,-78.1723 6709.21,-66.31 6745.21,-55.9056\"/>\r\n",
       "<polygon fill=\"black\" stroke=\"black\" points=\"6746.59,-59.1505 6755.22,-53.0118 6744.64,-52.4257 6746.59,-59.1505\"/>\r\n",
       "</g>\r\n",
       "<!-- 49 -->\r\n",
       "<g id=\"node50\" class=\"node\"><title>49</title>\r\n",
       "<path fill=\"#fbdef5\" stroke=\"black\" d=\"M7878,-261C7878,-261 7527,-261 7527,-261 7521,-261 7515,-255 7515,-249 7515,-249 7515,-205 7515,-205 7515,-199 7521,-193 7527,-193 7527,-193 7878,-193 7878,-193 7884,-193 7890,-199 7890,-205 7890,-205 7890,-249 7890,-249 7890,-255 7884,-261 7878,-261\"/>\r\n",
       "<text text-anchor=\"start\" x=\"7666.5\" y=\"-245.8\" font-family=\"Helvetica,sans-Serif\" font-size=\"14.00\">hour ≤ 19.5</text>\r\n",
       "<text text-anchor=\"start\" x=\"7665\" y=\"-230.8\" font-family=\"Helvetica,sans-Serif\" font-size=\"14.00\">gini = 0.717</text>\r\n",
       "<text text-anchor=\"start\" x=\"7638.5\" y=\"-215.8\" font-family=\"Helvetica,sans-Serif\" font-size=\"14.00\">samples = 8956632</text>\r\n",
       "<text text-anchor=\"start\" x=\"7523\" y=\"-200.8\" font-family=\"Helvetica,sans-Serif\" font-size=\"14.00\">value = [455056, 848935, 1487682, 2556602, 3608357]</text>\r\n",
       "</g>\r\n",
       "<!-- 48&#45;&gt;49 -->\r\n",
       "<g id=\"edge49\" class=\"edge\"><title>48&#45;&gt;49</title>\r\n",
       "<path fill=\"none\" stroke=\"black\" d=\"M7702.5,-296.884C7702.5,-288.778 7702.5,-279.982 7702.5,-271.472\"/>\r\n",
       "<polygon fill=\"black\" stroke=\"black\" points=\"7706,-271.299 7702.5,-261.299 7699,-271.299 7706,-271.299\"/>\r\n",
       "</g>\r\n",
       "<!-- 56 -->\r\n",
       "<g id=\"node57\" class=\"node\"><title>56</title>\r\n",
       "<path fill=\"#f9fef5\" stroke=\"black\" d=\"M8909.5,-261C8909.5,-261 8583.5,-261 8583.5,-261 8577.5,-261 8571.5,-255 8571.5,-249 8571.5,-249 8571.5,-205 8571.5,-205 8571.5,-199 8577.5,-193 8583.5,-193 8583.5,-193 8909.5,-193 8909.5,-193 8915.5,-193 8921.5,-199 8921.5,-205 8921.5,-205 8921.5,-249 8921.5,-249 8921.5,-255 8915.5,-261 8909.5,-261\"/>\r\n",
       "<text text-anchor=\"start\" x=\"8676\" y=\"-245.8\" font-family=\"Helvetica,sans-Serif\" font-size=\"14.00\">PULocationID ≤ 249.5</text>\r\n",
       "<text text-anchor=\"start\" x=\"8709\" y=\"-230.8\" font-family=\"Helvetica,sans-Serif\" font-size=\"14.00\">gini = 0.744</text>\r\n",
       "<text text-anchor=\"start\" x=\"8682.5\" y=\"-215.8\" font-family=\"Helvetica,sans-Serif\" font-size=\"14.00\">samples = 2638081</text>\r\n",
       "<text text-anchor=\"start\" x=\"8579.5\" y=\"-200.8\" font-family=\"Helvetica,sans-Serif\" font-size=\"14.00\">value = [335629, 885407, 795681, 485832, 135532]</text>\r\n",
       "</g>\r\n",
       "<!-- 48&#45;&gt;56 -->\r\n",
       "<g id=\"edge56\" class=\"edge\"><title>48&#45;&gt;56</title>\r\n",
       "<path fill=\"none\" stroke=\"black\" d=\"M7894.29,-311.262C8084.31,-292.697 8373.37,-264.455 8561.12,-246.112\"/>\r\n",
       "<polygon fill=\"black\" stroke=\"black\" points=\"8561.49,-249.593 8571.1,-245.137 8560.81,-242.626 8561.49,-249.593\"/>\r\n",
       "</g>\r\n",
       "<!-- 50 -->\r\n",
       "<g id=\"node51\" class=\"node\"><title>50</title>\r\n",
       "<path fill=\"#f4a8e3\" stroke=\"black\" d=\"M7678,-157C7678,-157 7343,-157 7343,-157 7337,-157 7331,-151 7331,-145 7331,-145 7331,-101 7331,-101 7331,-95 7337,-89 7343,-89 7343,-89 7678,-89 7678,-89 7684,-89 7690,-95 7690,-101 7690,-101 7690,-145 7690,-145 7690,-151 7684,-157 7678,-157\"/>\r\n",
       "<text text-anchor=\"start\" x=\"7440\" y=\"-141.8\" font-family=\"Helvetica,sans-Serif\" font-size=\"14.00\">PULocationID ≤ 233.5</text>\r\n",
       "<text text-anchor=\"start\" x=\"7473\" y=\"-126.8\" font-family=\"Helvetica,sans-Serif\" font-size=\"14.00\">gini = 0.604</text>\r\n",
       "<text text-anchor=\"start\" x=\"7446.5\" y=\"-111.8\" font-family=\"Helvetica,sans-Serif\" font-size=\"14.00\">samples = 4061685</text>\r\n",
       "<text text-anchor=\"start\" x=\"7339\" y=\"-96.8\" font-family=\"Helvetica,sans-Serif\" font-size=\"14.00\">value = [166462, 213582, 410982, 949079, 2321580]</text>\r\n",
       "</g>\r\n",
       "<!-- 49&#45;&gt;50 -->\r\n",
       "<g id=\"edge50\" class=\"edge\"><title>49&#45;&gt;50</title>\r\n",
       "<path fill=\"none\" stroke=\"black\" d=\"M7640.16,-192.884C7621.54,-182.991 7600.98,-172.07 7581.83,-161.895\"/>\r\n",
       "<polygon fill=\"black\" stroke=\"black\" points=\"7583.33,-158.725 7572.85,-157.125 7580.04,-164.907 7583.33,-158.725\"/>\r\n",
       "</g>\r\n",
       "<!-- 53 -->\r\n",
       "<g id=\"node54\" class=\"node\"><title>53</title>\r\n",
       "<path fill=\"#eeedfd\" stroke=\"black\" d=\"M8071,-157C8071,-157 7720,-157 7720,-157 7714,-157 7708,-151 7708,-145 7708,-145 7708,-101 7708,-101 7708,-95 7714,-89 7720,-89 7720,-89 8071,-89 8071,-89 8077,-89 8083,-95 8083,-101 8083,-101 8083,-145 8083,-145 8083,-151 8077,-157 8071,-157\"/>\r\n",
       "<text text-anchor=\"start\" x=\"7825\" y=\"-141.8\" font-family=\"Helvetica,sans-Serif\" font-size=\"14.00\">PULocationID ≤ 162.5</text>\r\n",
       "<text text-anchor=\"start\" x=\"7858\" y=\"-126.8\" font-family=\"Helvetica,sans-Serif\" font-size=\"14.00\">gini = 0.754</text>\r\n",
       "<text text-anchor=\"start\" x=\"7831.5\" y=\"-111.8\" font-family=\"Helvetica,sans-Serif\" font-size=\"14.00\">samples = 4894947</text>\r\n",
       "<text text-anchor=\"start\" x=\"7716\" y=\"-96.8\" font-family=\"Helvetica,sans-Serif\" font-size=\"14.00\">value = [288594, 635353, 1076700, 1607523, 1286777]</text>\r\n",
       "</g>\r\n",
       "<!-- 49&#45;&gt;53 -->\r\n",
       "<g id=\"edge53\" class=\"edge\"><title>49&#45;&gt;53</title>\r\n",
       "<path fill=\"none\" stroke=\"black\" d=\"M7765.16,-192.884C7783.88,-182.991 7804.54,-172.07 7823.8,-161.895\"/>\r\n",
       "<polygon fill=\"black\" stroke=\"black\" points=\"7825.62,-164.892 7832.82,-157.125 7822.35,-158.703 7825.62,-164.892\"/>\r\n",
       "</g>\r\n",
       "<!-- 51 -->\r\n",
       "<g id=\"node52\" class=\"node\"><title>51</title>\r\n",
       "<path fill=\"#f9d1f0\" stroke=\"black\" d=\"M7363,-53C7363,-53 7028,-53 7028,-53 7022,-53 7016,-47 7016,-41 7016,-41 7016,-12 7016,-12 7016,-6 7022,-0 7028,-0 7028,-0 7363,-0 7363,-0 7369,-0 7375,-6 7375,-12 7375,-12 7375,-41 7375,-41 7375,-47 7369,-53 7363,-53\"/>\r\n",
       "<text text-anchor=\"start\" x=\"7158\" y=\"-37.8\" font-family=\"Helvetica,sans-Serif\" font-size=\"14.00\">gini = 0.692</text>\r\n",
       "<text text-anchor=\"start\" x=\"7131.5\" y=\"-22.8\" font-family=\"Helvetica,sans-Serif\" font-size=\"14.00\">samples = 2863162</text>\r\n",
       "<text text-anchor=\"start\" x=\"7024\" y=\"-7.8\" font-family=\"Helvetica,sans-Serif\" font-size=\"14.00\">value = [158110, 213564, 404530, 802287, 1284671]</text>\r\n",
       "</g>\r\n",
       "<!-- 50&#45;&gt;51 -->\r\n",
       "<g id=\"edge51\" class=\"edge\"><title>50&#45;&gt;51</title>\r\n",
       "<path fill=\"none\" stroke=\"black\" d=\"M7400.33,-88.9485C7364.49,-78.1967 7325.05,-66.3635 7290.42,-55.9761\"/>\r\n",
       "<polygon fill=\"black\" stroke=\"black\" points=\"7291.37,-52.6078 7280.79,-53.0867 7289.36,-59.3126 7291.37,-52.6078\"/>\r\n",
       "</g>\r\n",
       "<!-- 52 -->\r\n",
       "<g id=\"node53\" class=\"node\"><title>52</title>\r\n",
       "<path fill=\"#e957ca\" stroke=\"black\" d=\"M7674,-53C7674,-53 7405,-53 7405,-53 7399,-53 7393,-47 7393,-41 7393,-41 7393,-12 7393,-12 7393,-6 7399,-0 7405,-0 7405,-0 7674,-0 7674,-0 7680,-0 7686,-6 7686,-12 7686,-12 7686,-41 7686,-41 7686,-47 7680,-53 7674,-53\"/>\r\n",
       "<text text-anchor=\"start\" x=\"7502\" y=\"-37.8\" font-family=\"Helvetica,sans-Serif\" font-size=\"14.00\">gini = 0.236</text>\r\n",
       "<text text-anchor=\"start\" x=\"7475.5\" y=\"-22.8\" font-family=\"Helvetica,sans-Serif\" font-size=\"14.00\">samples = 1198523</text>\r\n",
       "<text text-anchor=\"start\" x=\"7401\" y=\"-7.8\" font-family=\"Helvetica,sans-Serif\" font-size=\"14.00\">value = [8352, 18, 6452, 146792, 1036909]</text>\r\n",
       "</g>\r\n",
       "<!-- 50&#45;&gt;52 -->\r\n",
       "<g id=\"edge52\" class=\"edge\"><title>50&#45;&gt;52</title>\r\n",
       "<path fill=\"none\" stroke=\"black\" d=\"M7520.64,-88.9485C7523.23,-80.5323 7526.01,-71.4536 7528.63,-62.9243\"/>\r\n",
       "<polygon fill=\"black\" stroke=\"black\" points=\"7532.01,-63.8235 7531.6,-53.2367 7525.32,-61.7698 7532.01,-63.8235\"/>\r\n",
       "</g>\r\n",
       "<!-- 54 -->\r\n",
       "<g id=\"node55\" class=\"node\"><title>54</title>\r\n",
       "<path fill=\"#f8c7ed\" stroke=\"black\" d=\"M8018.5,-53C8018.5,-53 7716.5,-53 7716.5,-53 7710.5,-53 7704.5,-47 7704.5,-41 7704.5,-41 7704.5,-12 7704.5,-12 7704.5,-6 7710.5,-0 7716.5,-0 7716.5,-0 8018.5,-0 8018.5,-0 8024.5,-0 8030.5,-6 8030.5,-12 8030.5,-12 8030.5,-41 8030.5,-41 8030.5,-47 8024.5,-53 8018.5,-53\"/>\r\n",
       "<text text-anchor=\"start\" x=\"7830\" y=\"-37.8\" font-family=\"Helvetica,sans-Serif\" font-size=\"14.00\">gini = 0.632</text>\r\n",
       "<text text-anchor=\"start\" x=\"7807.5\" y=\"-22.8\" font-family=\"Helvetica,sans-Serif\" font-size=\"14.00\">samples = 934214</text>\r\n",
       "<text text-anchor=\"start\" x=\"7712.5\" y=\"-7.8\" font-family=\"Helvetica,sans-Serif\" font-size=\"14.00\">value = [1745, 45245, 131620, 286391, 469213]</text>\r\n",
       "</g>\r\n",
       "<!-- 53&#45;&gt;54 -->\r\n",
       "<g id=\"edge54\" class=\"edge\"><title>53&#45;&gt;54</title>\r\n",
       "<path fill=\"none\" stroke=\"black\" d=\"M7885.71,-88.9485C7883.21,-80.5323 7880.52,-71.4536 7878,-62.9243\"/>\r\n",
       "<polygon fill=\"black\" stroke=\"black\" points=\"7881.32,-61.8304 7875.13,-53.2367 7874.61,-63.819 7881.32,-61.8304\"/>\r\n",
       "</g>\r\n",
       "<!-- 55 -->\r\n",
       "<g id=\"node56\" class=\"node\"><title>55</title>\r\n",
       "<path fill=\"#e7e6fc\" stroke=\"black\" d=\"M8396,-53C8396,-53 8061,-53 8061,-53 8055,-53 8049,-47 8049,-41 8049,-41 8049,-12 8049,-12 8049,-6 8055,-0 8061,-0 8061,-0 8396,-0 8396,-0 8402,-0 8408,-6 8408,-12 8408,-12 8408,-41 8408,-41 8408,-47 8402,-53 8396,-53\"/>\r\n",
       "<text text-anchor=\"start\" x=\"8191\" y=\"-37.8\" font-family=\"Helvetica,sans-Serif\" font-size=\"14.00\">gini = 0.762</text>\r\n",
       "<text text-anchor=\"start\" x=\"8164.5\" y=\"-22.8\" font-family=\"Helvetica,sans-Serif\" font-size=\"14.00\">samples = 3960733</text>\r\n",
       "<text text-anchor=\"start\" x=\"8057\" y=\"-7.8\" font-family=\"Helvetica,sans-Serif\" font-size=\"14.00\">value = [286849, 590108, 945080, 1321132, 817564]</text>\r\n",
       "</g>\r\n",
       "<!-- 53&#45;&gt;55 -->\r\n",
       "<g id=\"edge55\" class=\"edge\"><title>53&#45;&gt;55</title>\r\n",
       "<path fill=\"none\" stroke=\"black\" d=\"M8011.97,-88.9485C8050.1,-78.1263 8092.1,-66.2086 8128.87,-55.7723\"/>\r\n",
       "<polygon fill=\"black\" stroke=\"black\" points=\"8129.94,-59.1089 8138.6,-53.0118 8128.03,-52.3748 8129.94,-59.1089\"/>\r\n",
       "</g>\r\n",
       "<!-- 57 -->\r\n",
       "<g id=\"node58\" class=\"node\"><title>57</title>\r\n",
       "<path fill=\"#f0fdfb\" stroke=\"black\" d=\"M8905.5,-157C8905.5,-157 8587.5,-157 8587.5,-157 8581.5,-157 8575.5,-151 8575.5,-145 8575.5,-145 8575.5,-101 8575.5,-101 8575.5,-95 8581.5,-89 8587.5,-89 8587.5,-89 8905.5,-89 8905.5,-89 8911.5,-89 8917.5,-95 8917.5,-101 8917.5,-101 8917.5,-145 8917.5,-145 8917.5,-151 8911.5,-157 8905.5,-157\"/>\r\n",
       "<text text-anchor=\"start\" x=\"8710.5\" y=\"-141.8\" font-family=\"Helvetica,sans-Serif\" font-size=\"14.00\">hour ≤ 19.5</text>\r\n",
       "<text text-anchor=\"start\" x=\"8709\" y=\"-126.8\" font-family=\"Helvetica,sans-Serif\" font-size=\"14.00\">gini = 0.739</text>\r\n",
       "<text text-anchor=\"start\" x=\"8682.5\" y=\"-111.8\" font-family=\"Helvetica,sans-Serif\" font-size=\"14.00\">samples = 1634486</text>\r\n",
       "<text text-anchor=\"start\" x=\"8583.5\" y=\"-96.8\" font-family=\"Helvetica,sans-Serif\" font-size=\"14.00\">value = [92579, 445063, 536987, 430443, 129414]</text>\r\n",
       "</g>\r\n",
       "<!-- 56&#45;&gt;57 -->\r\n",
       "<g id=\"edge57\" class=\"edge\"><title>56&#45;&gt;57</title>\r\n",
       "<path fill=\"none\" stroke=\"black\" d=\"M8746.5,-192.884C8746.5,-184.778 8746.5,-175.982 8746.5,-167.472\"/>\r\n",
       "<polygon fill=\"black\" stroke=\"black\" points=\"8750,-167.299 8746.5,-157.299 8743,-167.299 8750,-167.299\"/>\r\n",
       "</g>\r\n",
       "<!-- 60 -->\r\n",
       "<g id=\"node61\" class=\"node\"><title>60</title>\r\n",
       "<path fill=\"#dff9cf\" stroke=\"black\" d=\"M9403.5,-157C9403.5,-157 9101.5,-157 9101.5,-157 9095.5,-157 9089.5,-151 9089.5,-145 9089.5,-145 9089.5,-101 9089.5,-101 9089.5,-95 9095.5,-89 9101.5,-89 9101.5,-89 9403.5,-89 9403.5,-89 9409.5,-89 9415.5,-95 9415.5,-101 9415.5,-101 9415.5,-145 9415.5,-145 9415.5,-151 9409.5,-157 9403.5,-157\"/>\r\n",
       "<text text-anchor=\"start\" x=\"9182\" y=\"-141.8\" font-family=\"Helvetica,sans-Serif\" font-size=\"14.00\">PULocationID ≤ 261.5</text>\r\n",
       "<text text-anchor=\"start\" x=\"9215\" y=\"-126.8\" font-family=\"Helvetica,sans-Serif\" font-size=\"14.00\">gini = 0.679</text>\r\n",
       "<text text-anchor=\"start\" x=\"9188.5\" y=\"-111.8\" font-family=\"Helvetica,sans-Serif\" font-size=\"14.00\">samples = 1003595</text>\r\n",
       "<text text-anchor=\"start\" x=\"9097.5\" y=\"-96.8\" font-family=\"Helvetica,sans-Serif\" font-size=\"14.00\">value = [243050, 440344, 258694, 55389, 6118]</text>\r\n",
       "</g>\r\n",
       "<!-- 56&#45;&gt;60 -->\r\n",
       "<g id=\"edge60\" class=\"edge\"><title>56&#45;&gt;60</title>\r\n",
       "<path fill=\"none\" stroke=\"black\" d=\"M8910.43,-192.954C8964.38,-182.08 9024.51,-169.959 9079.13,-158.949\"/>\r\n",
       "<polygon fill=\"black\" stroke=\"black\" points=\"9080.15,-162.313 9089.26,-156.906 9078.76,-155.451 9080.15,-162.313\"/>\r\n",
       "</g>\r\n",
       "<!-- 58 -->\r\n",
       "<g id=\"node59\" class=\"node\"><title>58</title>\r\n",
       "<path fill=\"#fdfdff\" stroke=\"black\" d=\"M8748.5,-53C8748.5,-53 8438.5,-53 8438.5,-53 8432.5,-53 8426.5,-47 8426.5,-41 8426.5,-41 8426.5,-12 8426.5,-12 8426.5,-6 8432.5,-0 8438.5,-0 8438.5,-0 8748.5,-0 8748.5,-0 8754.5,-0 8760.5,-6 8760.5,-12 8760.5,-12 8760.5,-41 8760.5,-41 8760.5,-47 8754.5,-53 8748.5,-53\"/>\r\n",
       "<text text-anchor=\"start\" x=\"8556\" y=\"-37.8\" font-family=\"Helvetica,sans-Serif\" font-size=\"14.00\">gini = 0.711</text>\r\n",
       "<text text-anchor=\"start\" x=\"8533.5\" y=\"-22.8\" font-family=\"Helvetica,sans-Serif\" font-size=\"14.00\">samples = 739325</text>\r\n",
       "<text text-anchor=\"start\" x=\"8434.5\" y=\"-7.8\" font-family=\"Helvetica,sans-Serif\" font-size=\"14.00\">value = [17259, 130150, 258765, 262850, 70301]</text>\r\n",
       "</g>\r\n",
       "<!-- 57&#45;&gt;58 -->\r\n",
       "<g id=\"edge58\" class=\"edge\"><title>57&#45;&gt;58</title>\r\n",
       "<path fill=\"none\" stroke=\"black\" d=\"M8692.99,-88.9485C8676.99,-79.0686 8659.52,-68.2758 8643.74,-58.5305\"/>\r\n",
       "<polygon fill=\"black\" stroke=\"black\" points=\"8645.52,-55.5139 8635.17,-53.2367 8641.84,-61.4695 8645.52,-55.5139\"/>\r\n",
       "</g>\r\n",
       "<!-- 59 -->\r\n",
       "<g id=\"node60\" class=\"node\"><title>59</title>\r\n",
       "<path fill=\"#f7fdf3\" stroke=\"black\" d=\"M9100.5,-53C9100.5,-53 8790.5,-53 8790.5,-53 8784.5,-53 8778.5,-47 8778.5,-41 8778.5,-41 8778.5,-12 8778.5,-12 8778.5,-6 8784.5,-0 8790.5,-0 8790.5,-0 9100.5,-0 9100.5,-0 9106.5,-0 9112.5,-6 9112.5,-12 9112.5,-12 9112.5,-41 9112.5,-41 9112.5,-47 9106.5,-53 9100.5,-53\"/>\r\n",
       "<text text-anchor=\"start\" x=\"8908\" y=\"-37.8\" font-family=\"Helvetica,sans-Serif\" font-size=\"14.00\">gini = 0.733</text>\r\n",
       "<text text-anchor=\"start\" x=\"8885.5\" y=\"-22.8\" font-family=\"Helvetica,sans-Serif\" font-size=\"14.00\">samples = 895161</text>\r\n",
       "<text text-anchor=\"start\" x=\"8786.5\" y=\"-7.8\" font-family=\"Helvetica,sans-Serif\" font-size=\"14.00\">value = [75320, 314913, 278222, 167593, 59113]</text>\r\n",
       "</g>\r\n",
       "<!-- 57&#45;&gt;59 -->\r\n",
       "<g id=\"edge59\" class=\"edge\"><title>57&#45;&gt;59</title>\r\n",
       "<path fill=\"none\" stroke=\"black\" d=\"M8816.1,-88.9485C8837.68,-78.7021 8861.32,-67.4737 8882.43,-57.4503\"/>\r\n",
       "<polygon fill=\"black\" stroke=\"black\" points=\"8884.09,-60.538 8891.62,-53.0867 8881.08,-54.2148 8884.09,-60.538\"/>\r\n",
       "</g>\r\n",
       "<!-- 61 -->\r\n",
       "<g id=\"node62\" class=\"node\"><title>61</title>\r\n",
       "<path fill=\"#e68743\" stroke=\"black\" d=\"M9362,-53C9362,-53 9143,-53 9143,-53 9137,-53 9131,-47 9131,-41 9131,-41 9131,-12 9131,-12 9131,-6 9137,-0 9143,-0 9143,-0 9362,-0 9362,-0 9368,-0 9374,-6 9374,-12 9374,-12 9374,-41 9374,-41 9374,-47 9368,-53 9362,-53\"/>\r\n",
       "<text text-anchor=\"start\" x=\"9215\" y=\"-37.8\" font-family=\"Helvetica,sans-Serif\" font-size=\"14.00\">gini = 0.088</text>\r\n",
       "<text text-anchor=\"start\" x=\"9192.5\" y=\"-22.8\" font-family=\"Helvetica,sans-Serif\" font-size=\"14.00\">samples = 164743</text>\r\n",
       "<text text-anchor=\"start\" x=\"9139\" y=\"-7.8\" font-family=\"Helvetica,sans-Serif\" font-size=\"14.00\">value = [157114, 7351, 163, 64, 51]</text>\r\n",
       "</g>\r\n",
       "<!-- 60&#45;&gt;61 -->\r\n",
       "<g id=\"edge61\" class=\"edge\"><title>60&#45;&gt;61</title>\r\n",
       "<path fill=\"none\" stroke=\"black\" d=\"M9252.5,-88.9485C9252.5,-80.7153 9252.5,-71.848 9252.5,-63.4814\"/>\r\n",
       "<polygon fill=\"black\" stroke=\"black\" points=\"9256,-63.2367 9252.5,-53.2367 9249,-63.2367 9256,-63.2367\"/>\r\n",
       "</g>\r\n",
       "<!-- 62 -->\r\n",
       "<g id=\"node63\" class=\"node\"><title>62</title>\r\n",
       "<path fill=\"#d7f7c3\" stroke=\"black\" d=\"M9697,-53C9697,-53 9404,-53 9404,-53 9398,-53 9392,-47 9392,-41 9392,-41 9392,-12 9392,-12 9392,-6 9398,-0 9404,-0 9404,-0 9697,-0 9697,-0 9703,-0 9709,-6 9709,-12 9709,-12 9709,-41 9709,-41 9709,-47 9703,-53 9697,-53\"/>\r\n",
       "<text text-anchor=\"start\" x=\"9513\" y=\"-37.8\" font-family=\"Helvetica,sans-Serif\" font-size=\"14.00\">gini = 0.624</text>\r\n",
       "<text text-anchor=\"start\" x=\"9490.5\" y=\"-22.8\" font-family=\"Helvetica,sans-Serif\" font-size=\"14.00\">samples = 838852</text>\r\n",
       "<text text-anchor=\"start\" x=\"9400\" y=\"-7.8\" font-family=\"Helvetica,sans-Serif\" font-size=\"14.00\">value = [85936, 432993, 258531, 55325, 6067]</text>\r\n",
       "</g>\r\n",
       "<!-- 60&#45;&gt;62 -->\r\n",
       "<g id=\"edge62\" class=\"edge\"><title>60&#45;&gt;62</title>\r\n",
       "<path fill=\"none\" stroke=\"black\" d=\"M9356.73,-88.9485C9390.34,-78.2886 9427.31,-66.5657 9459.86,-56.2427\"/>\r\n",
       "<polygon fill=\"black\" stroke=\"black\" points=\"9461.34,-59.4458 9469.81,-53.0867 9459.22,-52.7733 9461.34,-59.4458\"/>\r\n",
       "</g>\r\n",
       "</g>\r\n",
       "</svg>\r\n"
      ],
      "text/plain": [
       "<graphviz.files.Source at 0x222e696aa20>"
      ]
     },
     "execution_count": 29,
     "metadata": {},
     "output_type": "execute_result"
    }
   ],
   "source": [
    "with open(\"./treeInitial.dot\") as f:\n",
    "    dot_graph = f.read()\n",
    "    \n",
    "graphviz.Source(dot_graph)"
   ]
  },
  {
   "cell_type": "code",
   "execution_count": 11,
   "metadata": {
    "ExecuteTime": {
     "end_time": "2019-09-06T10:23:15.218089Z",
     "start_time": "2019-09-06T10:23:15.111351Z"
    }
   },
   "outputs": [
    {
     "data": {
      "image/png": "[encoded data removed]",
      "text/plain": [
       "<Figure size 504x360 with 1 Axes>"
      ]
     },
     "metadata": {
      "needs_background": "light"
     },
     "output_type": "display_data"
    }
   ],
   "source": [
    "# The sum of this should be 1\n",
    "features = pd.DataFrame(clf.feature_importances_)\n",
    "features.index = ['PULocationID', 'dow', 'hour', 'tmpc', 'heavy_snow', 'snow']\n",
    "\n",
    "fig, ax = fig, ax = plt.subplots(1, 1, figsize=(7, 5))\n",
    "features.plot.bar(legend=False, ax=ax)\n",
    "\n",
    "plt.title(\"Decision Tree - Feature Importance\")\n",
    "plt.xticks(rotation=0)\n",
    "\n",
    "plt.show()"
   ]
  },
  {
   "cell_type": "markdown",
   "metadata": {},
   "source": [
    "### Random Forest Classifier\n",
    "- \n",
    "- 7 minutes 17 seconds (desktop)\n",
    "- 41.99%"
   ]
  },
  {
   "cell_type": "code",
   "execution_count": 12,
   "metadata": {
    "ExecuteTime": {
     "end_time": "2019-09-06T10:30:31.850041Z",
     "start_time": "2019-09-06T10:23:15.219087Z"
    }
   },
   "outputs": [
    {
     "name": "stdout",
     "output_type": "stream",
     "text": [
      "              precision    recall  f1-score   support\n",
      "\n",
      "           0       0.61      0.60      0.60   4764120\n",
      "           1       0.46      0.27      0.34   4764119\n",
      "           2       0.30      0.42      0.35   4764120\n",
      "           3       0.38      0.17      0.23   4764120\n",
      "           4       0.41      0.64      0.50   4764119\n",
      "\n",
      "    accuracy                           0.42  23820598\n",
      "   macro avg       0.43      0.42      0.40  23820598\n",
      "weighted avg       0.43      0.42      0.40  23820598\n",
      "\n",
      "Classification Accuracy: 41.99%\n"
     ]
    },
    {
     "data": {
      "image/png": "[encoded data removed]",
      "text/plain": [
       "<Figure size 504x360 with 2 Axes>"
      ]
     },
     "metadata": {
      "needs_background": "light"
     },
     "output_type": "display_data"
    }
   ],
   "source": [
    "clf = RandomForestClassifier(n_estimators=50, random_state=0, min_samples_leaf = 1000, max_depth = 5).fit(X_train, y_train)\n",
    "y_pred = clf.predict(X_dev)\n",
    "\n",
    "print(classification_report(y_dev, y_pred))\n",
    "print(f'Classification Accuracy: {100*accuracy_score(y_pred, y_dev):.2f}%')\n",
    "\n",
    "df = pd.DataFrame(confusion_matrix(y_dev, y_pred))\n",
    "\n",
    "fig, ax = fig, ax = plt.subplots(1, 1, figsize=(7,5))\n",
    "sns.heatmap(df, annot=True, fmt='d', ax=ax)\n",
    "\n",
    "plt.title(\"Ensemble: Random Forest - Default Hyperparameters\")\n",
    "\n",
    "plt.show()"
   ]
  },
  {
   "cell_type": "markdown",
   "metadata": {},
   "source": [
    "### Logistic Regression \n",
    "- 10 minutes and 24 seconds (laptop)\n",
    "- 6 minutes and 19 seconds (desktop)\n",
    "- 30.96%"
   ]
  },
  {
   "cell_type": "code",
   "execution_count": 13,
   "metadata": {
    "ExecuteTime": {
     "end_time": "2019-09-06T10:38:26.186946Z",
     "start_time": "2019-09-06T10:30:31.851038Z"
    }
   },
   "outputs": [
    {
     "name": "stdout",
     "output_type": "stream",
     "text": [
      "              precision    recall  f1-score   support\n",
      "\n",
      "           0       0.41      0.58      0.48   4764120\n",
      "           1       0.14      0.01      0.01   4764119\n",
      "           2       0.22      0.19      0.20   4764120\n",
      "           3       0.25      0.29      0.27   4764120\n",
      "           4       0.27      0.39      0.32   4764119\n",
      "\n",
      "    accuracy                           0.29  23820598\n",
      "   macro avg       0.26      0.29      0.26  23820598\n",
      "weighted avg       0.26      0.29      0.26  23820598\n",
      "\n",
      "Classification Accuracy: 29.25%\n"
     ]
    },
    {
     "data": {
      "image/png": "[encoded data removed]",
      "text/plain": [
       "<Figure size 504x360 with 2 Axes>"
      ]
     },
     "metadata": {
      "needs_background": "light"
     },
     "output_type": "display_data"
    }
   ],
   "source": [
    "clf = LogisticRegression(penalty='l2', max_iter=500, n_jobs=-1, solver='lbfgs').fit(X_train, y_train)\n",
    "y_pred = clf.predict(X_dev)\n",
    "\n",
    "print(classification_report(y_dev, y_pred))\n",
    "print(f'Classification Accuracy: {100*accuracy_score(y_pred, y_dev):.2f}%')\n",
    "\n",
    "df = pd.DataFrame(confusion_matrix(y_dev, y_pred))\n",
    "\n",
    "fig, ax = fig, ax = plt.subplots(1, 1, figsize=(7,5))\n",
    "sns.heatmap(df, annot=True, fmt='d', ax=ax)\n",
    "\n",
    "plt.title(\"Logistic Regression (LASSO) - Default Hyperparameters\")\n",
    "\n",
    "plt.show()"
   ]
  },
  {
   "cell_type": "markdown",
   "metadata": {},
   "source": [
    "By far, the DT seems most promising in terms of time complexity and evaluation accuracy. Although Logistic Regression seemed like a good potential model for this problem, it seems it will not improve **even** with hyperparamter tuning (which may overfit)"
   ]
  },
  {
   "cell_type": "markdown",
   "metadata": {},
   "source": [
    "# Feature Engineering\n",
    "- Since DTs already incooporate feature selection during their training stage, we can take evaluate the model to see whcih features it deems important"
   ]
  },
  {
   "cell_type": "code",
   "execution_count": 14,
   "metadata": {
    "ExecuteTime": {
     "end_time": "2019-09-06T10:38:26.210886Z",
     "start_time": "2019-09-06T10:38:26.189938Z"
    }
   },
   "outputs": [
    {
     "data": {
      "text/html": [
       "<div>\n",
       "<style scoped>\n",
       "    .dataframe tbody tr th:only-of-type {\n",
       "        vertical-align: middle;\n",
       "    }\n",
       "\n",
       "    .dataframe tbody tr th {\n",
       "        vertical-align: top;\n",
       "    }\n",
       "\n",
       "    .dataframe thead th {\n",
       "        text-align: right;\n",
       "    }\n",
       "</style>\n",
       "<table border=\"1\" class=\"dataframe\">\n",
       "  <thead>\n",
       "    <tr style=\"text-align: right;\">\n",
       "      <th></th>\n",
       "      <th>PULocationID</th>\n",
       "      <th>dow</th>\n",
       "      <th>hour</th>\n",
       "      <th>tmpc</th>\n",
       "      <th>heavy_snow</th>\n",
       "      <th>snow</th>\n",
       "      <th>label</th>\n",
       "    </tr>\n",
       "  </thead>\n",
       "  <tbody>\n",
       "    <tr>\n",
       "      <td>0</td>\n",
       "      <td>48</td>\n",
       "      <td>6</td>\n",
       "      <td>0</td>\n",
       "      <td>7.0</td>\n",
       "      <td>0.0</td>\n",
       "      <td>0.0</td>\n",
       "      <td>4</td>\n",
       "    </tr>\n",
       "    <tr>\n",
       "      <td>1</td>\n",
       "      <td>48</td>\n",
       "      <td>6</td>\n",
       "      <td>0</td>\n",
       "      <td>7.0</td>\n",
       "      <td>0.0</td>\n",
       "      <td>0.0</td>\n",
       "      <td>4</td>\n",
       "    </tr>\n",
       "    <tr>\n",
       "      <td>2</td>\n",
       "      <td>48</td>\n",
       "      <td>6</td>\n",
       "      <td>0</td>\n",
       "      <td>7.0</td>\n",
       "      <td>0.0</td>\n",
       "      <td>0.0</td>\n",
       "      <td>4</td>\n",
       "    </tr>\n",
       "    <tr>\n",
       "      <td>3</td>\n",
       "      <td>48</td>\n",
       "      <td>6</td>\n",
       "      <td>0</td>\n",
       "      <td>7.0</td>\n",
       "      <td>0.0</td>\n",
       "      <td>0.0</td>\n",
       "      <td>3</td>\n",
       "    </tr>\n",
       "    <tr>\n",
       "      <td>4</td>\n",
       "      <td>48</td>\n",
       "      <td>6</td>\n",
       "      <td>0</td>\n",
       "      <td>7.0</td>\n",
       "      <td>0.0</td>\n",
       "      <td>0.0</td>\n",
       "      <td>4</td>\n",
       "    </tr>\n",
       "  </tbody>\n",
       "</table>\n",
       "</div>"
      ],
      "text/plain": [
       "   PULocationID  dow  hour  tmpc  heavy_snow  snow  label\n",
       "0            48    6     0   7.0         0.0   0.0      4\n",
       "1            48    6     0   7.0         0.0   0.0      4\n",
       "2            48    6     0   7.0         0.0   0.0      4\n",
       "3            48    6     0   7.0         0.0   0.0      3\n",
       "4            48    6     0   7.0         0.0   0.0      4"
      ]
     },
     "execution_count": 14,
     "metadata": {},
     "output_type": "execute_result"
    }
   ],
   "source": [
    "train.head()"
   ]
  },
  {
   "cell_type": "code",
   "execution_count": 15,
   "metadata": {
    "ExecuteTime": {
     "end_time": "2019-09-06T10:38:26.222854Z",
     "start_time": "2019-09-06T10:38:26.212876Z"
    }
   },
   "outputs": [
    {
     "data": {
      "text/html": [
       "<div>\n",
       "<style scoped>\n",
       "    .dataframe tbody tr th:only-of-type {\n",
       "        vertical-align: middle;\n",
       "    }\n",
       "\n",
       "    .dataframe tbody tr th {\n",
       "        vertical-align: top;\n",
       "    }\n",
       "\n",
       "    .dataframe thead th {\n",
       "        text-align: right;\n",
       "    }\n",
       "</style>\n",
       "<table border=\"1\" class=\"dataframe\">\n",
       "  <thead>\n",
       "    <tr style=\"text-align: right;\">\n",
       "      <th></th>\n",
       "      <th>PULocationID</th>\n",
       "      <th>dow</th>\n",
       "      <th>hour</th>\n",
       "      <th>tmpc</th>\n",
       "      <th>heavy_snow</th>\n",
       "      <th>snow</th>\n",
       "      <th>label</th>\n",
       "    </tr>\n",
       "  </thead>\n",
       "  <tbody>\n",
       "    <tr>\n",
       "      <td>0</td>\n",
       "      <td>41</td>\n",
       "      <td>0</td>\n",
       "      <td>0</td>\n",
       "      <td>0.0</td>\n",
       "      <td>0.0</td>\n",
       "      <td>0.0</td>\n",
       "      <td>0</td>\n",
       "    </tr>\n",
       "    <tr>\n",
       "      <td>1</td>\n",
       "      <td>41</td>\n",
       "      <td>0</td>\n",
       "      <td>0</td>\n",
       "      <td>-11.0</td>\n",
       "      <td>0.0</td>\n",
       "      <td>0.0</td>\n",
       "      <td>0</td>\n",
       "    </tr>\n",
       "    <tr>\n",
       "      <td>2</td>\n",
       "      <td>41</td>\n",
       "      <td>0</td>\n",
       "      <td>0</td>\n",
       "      <td>0.0</td>\n",
       "      <td>0.0</td>\n",
       "      <td>0.0</td>\n",
       "      <td>0</td>\n",
       "    </tr>\n",
       "    <tr>\n",
       "      <td>3</td>\n",
       "      <td>41</td>\n",
       "      <td>0</td>\n",
       "      <td>0</td>\n",
       "      <td>-11.0</td>\n",
       "      <td>0.0</td>\n",
       "      <td>0.0</td>\n",
       "      <td>0</td>\n",
       "    </tr>\n",
       "    <tr>\n",
       "      <td>4</td>\n",
       "      <td>41</td>\n",
       "      <td>0</td>\n",
       "      <td>0</td>\n",
       "      <td>0.0</td>\n",
       "      <td>0.0</td>\n",
       "      <td>0.0</td>\n",
       "      <td>0</td>\n",
       "    </tr>\n",
       "  </tbody>\n",
       "</table>\n",
       "</div>"
      ],
      "text/plain": [
       "   PULocationID  dow  hour  tmpc  heavy_snow  snow  label\n",
       "0            41    0     0   0.0         0.0   0.0      0\n",
       "1            41    0     0 -11.0         0.0   0.0      0\n",
       "2            41    0     0   0.0         0.0   0.0      0\n",
       "3            41    0     0 -11.0         0.0   0.0      0\n",
       "4            41    0     0   0.0         0.0   0.0      0"
      ]
     },
     "execution_count": 15,
     "metadata": {},
     "output_type": "execute_result"
    }
   ],
   "source": [
    "dev.head()"
   ]
  },
  {
   "cell_type": "markdown",
   "metadata": {},
   "source": [
    "The mutual information suggests both `heavy_snow` and `snow` have no use as a feature. This is expected since the instances are conditioned on the fact that these months have snowfall.\n",
    "\n",
    "We can remove these attributes and just work with `PULocationID`, `dow`, `hour` and `tmpc` to see if we can reduce the noise in the data."
   ]
  },
  {
   "cell_type": "code",
   "execution_count": 47,
   "metadata": {
    "ExecuteTime": {
     "end_time": "2019-09-07T02:24:12.059388Z",
     "start_time": "2019-09-07T02:24:11.495917Z"
    }
   },
   "outputs": [],
   "source": [
    "X_train = X_train[['PULocationID', 'dow', 'hour']]\n",
    "X_dev =  X_dev[['PULocationID', 'dow', 'hour']]"
   ]
  },
  {
   "cell_type": "code",
   "execution_count": 7,
   "metadata": {
    "ExecuteTime": {
     "end_time": "2019-09-07T00:09:36.279163Z",
     "start_time": "2019-09-07T00:09:36.275172Z"
    }
   },
   "outputs": [],
   "source": [
    "def hyperparam_tune(X_train, y_train, estimator, parameters):\n",
    "    # randomised search for hyperparameters\n",
    "    rs = RandomizedSearchCV(estimator, parameters, n_iter=20, cv=5, random_state=0, n_jobs=-1)\n",
    "    rs_fit = rs.fit(X_train, y_train)\n",
    "    display(rs_fit.cv_results_)\n",
    "    return rs_fit.best_params_"
   ]
  },
  {
   "cell_type": "code",
   "execution_count": 8,
   "metadata": {
    "ExecuteTime": {
     "end_time": "2019-09-07T00:16:21.414937Z",
     "start_time": "2019-09-07T00:09:54.577678Z"
    },
    "scrolled": false
   },
   "outputs": [
    {
     "data": {
      "text/plain": [
       "{'mean_fit_time': array([26.63616986, 21.08447375, 15.78203697, 13.82208457, 18.85037594,\n",
       "        13.88680224, 19.68819933, 21.25367866, 22.14442997, 28.57800145,\n",
       "        22.42690578, 13.25024171, 27.10218263, 12.65154724, 23.45172482,\n",
       "        27.51670079, 26.73838391, 27.46936202, 13.72403536, 16.10870109]),\n",
       " 'std_fit_time': array([5.84207253, 2.845506  , 1.72152644, 0.93987148, 0.37034932,\n",
       "        0.60998329, 1.46527619, 1.31353732, 1.82783212, 2.41196967,\n",
       "        1.24753265, 0.8673757 , 0.54692714, 1.11687595, 1.53068654,\n",
       "        1.69865077, 1.19830658, 1.47587851, 0.54582833, 1.95461862]),\n",
       " 'mean_score_time': array([0.85507545, 0.74020677, 0.83155093, 0.75316138, 0.78453097,\n",
       "        0.70467362, 0.74327841, 0.77923574, 0.75861068, 0.83158512,\n",
       "        0.74540958, 0.64738293, 0.80669098, 0.82282567, 0.78996387,\n",
       "        0.89068084, 0.80631266, 0.82745528, 0.69091353, 0.51808939]),\n",
       " 'std_score_time': array([0.09238082, 0.07845828, 0.15976315, 0.12472522, 0.11016521,\n",
       "        0.09738187, 0.02755563, 0.13397955, 0.124996  , 0.11080957,\n",
       "        0.08131293, 0.05465052, 0.12218071, 0.11961792, 0.14735517,\n",
       "        0.09927857, 0.11157654, 0.11519706, 0.12218351, 0.12042849]),\n",
       " 'param_min_samples_split': masked_array(data=[5, 100, 2, 100, 500, 500, 2, 5, 250, 1000, 2, 250, 2,\n",
       "                    1000, 5000, 5, 2, 250, 5000, 100],\n",
       "              mask=[False, False, False, False, False, False, False, False,\n",
       "                    False, False, False, False, False, False, False, False,\n",
       "                    False, False, False, False],\n",
       "        fill_value='?',\n",
       "             dtype=object),\n",
       " 'param_min_samples_leaf': masked_array(data=[1000, 2, 500, 100, 2, 500, 100, 100, 5, 100, 500, 100,\n",
       "                    1000, 5000, 5, 500, 5, 5000, 100, 1000],\n",
       "              mask=[False, False, False, False, False, False, False, False,\n",
       "                    False, False, False, False, False, False, False, False,\n",
       "                    False, False, False, False],\n",
       "        fill_value='?',\n",
       "             dtype=object),\n",
       " 'param_max_leaf_nodes': masked_array(data=[35, 25, 5, 5, 15, 5, 15, 25, 35, None, 35, 5, None, 5,\n",
       "                    35, None, None, None, 5, 15],\n",
       "              mask=[False, False, False, False, False, False, False, False,\n",
       "                    False, False, False, False, False, False, False, False,\n",
       "                    False, False, False, False],\n",
       "        fill_value='?',\n",
       "             dtype=object),\n",
       " 'param_max_depth': masked_array(data=[15, 35, 35, 25, None, 15, 25, 25, None, 25, 35, None,\n",
       "                    15, 25, 35, 25, 35, 35, 35, 35],\n",
       "              mask=[False, False, False, False, False, False, False, False,\n",
       "                    False, False, False, False, False, False, False, False,\n",
       "                    False, False, False, False],\n",
       "        fill_value='?',\n",
       "             dtype=object),\n",
       " 'param_criterion': masked_array(data=['entropy', 'gini', 'gini', 'entropy', 'gini', 'gini',\n",
       "                    'entropy', 'entropy', 'entropy', 'gini', 'entropy',\n",
       "                    'entropy', 'entropy', 'gini', 'entropy', 'entropy',\n",
       "                    'entropy', 'gini', 'gini', 'entropy'],\n",
       "              mask=[False, False, False, False, False, False, False, False,\n",
       "                    False, False, False, False, False, False, False, False,\n",
       "                    False, False, False, False],\n",
       "        fill_value='?',\n",
       "             dtype=object),\n",
       " 'params': [{'min_samples_split': 5,\n",
       "   'min_samples_leaf': 1000,\n",
       "   'max_leaf_nodes': 35,\n",
       "   'max_depth': 15,\n",
       "   'criterion': 'entropy'},\n",
       "  {'min_samples_split': 100,\n",
       "   'min_samples_leaf': 2,\n",
       "   'max_leaf_nodes': 25,\n",
       "   'max_depth': 35,\n",
       "   'criterion': 'gini'},\n",
       "  {'min_samples_split': 2,\n",
       "   'min_samples_leaf': 500,\n",
       "   'max_leaf_nodes': 5,\n",
       "   'max_depth': 35,\n",
       "   'criterion': 'gini'},\n",
       "  {'min_samples_split': 100,\n",
       "   'min_samples_leaf': 100,\n",
       "   'max_leaf_nodes': 5,\n",
       "   'max_depth': 25,\n",
       "   'criterion': 'entropy'},\n",
       "  {'min_samples_split': 500,\n",
       "   'min_samples_leaf': 2,\n",
       "   'max_leaf_nodes': 15,\n",
       "   'max_depth': None,\n",
       "   'criterion': 'gini'},\n",
       "  {'min_samples_split': 500,\n",
       "   'min_samples_leaf': 500,\n",
       "   'max_leaf_nodes': 5,\n",
       "   'max_depth': 15,\n",
       "   'criterion': 'gini'},\n",
       "  {'min_samples_split': 2,\n",
       "   'min_samples_leaf': 100,\n",
       "   'max_leaf_nodes': 15,\n",
       "   'max_depth': 25,\n",
       "   'criterion': 'entropy'},\n",
       "  {'min_samples_split': 5,\n",
       "   'min_samples_leaf': 100,\n",
       "   'max_leaf_nodes': 25,\n",
       "   'max_depth': 25,\n",
       "   'criterion': 'entropy'},\n",
       "  {'min_samples_split': 250,\n",
       "   'min_samples_leaf': 5,\n",
       "   'max_leaf_nodes': 35,\n",
       "   'max_depth': None,\n",
       "   'criterion': 'entropy'},\n",
       "  {'min_samples_split': 1000,\n",
       "   'min_samples_leaf': 100,\n",
       "   'max_leaf_nodes': None,\n",
       "   'max_depth': 25,\n",
       "   'criterion': 'gini'},\n",
       "  {'min_samples_split': 2,\n",
       "   'min_samples_leaf': 500,\n",
       "   'max_leaf_nodes': 35,\n",
       "   'max_depth': 35,\n",
       "   'criterion': 'entropy'},\n",
       "  {'min_samples_split': 250,\n",
       "   'min_samples_leaf': 100,\n",
       "   'max_leaf_nodes': 5,\n",
       "   'max_depth': None,\n",
       "   'criterion': 'entropy'},\n",
       "  {'min_samples_split': 2,\n",
       "   'min_samples_leaf': 1000,\n",
       "   'max_leaf_nodes': None,\n",
       "   'max_depth': 15,\n",
       "   'criterion': 'entropy'},\n",
       "  {'min_samples_split': 1000,\n",
       "   'min_samples_leaf': 5000,\n",
       "   'max_leaf_nodes': 5,\n",
       "   'max_depth': 25,\n",
       "   'criterion': 'gini'},\n",
       "  {'min_samples_split': 5000,\n",
       "   'min_samples_leaf': 5,\n",
       "   'max_leaf_nodes': 35,\n",
       "   'max_depth': 35,\n",
       "   'criterion': 'entropy'},\n",
       "  {'min_samples_split': 5,\n",
       "   'min_samples_leaf': 500,\n",
       "   'max_leaf_nodes': None,\n",
       "   'max_depth': 25,\n",
       "   'criterion': 'entropy'},\n",
       "  {'min_samples_split': 2,\n",
       "   'min_samples_leaf': 5,\n",
       "   'max_leaf_nodes': None,\n",
       "   'max_depth': 35,\n",
       "   'criterion': 'entropy'},\n",
       "  {'min_samples_split': 250,\n",
       "   'min_samples_leaf': 5000,\n",
       "   'max_leaf_nodes': None,\n",
       "   'max_depth': 35,\n",
       "   'criterion': 'gini'},\n",
       "  {'min_samples_split': 5000,\n",
       "   'min_samples_leaf': 100,\n",
       "   'max_leaf_nodes': 5,\n",
       "   'max_depth': 35,\n",
       "   'criterion': 'gini'},\n",
       "  {'min_samples_split': 100,\n",
       "   'min_samples_leaf': 1000,\n",
       "   'max_leaf_nodes': 15,\n",
       "   'max_depth': 35,\n",
       "   'criterion': 'entropy'}],\n",
       " 'split0_test_score': array([0.37180881, 0.36864767, 0.28737248, 0.27490514, 0.34407819,\n",
       "        0.28737248, 0.34407819, 0.3564683 , 0.37180881, 0.53409346,\n",
       "        0.37180881, 0.27490514, 0.52173502, 0.28737248, 0.37180881,\n",
       "        0.52404967, 0.51146992, 0.54862138, 0.28737248, 0.34407819]),\n",
       " 'split1_test_score': array([0.42536301, 0.44158761, 0.3867508 , 0.3867508 , 0.43653404,\n",
       "        0.3867508 , 0.42790378, 0.44245113, 0.42536301, 0.38584283,\n",
       "        0.42536301, 0.3867508 , 0.49271827, 0.3867508 , 0.42536301,\n",
       "        0.44335262, 0.34689192, 0.47977352, 0.3867508 , 0.42790378]),\n",
       " 'split2_test_score': array([0.50936046, 0.45192418, 0.3870621 , 0.3870621 , 0.45340327,\n",
       "        0.3870621 , 0.46787692, 0.49184844, 0.50936046, 0.46423578,\n",
       "        0.50936046, 0.3870621 , 0.56573431, 0.3870621 , 0.50936046,\n",
       "        0.51681497, 0.42830711, 0.60830378, 0.3870621 , 0.46787692]),\n",
       " 'split3_test_score': array([0.46836998, 0.40077045, 0.41794691, 0.41794691, 0.39957118,\n",
       "        0.41794691, 0.44134269, 0.45388243, 0.46836998, 0.42298437,\n",
       "        0.46836998, 0.41794691, 0.46422013, 0.41794691, 0.46836998,\n",
       "        0.44035379, 0.4109037 , 0.50804017, 0.41794691, 0.44134269]),\n",
       " 'split4_test_score': array([0.44339834, 0.42165869, 0.3283339 , 0.3283339 , 0.40827023,\n",
       "        0.3283339 , 0.40780189, 0.41184323, 0.44339834, 0.55387311,\n",
       "        0.44339834, 0.3283339 , 0.60736566, 0.3283339 , 0.44339834,\n",
       "        0.58781548, 0.57802075, 0.59218181, 0.3283339 , 0.40780189]),\n",
       " 'mean_test_score': array([0.44366012, 0.41691772, 0.36149324, 0.35899977, 0.40837138,\n",
       "        0.36149324, 0.41780069, 0.43129871, 0.44366012, 0.47220591,\n",
       "        0.44366012, 0.35899977, 0.53035467, 0.36149324, 0.44366012,\n",
       "        0.5024773 , 0.45511867, 0.54738413, 0.36149324, 0.41780069]),\n",
       " 'std_test_score': array([0.04566087, 0.0298237 , 0.04705775, 0.05107775, 0.0375022 ,\n",
       "        0.04705775, 0.0417107 , 0.04534044, 0.04566087, 0.06394445,\n",
       "        0.04566087, 0.05107775, 0.05108226, 0.04705775, 0.04566087,\n",
       "        0.0553328 , 0.08082974, 0.04865945, 0.04705775, 0.0417107 ]),\n",
       " 'rank_test_score': array([ 6, 13, 15, 19, 14, 15, 11, 10,  6,  4,  6, 19,  2, 15,  6,  3,  5,\n",
       "         1, 15, 11])}"
      ]
     },
     "metadata": {},
     "output_type": "display_data"
    }
   ],
   "source": [
    "clftune = DecisionTreeClassifier(random_state=0)\n",
    "\n",
    "param_dist = {\"max_depth\": [5, 15, 25, 35, None],\n",
    "              \"min_samples_split\": [2, 5, 100, 250, 500, 1000, 5000],\n",
    "              \"min_samples_leaf\": [2, 5, 100, 250, 500, 1000, 5000],\n",
    "              \"max_leaf_nodes\": [5, 15, 25, 35, None],\n",
    "              \"criterion\": [\"gini\", \"entropy\"]}\n",
    "\n",
    "best_param = hyperparam_tune(X_train, y_train, clftune, param_dist)"
   ]
  },
  {
   "cell_type": "code",
   "execution_count": 14,
   "metadata": {
    "ExecuteTime": {
     "end_time": "2019-09-07T00:32:41.015054Z",
     "start_time": "2019-09-07T00:32:41.011065Z"
    }
   },
   "outputs": [
    {
     "data": {
      "text/plain": [
       "{'min_samples_split': 250,\n",
       " 'min_samples_leaf': 5000,\n",
       " 'max_leaf_nodes': None,\n",
       " 'max_depth': 35,\n",
       " 'criterion': 'gini',\n",
       " 'random_state': 0}"
      ]
     },
     "execution_count": 14,
     "metadata": {},
     "output_type": "execute_result"
    }
   ],
   "source": [
    "best_param"
   ]
  },
  {
   "cell_type": "code",
   "execution_count": 31,
   "metadata": {
    "ExecuteTime": {
     "end_time": "2019-09-07T01:05:12.295862Z",
     "start_time": "2019-09-07T01:04:22.039142Z"
    }
   },
   "outputs": [
    {
     "name": "stdout",
     "output_type": "stream",
     "text": [
      "              precision    recall  f1-score   support\n",
      "\n",
      "           0       0.90      0.87      0.88   4764120\n",
      "           1       0.71      0.72      0.72   4764119\n",
      "           2       0.55      0.60      0.58   4764120\n",
      "           3       0.58      0.58      0.58   4764120\n",
      "           4       0.76      0.71      0.74   4764119\n",
      "\n",
      "    accuracy                           0.70  23820598\n",
      "   macro avg       0.70      0.70      0.70  23820598\n",
      "weighted avg       0.70      0.70      0.70  23820598\n",
      "\n",
      "Classification Accuracy: 69.63%\n"
     ]
    },
    {
     "data": {
      "image/png": "[encoded data removed]",
      "text/plain": [
       "<Figure size 504x360 with 2 Axes>"
      ]
     },
     "metadata": {
      "needs_background": "light"
     },
     "output_type": "display_data"
    }
   ],
   "source": [
    "clf = DecisionTreeClassifier(min_samples_split= 250,\n",
    "                                min_samples_leaf = 5000,\n",
    "                                max_leaf_nodes = None,\n",
    "                                max_depth = 35,\n",
    "                                criterion = 'gini',\n",
    "                                random_state = 0).fit(X_train, y_train)\n",
    "y_pred = clf.predict(X_dev)\n",
    "\n",
    "export_graphviz(clf, out_file = 'tuned.dot',\n",
    "                                 feature_names=X_train.columns, filled   = True\n",
    "                                    , rounded  = True\n",
    "                                    , special_characters = True)\n",
    "\n",
    "print(classification_report(y_dev, y_pred))\n",
    "print(f'Classification Accuracy: {100*accuracy_score(y_pred, y_dev):.2f}%')\n",
    "\n",
    "df = pd.DataFrame(confusion_matrix(y_dev, y_pred))\n",
    "\n",
    "fig, ax = fig, ax = plt.subplots(1, 1, figsize=(7,5))\n",
    "sns.heatmap(df, annot=True, fmt='d', ax=ax)\n",
    "\n",
    "\n",
    "plt.show()"
   ]
  },
  {
   "cell_type": "markdown",
   "metadata": {},
   "source": [
    "# Tree Pruning"
   ]
  },
  {
   "cell_type": "code",
   "execution_count": 40,
   "metadata": {
    "ExecuteTime": {
     "end_time": "2019-09-07T02:22:45.664901Z",
     "start_time": "2019-09-07T02:22:32.553193Z"
    }
   },
   "outputs": [],
   "source": [
    "clf = DecisionTreeClassifier(min_samples_split= 250,\n",
    "                                min_samples_leaf = 5000,\n",
    "                                max_leaf_nodes = None,\n",
    "                                max_depth = 35,\n",
    "                                criterion = 'gini',\n",
    "                                random_state = 0).fit(X_train, y_train)"
   ]
  },
  {
   "cell_type": "code",
   "execution_count": 41,
   "metadata": {
    "ExecuteTime": {
     "end_time": "2019-09-07T02:22:46.122228Z",
     "start_time": "2019-09-07T02:22:45.665876Z"
    },
    "scrolled": false
   },
   "outputs": [
    {
     "name": "stdout",
     "output_type": "stream",
     "text": [
      "Initial number of leaf nodes: 2669\n",
      "Final number of leaf nodes: 3011\n"
     ]
    },
    {
     "data": {
      "image/png": "[encoded data removed]",
      "text/plain": [
       "<Figure size 504x360 with 1 Axes>"
      ]
     },
     "metadata": {
      "needs_background": "light"
     },
     "output_type": "display_data"
    }
   ],
   "source": [
    "from sklearn.tree._tree import TREE_LEAF\n",
    "\n",
    "def prune_index(inner_tree, index, threshold):\n",
    "    if inner_tree.value[index].min() < threshold:\n",
    "        # turn node into a leaf by \"unlinking\" its children\n",
    "        inner_tree.children_left[index] = TREE_LEAF\n",
    "        inner_tree.children_right[index] = TREE_LEAF\n",
    "    # if there are shildren, visit them as well\n",
    "    if inner_tree.children_left[index] != TREE_LEAF:\n",
    "        prune_index(inner_tree, inner_tree.children_left[index], threshold)\n",
    "        prune_index(inner_tree, inner_tree.children_right[index], threshold)\n",
    "\n",
    "\"\"\"\n",
    "\"\"\"\n",
    "\n",
    "print(f\"Initial number of leaf nodes: {sum(clf.tree_.children_left < 0)}\")\n",
    "# start pruning from the root\n",
    "prune_index(clf.tree_, 0, 5)\n",
    "print(f\"Final number of leaf nodes: {sum(clf.tree_.children_left < 0)}\")\n",
    "\n",
    "\"\"\"\n",
    "\"\"\"\n",
    "\n",
    "features = pd.DataFrame(clf.feature_importances_)\n",
    "features.index = ['PULocationID', 'dow', 'hour']\n",
    "fig, ax = fig, ax = plt.subplots(1, 1, figsize=(7, 5))\n",
    "features.plot.bar(legend=False, ax=ax)\n",
    "plt.title(\"Decision Tree - Feature Importance\")\n",
    "plt.xticks(rotation=0)\n",
    "plt.show()\n",
    "\n",
    "\"\"\"\n",
    "\"\"\"\n",
    "\n",
    "export_graphviz(clf, out_file = 'pruned.dot',\n",
    "                                 feature_names=X_train.columns, filled   = True\n",
    "                                    , rounded  = True\n",
    "                                    , special_characters = True)"
   ]
  },
  {
   "cell_type": "code",
   "execution_count": null,
   "metadata": {
    "ExecuteTime": {
     "end_time": "2019-09-07T01:05:15.798147Z",
     "start_time": "2019-09-07T01:05:12.713099Z"
    },
    "scrolled": false
   },
   "outputs": [],
   "source": [
    "with open(\"./pruned.dot\") as f:\n",
    "    dot_graph = f.read()\n",
    "    \n",
    "graphviz.Source(dot_graph)"
   ]
  },
  {
   "cell_type": "markdown",
   "metadata": {},
   "source": [
    "# Learning Curve \n",
    "- Prediction Accuracy\n",
    "- Number of instances"
   ]
  },
  {
   "cell_type": "code",
   "execution_count": 39,
   "metadata": {
    "ExecuteTime": {
     "end_time": "2019-09-07T02:14:55.886790Z",
     "start_time": "2019-09-07T01:50:42.425211Z"
    }
   },
   "outputs": [
    {
     "data": {
      "image/png": "[encoded data removed]",
      "text/plain": [
       "<Figure size 432x288 with 1 Axes>"
      ]
     },
     "metadata": {
      "needs_background": "light"
     },
     "output_type": "display_data"
    }
   ],
   "source": [
    "from sklearn.model_selection import learning_curve\n",
    "\n",
    "clf = LogisticRegression(penalty='l2', max_iter=500, n_jobs=-1, solver='lbfgs')\n",
    "\n",
    "title = \"Learning Curves (Logistic Regression)\"\n",
    "\n",
    "plt.figure()\n",
    "plt.title(title)\n",
    "\n",
    "plt.xlabel(\"Training examples\")\n",
    "plt.ylabel(\"Score\")\n",
    "\n",
    "train_sizes, train_scores, test_scores = learning_curve(\n",
    "    clf, X_train, y_train, n_jobs=-1, train_sizes = np.linspace(.1, 1.0, 10))\n",
    "\n",
    "train_scores_mean = np.mean(train_scores, axis=1)\n",
    "train_scores_std = np.std(train_scores, axis=1)\n",
    "test_scores_mean = np.mean(test_scores, axis=1)\n",
    "test_scores_std = np.std(test_scores, axis=1)\n",
    "\n",
    "plt.grid()\n",
    "plt.fill_between(train_sizes, train_scores_mean - train_scores_std,\n",
    "                 train_scores_mean + train_scores_std, alpha=0.1,\n",
    "                 color=\"r\")\n",
    "plt.fill_between(train_sizes, test_scores_mean - test_scores_std,\n",
    "                 test_scores_mean + test_scores_std, alpha=0.1, color=\"g\")\n",
    "plt.plot(train_sizes, train_scores_mean, 'o-', color=\"r\",\n",
    "         label=\"Training score\")\n",
    "plt.plot(train_sizes, test_scores_mean, 'o-', color=\"g\",\n",
    "         label=\"Cross-validation score\")\n",
    "plt.legend(loc=\"best\")\n",
    "plt.show()"
   ]
  },
  {
   "cell_type": "markdown",
   "metadata": {},
   "source": [
    "# Predictions for 2019"
   ]
  },
  {
   "cell_type": "code",
   "execution_count": 45,
   "metadata": {
    "ExecuteTime": {
     "end_time": "2019-09-07T02:23:51.419690Z",
     "start_time": "2019-09-07T02:23:51.411701Z"
    }
   },
   "outputs": [
    {
     "data": {
      "text/html": [
       "<div>\n",
       "<style scoped>\n",
       "    .dataframe tbody tr th:only-of-type {\n",
       "        vertical-align: middle;\n",
       "    }\n",
       "\n",
       "    .dataframe tbody tr th {\n",
       "        vertical-align: top;\n",
       "    }\n",
       "\n",
       "    .dataframe thead th {\n",
       "        text-align: right;\n",
       "    }\n",
       "</style>\n",
       "<table border=\"1\" class=\"dataframe\">\n",
       "  <thead>\n",
       "    <tr style=\"text-align: right;\">\n",
       "      <th></th>\n",
       "      <th>PULocationID</th>\n",
       "      <th>hour</th>\n",
       "      <th>dow</th>\n",
       "      <th>tmpc</th>\n",
       "      <th>heavy_snow</th>\n",
       "      <th>snow</th>\n",
       "    </tr>\n",
       "  </thead>\n",
       "  <tbody>\n",
       "    <tr>\n",
       "      <td>0</td>\n",
       "      <td>217</td>\n",
       "      <td>3</td>\n",
       "      <td>5</td>\n",
       "      <td>6.72</td>\n",
       "      <td>0.0</td>\n",
       "      <td>0.0</td>\n",
       "    </tr>\n",
       "    <tr>\n",
       "      <td>1</td>\n",
       "      <td>148</td>\n",
       "      <td>3</td>\n",
       "      <td>5</td>\n",
       "      <td>6.72</td>\n",
       "      <td>0.0</td>\n",
       "      <td>0.0</td>\n",
       "    </tr>\n",
       "    <tr>\n",
       "      <td>2</td>\n",
       "      <td>113</td>\n",
       "      <td>4</td>\n",
       "      <td>5</td>\n",
       "      <td>6.72</td>\n",
       "      <td>0.0</td>\n",
       "      <td>0.0</td>\n",
       "    </tr>\n",
       "    <tr>\n",
       "      <td>3</td>\n",
       "      <td>114</td>\n",
       "      <td>4</td>\n",
       "      <td>5</td>\n",
       "      <td>6.72</td>\n",
       "      <td>0.0</td>\n",
       "      <td>0.0</td>\n",
       "    </tr>\n",
       "    <tr>\n",
       "      <td>4</td>\n",
       "      <td>223</td>\n",
       "      <td>20</td>\n",
       "      <td>1</td>\n",
       "      <td>1.11</td>\n",
       "      <td>0.0</td>\n",
       "      <td>0.0</td>\n",
       "    </tr>\n",
       "  </tbody>\n",
       "</table>\n",
       "</div>"
      ],
      "text/plain": [
       "   PULocationID  hour  dow  tmpc  heavy_snow  snow\n",
       "0           217     3    5  6.72         0.0   0.0\n",
       "1           148     3    5  6.72         0.0   0.0\n",
       "2           113     4    5  6.72         0.0   0.0\n",
       "3           114     4    5  6.72         0.0   0.0\n",
       "4           223    20    1  1.11         0.0   0.0"
      ]
     },
     "execution_count": 45,
     "metadata": {},
     "output_type": "execute_result"
    }
   ],
   "source": [
    "X_test.head()"
   ]
  },
  {
   "cell_type": "code",
   "execution_count": 48,
   "metadata": {
    "ExecuteTime": {
     "end_time": "2019-09-07T02:24:30.781531Z",
     "start_time": "2019-09-07T02:24:17.731285Z"
    }
   },
   "outputs": [],
   "source": [
    "clf = DecisionTreeClassifier(min_samples_split= 250,\n",
    "                                min_samples_leaf = 5000,\n",
    "                                max_leaf_nodes = None,\n",
    "                                max_depth = 35,\n",
    "                                criterion = 'gini',\n",
    "                                random_state = 0).fit(X_train, y_train)"
   ]
  },
  {
   "cell_type": "code",
   "execution_count": 56,
   "metadata": {
    "ExecuteTime": {
     "end_time": "2019-09-07T02:49:59.358442Z",
     "start_time": "2019-09-07T02:49:57.323921Z"
    }
   },
   "outputs": [],
   "source": [
    "y_pred = clf.predict(X_test[['PULocationID','hour','dow']])"
   ]
  },
  {
   "cell_type": "code",
   "execution_count": 58,
   "metadata": {
    "ExecuteTime": {
     "end_time": "2019-09-07T02:50:09.502206Z",
     "start_time": "2019-09-07T02:50:09.197002Z"
    }
   },
   "outputs": [],
   "source": [
    "final_preds = X_test[['PULocationID','hour','dow']].copy()\n",
    "final_preds['predicted_rating'] = y_pred"
   ]
  },
  {
   "cell_type": "code",
   "execution_count": 59,
   "metadata": {
    "ExecuteTime": {
     "end_time": "2019-09-07T02:50:10.592993Z",
     "start_time": "2019-09-07T02:50:10.582992Z"
    }
   },
   "outputs": [
    {
     "data": {
      "text/html": [
       "<div>\n",
       "<style scoped>\n",
       "    .dataframe tbody tr th:only-of-type {\n",
       "        vertical-align: middle;\n",
       "    }\n",
       "\n",
       "    .dataframe tbody tr th {\n",
       "        vertical-align: top;\n",
       "    }\n",
       "\n",
       "    .dataframe thead th {\n",
       "        text-align: right;\n",
       "    }\n",
       "</style>\n",
       "<table border=\"1\" class=\"dataframe\">\n",
       "  <thead>\n",
       "    <tr style=\"text-align: right;\">\n",
       "      <th></th>\n",
       "      <th>PULocationID</th>\n",
       "      <th>hour</th>\n",
       "      <th>dow</th>\n",
       "      <th>predicted_rating</th>\n",
       "    </tr>\n",
       "  </thead>\n",
       "  <tbody>\n",
       "    <tr>\n",
       "      <td>0</td>\n",
       "      <td>41</td>\n",
       "      <td>0</td>\n",
       "      <td>0</td>\n",
       "      <td>0</td>\n",
       "    </tr>\n",
       "    <tr>\n",
       "      <td>1</td>\n",
       "      <td>41</td>\n",
       "      <td>0</td>\n",
       "      <td>0</td>\n",
       "      <td>0</td>\n",
       "    </tr>\n",
       "    <tr>\n",
       "      <td>2</td>\n",
       "      <td>41</td>\n",
       "      <td>0</td>\n",
       "      <td>0</td>\n",
       "      <td>0</td>\n",
       "    </tr>\n",
       "    <tr>\n",
       "      <td>3</td>\n",
       "      <td>41</td>\n",
       "      <td>0</td>\n",
       "      <td>0</td>\n",
       "      <td>0</td>\n",
       "    </tr>\n",
       "    <tr>\n",
       "      <td>4</td>\n",
       "      <td>41</td>\n",
       "      <td>0</td>\n",
       "      <td>0</td>\n",
       "      <td>0</td>\n",
       "    </tr>\n",
       "  </tbody>\n",
       "</table>\n",
       "</div>"
      ],
      "text/plain": [
       "   PULocationID  hour  dow  predicted_rating\n",
       "0            41     0    0                 0\n",
       "1            41     0    0                 0\n",
       "2            41     0    0                 0\n",
       "3            41     0    0                 0\n",
       "4            41     0    0                 0"
      ]
     },
     "execution_count": 59,
     "metadata": {},
     "output_type": "execute_result"
    }
   ],
   "source": [
    "final_preds.head()"
   ]
  },
  {
   "cell_type": "code",
   "execution_count": 55,
   "metadata": {
    "ExecuteTime": {
     "end_time": "2019-09-07T02:26:11.129950Z",
     "start_time": "2019-09-07T02:26:10.819036Z"
    }
   },
   "outputs": [],
   "source": [
    "final_preds.to_feather('./ml_data/2019predictions.feather')"
   ]
  },
  {
   "cell_type": "code",
   "execution_count": null,
   "metadata": {},
   "outputs": [],
   "source": []
  }
 ],
 "metadata": {
  "kernelspec": {
   "display_name": "Python 3",
   "language": "python",
   "name": "python3"
  },
  "language_info": {
   "codemirror_mode": {
    "name": "ipython",
    "version": 3
   },
   "file_extension": ".py",
   "mimetype": "text/x-python",
   "name": "python",
   "nbconvert_exporter": "python",
   "pygments_lexer": "ipython3",
   "version": "3.6.9"
  },
  "latex_envs": {
   "LaTeX_envs_menu_present": true,
   "autoclose": true,
   "autocomplete": true,
   "bibliofile": "biblio.bib",
   "cite_by": "apalike",
   "current_citInitial": 1,
   "eqLabelWithNumbers": true,
   "eqNumInitial": 1,
   "hotkeys": {
    "equation": "Ctrl-E",
    "itemize": "Ctrl-I"
   },
   "labels_anchors": false,
   "latex_user_defs": false,
   "report_style_numbering": false,
   "user_envs_cfg": false
  }
 },
 "nbformat": 4,
 "nbformat_minor": 2
}
