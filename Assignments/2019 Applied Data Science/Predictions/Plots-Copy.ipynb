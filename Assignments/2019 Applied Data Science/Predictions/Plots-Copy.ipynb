{
 "cells": [
  {
   "cell_type": "code",
   "execution_count": 3,
   "metadata": {
    "ExecuteTime": {
     "end_time": "2019-09-07T02:52:07.095098Z",
     "start_time": "2019-09-07T02:52:07.091109Z"
    }
   },
   "outputs": [],
   "source": [
    "import pandas as pd\n",
    "import geopandas as gpd\n",
    "import numpy as np\n",
    "\n",
    "import matplotlib.pyplot as plt\n",
    "import geoplot as gplt\n",
    "import seaborn as sns\n",
    "\n",
    "import folium\n",
    "\n",
    "from ipywidgets import interact, fixed\n",
    "\n",
    "sns.set_style('white')\n",
    "plt.rcParams.update({'font.size': 16})"
   ]
  },
  {
   "cell_type": "code",
   "execution_count": 25,
   "metadata": {
    "ExecuteTime": {
     "end_time": "2019-09-07T04:26:25.819388Z",
     "start_time": "2019-09-07T04:26:25.530148Z"
    }
   },
   "outputs": [
    {
     "data": {
      "text/plain": [
       "0    10031068\n",
       "1     3007055\n",
       "2     1472144\n",
       "3      714373\n",
       "4      314190\n",
       "Name: predicted_rating, dtype: int64"
      ]
     },
     "execution_count": 25,
     "metadata": {},
     "output_type": "execute_result"
    }
   ],
   "source": [
    "df = pd.read_feather('./ml_data/2019predictions.feather')\n",
    "df.predicted_rating.value_counts()"
   ]
  },
  {
   "cell_type": "code",
   "execution_count": 5,
   "metadata": {
    "ExecuteTime": {
     "end_time": "2019-09-07T02:52:08.793185Z",
     "start_time": "2019-09-07T02:52:08.780178Z"
    }
   },
   "outputs": [
    {
     "data": {
      "text/html": [
       "<div>\n",
       "<style scoped>\n",
       "    .dataframe tbody tr th:only-of-type {\n",
       "        vertical-align: middle;\n",
       "    }\n",
       "\n",
       "    .dataframe tbody tr th {\n",
       "        vertical-align: top;\n",
       "    }\n",
       "\n",
       "    .dataframe thead th {\n",
       "        text-align: right;\n",
       "    }\n",
       "</style>\n",
       "<table border=\"1\" class=\"dataframe\">\n",
       "  <thead>\n",
       "    <tr style=\"text-align: right;\">\n",
       "      <th></th>\n",
       "      <th>PULocationID</th>\n",
       "      <th>hour</th>\n",
       "      <th>dow</th>\n",
       "      <th>predicted_rating</th>\n",
       "    </tr>\n",
       "  </thead>\n",
       "  <tbody>\n",
       "    <tr>\n",
       "      <td>0</td>\n",
       "      <td>217</td>\n",
       "      <td>3</td>\n",
       "      <td>5</td>\n",
       "      <td>0</td>\n",
       "    </tr>\n",
       "    <tr>\n",
       "      <td>1</td>\n",
       "      <td>148</td>\n",
       "      <td>3</td>\n",
       "      <td>5</td>\n",
       "      <td>0</td>\n",
       "    </tr>\n",
       "    <tr>\n",
       "      <td>2</td>\n",
       "      <td>113</td>\n",
       "      <td>4</td>\n",
       "      <td>5</td>\n",
       "      <td>0</td>\n",
       "    </tr>\n",
       "    <tr>\n",
       "      <td>3</td>\n",
       "      <td>114</td>\n",
       "      <td>4</td>\n",
       "      <td>5</td>\n",
       "      <td>0</td>\n",
       "    </tr>\n",
       "    <tr>\n",
       "      <td>4</td>\n",
       "      <td>223</td>\n",
       "      <td>20</td>\n",
       "      <td>1</td>\n",
       "      <td>0</td>\n",
       "    </tr>\n",
       "  </tbody>\n",
       "</table>\n",
       "</div>"
      ],
      "text/plain": [
       "   PULocationID  hour  dow  predicted_rating\n",
       "0           217     3    5                 0\n",
       "1           148     3    5                 0\n",
       "2           113     4    5                 0\n",
       "3           114     4    5                 0\n",
       "4           223    20    1                 0"
      ]
     },
     "execution_count": 5,
     "metadata": {},
     "output_type": "execute_result"
    }
   ],
   "source": [
    "df.head()"
   ]
  },
  {
   "cell_type": "code",
   "execution_count": 6,
   "metadata": {
    "ExecuteTime": {
     "end_time": "2019-09-07T02:52:10.510818Z",
     "start_time": "2019-09-07T02:52:10.060518Z"
    }
   },
   "outputs": [
    {
     "data": {
      "text/plain": [
       "0    15339281\n",
       "1     4570140\n",
       "2     2240067\n",
       "3     1131069\n",
       "4      540041\n",
       "Name: predicted_rating, dtype: int64"
      ]
     },
     "execution_count": 6,
     "metadata": {},
     "output_type": "execute_result"
    }
   ],
   "source": [
    "dev = pd.read_feather('./ml_data/2018predictions.feather')\n",
    "dev.predicted_rating.value_counts()"
   ]
  },
  {
   "cell_type": "code",
   "execution_count": 7,
   "metadata": {
    "ExecuteTime": {
     "end_time": "2019-09-07T02:52:17.069507Z",
     "start_time": "2019-09-07T02:52:17.062027Z"
    }
   },
   "outputs": [
    {
     "data": {
      "text/html": [
       "<div>\n",
       "<style scoped>\n",
       "    .dataframe tbody tr th:only-of-type {\n",
       "        vertical-align: middle;\n",
       "    }\n",
       "\n",
       "    .dataframe tbody tr th {\n",
       "        vertical-align: top;\n",
       "    }\n",
       "\n",
       "    .dataframe thead th {\n",
       "        text-align: right;\n",
       "    }\n",
       "</style>\n",
       "<table border=\"1\" class=\"dataframe\">\n",
       "  <thead>\n",
       "    <tr style=\"text-align: right;\">\n",
       "      <th></th>\n",
       "      <th>PULocationID</th>\n",
       "      <th>hour</th>\n",
       "      <th>dow</th>\n",
       "      <th>predicted_rating</th>\n",
       "    </tr>\n",
       "  </thead>\n",
       "  <tbody>\n",
       "    <tr>\n",
       "      <td>0</td>\n",
       "      <td>41</td>\n",
       "      <td>0</td>\n",
       "      <td>0</td>\n",
       "      <td>0</td>\n",
       "    </tr>\n",
       "    <tr>\n",
       "      <td>1</td>\n",
       "      <td>41</td>\n",
       "      <td>0</td>\n",
       "      <td>0</td>\n",
       "      <td>0</td>\n",
       "    </tr>\n",
       "    <tr>\n",
       "      <td>2</td>\n",
       "      <td>41</td>\n",
       "      <td>0</td>\n",
       "      <td>0</td>\n",
       "      <td>0</td>\n",
       "    </tr>\n",
       "    <tr>\n",
       "      <td>3</td>\n",
       "      <td>41</td>\n",
       "      <td>0</td>\n",
       "      <td>0</td>\n",
       "      <td>0</td>\n",
       "    </tr>\n",
       "    <tr>\n",
       "      <td>4</td>\n",
       "      <td>41</td>\n",
       "      <td>0</td>\n",
       "      <td>0</td>\n",
       "      <td>0</td>\n",
       "    </tr>\n",
       "  </tbody>\n",
       "</table>\n",
       "</div>"
      ],
      "text/plain": [
       "   PULocationID  hour  dow  predicted_rating\n",
       "0            41     0    0                 0\n",
       "1            41     0    0                 0\n",
       "2            41     0    0                 0\n",
       "3            41     0    0                 0\n",
       "4            41     0    0                 0"
      ]
     },
     "execution_count": 7,
     "metadata": {},
     "output_type": "execute_result"
    }
   ],
   "source": [
    "dev.head()"
   ]
  },
  {
   "cell_type": "code",
   "execution_count": 56,
   "metadata": {
    "ExecuteTime": {
     "end_time": "2019-09-07T04:34:53.441089Z",
     "start_time": "2019-09-07T04:34:52.791197Z"
    }
   },
   "outputs": [
    {
     "data": {
      "image/png": "[encoded data removed]",
      "text/plain": [
       "<Figure size 720x504 with 1 Axes>"
      ]
     },
     "metadata": {},
     "output_type": "display_data"
    }
   ],
   "source": [
    "fig, ax = fig, ax = plt.subplots(1, 1, figsize=(10,7))\n",
    "\n",
    "dev.predicted_rating.value_counts().plot.barh(label='2018 Development Predictions', ax=ax, color=\"orange\")\n",
    "df.predicted_rating.value_counts().plot.barh(label='2019 Predictions', ax=ax, color=\"blue\")\n",
    "\n",
    "plt.plot([3107766]*7, range(-1, 6), label='Uniform Class Distribution')\n",
    "\n",
    "plt.title(\"Predictions\")\n",
    "plt.xlabel(\"Number of Instances\")\n",
    "plt.ylabel(\"Class Labels\")\n",
    "plt.yticks(range(5), [\"Not profitable at all\", \"Not profitable\", \"Neutral\", \"Quite Profitable\", \"Very Profitable\"])\n",
    "plt.legend()\n",
    "\n",
    "plt.show()"
   ]
  },
  {
   "cell_type": "code",
   "execution_count": 8,
   "metadata": {
    "ExecuteTime": {
     "end_time": "2019-09-07T02:52:28.803146Z",
     "start_time": "2019-09-07T02:52:28.649976Z"
    }
   },
   "outputs": [],
   "source": [
    "sf = gpd.read_file(\"./snow_data/taxi_zones.shp\")\n",
    "# Drop these columns since they are preserved in the zone_lookup.csv \n",
    "sf.drop(['OBJECTID','Shape_Leng','Shape_Area','zone','borough'],axis=1,inplace=True)\n",
    "# Convert to long/lat \n",
    "sf['geometry'] = sf['geometry'].to_crs(\"+proj=longlat +ellps=WGS84 +datum=WGS84 +no_defs\")"
   ]
  },
  {
   "cell_type": "code",
   "execution_count": 9,
   "metadata": {
    "ExecuteTime": {
     "end_time": "2019-09-07T02:52:29.558045Z",
     "start_time": "2019-09-07T02:52:29.532115Z"
    }
   },
   "outputs": [
    {
     "data": {
      "text/html": [
       "<div>\n",
       "<style scoped>\n",
       "    .dataframe tbody tr th:only-of-type {\n",
       "        vertical-align: middle;\n",
       "    }\n",
       "\n",
       "    .dataframe tbody tr th {\n",
       "        vertical-align: top;\n",
       "    }\n",
       "\n",
       "    .dataframe thead th {\n",
       "        text-align: right;\n",
       "    }\n",
       "</style>\n",
       "<table border=\"1\" class=\"dataframe\">\n",
       "  <thead>\n",
       "    <tr style=\"text-align: right;\">\n",
       "      <th></th>\n",
       "      <th>LocationID</th>\n",
       "      <th>geometry</th>\n",
       "    </tr>\n",
       "  </thead>\n",
       "  <tbody>\n",
       "    <tr>\n",
       "      <td>0</td>\n",
       "      <td>1</td>\n",
       "      <td>POLYGON ((-74.18445299999996 40.6949959999999,...</td>\n",
       "    </tr>\n",
       "    <tr>\n",
       "      <td>1</td>\n",
       "      <td>2</td>\n",
       "      <td>(POLYGON ((-73.82337597260663 40.6389870471767...</td>\n",
       "    </tr>\n",
       "    <tr>\n",
       "      <td>2</td>\n",
       "      <td>3</td>\n",
       "      <td>POLYGON ((-73.84792614099985 40.87134223399991...</td>\n",
       "    </tr>\n",
       "    <tr>\n",
       "      <td>3</td>\n",
       "      <td>4</td>\n",
       "      <td>POLYGON ((-73.97177410965318 40.72582128133705...</td>\n",
       "    </tr>\n",
       "    <tr>\n",
       "      <td>4</td>\n",
       "      <td>5</td>\n",
       "      <td>POLYGON ((-74.17421738099989 40.56256808599989...</td>\n",
       "    </tr>\n",
       "  </tbody>\n",
       "</table>\n",
       "</div>"
      ],
      "text/plain": [
       "   LocationID                                           geometry\n",
       "0           1  POLYGON ((-74.18445299999996 40.6949959999999,...\n",
       "1           2  (POLYGON ((-73.82337597260663 40.6389870471767...\n",
       "2           3  POLYGON ((-73.84792614099985 40.87134223399991...\n",
       "3           4  POLYGON ((-73.97177410965318 40.72582128133705...\n",
       "4           5  POLYGON ((-74.17421738099989 40.56256808599989..."
      ]
     },
     "execution_count": 9,
     "metadata": {},
     "output_type": "execute_result"
    }
   ],
   "source": [
    "sf.head()"
   ]
  },
  {
   "cell_type": "code",
   "execution_count": 10,
   "metadata": {
    "ExecuteTime": {
     "end_time": "2019-09-07T02:52:34.160390Z",
     "start_time": "2019-09-07T02:52:31.892944Z"
    }
   },
   "outputs": [],
   "source": [
    "df = gpd.GeoDataFrame(pd.merge(df, sf, left_on='PULocationID', right_on='LocationID', how='left'))"
   ]
  },
  {
   "cell_type": "code",
   "execution_count": 11,
   "metadata": {
    "ExecuteTime": {
     "end_time": "2019-09-07T02:52:37.031499Z",
     "start_time": "2019-09-07T02:52:37.015012Z"
    }
   },
   "outputs": [
    {
     "data": {
      "text/html": [
       "<div>\n",
       "<style scoped>\n",
       "    .dataframe tbody tr th:only-of-type {\n",
       "        vertical-align: middle;\n",
       "    }\n",
       "\n",
       "    .dataframe tbody tr th {\n",
       "        vertical-align: top;\n",
       "    }\n",
       "\n",
       "    .dataframe thead th {\n",
       "        text-align: right;\n",
       "    }\n",
       "</style>\n",
       "<table border=\"1\" class=\"dataframe\">\n",
       "  <thead>\n",
       "    <tr style=\"text-align: right;\">\n",
       "      <th></th>\n",
       "      <th>PULocationID</th>\n",
       "      <th>hour</th>\n",
       "      <th>dow</th>\n",
       "      <th>predicted_rating</th>\n",
       "      <th>LocationID</th>\n",
       "      <th>geometry</th>\n",
       "    </tr>\n",
       "  </thead>\n",
       "  <tbody>\n",
       "    <tr>\n",
       "      <td>0</td>\n",
       "      <td>217</td>\n",
       "      <td>3</td>\n",
       "      <td>5</td>\n",
       "      <td>0</td>\n",
       "      <td>217.0</td>\n",
       "      <td>POLYGON ((-73.95554165799997 40.70759344799991...</td>\n",
       "    </tr>\n",
       "    <tr>\n",
       "      <td>1</td>\n",
       "      <td>148</td>\n",
       "      <td>3</td>\n",
       "      <td>5</td>\n",
       "      <td>0</td>\n",
       "      <td>148.0</td>\n",
       "      <td>POLYGON ((-73.98447731699999 40.72023423899987...</td>\n",
       "    </tr>\n",
       "    <tr>\n",
       "      <td>2</td>\n",
       "      <td>113</td>\n",
       "      <td>4</td>\n",
       "      <td>5</td>\n",
       "      <td>0</td>\n",
       "      <td>113.0</td>\n",
       "      <td>POLYGON ((-73.99136388099988 40.72755978299991...</td>\n",
       "    </tr>\n",
       "    <tr>\n",
       "      <td>3</td>\n",
       "      <td>114</td>\n",
       "      <td>4</td>\n",
       "      <td>5</td>\n",
       "      <td>0</td>\n",
       "      <td>114.0</td>\n",
       "      <td>POLYGON ((-73.99257987399992 40.72420155499993...</td>\n",
       "    </tr>\n",
       "    <tr>\n",
       "      <td>4</td>\n",
       "      <td>223</td>\n",
       "      <td>20</td>\n",
       "      <td>1</td>\n",
       "      <td>0</td>\n",
       "      <td>223.0</td>\n",
       "      <td>POLYGON ((-73.90649492923363 40.7901809903447,...</td>\n",
       "    </tr>\n",
       "  </tbody>\n",
       "</table>\n",
       "</div>"
      ],
      "text/plain": [
       "   PULocationID  hour  dow  predicted_rating  LocationID  \\\n",
       "0           217     3    5                 0       217.0   \n",
       "1           148     3    5                 0       148.0   \n",
       "2           113     4    5                 0       113.0   \n",
       "3           114     4    5                 0       114.0   \n",
       "4           223    20    1                 0       223.0   \n",
       "\n",
       "                                            geometry  \n",
       "0  POLYGON ((-73.95554165799997 40.70759344799991...  \n",
       "1  POLYGON ((-73.98447731699999 40.72023423899987...  \n",
       "2  POLYGON ((-73.99136388099988 40.72755978299991...  \n",
       "3  POLYGON ((-73.99257987399992 40.72420155499993...  \n",
       "4  POLYGON ((-73.90649492923363 40.7901809903447,...  "
      ]
     },
     "execution_count": 11,
     "metadata": {},
     "output_type": "execute_result"
    }
   ],
   "source": [
    "df.head()"
   ]
  },
  {
   "cell_type": "code",
   "execution_count": 23,
   "metadata": {
    "ExecuteTime": {
     "end_time": "2019-09-07T03:05:10.941240Z",
     "start_time": "2019-09-07T03:05:08.518050Z"
    }
   },
   "outputs": [],
   "source": [
    "# before 3pm split, hour col corresponds to count\n",
    "before = df.loc[df.hour < 16].groupby([\"PULocationID\",\"predicted_rating\"]).count()['hour'].reset_index()\n",
    "before = gpd.GeoDataFrame(pd.merge(before, sf, left_on='PULocationID', right_on='LocationID', how='left'))\n",
    "before['log_freq'] = np.log(before['hour'])\n",
    "\n",
    "for i in range(5):\n",
    "    geo = gpd.GeoDataFrame(before.loc[before['predicted_rating'] == i][['PULocationID','geometry']].dropna()).to_json()\n",
    "    preds = folium.Map(location=[40.66, -73.94], tiles=\"Stamen Terrain\", zoom_start=10)\n",
    "\n",
    "    folium.Choropleth(\n",
    "        geo_data=geo,\n",
    "        name='choropleth',\n",
    "        data=before,\n",
    "        columns=['LocationID', 'log_freq'],\n",
    "        key_on='properties.PULocationID',\n",
    "        fill_color='OrRd',\n",
    "        fill_opacity=0.9,\n",
    "        line_opacity=0.5,\n",
    "        legend_name=f'Predicted {i} Rating Zones 12am - 3pm'\n",
    "    ).add_to(preds)\n",
    "\n",
    "    preds.save(f'./pred_plots/2019before_label{str(i)}.html')"
   ]
  },
  {
   "cell_type": "code",
   "execution_count": 22,
   "metadata": {
    "ExecuteTime": {
     "end_time": "2019-09-07T02:56:47.840608Z",
     "start_time": "2019-09-07T02:56:44.695854Z"
    }
   },
   "outputs": [],
   "source": [
    "# after 4pm split, hour col corresponds to count\n",
    "after = df.loc[df.hour >= 16].groupby([\"PULocationID\",\"predicted_rating\"]).count()['hour'].reset_index()\n",
    "after = gpd.GeoDataFrame(pd.merge(after, sf, left_on='PULocationID', right_on='LocationID', how='left'))\n",
    "after['log_freq'] = np.log(after['hour'])\n",
    "\n",
    "for i in range(5):\n",
    "    geo = gpd.GeoDataFrame(after.loc[after['predicted_rating'] == i][['PULocationID','geometry']].dropna()).to_json()\n",
    "    preds = folium.Map(location=[40.66, -73.94], tiles=\"Stamen Terrain\", zoom_start=10)\n",
    "\n",
    "    folium.Choropleth(\n",
    "        geo_data=geo,\n",
    "        name='choropleth',\n",
    "        data=after,\n",
    "        columns=['LocationID', 'log_freq'],\n",
    "        key_on='properties.PULocationID',\n",
    "        fill_color='OrRd',\n",
    "        fill_opacity=0.9,\n",
    "        line_opacity=0.5,\n",
    "        legend_name=f'Predicted {i} Rating Zones 4pm - 12am'\n",
    "    ).add_to(preds)\n",
    "\n",
    "    preds.save(f'./pred_plots/2019after_label{str(i)}.html')"
   ]
  },
  {
   "cell_type": "code",
   "execution_count": 24,
   "metadata": {
    "ExecuteTime": {
     "end_time": "2019-09-07T03:06:48.487077Z",
     "start_time": "2019-09-07T03:06:45.167064Z"
    }
   },
   "outputs": [],
   "source": [
    "# daily combined\n",
    "overall_agg = df.groupby([\"PULocationID\",\"predicted_rating\"]).count()['hour'].reset_index()\n",
    "overall_agg = gpd.GeoDataFrame(pd.merge(overall_agg, sf, left_on='PULocationID', right_on='LocationID', how='left'))\n",
    "overall_agg['log_freq'] = np.log(overall_agg['hour'])\n",
    "\n",
    "for i in range(5):\n",
    "    geo = gpd.GeoDataFrame(overall_agg.loc[overall_agg['predicted_rating'] == i][['PULocationID','geometry']].dropna()).to_json()\n",
    "    preds = folium.Map(location=[40.66, -73.94], tiles=\"Stamen Terrain\", zoom_start=10)\n",
    "\n",
    "    folium.Choropleth(\n",
    "        geo_data=geo,\n",
    "        name='choropleth',\n",
    "        data=overall_agg,\n",
    "        columns=['LocationID', 'log_freq'],\n",
    "        key_on='properties.PULocationID',\n",
    "        fill_color='OrRd',\n",
    "        fill_opacity=0.9,\n",
    "        line_opacity=0.5,\n",
    "        legend_name=f'Predicted {i} Rating Zones'\n",
    "    ).add_to(preds)\n",
    "\n",
    "    preds.save(f'./pred_plots/overall{str(i)}.html')"
   ]
  },
  {
   "cell_type": "code",
   "execution_count": null,
   "metadata": {},
   "outputs": [],
   "source": []
  }
 ],
 "metadata": {
  "kernelspec": {
   "display_name": "Python 3",
   "language": "python",
   "name": "python3"
  },
  "language_info": {
   "codemirror_mode": {
    "name": "ipython",
    "version": 3
   },
   "file_extension": ".py",
   "mimetype": "text/x-python",
   "name": "python",
   "nbconvert_exporter": "python",
   "pygments_lexer": "ipython3",
   "version": "3.6.9"
  }
 },
 "nbformat": 4,
 "nbformat_minor": 2
}
