{
 "cells": [
  {
   "cell_type": "code",
   "execution_count": 1,
   "metadata": {
    "ExecuteTime": {
     "end_time": "2019-09-03T02:17:11.439208Z",
     "start_time": "2019-09-03T02:17:10.457242Z"
    }
   },
   "outputs": [],
   "source": [
    "import pandas as pd\n",
    "import numpy as np\n",
    "from scipy import stats\n",
    "\n",
    "import matplotlib.pyplot as plt\n",
    "import seaborn as sns\n",
    "\n",
    "from IPython.display import display\n",
    "import warnings\n",
    "\n",
    "warnings.filterwarnings('ignore')\n",
    "pd.options.display.float_format = '{:20,.4f}'.format"
   ]
  },
  {
   "cell_type": "markdown",
   "metadata": {},
   "source": [
    "Do for each year"
   ]
  },
  {
   "cell_type": "code",
   "execution_count": 41,
   "metadata": {
    "ExecuteTime": {
     "end_time": "2019-09-03T02:25:33.267319Z",
     "start_time": "2019-09-03T02:25:24.985353Z"
    }
   },
   "outputs": [
    {
     "data": {
      "text/plain": [
       "Index(['VendorID', 'passenger_count', 'trip_distance', 'RatecodeID',\n",
       "       'store_and_fwd_flag', 'PULocationID', 'DOLocationID', 'payment_type',\n",
       "       'fare_amount', 'extra', 'mta_tax', 'tip_amount', 'tolls_amount',\n",
       "       'total_amount', 'trip_duration', 'dow', 'hour', 'tmpc', 'heavy_snow',\n",
       "       'snow'],\n",
       "      dtype='object')"
      ]
     },
     "metadata": {},
     "output_type": "display_data"
    },
    {
     "data": {
      "text/html": [
       "<div>\n",
       "<style scoped>\n",
       "    .dataframe tbody tr th:only-of-type {\n",
       "        vertical-align: middle;\n",
       "    }\n",
       "\n",
       "    .dataframe tbody tr th {\n",
       "        vertical-align: top;\n",
       "    }\n",
       "\n",
       "    .dataframe thead th {\n",
       "        text-align: right;\n",
       "    }\n",
       "</style>\n",
       "<table border=\"1\" class=\"dataframe\">\n",
       "  <thead>\n",
       "    <tr style=\"text-align: right;\">\n",
       "      <th></th>\n",
       "      <th>VendorID</th>\n",
       "      <th>passenger_count</th>\n",
       "      <th>trip_distance</th>\n",
       "      <th>RatecodeID</th>\n",
       "      <th>store_and_fwd_flag</th>\n",
       "      <th>PULocationID</th>\n",
       "      <th>DOLocationID</th>\n",
       "      <th>payment_type</th>\n",
       "      <th>fare_amount</th>\n",
       "      <th>extra</th>\n",
       "      <th>mta_tax</th>\n",
       "      <th>tip_amount</th>\n",
       "      <th>tolls_amount</th>\n",
       "      <th>total_amount</th>\n",
       "      <th>trip_duration</th>\n",
       "      <th>dow</th>\n",
       "      <th>hour</th>\n",
       "      <th>tmpc</th>\n",
       "      <th>heavy_snow</th>\n",
       "      <th>snow</th>\n",
       "    </tr>\n",
       "  </thead>\n",
       "  <tbody>\n",
       "    <tr>\n",
       "      <td>0</td>\n",
       "      <td>1</td>\n",
       "      <td>1</td>\n",
       "      <td>0.5000</td>\n",
       "      <td>1.0000</td>\n",
       "      <td>N</td>\n",
       "      <td>41</td>\n",
       "      <td>24</td>\n",
       "      <td>2</td>\n",
       "      <td>4.5000</td>\n",
       "      <td>0.5000</td>\n",
       "      <td>0.5000</td>\n",
       "      <td>0.0000</td>\n",
       "      <td>0.0000</td>\n",
       "      <td>5.8000</td>\n",
       "      <td>3</td>\n",
       "      <td>0</td>\n",
       "      <td>0</td>\n",
       "      <td>nan</td>\n",
       "      <td>nan</td>\n",
       "      <td>nan</td>\n",
       "    </tr>\n",
       "    <tr>\n",
       "      <td>1</td>\n",
       "      <td>1</td>\n",
       "      <td>1</td>\n",
       "      <td>2.7000</td>\n",
       "      <td>1.0000</td>\n",
       "      <td>N</td>\n",
       "      <td>239</td>\n",
       "      <td>140</td>\n",
       "      <td>2</td>\n",
       "      <td>14.0000</td>\n",
       "      <td>0.5000</td>\n",
       "      <td>0.5000</td>\n",
       "      <td>0.0000</td>\n",
       "      <td>0.0000</td>\n",
       "      <td>15.3000</td>\n",
       "      <td>18</td>\n",
       "      <td>0</td>\n",
       "      <td>0</td>\n",
       "      <td>-11.0000</td>\n",
       "      <td>0.0000</td>\n",
       "      <td>0.0000</td>\n",
       "    </tr>\n",
       "    <tr>\n",
       "      <td>2</td>\n",
       "      <td>1</td>\n",
       "      <td>2</td>\n",
       "      <td>0.8000</td>\n",
       "      <td>1.0000</td>\n",
       "      <td>N</td>\n",
       "      <td>262</td>\n",
       "      <td>141</td>\n",
       "      <td>1</td>\n",
       "      <td>6.0000</td>\n",
       "      <td>0.5000</td>\n",
       "      <td>0.5000</td>\n",
       "      <td>1.0000</td>\n",
       "      <td>0.0000</td>\n",
       "      <td>8.3000</td>\n",
       "      <td>5</td>\n",
       "      <td>0</td>\n",
       "      <td>0</td>\n",
       "      <td>nan</td>\n",
       "      <td>nan</td>\n",
       "      <td>nan</td>\n",
       "    </tr>\n",
       "    <tr>\n",
       "      <td>3</td>\n",
       "      <td>1</td>\n",
       "      <td>1</td>\n",
       "      <td>10.2000</td>\n",
       "      <td>1.0000</td>\n",
       "      <td>N</td>\n",
       "      <td>140</td>\n",
       "      <td>257</td>\n",
       "      <td>2</td>\n",
       "      <td>33.5000</td>\n",
       "      <td>0.5000</td>\n",
       "      <td>0.5000</td>\n",
       "      <td>0.0000</td>\n",
       "      <td>0.0000</td>\n",
       "      <td>34.8000</td>\n",
       "      <td>32</td>\n",
       "      <td>0</td>\n",
       "      <td>0</td>\n",
       "      <td>nan</td>\n",
       "      <td>nan</td>\n",
       "      <td>nan</td>\n",
       "    </tr>\n",
       "    <tr>\n",
       "      <td>4</td>\n",
       "      <td>1</td>\n",
       "      <td>2</td>\n",
       "      <td>2.5000</td>\n",
       "      <td>1.0000</td>\n",
       "      <td>N</td>\n",
       "      <td>246</td>\n",
       "      <td>239</td>\n",
       "      <td>1</td>\n",
       "      <td>12.5000</td>\n",
       "      <td>0.5000</td>\n",
       "      <td>0.5000</td>\n",
       "      <td>2.7500</td>\n",
       "      <td>0.0000</td>\n",
       "      <td>16.5500</td>\n",
       "      <td>17</td>\n",
       "      <td>0</td>\n",
       "      <td>0</td>\n",
       "      <td>nan</td>\n",
       "      <td>nan</td>\n",
       "      <td>nan</td>\n",
       "    </tr>\n",
       "  </tbody>\n",
       "</table>\n",
       "</div>"
      ],
      "text/plain": [
       "   VendorID  passenger_count        trip_distance           RatecodeID  \\\n",
       "0         1                1               0.5000               1.0000   \n",
       "1         1                1               2.7000               1.0000   \n",
       "2         1                2               0.8000               1.0000   \n",
       "3         1                1              10.2000               1.0000   \n",
       "4         1                2               2.5000               1.0000   \n",
       "\n",
       "  store_and_fwd_flag  PULocationID  DOLocationID  payment_type  \\\n",
       "0                  N            41            24             2   \n",
       "1                  N           239           140             2   \n",
       "2                  N           262           141             1   \n",
       "3                  N           140           257             2   \n",
       "4                  N           246           239             1   \n",
       "\n",
       "           fare_amount                extra              mta_tax  \\\n",
       "0               4.5000               0.5000               0.5000   \n",
       "1              14.0000               0.5000               0.5000   \n",
       "2               6.0000               0.5000               0.5000   \n",
       "3              33.5000               0.5000               0.5000   \n",
       "4              12.5000               0.5000               0.5000   \n",
       "\n",
       "            tip_amount         tolls_amount         total_amount  \\\n",
       "0               0.0000               0.0000               5.8000   \n",
       "1               0.0000               0.0000              15.3000   \n",
       "2               1.0000               0.0000               8.3000   \n",
       "3               0.0000               0.0000              34.8000   \n",
       "4               2.7500               0.0000              16.5500   \n",
       "\n",
       "   trip_duration  dow  hour                 tmpc           heavy_snow  \\\n",
       "0              3    0     0                  nan                  nan   \n",
       "1             18    0     0             -11.0000               0.0000   \n",
       "2              5    0     0                  nan                  nan   \n",
       "3             32    0     0                  nan                  nan   \n",
       "4             17    0     0                  nan                  nan   \n",
       "\n",
       "                  snow  \n",
       "0                  nan  \n",
       "1               0.0000  \n",
       "2                  nan  \n",
       "3                  nan  \n",
       "4                  nan  "
      ]
     },
     "metadata": {},
     "output_type": "display_data"
    }
   ],
   "source": [
    "df1 = pd.read_feather('./data/2018taxi_weather.feather').drop('index', axis=1)\n",
    "\n",
    "display(df1.columns)\n",
    "display(df1.head())"
   ]
  },
  {
   "cell_type": "code",
   "execution_count": 3,
   "metadata": {
    "ExecuteTime": {
     "end_time": "2019-09-03T02:19:21.505099Z",
     "start_time": "2019-09-03T02:17:19.815448Z"
    }
   },
   "outputs": [
    {
     "data": {
      "text/plain": [
       "VendorID                       -0.1930\n",
       "passenger_count                 2.3035\n",
       "trip_distance                   3.5926\n",
       "RatecodeID                     14.2416\n",
       "PULocationID                   -0.2118\n",
       "DOLocationID                   -0.2434\n",
       "payment_type                    1.0696\n",
       "fare_amount                 3,013.8488\n",
       "extra                           7.8190\n",
       "mta_tax                       -29.9724\n",
       "tip_amount                      9.1898\n",
       "tolls_amount                  189.2119\n",
       "total_amount                2,996.9635\n",
       "trip_duration                  22.8489\n",
       "dow                             0.0143\n",
       "hour                           -1.1464\n",
       "tmpc                            0.1931\n",
       "heavy_snow                     10.8574\n",
       "snow                           10.9922\n",
       "dtype: float64"
      ]
     },
     "execution_count": 3,
     "metadata": {},
     "output_type": "execute_result"
    }
   ],
   "source": [
    "df1.skew()"
   ]
  },
  {
   "cell_type": "code",
   "execution_count": 4,
   "metadata": {
    "ExecuteTime": {
     "end_time": "2019-09-03T02:19:25.854186Z",
     "start_time": "2019-09-03T02:19:21.513058Z"
    }
   },
   "outputs": [
    {
     "data": {
      "text/html": [
       "<div>\n",
       "<style scoped>\n",
       "    .dataframe tbody tr th:only-of-type {\n",
       "        vertical-align: middle;\n",
       "    }\n",
       "\n",
       "    .dataframe tbody tr th {\n",
       "        vertical-align: top;\n",
       "    }\n",
       "\n",
       "    .dataframe thead th {\n",
       "        text-align: right;\n",
       "    }\n",
       "</style>\n",
       "<table border=\"1\" class=\"dataframe\">\n",
       "  <thead>\n",
       "    <tr style=\"text-align: right;\">\n",
       "      <th></th>\n",
       "      <th>fare_amount</th>\n",
       "      <th>tolls_amount</th>\n",
       "      <th>total_amount</th>\n",
       "    </tr>\n",
       "  </thead>\n",
       "  <tbody>\n",
       "    <tr>\n",
       "      <td>count</td>\n",
       "      <td>27,140,443.0000</td>\n",
       "      <td>27,140,443.0000</td>\n",
       "      <td>27,140,443.0000</td>\n",
       "    </tr>\n",
       "    <tr>\n",
       "      <td>mean</td>\n",
       "      <td>12.3352</td>\n",
       "      <td>0.2144</td>\n",
       "      <td>15.8674</td>\n",
       "    </tr>\n",
       "    <tr>\n",
       "      <td>std</td>\n",
       "      <td>112.8906</td>\n",
       "      <td>1.5514</td>\n",
       "      <td>113.1017</td>\n",
       "    </tr>\n",
       "    <tr>\n",
       "      <td>min</td>\n",
       "      <td>0.1000</td>\n",
       "      <td>-5.5400</td>\n",
       "      <td>1.4000</td>\n",
       "    </tr>\n",
       "    <tr>\n",
       "      <td>25%</td>\n",
       "      <td>6.5000</td>\n",
       "      <td>0.0000</td>\n",
       "      <td>8.8000</td>\n",
       "    </tr>\n",
       "    <tr>\n",
       "      <td>50%</td>\n",
       "      <td>9.5000</td>\n",
       "      <td>0.0000</td>\n",
       "      <td>12.3000</td>\n",
       "    </tr>\n",
       "    <tr>\n",
       "      <td>75%</td>\n",
       "      <td>14.5000</td>\n",
       "      <td>0.0000</td>\n",
       "      <td>18.1700</td>\n",
       "    </tr>\n",
       "    <tr>\n",
       "      <td>max</td>\n",
       "      <td>391,911.7800</td>\n",
       "      <td>1,018.9500</td>\n",
       "      <td>391,913.5800</td>\n",
       "    </tr>\n",
       "  </tbody>\n",
       "</table>\n",
       "</div>"
      ],
      "text/plain": [
       "               fare_amount         tolls_amount         total_amount\n",
       "count      27,140,443.0000      27,140,443.0000      27,140,443.0000\n",
       "mean               12.3352               0.2144              15.8674\n",
       "std               112.8906               1.5514             113.1017\n",
       "min                 0.1000              -5.5400               1.4000\n",
       "25%                 6.5000               0.0000               8.8000\n",
       "50%                 9.5000               0.0000              12.3000\n",
       "75%                14.5000               0.0000              18.1700\n",
       "max           391,911.7800           1,018.9500         391,913.5800"
      ]
     },
     "execution_count": 4,
     "metadata": {},
     "output_type": "execute_result"
    }
   ],
   "source": [
    "df1[['fare_amount', 'tolls_amount', 'total_amount']].describe()"
   ]
  },
  {
   "cell_type": "markdown",
   "metadata": {},
   "source": [
    "Wow... these are insanely skewed"
   ]
  },
  {
   "cell_type": "code",
   "execution_count": 5,
   "metadata": {
    "ExecuteTime": {
     "end_time": "2019-09-03T02:19:36.086987Z",
     "start_time": "2019-09-03T02:19:25.856181Z"
    }
   },
   "outputs": [
    {
     "data": {
      "text/plain": [
       "<matplotlib.axes._subplots.AxesSubplot at 0x1e98445e8d0>"
      ]
     },
     "execution_count": 5,
     "metadata": {},
     "output_type": "execute_result"
    },
    {
     "data": {
      "image/png": "[encoded data removed]",
      "text/plain": [
       "<Figure size 720x360 with 3 Axes>"
      ]
     },
     "metadata": {
      "needs_background": "light"
     },
     "output_type": "display_data"
    }
   ],
   "source": [
    "fig, ax = plt.subplots(1, 3, figsize=(10, 5))\n",
    "sns.boxplot(np.log(df1.fare_amount), ax=ax[0])\n",
    "sns.boxplot(np.log(df1.total_amount), ax=ax[1])\n",
    "sns.boxplot(np.log(df1.tolls_amount), ax=ax[2])"
   ]
  },
  {
   "cell_type": "markdown",
   "metadata": {},
   "source": [
    "Since fare_amount seems to have unrealistic costs, we should follow the data dictionary.\n",
    "- `RatecodeID` 5 and 6 will be dropped\n",
    "- Any trip that does not have `payment_type` 1 or 2 will be dropped\n",
    "- Trips over $500 will also be dropped since it is an extreme outlier, regardless of distance"
   ]
  },
  {
   "cell_type": "markdown",
   "metadata": {},
   "source": [
    "According to the taxi fares and NYC toll rates, even if a passenger went by every tollway **and** payed for the return toll fee, the maximum cost would only reach `374.94`. As a safe measure, we can assume any toll amount greater than this is incorrect.\n",
    "\n",
    "Furthermore, there is a minimum `2.50` hailing fee. So any instance with a `total_amount` less than this fee is incorrect."
   ]
  },
  {
   "cell_type": "code",
   "execution_count": 42,
   "metadata": {
    "ExecuteTime": {
     "end_time": "2019-09-03T02:25:33.697157Z",
     "start_time": "2019-09-03T02:25:33.269291Z"
    }
   },
   "outputs": [],
   "source": [
    "to_drop = df1.loc[df1['RatecodeID'] == 5].index\n",
    "\n",
    "to_drop = to_drop.append(df1.loc[df1['RatecodeID'] == 6].index)\n",
    "to_drop = to_drop.append(df1.loc[df1['payment_type'] == 3].index)\n",
    "to_drop = to_drop.append(df1.loc[df1['payment_type'] == 4].index)\n",
    "to_drop = to_drop.append(df1.loc[df1['payment_type'] == 5].index)\n",
    "to_drop = to_drop.append(df1.loc[df1['payment_type'] == 6].index)\n",
    "to_drop = to_drop.append(df1.loc[df1['fare_amount'] >= 500].index)\n",
    "to_drop = to_drop.append(df1.loc[df1['tolls_amount'] > 374.94].index)\n",
    "to_drop = to_drop.append(df1.loc[df1['total_amount'] <= 2.5].index)"
   ]
  },
  {
   "cell_type": "code",
   "execution_count": 43,
   "metadata": {
    "ExecuteTime": {
     "end_time": "2019-09-03T02:25:36.325116Z",
     "start_time": "2019-09-03T02:25:33.698155Z"
    }
   },
   "outputs": [],
   "source": [
    "df1.drop(index=to_drop, axis=1, inplace=True)"
   ]
  },
  {
   "cell_type": "code",
   "execution_count": 8,
   "metadata": {
    "ExecuteTime": {
     "end_time": "2019-09-03T02:21:01.904389Z",
     "start_time": "2019-09-03T02:19:39.603137Z"
    }
   },
   "outputs": [
    {
     "data": {
      "text/plain": [
       "VendorID                       -0.2046\n",
       "passenger_count                 2.2989\n",
       "trip_distance                   3.4431\n",
       "RatecodeID                     14.2830\n",
       "PULocationID                   -0.2120\n",
       "DOLocationID                   -0.2436\n",
       "payment_type                    0.8531\n",
       "fare_amount                     2.8100\n",
       "extra                           6.7801\n",
       "mta_tax                       -30.1516\n",
       "tip_amount                      8.9565\n",
       "tolls_amount                    9.3585\n",
       "total_amount                    3.0786\n",
       "trip_duration                  22.8046\n",
       "dow                             0.0149\n",
       "hour                           -1.1499\n",
       "tmpc                            0.1931\n",
       "heavy_snow                     10.8572\n",
       "snow                           10.9920\n",
       "dtype: float64"
      ]
     },
     "execution_count": 8,
     "metadata": {},
     "output_type": "execute_result"
    }
   ],
   "source": [
    "df1.skew()"
   ]
  },
  {
   "cell_type": "code",
   "execution_count": 9,
   "metadata": {
    "ExecuteTime": {
     "end_time": "2019-09-03T02:21:05.801295Z",
     "start_time": "2019-09-03T02:21:01.912365Z"
    }
   },
   "outputs": [
    {
     "data": {
      "text/html": [
       "<div>\n",
       "<style scoped>\n",
       "    .dataframe tbody tr th:only-of-type {\n",
       "        vertical-align: middle;\n",
       "    }\n",
       "\n",
       "    .dataframe tbody tr th {\n",
       "        vertical-align: top;\n",
       "    }\n",
       "\n",
       "    .dataframe thead th {\n",
       "        text-align: right;\n",
       "    }\n",
       "</style>\n",
       "<table border=\"1\" class=\"dataframe\">\n",
       "  <thead>\n",
       "    <tr style=\"text-align: right;\">\n",
       "      <th></th>\n",
       "      <th>fare_amount</th>\n",
       "      <th>tolls_amount</th>\n",
       "      <th>total_amount</th>\n",
       "    </tr>\n",
       "  </thead>\n",
       "  <tbody>\n",
       "    <tr>\n",
       "      <td>count</td>\n",
       "      <td>26,999,747.0000</td>\n",
       "      <td>26,999,747.0000</td>\n",
       "      <td>26,999,747.0000</td>\n",
       "    </tr>\n",
       "    <tr>\n",
       "      <td>mean</td>\n",
       "      <td>12.2851</td>\n",
       "      <td>0.2123</td>\n",
       "      <td>15.8246</td>\n",
       "    </tr>\n",
       "    <tr>\n",
       "      <td>std</td>\n",
       "      <td>9.2810</td>\n",
       "      <td>1.1832</td>\n",
       "      <td>11.5310</td>\n",
       "    </tr>\n",
       "    <tr>\n",
       "      <td>min</td>\n",
       "      <td>2.0000</td>\n",
       "      <td>-5.5400</td>\n",
       "      <td>3.3000</td>\n",
       "    </tr>\n",
       "    <tr>\n",
       "      <td>25%</td>\n",
       "      <td>6.5000</td>\n",
       "      <td>0.0000</td>\n",
       "      <td>8.8000</td>\n",
       "    </tr>\n",
       "    <tr>\n",
       "      <td>50%</td>\n",
       "      <td>9.5000</td>\n",
       "      <td>0.0000</td>\n",
       "      <td>12.3000</td>\n",
       "    </tr>\n",
       "    <tr>\n",
       "      <td>75%</td>\n",
       "      <td>14.5000</td>\n",
       "      <td>0.0000</td>\n",
       "      <td>18.1700</td>\n",
       "    </tr>\n",
       "    <tr>\n",
       "      <td>max</td>\n",
       "      <td>465.5000</td>\n",
       "      <td>300.0000</td>\n",
       "      <td>552.5700</td>\n",
       "    </tr>\n",
       "  </tbody>\n",
       "</table>\n",
       "</div>"
      ],
      "text/plain": [
       "               fare_amount         tolls_amount         total_amount\n",
       "count      26,999,747.0000      26,999,747.0000      26,999,747.0000\n",
       "mean               12.2851               0.2123              15.8246\n",
       "std                 9.2810               1.1832              11.5310\n",
       "min                 2.0000              -5.5400               3.3000\n",
       "25%                 6.5000               0.0000               8.8000\n",
       "50%                 9.5000               0.0000              12.3000\n",
       "75%                14.5000               0.0000              18.1700\n",
       "max               465.5000             300.0000             552.5700"
      ]
     },
     "execution_count": 9,
     "metadata": {},
     "output_type": "execute_result"
    }
   ],
   "source": [
    "df1[['fare_amount', 'tolls_amount', 'total_amount']].describe()"
   ]
  },
  {
   "cell_type": "code",
   "execution_count": 10,
   "metadata": {
    "ExecuteTime": {
     "end_time": "2019-09-03T02:21:15.602498Z",
     "start_time": "2019-09-03T02:21:05.802293Z"
    }
   },
   "outputs": [
    {
     "data": {
      "text/plain": [
       "<matplotlib.axes._subplots.AxesSubplot at 0x1e98f50a0b8>"
      ]
     },
     "execution_count": 10,
     "metadata": {},
     "output_type": "execute_result"
    },
    {
     "data": {
      "image/png": "[encoded data removed]",
      "text/plain": [
       "<Figure size 720x360 with 3 Axes>"
      ]
     },
     "metadata": {
      "needs_background": "light"
     },
     "output_type": "display_data"
    }
   ],
   "source": [
    "fig, ax = plt.subplots(1, 3, figsize=(10, 5))\n",
    "sns.boxplot(np.log(df1.fare_amount), ax=ax[0])\n",
    "sns.boxplot(np.log(df1.total_amount), ax=ax[1])\n",
    "sns.boxplot(np.log(df1.tolls_amount), ax=ax[2])"
   ]
  },
  {
   "cell_type": "markdown",
   "metadata": {},
   "source": [
    "The data now looks much more reasonable to work with\n",
    "- Tolls are still positive skewed, but that's okay since some trips may go through *numerous* tollways\n",
    "\n",
    "We can also drop the columns that have no use:\n",
    "- `VendorID` is just the data provider and is used for reporting\n",
    "- `passenger_count` may seem useful, do not affect the `fare_rate` made (and hence the profitability). \n",
    "    - This is because we already removed any `RatecodeID` of 6 which were group rides\n",
    "- `RatecodeID` has been conditioned to standard trips, so we can now work with the data conditioned on this\n",
    "- `store_and_fwd_flag` only indicates whether or not the information was stored in memory of the taxi, rather than being sent during transaction\n",
    "- `payment_type` like `RatecodeID`, has been conditioned to cash or card payments. So, we can also work with the data conditioned on this\n",
    "- `mta_tax` and `improvement_surcharge` are a constant surcharge to all trips"
   ]
  },
  {
   "cell_type": "code",
   "execution_count": 44,
   "metadata": {
    "ExecuteTime": {
     "end_time": "2019-09-03T02:25:37.673434Z",
     "start_time": "2019-09-03T02:25:36.326091Z"
    }
   },
   "outputs": [
    {
     "data": {
      "text/html": [
       "<div>\n",
       "<style scoped>\n",
       "    .dataframe tbody tr th:only-of-type {\n",
       "        vertical-align: middle;\n",
       "    }\n",
       "\n",
       "    .dataframe tbody tr th {\n",
       "        vertical-align: top;\n",
       "    }\n",
       "\n",
       "    .dataframe thead th {\n",
       "        text-align: right;\n",
       "    }\n",
       "</style>\n",
       "<table border=\"1\" class=\"dataframe\">\n",
       "  <thead>\n",
       "    <tr style=\"text-align: right;\">\n",
       "      <th></th>\n",
       "      <th>trip_distance</th>\n",
       "      <th>PULocationID</th>\n",
       "      <th>DOLocationID</th>\n",
       "      <th>fare_amount</th>\n",
       "      <th>extra</th>\n",
       "      <th>tip_amount</th>\n",
       "      <th>tolls_amount</th>\n",
       "      <th>total_amount</th>\n",
       "      <th>trip_duration</th>\n",
       "      <th>dow</th>\n",
       "      <th>hour</th>\n",
       "      <th>tmpc</th>\n",
       "      <th>heavy_snow</th>\n",
       "      <th>snow</th>\n",
       "    </tr>\n",
       "  </thead>\n",
       "  <tbody>\n",
       "    <tr>\n",
       "      <td>0</td>\n",
       "      <td>0.5000</td>\n",
       "      <td>41</td>\n",
       "      <td>24</td>\n",
       "      <td>4.5000</td>\n",
       "      <td>0.5000</td>\n",
       "      <td>0.0000</td>\n",
       "      <td>0.0000</td>\n",
       "      <td>5.8000</td>\n",
       "      <td>3</td>\n",
       "      <td>0</td>\n",
       "      <td>0</td>\n",
       "      <td>nan</td>\n",
       "      <td>nan</td>\n",
       "      <td>nan</td>\n",
       "    </tr>\n",
       "    <tr>\n",
       "      <td>1</td>\n",
       "      <td>2.7000</td>\n",
       "      <td>239</td>\n",
       "      <td>140</td>\n",
       "      <td>14.0000</td>\n",
       "      <td>0.5000</td>\n",
       "      <td>0.0000</td>\n",
       "      <td>0.0000</td>\n",
       "      <td>15.3000</td>\n",
       "      <td>18</td>\n",
       "      <td>0</td>\n",
       "      <td>0</td>\n",
       "      <td>-11.0000</td>\n",
       "      <td>0.0000</td>\n",
       "      <td>0.0000</td>\n",
       "    </tr>\n",
       "    <tr>\n",
       "      <td>2</td>\n",
       "      <td>0.8000</td>\n",
       "      <td>262</td>\n",
       "      <td>141</td>\n",
       "      <td>6.0000</td>\n",
       "      <td>0.5000</td>\n",
       "      <td>1.0000</td>\n",
       "      <td>0.0000</td>\n",
       "      <td>8.3000</td>\n",
       "      <td>5</td>\n",
       "      <td>0</td>\n",
       "      <td>0</td>\n",
       "      <td>nan</td>\n",
       "      <td>nan</td>\n",
       "      <td>nan</td>\n",
       "    </tr>\n",
       "    <tr>\n",
       "      <td>3</td>\n",
       "      <td>10.2000</td>\n",
       "      <td>140</td>\n",
       "      <td>257</td>\n",
       "      <td>33.5000</td>\n",
       "      <td>0.5000</td>\n",
       "      <td>0.0000</td>\n",
       "      <td>0.0000</td>\n",
       "      <td>34.8000</td>\n",
       "      <td>32</td>\n",
       "      <td>0</td>\n",
       "      <td>0</td>\n",
       "      <td>nan</td>\n",
       "      <td>nan</td>\n",
       "      <td>nan</td>\n",
       "    </tr>\n",
       "    <tr>\n",
       "      <td>4</td>\n",
       "      <td>2.5000</td>\n",
       "      <td>246</td>\n",
       "      <td>239</td>\n",
       "      <td>12.5000</td>\n",
       "      <td>0.5000</td>\n",
       "      <td>2.7500</td>\n",
       "      <td>0.0000</td>\n",
       "      <td>16.5500</td>\n",
       "      <td>17</td>\n",
       "      <td>0</td>\n",
       "      <td>0</td>\n",
       "      <td>nan</td>\n",
       "      <td>nan</td>\n",
       "      <td>nan</td>\n",
       "    </tr>\n",
       "  </tbody>\n",
       "</table>\n",
       "</div>"
      ],
      "text/plain": [
       "         trip_distance  PULocationID  DOLocationID          fare_amount  \\\n",
       "0               0.5000            41            24               4.5000   \n",
       "1               2.7000           239           140              14.0000   \n",
       "2               0.8000           262           141               6.0000   \n",
       "3              10.2000           140           257              33.5000   \n",
       "4               2.5000           246           239              12.5000   \n",
       "\n",
       "                 extra           tip_amount         tolls_amount  \\\n",
       "0               0.5000               0.0000               0.0000   \n",
       "1               0.5000               0.0000               0.0000   \n",
       "2               0.5000               1.0000               0.0000   \n",
       "3               0.5000               0.0000               0.0000   \n",
       "4               0.5000               2.7500               0.0000   \n",
       "\n",
       "          total_amount  trip_duration  dow  hour                 tmpc  \\\n",
       "0               5.8000              3    0     0                  nan   \n",
       "1              15.3000             18    0     0             -11.0000   \n",
       "2               8.3000              5    0     0                  nan   \n",
       "3              34.8000             32    0     0                  nan   \n",
       "4              16.5500             17    0     0                  nan   \n",
       "\n",
       "            heavy_snow                 snow  \n",
       "0                  nan                  nan  \n",
       "1               0.0000               0.0000  \n",
       "2                  nan                  nan  \n",
       "3                  nan                  nan  \n",
       "4                  nan                  nan  "
      ]
     },
     "execution_count": 44,
     "metadata": {},
     "output_type": "execute_result"
    }
   ],
   "source": [
    "df1.drop(['VendorID','passenger_count','RatecodeID','store_and_fwd_flag','payment_type','mta_tax'],axis=1,inplace=True)\n",
    "\n",
    "df1.head()"
   ]
  },
  {
   "cell_type": "code",
   "execution_count": null,
   "metadata": {},
   "outputs": [],
   "source": []
  },
  {
   "cell_type": "code",
   "execution_count": 12,
   "metadata": {
    "ExecuteTime": {
     "end_time": "2019-09-03T02:21:29.545250Z",
     "start_time": "2019-09-03T02:21:17.089995Z"
    }
   },
   "outputs": [
    {
     "data": {
      "text/html": [
       "<div>\n",
       "<style scoped>\n",
       "    .dataframe tbody tr th:only-of-type {\n",
       "        vertical-align: middle;\n",
       "    }\n",
       "\n",
       "    .dataframe tbody tr th {\n",
       "        vertical-align: top;\n",
       "    }\n",
       "\n",
       "    .dataframe thead th {\n",
       "        text-align: right;\n",
       "    }\n",
       "</style>\n",
       "<table border=\"1\" class=\"dataframe\">\n",
       "  <thead>\n",
       "    <tr style=\"text-align: right;\">\n",
       "      <th></th>\n",
       "      <th>trip_distance</th>\n",
       "      <th>PULocationID</th>\n",
       "      <th>DOLocationID</th>\n",
       "      <th>fare_amount</th>\n",
       "      <th>extra</th>\n",
       "      <th>tip_amount</th>\n",
       "      <th>tolls_amount</th>\n",
       "      <th>total_amount</th>\n",
       "      <th>trip_duration</th>\n",
       "      <th>dow</th>\n",
       "      <th>hour</th>\n",
       "      <th>tmpc</th>\n",
       "      <th>heavy_snow</th>\n",
       "      <th>snow</th>\n",
       "    </tr>\n",
       "  </thead>\n",
       "  <tbody>\n",
       "    <tr>\n",
       "      <td>trip_distance</td>\n",
       "      <td>1.0000</td>\n",
       "      <td>-0.0749</td>\n",
       "      <td>-0.0831</td>\n",
       "      <td>0.9620</td>\n",
       "      <td>0.2764</td>\n",
       "      <td>0.5428</td>\n",
       "      <td>0.5184</td>\n",
       "      <td>0.9451</td>\n",
       "      <td>0.1461</td>\n",
       "      <td>0.0006</td>\n",
       "      <td>-0.0526</td>\n",
       "      <td>0.0031</td>\n",
       "      <td>-0.0084</td>\n",
       "      <td>-0.0080</td>\n",
       "    </tr>\n",
       "    <tr>\n",
       "      <td>PULocationID</td>\n",
       "      <td>-0.0749</td>\n",
       "      <td>1.0000</td>\n",
       "      <td>0.1025</td>\n",
       "      <td>-0.0696</td>\n",
       "      <td>0.0219</td>\n",
       "      <td>-0.0325</td>\n",
       "      <td>-0.0330</td>\n",
       "      <td>-0.0651</td>\n",
       "      <td>-0.0117</td>\n",
       "      <td>-0.0502</td>\n",
       "      <td>0.0634</td>\n",
       "      <td>0.0138</td>\n",
       "      <td>0.0010</td>\n",
       "      <td>0.0011</td>\n",
       "    </tr>\n",
       "    <tr>\n",
       "      <td>DOLocationID</td>\n",
       "      <td>-0.0831</td>\n",
       "      <td>0.1025</td>\n",
       "      <td>1.0000</td>\n",
       "      <td>-0.0844</td>\n",
       "      <td>0.0397</td>\n",
       "      <td>-0.0387</td>\n",
       "      <td>-0.0272</td>\n",
       "      <td>-0.0770</td>\n",
       "      <td>-0.0156</td>\n",
       "      <td>-0.0408</td>\n",
       "      <td>0.0610</td>\n",
       "      <td>0.0159</td>\n",
       "      <td>0.0019</td>\n",
       "      <td>0.0020</td>\n",
       "    </tr>\n",
       "    <tr>\n",
       "      <td>fare_amount</td>\n",
       "      <td>0.9620</td>\n",
       "      <td>-0.0696</td>\n",
       "      <td>-0.0844</td>\n",
       "      <td>1.0000</td>\n",
       "      <td>0.2876</td>\n",
       "      <td>0.5639</td>\n",
       "      <td>0.5093</td>\n",
       "      <td>0.9793</td>\n",
       "      <td>0.1659</td>\n",
       "      <td>-0.0015</td>\n",
       "      <td>-0.0147</td>\n",
       "      <td>0.0174</td>\n",
       "      <td>-0.0034</td>\n",
       "      <td>-0.0022</td>\n",
       "    </tr>\n",
       "    <tr>\n",
       "      <td>extra</td>\n",
       "      <td>0.2764</td>\n",
       "      <td>0.0219</td>\n",
       "      <td>0.0397</td>\n",
       "      <td>0.2876</td>\n",
       "      <td>1.0000</td>\n",
       "      <td>0.1796</td>\n",
       "      <td>0.2683</td>\n",
       "      <td>0.3300</td>\n",
       "      <td>0.0577</td>\n",
       "      <td>-0.2101</td>\n",
       "      <td>0.1119</td>\n",
       "      <td>0.1102</td>\n",
       "      <td>0.0035</td>\n",
       "      <td>0.0060</td>\n",
       "    </tr>\n",
       "    <tr>\n",
       "      <td>tip_amount</td>\n",
       "      <td>0.5428</td>\n",
       "      <td>-0.0325</td>\n",
       "      <td>-0.0387</td>\n",
       "      <td>0.5639</td>\n",
       "      <td>0.1796</td>\n",
       "      <td>1.0000</td>\n",
       "      <td>0.3832</td>\n",
       "      <td>0.6984</td>\n",
       "      <td>0.0803</td>\n",
       "      <td>-0.0283</td>\n",
       "      <td>0.0266</td>\n",
       "      <td>0.0180</td>\n",
       "      <td>-0.0037</td>\n",
       "      <td>-0.0030</td>\n",
       "    </tr>\n",
       "    <tr>\n",
       "      <td>tolls_amount</td>\n",
       "      <td>0.5184</td>\n",
       "      <td>-0.0330</td>\n",
       "      <td>-0.0272</td>\n",
       "      <td>0.5093</td>\n",
       "      <td>0.2683</td>\n",
       "      <td>0.3832</td>\n",
       "      <td>1.0000</td>\n",
       "      <td>0.5978</td>\n",
       "      <td>0.0695</td>\n",
       "      <td>-0.0355</td>\n",
       "      <td>0.0101</td>\n",
       "      <td>0.0201</td>\n",
       "      <td>-0.0038</td>\n",
       "      <td>-0.0032</td>\n",
       "    </tr>\n",
       "    <tr>\n",
       "      <td>total_amount</td>\n",
       "      <td>0.9451</td>\n",
       "      <td>-0.0651</td>\n",
       "      <td>-0.0770</td>\n",
       "      <td>0.9793</td>\n",
       "      <td>0.3300</td>\n",
       "      <td>0.6984</td>\n",
       "      <td>0.5978</td>\n",
       "      <td>1.0000</td>\n",
       "      <td>0.1587</td>\n",
       "      <td>-0.0179</td>\n",
       "      <td>-0.0016</td>\n",
       "      <td>0.0235</td>\n",
       "      <td>-0.0037</td>\n",
       "      <td>-0.0024</td>\n",
       "    </tr>\n",
       "    <tr>\n",
       "      <td>trip_duration</td>\n",
       "      <td>0.1461</td>\n",
       "      <td>-0.0117</td>\n",
       "      <td>-0.0156</td>\n",
       "      <td>0.1659</td>\n",
       "      <td>0.0577</td>\n",
       "      <td>0.0803</td>\n",
       "      <td>0.0695</td>\n",
       "      <td>0.1587</td>\n",
       "      <td>1.0000</td>\n",
       "      <td>0.0086</td>\n",
       "      <td>-0.0024</td>\n",
       "      <td>0.0083</td>\n",
       "      <td>0.0025</td>\n",
       "      <td>0.0031</td>\n",
       "    </tr>\n",
       "    <tr>\n",
       "      <td>dow</td>\n",
       "      <td>0.0006</td>\n",
       "      <td>-0.0502</td>\n",
       "      <td>-0.0408</td>\n",
       "      <td>-0.0015</td>\n",
       "      <td>-0.2101</td>\n",
       "      <td>-0.0283</td>\n",
       "      <td>-0.0355</td>\n",
       "      <td>-0.0179</td>\n",
       "      <td>0.0086</td>\n",
       "      <td>1.0000</td>\n",
       "      <td>-0.2644</td>\n",
       "      <td>-0.1248</td>\n",
       "      <td>0.0530</td>\n",
       "      <td>0.0521</td>\n",
       "    </tr>\n",
       "    <tr>\n",
       "      <td>hour</td>\n",
       "      <td>-0.0526</td>\n",
       "      <td>0.0634</td>\n",
       "      <td>0.0610</td>\n",
       "      <td>-0.0147</td>\n",
       "      <td>0.1119</td>\n",
       "      <td>0.0266</td>\n",
       "      <td>0.0101</td>\n",
       "      <td>-0.0016</td>\n",
       "      <td>-0.0024</td>\n",
       "      <td>-0.2644</td>\n",
       "      <td>1.0000</td>\n",
       "      <td>0.0889</td>\n",
       "      <td>0.0055</td>\n",
       "      <td>0.0038</td>\n",
       "    </tr>\n",
       "    <tr>\n",
       "      <td>tmpc</td>\n",
       "      <td>0.0031</td>\n",
       "      <td>0.0138</td>\n",
       "      <td>0.0159</td>\n",
       "      <td>0.0174</td>\n",
       "      <td>0.1102</td>\n",
       "      <td>0.0180</td>\n",
       "      <td>0.0201</td>\n",
       "      <td>0.0235</td>\n",
       "      <td>0.0083</td>\n",
       "      <td>-0.1248</td>\n",
       "      <td>0.0889</td>\n",
       "      <td>1.0000</td>\n",
       "      <td>-0.1541</td>\n",
       "      <td>-0.1533</td>\n",
       "    </tr>\n",
       "    <tr>\n",
       "      <td>heavy_snow</td>\n",
       "      <td>-0.0084</td>\n",
       "      <td>0.0010</td>\n",
       "      <td>0.0019</td>\n",
       "      <td>-0.0034</td>\n",
       "      <td>0.0035</td>\n",
       "      <td>-0.0037</td>\n",
       "      <td>-0.0038</td>\n",
       "      <td>-0.0037</td>\n",
       "      <td>0.0025</td>\n",
       "      <td>0.0530</td>\n",
       "      <td>0.0055</td>\n",
       "      <td>-0.1541</td>\n",
       "      <td>1.0000</td>\n",
       "      <td>0.9912</td>\n",
       "    </tr>\n",
       "    <tr>\n",
       "      <td>snow</td>\n",
       "      <td>-0.0080</td>\n",
       "      <td>0.0011</td>\n",
       "      <td>0.0020</td>\n",
       "      <td>-0.0022</td>\n",
       "      <td>0.0060</td>\n",
       "      <td>-0.0030</td>\n",
       "      <td>-0.0032</td>\n",
       "      <td>-0.0024</td>\n",
       "      <td>0.0031</td>\n",
       "      <td>0.0521</td>\n",
       "      <td>0.0038</td>\n",
       "      <td>-0.1533</td>\n",
       "      <td>0.9912</td>\n",
       "      <td>1.0000</td>\n",
       "    </tr>\n",
       "  </tbody>\n",
       "</table>\n",
       "</div>"
      ],
      "text/plain": [
       "                     trip_distance         PULocationID         DOLocationID  \\\n",
       "trip_distance               1.0000              -0.0749              -0.0831   \n",
       "PULocationID               -0.0749               1.0000               0.1025   \n",
       "DOLocationID               -0.0831               0.1025               1.0000   \n",
       "fare_amount                 0.9620              -0.0696              -0.0844   \n",
       "extra                       0.2764               0.0219               0.0397   \n",
       "tip_amount                  0.5428              -0.0325              -0.0387   \n",
       "tolls_amount                0.5184              -0.0330              -0.0272   \n",
       "total_amount                0.9451              -0.0651              -0.0770   \n",
       "trip_duration               0.1461              -0.0117              -0.0156   \n",
       "dow                         0.0006              -0.0502              -0.0408   \n",
       "hour                       -0.0526               0.0634               0.0610   \n",
       "tmpc                        0.0031               0.0138               0.0159   \n",
       "heavy_snow                 -0.0084               0.0010               0.0019   \n",
       "snow                       -0.0080               0.0011               0.0020   \n",
       "\n",
       "                       fare_amount                extra           tip_amount  \\\n",
       "trip_distance               0.9620               0.2764               0.5428   \n",
       "PULocationID               -0.0696               0.0219              -0.0325   \n",
       "DOLocationID               -0.0844               0.0397              -0.0387   \n",
       "fare_amount                 1.0000               0.2876               0.5639   \n",
       "extra                       0.2876               1.0000               0.1796   \n",
       "tip_amount                  0.5639               0.1796               1.0000   \n",
       "tolls_amount                0.5093               0.2683               0.3832   \n",
       "total_amount                0.9793               0.3300               0.6984   \n",
       "trip_duration               0.1659               0.0577               0.0803   \n",
       "dow                        -0.0015              -0.2101              -0.0283   \n",
       "hour                       -0.0147               0.1119               0.0266   \n",
       "tmpc                        0.0174               0.1102               0.0180   \n",
       "heavy_snow                 -0.0034               0.0035              -0.0037   \n",
       "snow                       -0.0022               0.0060              -0.0030   \n",
       "\n",
       "                      tolls_amount         total_amount        trip_duration  \\\n",
       "trip_distance               0.5184               0.9451               0.1461   \n",
       "PULocationID               -0.0330              -0.0651              -0.0117   \n",
       "DOLocationID               -0.0272              -0.0770              -0.0156   \n",
       "fare_amount                 0.5093               0.9793               0.1659   \n",
       "extra                       0.2683               0.3300               0.0577   \n",
       "tip_amount                  0.3832               0.6984               0.0803   \n",
       "tolls_amount                1.0000               0.5978               0.0695   \n",
       "total_amount                0.5978               1.0000               0.1587   \n",
       "trip_duration               0.0695               0.1587               1.0000   \n",
       "dow                        -0.0355              -0.0179               0.0086   \n",
       "hour                        0.0101              -0.0016              -0.0024   \n",
       "tmpc                        0.0201               0.0235               0.0083   \n",
       "heavy_snow                 -0.0038              -0.0037               0.0025   \n",
       "snow                       -0.0032              -0.0024               0.0031   \n",
       "\n",
       "                               dow                 hour                 tmpc  \\\n",
       "trip_distance               0.0006              -0.0526               0.0031   \n",
       "PULocationID               -0.0502               0.0634               0.0138   \n",
       "DOLocationID               -0.0408               0.0610               0.0159   \n",
       "fare_amount                -0.0015              -0.0147               0.0174   \n",
       "extra                      -0.2101               0.1119               0.1102   \n",
       "tip_amount                 -0.0283               0.0266               0.0180   \n",
       "tolls_amount               -0.0355               0.0101               0.0201   \n",
       "total_amount               -0.0179              -0.0016               0.0235   \n",
       "trip_duration               0.0086              -0.0024               0.0083   \n",
       "dow                         1.0000              -0.2644              -0.1248   \n",
       "hour                       -0.2644               1.0000               0.0889   \n",
       "tmpc                       -0.1248               0.0889               1.0000   \n",
       "heavy_snow                  0.0530               0.0055              -0.1541   \n",
       "snow                        0.0521               0.0038              -0.1533   \n",
       "\n",
       "                        heavy_snow                 snow  \n",
       "trip_distance              -0.0084              -0.0080  \n",
       "PULocationID                0.0010               0.0011  \n",
       "DOLocationID                0.0019               0.0020  \n",
       "fare_amount                -0.0034              -0.0022  \n",
       "extra                       0.0035               0.0060  \n",
       "tip_amount                 -0.0037              -0.0030  \n",
       "tolls_amount               -0.0038              -0.0032  \n",
       "total_amount               -0.0037              -0.0024  \n",
       "trip_duration               0.0025               0.0031  \n",
       "dow                         0.0530               0.0521  \n",
       "hour                        0.0055               0.0038  \n",
       "tmpc                       -0.1541              -0.1533  \n",
       "heavy_snow                  1.0000               0.9912  \n",
       "snow                        0.9912               1.0000  "
      ]
     },
     "execution_count": 12,
     "metadata": {},
     "output_type": "execute_result"
    }
   ],
   "source": [
    "df1.corr()"
   ]
  },
  {
   "cell_type": "code",
   "execution_count": 13,
   "metadata": {
    "ExecuteTime": {
     "end_time": "2019-09-03T02:21:41.996355Z",
     "start_time": "2019-09-03T02:21:29.546247Z"
    }
   },
   "outputs": [
    {
     "data": {
      "text/plain": [
       "<matplotlib.axes._subplots.AxesSubplot at 0x1e989af5080>"
      ]
     },
     "execution_count": 13,
     "metadata": {},
     "output_type": "execute_result"
    },
    {
     "data": {
      "image/png": "[encoded data removed]",
      "text/plain": [
       "<Figure size 432x288 with 2 Axes>"
      ]
     },
     "metadata": {
      "needs_background": "light"
     },
     "output_type": "display_data"
    }
   ],
   "source": [
    "sns.heatmap(df1.corr())"
   ]
  },
  {
   "cell_type": "markdown",
   "metadata": {},
   "source": [
    "- Obviously, snow and heavy_snow will have almost a correlation of 1, as snow is a subset of heavy_snow\n",
    "- We also observe that the fare_amount, total_amount and trip_distance all share a strong positive correlation\n",
    "    - Since we want to work with the bare minimum profit, we should not use total_amount since it incooporates several other factors which cannot be accounted for (variable rates)\n",
    "- Tip amounts also shares a strong positive correlation with the fare_amount (by default it is 15%), but must be conditioned on the assumption that the trip was payed in card, since tips for trips paid in cash will not be recorded\n",
    "- trip_duration does not seem to have any correlation with any other attributes, but in reality we know a longer trip should have more fare_amount"
   ]
  },
  {
   "cell_type": "markdown",
   "metadata": {},
   "source": [
    "# A way of measuring profit conditioned on the assumptions\n",
    "- **We want to see if the the profitability of zones remains consistent with respect to hour of day, day of week and pickup location. The distribution of profitable zones should be similar across all years**.\n",
    "\n",
    "- Although it is conditioned on months that had snow fall, we partition this into days with snow, and days without snow\n",
    "    - This is because there are more trips conducted during snow conditions, but at a much shorter duration (refer A1)"
   ]
  },
  {
   "cell_type": "markdown",
   "metadata": {},
   "source": [
    "`[(fare_amount / trip_duration) + toll + extra] * (freq_zone / total number of trips)`"
   ]
  },
  {
   "cell_type": "code",
   "execution_count": 14,
   "metadata": {
    "ExecuteTime": {
     "end_time": "2019-09-03T02:21:42.007305Z",
     "start_time": "2019-09-03T02:21:41.997332Z"
    }
   },
   "outputs": [
    {
     "data": {
      "text/html": [
       "<div>\n",
       "<style scoped>\n",
       "    .dataframe tbody tr th:only-of-type {\n",
       "        vertical-align: middle;\n",
       "    }\n",
       "\n",
       "    .dataframe tbody tr th {\n",
       "        vertical-align: top;\n",
       "    }\n",
       "\n",
       "    .dataframe thead th {\n",
       "        text-align: right;\n",
       "    }\n",
       "</style>\n",
       "<table border=\"1\" class=\"dataframe\">\n",
       "  <thead>\n",
       "    <tr style=\"text-align: right;\">\n",
       "      <th></th>\n",
       "      <th>trip_distance</th>\n",
       "      <th>PULocationID</th>\n",
       "      <th>DOLocationID</th>\n",
       "      <th>fare_amount</th>\n",
       "      <th>extra</th>\n",
       "      <th>tip_amount</th>\n",
       "      <th>tolls_amount</th>\n",
       "      <th>total_amount</th>\n",
       "      <th>trip_duration</th>\n",
       "      <th>dow</th>\n",
       "      <th>hour</th>\n",
       "      <th>tmpc</th>\n",
       "      <th>heavy_snow</th>\n",
       "      <th>snow</th>\n",
       "    </tr>\n",
       "  </thead>\n",
       "  <tbody>\n",
       "    <tr>\n",
       "      <td>0</td>\n",
       "      <td>0.5000</td>\n",
       "      <td>48</td>\n",
       "      <td>48</td>\n",
       "      <td>4.0000</td>\n",
       "      <td>0.5000</td>\n",
       "      <td>0.0000</td>\n",
       "      <td>0.0000</td>\n",
       "      <td>5.3000</td>\n",
       "      <td>3</td>\n",
       "      <td>6</td>\n",
       "      <td>0</td>\n",
       "      <td>7.0000</td>\n",
       "      <td>0.0000</td>\n",
       "      <td>0.0000</td>\n",
       "    </tr>\n",
       "    <tr>\n",
       "      <td>1</td>\n",
       "      <td>7.7500</td>\n",
       "      <td>186</td>\n",
       "      <td>36</td>\n",
       "      <td>22.0000</td>\n",
       "      <td>0.5000</td>\n",
       "      <td>4.6600</td>\n",
       "      <td>0.0000</td>\n",
       "      <td>27.9600</td>\n",
       "      <td>39</td>\n",
       "      <td>6</td>\n",
       "      <td>0</td>\n",
       "      <td>7.0000</td>\n",
       "      <td>0.0000</td>\n",
       "      <td>0.0000</td>\n",
       "    </tr>\n",
       "    <tr>\n",
       "      <td>2</td>\n",
       "      <td>0.8000</td>\n",
       "      <td>162</td>\n",
       "      <td>161</td>\n",
       "      <td>6.0000</td>\n",
       "      <td>0.5000</td>\n",
       "      <td>1.4500</td>\n",
       "      <td>0.0000</td>\n",
       "      <td>8.7500</td>\n",
       "      <td>6</td>\n",
       "      <td>6</td>\n",
       "      <td>0</td>\n",
       "      <td>7.0000</td>\n",
       "      <td>0.0000</td>\n",
       "      <td>0.0000</td>\n",
       "    </tr>\n",
       "    <tr>\n",
       "      <td>3</td>\n",
       "      <td>0.9000</td>\n",
       "      <td>48</td>\n",
       "      <td>50</td>\n",
       "      <td>7.0000</td>\n",
       "      <td>0.5000</td>\n",
       "      <td>0.0000</td>\n",
       "      <td>0.0000</td>\n",
       "      <td>8.3000</td>\n",
       "      <td>8</td>\n",
       "      <td>6</td>\n",
       "      <td>0</td>\n",
       "      <td>7.0000</td>\n",
       "      <td>0.0000</td>\n",
       "      <td>0.0000</td>\n",
       "    </tr>\n",
       "    <tr>\n",
       "      <td>4</td>\n",
       "      <td>1.7600</td>\n",
       "      <td>140</td>\n",
       "      <td>74</td>\n",
       "      <td>7.0000</td>\n",
       "      <td>0.5000</td>\n",
       "      <td>0.0000</td>\n",
       "      <td>0.0000</td>\n",
       "      <td>8.3000</td>\n",
       "      <td>4</td>\n",
       "      <td>6</td>\n",
       "      <td>0</td>\n",
       "      <td>7.0000</td>\n",
       "      <td>0.0000</td>\n",
       "      <td>0.0000</td>\n",
       "    </tr>\n",
       "  </tbody>\n",
       "</table>\n",
       "</div>"
      ],
      "text/plain": [
       "         trip_distance  PULocationID  DOLocationID          fare_amount  \\\n",
       "0               0.5000            48            48               4.0000   \n",
       "1               7.7500           186            36              22.0000   \n",
       "2               0.8000           162           161               6.0000   \n",
       "3               0.9000            48            50               7.0000   \n",
       "4               1.7600           140            74               7.0000   \n",
       "\n",
       "                 extra           tip_amount         tolls_amount  \\\n",
       "0               0.5000               0.0000               0.0000   \n",
       "1               0.5000               4.6600               0.0000   \n",
       "2               0.5000               1.4500               0.0000   \n",
       "3               0.5000               0.0000               0.0000   \n",
       "4               0.5000               0.0000               0.0000   \n",
       "\n",
       "          total_amount  trip_duration  dow  hour                 tmpc  \\\n",
       "0               5.3000              3    6     0               7.0000   \n",
       "1              27.9600             39    6     0               7.0000   \n",
       "2               8.7500              6    6     0               7.0000   \n",
       "3               8.3000              8    6     0               7.0000   \n",
       "4               8.3000              4    6     0               7.0000   \n",
       "\n",
       "            heavy_snow                 snow  \n",
       "0               0.0000               0.0000  \n",
       "1               0.0000               0.0000  \n",
       "2               0.0000               0.0000  \n",
       "3               0.0000               0.0000  \n",
       "4               0.0000               0.0000  "
      ]
     },
     "execution_count": 14,
     "metadata": {},
     "output_type": "execute_result"
    }
   ],
   "source": [
    "df1.head()"
   ]
  },
  {
   "cell_type": "code",
   "execution_count": 45,
   "metadata": {
    "ExecuteTime": {
     "end_time": "2019-09-03T02:25:58.771600Z",
     "start_time": "2019-09-03T02:25:37.675428Z"
    }
   },
   "outputs": [],
   "source": [
    "proportion_freq = df1.groupby(['dow','hour','PULocationID'])['trip_distance'].count() / df1.groupby(['dow','hour'])['trip_distance'].count().median()\n",
    "\n",
    "proportion_freq = proportion_freq.reset_index().rename({'trip_distance': 'freq_prop'}, axis=1)\n",
    "most_common = df1.groupby(['dow','hour','PULocationID'])[['extra','tolls_amount']].agg(pd.Series.mode).reset_index()\n",
    "\n",
    "to_merge = pd.merge(proportion_freq, most_common, on=['dow','hour','PULocationID']).rename({'extra': 'common_extra',\n",
    "                                                                                           'tolls_amount': 'common_toll'}, axis=1)\n",
    "\n",
    "df1 = pd.merge(df1, to_merge, on=['dow','hour','PULocationID'])"
   ]
  },
  {
   "cell_type": "code",
   "execution_count": 16,
   "metadata": {
    "ExecuteTime": {
     "end_time": "2019-09-03T02:22:06.293047Z",
     "start_time": "2019-09-03T02:22:06.278037Z"
    }
   },
   "outputs": [
    {
     "data": {
      "text/html": [
       "<div>\n",
       "<style scoped>\n",
       "    .dataframe tbody tr th:only-of-type {\n",
       "        vertical-align: middle;\n",
       "    }\n",
       "\n",
       "    .dataframe tbody tr th {\n",
       "        vertical-align: top;\n",
       "    }\n",
       "\n",
       "    .dataframe thead th {\n",
       "        text-align: right;\n",
       "    }\n",
       "</style>\n",
       "<table border=\"1\" class=\"dataframe\">\n",
       "  <thead>\n",
       "    <tr style=\"text-align: right;\">\n",
       "      <th></th>\n",
       "      <th>trip_distance</th>\n",
       "      <th>PULocationID</th>\n",
       "      <th>DOLocationID</th>\n",
       "      <th>fare_amount</th>\n",
       "      <th>extra</th>\n",
       "      <th>tip_amount</th>\n",
       "      <th>tolls_amount</th>\n",
       "      <th>total_amount</th>\n",
       "      <th>trip_duration</th>\n",
       "      <th>dow</th>\n",
       "      <th>hour</th>\n",
       "      <th>tmpc</th>\n",
       "      <th>heavy_snow</th>\n",
       "      <th>snow</th>\n",
       "      <th>freq_prop</th>\n",
       "      <th>common_extra</th>\n",
       "      <th>common_toll</th>\n",
       "    </tr>\n",
       "  </thead>\n",
       "  <tbody>\n",
       "    <tr>\n",
       "      <td>0</td>\n",
       "      <td>0.5000</td>\n",
       "      <td>48</td>\n",
       "      <td>48</td>\n",
       "      <td>4.0000</td>\n",
       "      <td>0.5000</td>\n",
       "      <td>0.0000</td>\n",
       "      <td>0.0000</td>\n",
       "      <td>5.3000</td>\n",
       "      <td>3</td>\n",
       "      <td>6</td>\n",
       "      <td>0</td>\n",
       "      <td>7.0000</td>\n",
       "      <td>0.0000</td>\n",
       "      <td>0.0000</td>\n",
       "      <td>0.4193</td>\n",
       "      <td>0.5000</td>\n",
       "      <td>0.0000</td>\n",
       "    </tr>\n",
       "    <tr>\n",
       "      <td>1</td>\n",
       "      <td>0.9000</td>\n",
       "      <td>48</td>\n",
       "      <td>50</td>\n",
       "      <td>7.0000</td>\n",
       "      <td>0.5000</td>\n",
       "      <td>0.0000</td>\n",
       "      <td>0.0000</td>\n",
       "      <td>8.3000</td>\n",
       "      <td>8</td>\n",
       "      <td>6</td>\n",
       "      <td>0</td>\n",
       "      <td>7.0000</td>\n",
       "      <td>0.0000</td>\n",
       "      <td>0.0000</td>\n",
       "      <td>0.4193</td>\n",
       "      <td>0.5000</td>\n",
       "      <td>0.0000</td>\n",
       "    </tr>\n",
       "    <tr>\n",
       "      <td>2</td>\n",
       "      <td>0.6500</td>\n",
       "      <td>48</td>\n",
       "      <td>68</td>\n",
       "      <td>6.5000</td>\n",
       "      <td>0.5000</td>\n",
       "      <td>1.7000</td>\n",
       "      <td>0.0000</td>\n",
       "      <td>9.5000</td>\n",
       "      <td>7</td>\n",
       "      <td>6</td>\n",
       "      <td>0</td>\n",
       "      <td>7.0000</td>\n",
       "      <td>0.0000</td>\n",
       "      <td>0.0000</td>\n",
       "      <td>0.4193</td>\n",
       "      <td>0.5000</td>\n",
       "      <td>0.0000</td>\n",
       "    </tr>\n",
       "    <tr>\n",
       "      <td>3</td>\n",
       "      <td>7.3000</td>\n",
       "      <td>48</td>\n",
       "      <td>48</td>\n",
       "      <td>22.5000</td>\n",
       "      <td>0.5000</td>\n",
       "      <td>0.0000</td>\n",
       "      <td>0.0000</td>\n",
       "      <td>23.8000</td>\n",
       "      <td>17</td>\n",
       "      <td>6</td>\n",
       "      <td>0</td>\n",
       "      <td>7.0000</td>\n",
       "      <td>0.0000</td>\n",
       "      <td>0.0000</td>\n",
       "      <td>0.4193</td>\n",
       "      <td>0.5000</td>\n",
       "      <td>0.0000</td>\n",
       "    </tr>\n",
       "    <tr>\n",
       "      <td>4</td>\n",
       "      <td>1.2200</td>\n",
       "      <td>48</td>\n",
       "      <td>143</td>\n",
       "      <td>7.0000</td>\n",
       "      <td>0.5000</td>\n",
       "      <td>1.6600</td>\n",
       "      <td>0.0000</td>\n",
       "      <td>9.9600</td>\n",
       "      <td>8</td>\n",
       "      <td>6</td>\n",
       "      <td>0</td>\n",
       "      <td>7.0000</td>\n",
       "      <td>0.0000</td>\n",
       "      <td>0.0000</td>\n",
       "      <td>0.4193</td>\n",
       "      <td>0.5000</td>\n",
       "      <td>0.0000</td>\n",
       "    </tr>\n",
       "  </tbody>\n",
       "</table>\n",
       "</div>"
      ],
      "text/plain": [
       "         trip_distance  PULocationID  DOLocationID          fare_amount  \\\n",
       "0               0.5000            48            48               4.0000   \n",
       "1               0.9000            48            50               7.0000   \n",
       "2               0.6500            48            68               6.5000   \n",
       "3               7.3000            48            48              22.5000   \n",
       "4               1.2200            48           143               7.0000   \n",
       "\n",
       "                 extra           tip_amount         tolls_amount  \\\n",
       "0               0.5000               0.0000               0.0000   \n",
       "1               0.5000               0.0000               0.0000   \n",
       "2               0.5000               1.7000               0.0000   \n",
       "3               0.5000               0.0000               0.0000   \n",
       "4               0.5000               1.6600               0.0000   \n",
       "\n",
       "          total_amount  trip_duration  dow  hour                 tmpc  \\\n",
       "0               5.3000              3    6     0               7.0000   \n",
       "1               8.3000              8    6     0               7.0000   \n",
       "2               9.5000              7    6     0               7.0000   \n",
       "3              23.8000             17    6     0               7.0000   \n",
       "4               9.9600              8    6     0               7.0000   \n",
       "\n",
       "            heavy_snow                 snow            freq_prop  \\\n",
       "0               0.0000               0.0000               0.4193   \n",
       "1               0.0000               0.0000               0.4193   \n",
       "2               0.0000               0.0000               0.4193   \n",
       "3               0.0000               0.0000               0.4193   \n",
       "4               0.0000               0.0000               0.4193   \n",
       "\n",
       "          common_extra          common_toll  \n",
       "0               0.5000               0.0000  \n",
       "1               0.5000               0.0000  \n",
       "2               0.5000               0.0000  \n",
       "3               0.5000               0.0000  \n",
       "4               0.5000               0.0000  "
      ]
     },
     "execution_count": 16,
     "metadata": {},
     "output_type": "execute_result"
    }
   ],
   "source": [
    "df1.head()"
   ]
  },
  {
   "cell_type": "code",
   "execution_count": 17,
   "metadata": {
    "ExecuteTime": {
     "end_time": "2019-09-03T02:22:06.304017Z",
     "start_time": "2019-09-03T02:22:06.295042Z"
    }
   },
   "outputs": [
    {
     "data": {
      "text/plain": [
       "trip_distance    float64\n",
       "PULocationID       int64\n",
       "DOLocationID       int64\n",
       "fare_amount      float64\n",
       "extra            float64\n",
       "tip_amount       float64\n",
       "tolls_amount     float64\n",
       "total_amount     float64\n",
       "trip_duration      int64\n",
       "dow                int64\n",
       "hour               int64\n",
       "tmpc             float64\n",
       "heavy_snow       float64\n",
       "snow             float64\n",
       "freq_prop        float64\n",
       "common_extra      object\n",
       "common_toll       object\n",
       "dtype: object"
      ]
     },
     "execution_count": 17,
     "metadata": {},
     "output_type": "execute_result"
    }
   ],
   "source": [
    "df1.dtypes"
   ]
  },
  {
   "cell_type": "code",
   "execution_count": 46,
   "metadata": {
    "ExecuteTime": {
     "end_time": "2019-09-03T02:26:13.703594Z",
     "start_time": "2019-09-03T02:25:58.772575Z"
    }
   },
   "outputs": [],
   "source": [
    "df1['common_toll'] = df1['common_toll'].apply(lambda x: float(x) if type(x) == np.float64 else float(x[0]))\n",
    "df1['common_extra'] = df1['common_extra'].apply(lambda x: float(x) if type(x) == np.float64 else float(x[0]))"
   ]
  },
  {
   "cell_type": "code",
   "execution_count": 47,
   "metadata": {
    "ExecuteTime": {
     "end_time": "2019-09-03T02:26:14.086424Z",
     "start_time": "2019-09-03T02:26:13.704592Z"
    }
   },
   "outputs": [],
   "source": [
    "df1['rating'] = (0.5 * ((df1['fare_amount'] / df1['trip_duration']) + \n",
    "                        (df1['fare_amount'] / df1['trip_distance'])) + \n",
    "                 df1['common_extra'] + df1['common_toll']) * df1['freq_prop']"
   ]
  },
  {
   "cell_type": "code",
   "execution_count": 48,
   "metadata": {
    "ExecuteTime": {
     "end_time": "2019-09-03T02:26:15.091315Z",
     "start_time": "2019-09-03T02:26:14.087422Z"
    }
   },
   "outputs": [
    {
     "data": {
      "text/plain": [
       "count        23,820,598.0000\n",
       "mean                  1.0202\n",
       "std                   1.5858\n",
       "min                   0.0000\n",
       "25%                   0.3853\n",
       "50%                   0.8294\n",
       "75%                   1.4280\n",
       "max               1,343.4289\n",
       "Name: rating, dtype: float64"
      ]
     },
     "execution_count": 48,
     "metadata": {},
     "output_type": "execute_result"
    }
   ],
   "source": [
    "df1['rating'].describe()"
   ]
  },
  {
   "cell_type": "code",
   "execution_count": 49,
   "metadata": {
    "ExecuteTime": {
     "end_time": "2019-09-03T02:26:19.768602Z",
     "start_time": "2019-09-03T02:26:15.092313Z"
    }
   },
   "outputs": [
    {
     "data": {
      "text/plain": [
       "<matplotlib.axes._subplots.AxesSubplot at 0x1e9d39bc160>"
      ]
     },
     "execution_count": 49,
     "metadata": {},
     "output_type": "execute_result"
    },
    {
     "data": {
      "image/png": "[encoded data removed]",
      "text/plain": [
       "<Figure size 432x288 with 1 Axes>"
      ]
     },
     "metadata": {
      "needs_background": "light"
     },
     "output_type": "display_data"
    }
   ],
   "source": [
    "sns.distplot(df1['rating'], bins=75)"
   ]
  },
  {
   "cell_type": "markdown",
   "metadata": {},
   "source": [
    "Hmm this distribution doesn't look too good to work with"
   ]
  },
  {
   "cell_type": "code",
   "execution_count": 50,
   "metadata": {
    "ExecuteTime": {
     "end_time": "2019-09-03T02:26:20.813208Z",
     "start_time": "2019-09-03T02:26:19.769570Z"
    }
   },
   "outputs": [
    {
     "data": {
      "text/plain": [
       "count        23,820,598.0000\n",
       "mean                 -0.4553\n",
       "std                   1.2251\n",
       "min                 -10.0307\n",
       "25%                  -0.9537\n",
       "50%                  -0.1870\n",
       "75%                   0.3563\n",
       "max                   7.2030\n",
       "Name: rating, dtype: float64"
      ]
     },
     "execution_count": 50,
     "metadata": {},
     "output_type": "execute_result"
    }
   ],
   "source": [
    "np.log(df1['rating']).describe()"
   ]
  },
  {
   "cell_type": "code",
   "execution_count": 65,
   "metadata": {
    "ExecuteTime": {
     "end_time": "2019-09-03T03:00:15.772349Z",
     "start_time": "2019-09-03T03:00:15.764393Z"
    }
   },
   "outputs": [],
   "source": [
    "from scipy import stats"
   ]
  },
  {
   "cell_type": "code",
   "execution_count": null,
   "metadata": {
    "ExecuteTime": {
     "end_time": "2019-09-03T03:01:26.964266Z",
     "start_time": "2019-09-03T03:00:49.015307Z"
    }
   },
   "outputs": [],
   "source": [
    "sns.distplot(np.log(df1['rating']), bins=50)"
   ]
  },
  {
   "cell_type": "code",
   "execution_count": 68,
   "metadata": {
    "ExecuteTime": {
     "end_time": "2019-09-03T03:08:58.920686Z",
     "start_time": "2019-09-03T03:01:59.814288Z"
    }
   },
   "outputs": [
    {
     "data": {
      "text/plain": [
       "<matplotlib.axes._subplots.AxesSubplot at 0x1e9d23aa3c8>"
      ]
     },
     "execution_count": 68,
     "metadata": {},
     "output_type": "execute_result"
    },
    {
     "data": {
      "image/png": "[encoded data removed]",
      "text/plain": [
       "<Figure size 432x288 with 1 Axes>"
      ]
     },
     "metadata": {
      "needs_background": "light"
     },
     "output_type": "display_data"
    }
   ],
   "source": [
    "sns.distplot(np.log(df1['rating']), kde=False, fit=stats.skewnorm)"
   ]
  },
  {
   "cell_type": "markdown",
   "metadata": {},
   "source": [
    "This one looks significantly better even if it's negative skewed. We will decide to work with the log distribution and scale to have mean 0 in order to make the distribution closer to a Guassian."
   ]
  },
  {
   "cell_type": "code",
   "execution_count": null,
   "metadata": {},
   "outputs": [],
   "source": [
    "sns.distplot(np.log(df1['rating'])"
   ]
  },
  {
   "cell_type": "code",
   "execution_count": 52,
   "metadata": {
    "ExecuteTime": {
     "end_time": "2019-09-03T02:26:30.739156Z",
     "start_time": "2019-09-03T02:26:25.474399Z"
    }
   },
   "outputs": [
    {
     "data": {
      "text/plain": [
       "<matplotlib.axes._subplots.AxesSubplot at 0x1e9d1a61940>"
      ]
     },
     "execution_count": 52,
     "metadata": {},
     "output_type": "execute_result"
    },
    {
     "data": {
      "image/png": "[encoded data removed]",
      "text/plain": [
       "<Figure size 432x288 with 1 Axes>"
      ]
     },
     "metadata": {
      "needs_background": "light"
     },
     "output_type": "display_data"
    }
   ],
   "source": [
    "df1['std_ratings'] = stats.zscore(np.log(df1['rating']))\n",
    "sns.distplot(df1['std_ratings'], bins=75)"
   ]
  },
  {
   "cell_type": "code",
   "execution_count": 53,
   "metadata": {
    "ExecuteTime": {
     "end_time": "2019-09-03T02:26:31.740127Z",
     "start_time": "2019-09-03T02:26:30.740154Z"
    }
   },
   "outputs": [
    {
     "data": {
      "text/plain": [
       "count        23,820,598.0000\n",
       "mean                  0.0000\n",
       "std                   1.0000\n",
       "min                  -7.8161\n",
       "25%                  -0.4068\n",
       "50%                   0.2190\n",
       "75%                   0.6624\n",
       "max                   6.2512\n",
       "Name: std_ratings, dtype: float64"
      ]
     },
     "execution_count": 53,
     "metadata": {},
     "output_type": "execute_result"
    }
   ],
   "source": [
    "df1['std_ratings'].describe()"
   ]
  },
  {
   "cell_type": "code",
   "execution_count": 54,
   "metadata": {
    "ExecuteTime": {
     "end_time": "2019-09-03T02:26:34.281450Z",
     "start_time": "2019-09-03T02:26:31.741124Z"
    }
   },
   "outputs": [],
   "source": [
    "labels = pd.qcut(df1['std_ratings'], q=5)\n",
    "df1['label'] = labels.cat.codes"
   ]
  },
  {
   "cell_type": "code",
   "execution_count": 27,
   "metadata": {
    "ExecuteTime": {
     "end_time": "2019-09-03T02:22:46.261996Z",
     "start_time": "2019-09-03T02:22:46.257009Z"
    }
   },
   "outputs": [
    {
     "data": {
      "text/plain": [
       "IntervalIndex([(-8.383, -0.602], (-0.602, 0.0417], (0.0417, 0.394], (0.394, 0.75], (0.75, 6.585]],\n",
       "              closed='right',\n",
       "              dtype='interval[float64]')"
      ]
     },
     "execution_count": 27,
     "metadata": {},
     "output_type": "execute_result"
    }
   ],
   "source": [
    "labels.cat.categories"
   ]
  },
  {
   "cell_type": "code",
   "execution_count": 55,
   "metadata": {
    "ExecuteTime": {
     "end_time": "2019-09-03T02:26:34.287436Z",
     "start_time": "2019-09-03T02:26:34.282448Z"
    }
   },
   "outputs": [
    {
     "data": {
      "text/plain": [
       "IntervalIndex([(-7.817, -0.611], (-0.611, 0.0248], (0.0248, 0.396], (0.396, 0.759], (0.759, 6.251]],\n",
       "              closed='right',\n",
       "              dtype='interval[float64]')"
      ]
     },
     "execution_count": 55,
     "metadata": {},
     "output_type": "execute_result"
    }
   ],
   "source": [
    "# 2018\n",
    "labels.cat.categories"
   ]
  },
  {
   "cell_type": "code",
   "execution_count": 56,
   "metadata": {
    "ExecuteTime": {
     "end_time": "2019-09-03T02:26:38.733045Z",
     "start_time": "2019-09-03T02:26:34.288471Z"
    }
   },
   "outputs": [],
   "source": [
    "train = df1[['PULocationID','dow','hour','tmpc','heavy_snow','snow', 'label']].fillna(0)"
   ]
  },
  {
   "cell_type": "code",
   "execution_count": 29,
   "metadata": {
    "ExecuteTime": {
     "end_time": "2019-09-03T02:22:54.481336Z",
     "start_time": "2019-09-03T02:22:50.801477Z"
    }
   },
   "outputs": [
    {
     "data": {
      "text/html": [
       "<div>\n",
       "<style scoped>\n",
       "    .dataframe tbody tr th:only-of-type {\n",
       "        vertical-align: middle;\n",
       "    }\n",
       "\n",
       "    .dataframe tbody tr th {\n",
       "        vertical-align: top;\n",
       "    }\n",
       "\n",
       "    .dataframe thead th {\n",
       "        text-align: right;\n",
       "    }\n",
       "</style>\n",
       "<table border=\"1\" class=\"dataframe\">\n",
       "  <thead>\n",
       "    <tr style=\"text-align: right;\">\n",
       "      <th></th>\n",
       "      <th>PULocationID</th>\n",
       "      <th>dow</th>\n",
       "      <th>hour</th>\n",
       "      <th>tmpc</th>\n",
       "      <th>heavy_snow</th>\n",
       "      <th>snow</th>\n",
       "      <th>label</th>\n",
       "    </tr>\n",
       "  </thead>\n",
       "  <tbody>\n",
       "    <tr>\n",
       "      <td>PULocationID</td>\n",
       "      <td>1.0000</td>\n",
       "      <td>-0.0502</td>\n",
       "      <td>0.0634</td>\n",
       "      <td>0.0140</td>\n",
       "      <td>0.0010</td>\n",
       "      <td>0.0011</td>\n",
       "      <td>0.1265</td>\n",
       "    </tr>\n",
       "    <tr>\n",
       "      <td>dow</td>\n",
       "      <td>-0.0502</td>\n",
       "      <td>1.0000</td>\n",
       "      <td>-0.2644</td>\n",
       "      <td>-0.1298</td>\n",
       "      <td>0.0522</td>\n",
       "      <td>0.0513</td>\n",
       "      <td>-0.0331</td>\n",
       "    </tr>\n",
       "    <tr>\n",
       "      <td>hour</td>\n",
       "      <td>0.0634</td>\n",
       "      <td>-0.2644</td>\n",
       "      <td>1.0000</td>\n",
       "      <td>0.0890</td>\n",
       "      <td>0.0055</td>\n",
       "      <td>0.0039</td>\n",
       "      <td>0.2822</td>\n",
       "    </tr>\n",
       "    <tr>\n",
       "      <td>tmpc</td>\n",
       "      <td>0.0140</td>\n",
       "      <td>-0.1298</td>\n",
       "      <td>0.0890</td>\n",
       "      <td>1.0000</td>\n",
       "      <td>-0.1533</td>\n",
       "      <td>-0.1526</td>\n",
       "      <td>0.0466</td>\n",
       "    </tr>\n",
       "    <tr>\n",
       "      <td>heavy_snow</td>\n",
       "      <td>0.0010</td>\n",
       "      <td>0.0522</td>\n",
       "      <td>0.0055</td>\n",
       "      <td>-0.1533</td>\n",
       "      <td>1.0000</td>\n",
       "      <td>0.9912</td>\n",
       "      <td>-0.0059</td>\n",
       "    </tr>\n",
       "    <tr>\n",
       "      <td>snow</td>\n",
       "      <td>0.0011</td>\n",
       "      <td>0.0513</td>\n",
       "      <td>0.0039</td>\n",
       "      <td>-0.1526</td>\n",
       "      <td>0.9912</td>\n",
       "      <td>1.0000</td>\n",
       "      <td>-0.0060</td>\n",
       "    </tr>\n",
       "    <tr>\n",
       "      <td>label</td>\n",
       "      <td>0.1265</td>\n",
       "      <td>-0.0331</td>\n",
       "      <td>0.2822</td>\n",
       "      <td>0.0466</td>\n",
       "      <td>-0.0059</td>\n",
       "      <td>-0.0060</td>\n",
       "      <td>1.0000</td>\n",
       "    </tr>\n",
       "  </tbody>\n",
       "</table>\n",
       "</div>"
      ],
      "text/plain": [
       "                     PULocationID                  dow                 hour  \\\n",
       "PULocationID               1.0000              -0.0502               0.0634   \n",
       "dow                       -0.0502               1.0000              -0.2644   \n",
       "hour                       0.0634              -0.2644               1.0000   \n",
       "tmpc                       0.0140              -0.1298               0.0890   \n",
       "heavy_snow                 0.0010               0.0522               0.0055   \n",
       "snow                       0.0011               0.0513               0.0039   \n",
       "label                      0.1265              -0.0331               0.2822   \n",
       "\n",
       "                             tmpc           heavy_snow                 snow  \\\n",
       "PULocationID               0.0140               0.0010               0.0011   \n",
       "dow                       -0.1298               0.0522               0.0513   \n",
       "hour                       0.0890               0.0055               0.0039   \n",
       "tmpc                       1.0000              -0.1533              -0.1526   \n",
       "heavy_snow                -0.1533               1.0000               0.9912   \n",
       "snow                      -0.1526               0.9912               1.0000   \n",
       "label                      0.0466              -0.0059              -0.0060   \n",
       "\n",
       "                            label  \n",
       "PULocationID               0.1265  \n",
       "dow                       -0.0331  \n",
       "hour                       0.2822  \n",
       "tmpc                       0.0466  \n",
       "heavy_snow                -0.0059  \n",
       "snow                      -0.0060  \n",
       "label                      1.0000  "
      ]
     },
     "execution_count": 29,
     "metadata": {},
     "output_type": "execute_result"
    }
   ],
   "source": [
    "train.corr()"
   ]
  },
  {
   "cell_type": "code",
   "execution_count": 57,
   "metadata": {
    "ExecuteTime": {
     "end_time": "2019-09-03T02:26:39.844474Z",
     "start_time": "2019-09-03T02:26:38.734043Z"
    }
   },
   "outputs": [],
   "source": [
    "train.to_feather('./ml_data/2018dev.feather')"
   ]
  },
  {
   "cell_type": "code",
   "execution_count": 31,
   "metadata": {
    "ExecuteTime": {
     "end_time": "2019-09-03T02:22:55.784271Z",
     "start_time": "2019-09-03T02:22:55.773302Z"
    }
   },
   "outputs": [],
   "source": [
    "cols = ['VendorID', 'passenger_count', 'trip_distance', 'RatecodeID',\n",
    "        'PULocationID', 'DOLocationID', 'payment_type',\n",
    "       'fare_amount', 'extra', 'mta_tax', 'tip_amount', 'tolls_amount',\n",
    "       'total_amount', 'trip_duration', 'dow', 'hour', 'tmpc', 'heavy_snow',\n",
    "       'snow', 'freq_prop', 'common_extra', 'common_toll', 'rating']"
   ]
  },
  {
   "cell_type": "code",
   "execution_count": 32,
   "metadata": {
    "ExecuteTime": {
     "end_time": "2019-09-03T02:22:56.095869Z",
     "start_time": "2019-09-03T02:22:55.787264Z"
    }
   },
   "outputs": [],
   "source": [
    "from sklearn.feature_selection import mutual_info_regression as MI"
   ]
  },
  {
   "cell_type": "code",
   "execution_count": 33,
   "metadata": {
    "ExecuteTime": {
     "end_time": "2019-09-03T02:22:57.178204Z",
     "start_time": "2019-09-03T02:22:56.096867Z"
    }
   },
   "outputs": [],
   "source": [
    "t = train.sample(100000)"
   ]
  },
  {
   "cell_type": "code",
   "execution_count": 34,
   "metadata": {
    "ExecuteTime": {
     "end_time": "2019-09-03T02:23:11.834513Z",
     "start_time": "2019-09-03T02:22:57.179195Z"
    }
   },
   "outputs": [],
   "source": [
    "mi = MI(t[['PULocationID','dow','hour','tmpc','heavy_snow','snow']], t['label'])"
   ]
  },
  {
   "cell_type": "code",
   "execution_count": 35,
   "metadata": {
    "ExecuteTime": {
     "end_time": "2019-09-03T02:23:11.842003Z",
     "start_time": "2019-09-03T02:23:11.835510Z"
    }
   },
   "outputs": [
    {
     "data": {
      "text/plain": [
       "array([0.40277318, 0.0134122 , 0.12402128, 0.01055888, 0.00142246,\n",
       "       0.00333726])"
      ]
     },
     "execution_count": 35,
     "metadata": {},
     "output_type": "execute_result"
    }
   ],
   "source": [
    "mi"
   ]
  },
  {
   "cell_type": "code",
   "execution_count": 36,
   "metadata": {
    "ExecuteTime": {
     "end_time": "2019-09-03T02:23:11.855002Z",
     "start_time": "2019-09-03T02:23:11.843996Z"
    }
   },
   "outputs": [
    {
     "data": {
      "text/html": [
       "<div>\n",
       "<style scoped>\n",
       "    .dataframe tbody tr th:only-of-type {\n",
       "        vertical-align: middle;\n",
       "    }\n",
       "\n",
       "    .dataframe tbody tr th {\n",
       "        vertical-align: top;\n",
       "    }\n",
       "\n",
       "    .dataframe thead th {\n",
       "        text-align: right;\n",
       "    }\n",
       "</style>\n",
       "<table border=\"1\" class=\"dataframe\">\n",
       "  <thead>\n",
       "    <tr style=\"text-align: right;\">\n",
       "      <th></th>\n",
       "      <th>PULocationID</th>\n",
       "      <th>dow</th>\n",
       "      <th>hour</th>\n",
       "      <th>tmpc</th>\n",
       "      <th>heavy_snow</th>\n",
       "      <th>snow</th>\n",
       "    </tr>\n",
       "  </thead>\n",
       "  <tbody>\n",
       "    <tr>\n",
       "      <td>0</td>\n",
       "      <td>0.4028</td>\n",
       "      <td>0.0134</td>\n",
       "      <td>0.1240</td>\n",
       "      <td>0.0106</td>\n",
       "      <td>0.0014</td>\n",
       "      <td>0.0033</td>\n",
       "    </tr>\n",
       "  </tbody>\n",
       "</table>\n",
       "</div>"
      ],
      "text/plain": [
       "          PULocationID                  dow                 hour  \\\n",
       "0               0.4028               0.0134               0.1240   \n",
       "\n",
       "                  tmpc           heavy_snow                 snow  \n",
       "0               0.0106               0.0014               0.0033  "
      ]
     },
     "execution_count": 36,
     "metadata": {},
     "output_type": "execute_result"
    }
   ],
   "source": [
    "results = pd.DataFrame(mi).T\n",
    "results.columns = ['PULocationID','dow','hour','tmpc','heavy_snow','snow']\n",
    "results"
   ]
  },
  {
   "cell_type": "markdown",
   "metadata": {},
   "source": [
    "- Since mutual information is an expensive calculation, we can take a sample size of 1 million from the train data to roughly see the mutual information with respect to the label.\n",
    "- We also take a smaller sample of 100,000 from the original data to see which attributes have a high mutual information. We expect `fare_amount`, `trip_duration`, `extra`, `tolls_amount` to have a high MI"
   ]
  },
  {
   "cell_type": "code",
   "execution_count": 37,
   "metadata": {
    "ExecuteTime": {
     "end_time": "2019-09-03T02:23:13.240485Z",
     "start_time": "2019-09-03T02:23:11.856516Z"
    }
   },
   "outputs": [],
   "source": [
    "cols = ['trip_distance', 'PULocationID', 'DOLocationID','fare_amount', 'extra','tip_amount', 'tolls_amount','trip_duration', 'dow', 'hour', 'tmpc', 'heavy_snow', 'snow']\n",
    "d = df1.sample(100000).fillna(0)"
   ]
  },
  {
   "cell_type": "code",
   "execution_count": 38,
   "metadata": {
    "ExecuteTime": {
     "end_time": "2019-09-03T02:23:50.991213Z",
     "start_time": "2019-09-03T02:23:13.241483Z"
    }
   },
   "outputs": [],
   "source": [
    "mi2 = MI(d[cols], d['label'])"
   ]
  },
  {
   "cell_type": "code",
   "execution_count": 39,
   "metadata": {
    "ExecuteTime": {
     "end_time": "2019-09-03T02:23:51.000191Z",
     "start_time": "2019-09-03T02:23:50.993209Z"
    }
   },
   "outputs": [
    {
     "data": {
      "text/plain": [
       "array([0.05883667, 0.39934104, 0.07287775, 0.0260013 , 0.03441997,\n",
       "       0.01653964, 0.00513405, 0.00828623, 0.01492824, 0.1239243 ,\n",
       "       0.01166777, 0.00224454, 0.00232358])"
      ]
     },
     "execution_count": 39,
     "metadata": {},
     "output_type": "execute_result"
    }
   ],
   "source": [
    "mi2"
   ]
  },
  {
   "cell_type": "code",
   "execution_count": 40,
   "metadata": {
    "ExecuteTime": {
     "end_time": "2019-09-03T02:23:51.036127Z",
     "start_time": "2019-09-03T02:23:51.005178Z"
    }
   },
   "outputs": [
    {
     "data": {
      "text/html": [
       "<div>\n",
       "<style scoped>\n",
       "    .dataframe tbody tr th:only-of-type {\n",
       "        vertical-align: middle;\n",
       "    }\n",
       "\n",
       "    .dataframe tbody tr th {\n",
       "        vertical-align: top;\n",
       "    }\n",
       "\n",
       "    .dataframe thead th {\n",
       "        text-align: right;\n",
       "    }\n",
       "</style>\n",
       "<table border=\"1\" class=\"dataframe\">\n",
       "  <thead>\n",
       "    <tr style=\"text-align: right;\">\n",
       "      <th></th>\n",
       "      <th>trip_distance</th>\n",
       "      <th>PULocationID</th>\n",
       "      <th>DOLocationID</th>\n",
       "      <th>fare_amount</th>\n",
       "      <th>extra</th>\n",
       "      <th>tip_amount</th>\n",
       "      <th>tolls_amount</th>\n",
       "      <th>trip_duration</th>\n",
       "      <th>dow</th>\n",
       "      <th>hour</th>\n",
       "      <th>tmpc</th>\n",
       "      <th>heavy_snow</th>\n",
       "      <th>snow</th>\n",
       "    </tr>\n",
       "  </thead>\n",
       "  <tbody>\n",
       "    <tr>\n",
       "      <td>0</td>\n",
       "      <td>0.0588</td>\n",
       "      <td>0.3993</td>\n",
       "      <td>0.0729</td>\n",
       "      <td>0.0260</td>\n",
       "      <td>0.0344</td>\n",
       "      <td>0.0165</td>\n",
       "      <td>0.0051</td>\n",
       "      <td>0.0083</td>\n",
       "      <td>0.0149</td>\n",
       "      <td>0.1239</td>\n",
       "      <td>0.0117</td>\n",
       "      <td>0.0022</td>\n",
       "      <td>0.0023</td>\n",
       "    </tr>\n",
       "  </tbody>\n",
       "</table>\n",
       "</div>"
      ],
      "text/plain": [
       "         trip_distance         PULocationID         DOLocationID  \\\n",
       "0               0.0588               0.3993               0.0729   \n",
       "\n",
       "           fare_amount                extra           tip_amount  \\\n",
       "0               0.0260               0.0344               0.0165   \n",
       "\n",
       "          tolls_amount        trip_duration                  dow  \\\n",
       "0               0.0051               0.0083               0.0149   \n",
       "\n",
       "                  hour                 tmpc           heavy_snow  \\\n",
       "0               0.1239               0.0117               0.0022   \n",
       "\n",
       "                  snow  \n",
       "0               0.0023  "
      ]
     },
     "execution_count": 40,
     "metadata": {},
     "output_type": "execute_result"
    }
   ],
   "source": [
    "results2 = pd.DataFrame(mi2).T\n",
    "results2.columns = cols\n",
    "results2"
   ]
  },
  {
   "cell_type": "markdown",
   "metadata": {},
   "source": [
    "Interesting... We observe similar traits with the \"realistic\" attributes - where `PULocationID` and `hour` alone share high mutual information with the label. Even though the label is dependent on the posterior attributes, it seems that there is no likely relationship.\n",
    "- Perhaps these two attributes are enough to predict if a zone is profitable"
   ]
  },
  {
   "cell_type": "markdown",
   "metadata": {},
   "source": [
    "# Playground - Random Experiments\n",
    "- Yeh look, trying to predict `fare_amount` shows Zero-R like performance"
   ]
  },
  {
   "cell_type": "markdown",
   "metadata": {
    "ExecuteTime": {
     "end_time": "2019-08-31T10:36:30.537936Z",
     "start_time": "2019-08-31T10:36:05.561Z"
    }
   },
   "source": [
    "X = df1[['PULocationID', 'dow', 'hour', 'tmpc','heavy_snow']].fillna(0)\n",
    "y = pd.qcut(df1.fare_amount, q=5, labels=False)\n",
    "\n",
    "from sklearn.linear_model import LogisticRegression\n",
    "from sklearn.tree import DecisionTreeClassifier\n",
    "from sklearn.model_selection import cross_val_score"
   ]
  },
  {
   "cell_type": "markdown",
   "metadata": {
    "ExecuteTime": {
     "end_time": "2019-08-31T09:59:03.400308Z",
     "start_time": "2019-08-31T09:57:31.321Z"
    }
   },
   "source": [
    "cross_val_score(LogisticRegression(), X, y, cv=3)"
   ]
  },
  {
   "cell_type": "markdown",
   "metadata": {
    "ExecuteTime": {
     "end_time": "2019-08-31T10:22:40.763944Z",
     "start_time": "2019-08-31T10:20:52.848647Z"
    },
    "scrolled": false
   },
   "source": [
    "cross_val_score(DecisionTreeClassifier(max_depth=None), X, y, cv=3)"
   ]
  },
  {
   "cell_type": "markdown",
   "metadata": {
    "ExecuteTime": {
     "end_time": "2019-08-31T10:20:52.695478Z",
     "start_time": "2019-08-31T10:19:15.821873Z"
    }
   },
   "source": [
    "bins = pd.IntervalIndex.from_tuples([(0, 5), (5, 10), (10, 15), (15, 30), (30, 50), (50, 75), (75, 100), (100, 150), (150, 100000)])\n",
    "labels = pd.cut(df1.fare_amount, bins, labels=False)\n",
    "y = labels.cat.codes"
   ]
  },
  {
   "cell_type": "markdown",
   "metadata": {
    "ExecuteTime": {
     "end_time": "2019-08-31T10:20:52.847675Z",
     "start_time": "2019-08-31T10:20:52.696447Z"
    }
   },
   "source": [
    "labels.value_counts()"
   ]
  },
  {
   "cell_type": "markdown",
   "metadata": {
    "ExecuteTime": {
     "end_time": "2019-08-31T10:33:47.967719Z",
     "start_time": "2019-08-31T10:33:45.639951Z"
    }
   },
   "source": [
    "pd.qcut(df1.fare_amount, 20)"
   ]
  },
  {
   "cell_type": "markdown",
   "metadata": {
    "ExecuteTime": {
     "end_time": "2019-08-31T11:00:29.534357Z",
     "start_time": "2019-08-31T11:00:29.289835Z"
    }
   },
   "source": [
    "y.value_counts()"
   ]
  },
  {
   "cell_type": "markdown",
   "metadata": {
    "ExecuteTime": {
     "end_time": "2019-08-31T11:00:39.243101Z",
     "start_time": "2019-08-31T11:00:39.222129Z"
    }
   },
   "source": [
    "df1['label']"
   ]
  }
 ],
 "metadata": {
  "kernelspec": {
   "display_name": "Python 3",
   "language": "python",
   "name": "python3"
  },
  "language_info": {
   "codemirror_mode": {
    "name": "ipython",
    "version": 3
   },
   "file_extension": ".py",
   "mimetype": "text/x-python",
   "name": "python",
   "nbconvert_exporter": "python",
   "pygments_lexer": "ipython3",
   "version": "3.6.9"
  },
  "latex_envs": {
   "LaTeX_envs_menu_present": true,
   "autoclose": true,
   "autocomplete": true,
   "bibliofile": "biblio.bib",
   "cite_by": "apalike",
   "current_citInitial": 1,
   "eqLabelWithNumbers": true,
   "eqNumInitial": 1,
   "hotkeys": {
    "equation": "Ctrl-E",
    "itemize": "Ctrl-I"
   },
   "labels_anchors": false,
   "latex_user_defs": false,
   "report_style_numbering": false,
   "user_envs_cfg": false
  }
 },
 "nbformat": 4,
 "nbformat_minor": 2
}
